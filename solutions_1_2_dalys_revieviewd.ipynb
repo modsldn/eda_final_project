{
 "cells": [
  {
   "cell_type": "code",
   "execution_count": 1,
   "id": "b5c81563",
   "metadata": {},
   "outputs": [
    {
     "data": {
      "text/html": [
       "<style>.container { width:90% !important; }</style>"
      ],
      "text/plain": [
       "<IPython.core.display.HTML object>"
      ]
     },
     "metadata": {},
     "output_type": "display_data"
    }
   ],
   "source": [
    "from IPython.display import display, HTML\n",
    "display(HTML(\"<style>.container { width:90% !important; }</style>\"))"
   ]
  },
  {
   "cell_type": "code",
   "execution_count": 2,
   "id": "00b82fbb",
   "metadata": {},
   "outputs": [
    {
     "data": {
      "application/javascript": [
       "\n",
       "            setTimeout(function() {\n",
       "                var nbb_cell_id = 2;\n",
       "                var nbb_unformatted_code = \"%load_ext nb_black\";\n",
       "                var nbb_formatted_code = \"%load_ext nb_black\";\n",
       "                var nbb_cells = Jupyter.notebook.get_cells();\n",
       "                for (var i = 0; i < nbb_cells.length; ++i) {\n",
       "                    if (nbb_cells[i].input_prompt_number == nbb_cell_id) {\n",
       "                        if (nbb_cells[i].get_text() == nbb_unformatted_code) {\n",
       "                             nbb_cells[i].set_text(nbb_formatted_code);\n",
       "                        }\n",
       "                        break;\n",
       "                    }\n",
       "                }\n",
       "            }, 500);\n",
       "            "
      ],
      "text/plain": [
       "<IPython.core.display.Javascript object>"
      ]
     },
     "metadata": {},
     "output_type": "display_data"
    }
   ],
   "source": [
    "%load_ext nb_black"
   ]
  },
  {
   "cell_type": "markdown",
   "id": "3ed0dc88",
   "metadata": {},
   "source": [
    "# eda_final_project\n",
    "\n",
    "## Duomenys\n",
    "\n",
    "Duomenų šaltinis https://www.registrucentras.lt/p/1094. "
   ]
  },
  {
   "cell_type": "code",
   "execution_count": 3,
   "id": "d1a3960e",
   "metadata": {},
   "outputs": [
    {
     "data": {
      "application/javascript": [
       "\n",
       "            setTimeout(function() {\n",
       "                var nbb_cell_id = 3;\n",
       "                var nbb_unformatted_code = \"import pandas as pd\\nimport numpy as np\";\n",
       "                var nbb_formatted_code = \"import pandas as pd\\nimport numpy as np\";\n",
       "                var nbb_cells = Jupyter.notebook.get_cells();\n",
       "                for (var i = 0; i < nbb_cells.length; ++i) {\n",
       "                    if (nbb_cells[i].input_prompt_number == nbb_cell_id) {\n",
       "                        if (nbb_cells[i].get_text() == nbb_unformatted_code) {\n",
       "                             nbb_cells[i].set_text(nbb_formatted_code);\n",
       "                        }\n",
       "                        break;\n",
       "                    }\n",
       "                }\n",
       "            }, 500);\n",
       "            "
      ],
      "text/plain": [
       "<IPython.core.display.Javascript object>"
      ]
     },
     "metadata": {},
     "output_type": "display_data"
    }
   ],
   "source": [
    "import pandas as pd\n",
    "import numpy as np"
   ]
  },
  {
   "cell_type": "code",
   "execution_count": 4,
   "id": "22c5a902",
   "metadata": {},
   "outputs": [
    {
     "data": {
      "application/javascript": [
       "\n",
       "            setTimeout(function() {\n",
       "                var nbb_cell_id = 4;\n",
       "                var nbb_unformatted_code = \"# https://stackoverflow.com/questions/21137150/format-suppress-scientific-notation-from-pandas-aggregation-results\\npd.set_option(\\\"display.float_format\\\", lambda x: \\\"%.2f\\\" % x)\";\n",
       "                var nbb_formatted_code = \"# https://stackoverflow.com/questions/21137150/format-suppress-scientific-notation-from-pandas-aggregation-results\\npd.set_option(\\\"display.float_format\\\", lambda x: \\\"%.2f\\\" % x)\";\n",
       "                var nbb_cells = Jupyter.notebook.get_cells();\n",
       "                for (var i = 0; i < nbb_cells.length; ++i) {\n",
       "                    if (nbb_cells[i].input_prompt_number == nbb_cell_id) {\n",
       "                        if (nbb_cells[i].get_text() == nbb_unformatted_code) {\n",
       "                             nbb_cells[i].set_text(nbb_formatted_code);\n",
       "                        }\n",
       "                        break;\n",
       "                    }\n",
       "                }\n",
       "            }, 500);\n",
       "            "
      ],
      "text/plain": [
       "<IPython.core.display.Javascript object>"
      ]
     },
     "metadata": {},
     "output_type": "display_data"
    }
   ],
   "source": [
    "# https://stackoverflow.com/questions/21137150/format-suppress-scientific-notation-from-pandas-aggregation-results\n",
    "pd.set_option(\"display.float_format\", lambda x: \"%.2f\" % x)"
   ]
  },
  {
   "cell_type": "code",
   "execution_count": 5,
   "id": "cc727111",
   "metadata": {},
   "outputs": [
    {
     "data": {
      "application/javascript": [
       "\n",
       "            setTimeout(function() {\n",
       "                var nbb_cell_id = 5;\n",
       "                var nbb_unformatted_code = \"## got an error while downloading online csv data. OSX\\n## quick fix\\n## https://stackoverflow.com/questions/50236117/scraping-ssl-certificate-verify-failed-error-for-http-en-wikipedia-org\\n\\nimport ssl\\n\\nssl._create_default_https_context = ssl._create_unverified_context\";\n",
       "                var nbb_formatted_code = \"## got an error while downloading online csv data. OSX\\n## quick fix\\n## https://stackoverflow.com/questions/50236117/scraping-ssl-certificate-verify-failed-error-for-http-en-wikipedia-org\\n\\nimport ssl\\n\\nssl._create_default_https_context = ssl._create_unverified_context\";\n",
       "                var nbb_cells = Jupyter.notebook.get_cells();\n",
       "                for (var i = 0; i < nbb_cells.length; ++i) {\n",
       "                    if (nbb_cells[i].input_prompt_number == nbb_cell_id) {\n",
       "                        if (nbb_cells[i].get_text() == nbb_unformatted_code) {\n",
       "                             nbb_cells[i].set_text(nbb_formatted_code);\n",
       "                        }\n",
       "                        break;\n",
       "                    }\n",
       "                }\n",
       "            }, 500);\n",
       "            "
      ],
      "text/plain": [
       "<IPython.core.display.Javascript object>"
      ]
     },
     "metadata": {},
     "output_type": "display_data"
    }
   ],
   "source": [
    "## got an error while downloading online csv data. OSX\n",
    "## quick fix\n",
    "## https://stackoverflow.com/questions/50236117/scraping-ssl-certificate-verify-failed-error-for-http-en-wikipedia-org\n",
    "\n",
    "import ssl\n",
    "\n",
    "ssl._create_default_https_context = ssl._create_unverified_context"
   ]
  },
  {
   "cell_type": "markdown",
   "id": "67166725",
   "metadata": {},
   "source": [
    "# Pirma dalis"
   ]
  },
  {
   "cell_type": "markdown",
   "id": "03a629bd",
   "metadata": {},
   "source": [
    "### 2 \n",
    "Parsisiųsti 2020 ir 2021 įmonių “Juridinių asmenų pateikti finansinės atskaitomybės dokumentai – balanso ataskaitos” ir “Juridinių asmenų pateikti finansinės atskaitomybės dokumentai – pelno (nuostolių) ataskaitos” duomenis."
   ]
  },
  {
   "cell_type": "code",
   "execution_count": null,
   "id": "f4ce0751",
   "metadata": {},
   "outputs": [],
   "source": [
    "balance_20 = pd.read_csv(\n",
    "    \"https://www.registrucentras.lt/aduomenys/?byla=JAR_FA_RODIKLIAI_BLNS_2020.csv\"\n",
    ")\n",
    "balance_21 = pd.read_csv(\n",
    "    \"https://www.registrucentras.lt/aduomenys/?byla=JAR_FA_RODIKLIAI_BLNS_2021.csv\"\n",
    ")\n",
    "pl_20 = pd.read_csv(\n",
    "    \"https://www.registrucentras.lt/aduomenys/?byla=JAR_FA_RODIKLIAI_PLNA_2020.csv\"\n",
    ")\n",
    "pl_21 = pd.read_csv(\n",
    "    \"https://www.registrucentras.lt/aduomenys/?byla=JAR_FA_RODIKLIAI_PLNA_2021.csv\"\n",
    ")"
   ]
  },
  {
   "cell_type": "code",
   "execution_count": null,
   "id": "210145cb",
   "metadata": {},
   "outputs": [],
   "source": [
    "balance_20.head()"
   ]
  },
  {
   "cell_type": "code",
   "execution_count": null,
   "id": "8d5f2a46",
   "metadata": {},
   "outputs": [],
   "source": [
    "pl_20.head()"
   ]
  },
  {
   "cell_type": "markdown",
   "id": "4f722803",
   "metadata": {},
   "source": [
    "### 3. Susipažinkite su duomenimis"
   ]
  },
  {
   "cell_type": "code",
   "execution_count": null,
   "id": "9063c452",
   "metadata": {},
   "outputs": [],
   "source": [
    "balance_20.shape, balance_21.shape, pl_20.shape, pl_21.shape"
   ]
  },
  {
   "cell_type": "code",
   "execution_count": null,
   "id": "3914b77f",
   "metadata": {},
   "outputs": [],
   "source": [
    "balance_20.dtypes"
   ]
  },
  {
   "cell_type": "code",
   "execution_count": null,
   "id": "3fc0e1ab",
   "metadata": {},
   "outputs": [],
   "source": [
    "balance_21.dtypes == balance_20.dtypes"
   ]
  },
  {
   "cell_type": "code",
   "execution_count": null,
   "id": "d94e3607",
   "metadata": {},
   "outputs": [],
   "source": [
    "# Count null values\n",
    "print(balance_20.isnull().sum().sum())\n",
    "print(balance_21.isnull().sum().sum())\n",
    "print(pl_20.isnull().sum().sum())\n",
    "print(pl_21.isnull().sum().sum())"
   ]
  },
  {
   "cell_type": "code",
   "execution_count": null,
   "id": "04e1cd3d",
   "metadata": {},
   "outputs": [],
   "source": [
    "# Count null values\n",
    "balance_21.isnull().sum(axis=0)\n",
    "\n"
   ]
  },
  {
   "cell_type": "code",
   "execution_count": null,
   "id": "41342226",
   "metadata": {},
   "outputs": [],
   "source": [
    "pl_21.isnull().sum(axis=0)\n"
   ]
  },
  {
   "cell_type": "code",
   "execution_count": null,
   "id": "69194392",
   "metadata": {},
   "outputs": [],
   "source": [
    "print(balance_20[balance_20.duplicated()].shape)\n",
    "print(balance_21[balance_21.duplicated()].shape)\n",
    "print(pl_20[pl_20.duplicated()].shape)\n",
    "print(pl_21[pl_21.duplicated()].shape)"
   ]
  },
  {
   "cell_type": "markdown",
   "id": "56264cdc",
   "metadata": {},
   "source": [
    "Daugiausiai nežinomų verčių turi pl_21 lentelė ir *pelnas_pries_apmokestinima* stulpelis"
   ]
  },
  {
   "cell_type": "markdown",
   "id": "c694d873",
   "metadata": {},
   "source": [
    "# Antra dalis"
   ]
  },
  {
   "cell_type": "code",
   "execution_count": null,
   "id": "c691af10",
   "metadata": {},
   "outputs": [],
   "source": [
    "# 4. Raskite bendroves su Thermo Fisher pavadinimu\n",
    "pl_20[pl_20['obj_pav'].str.contains(\"Thermo Fisher\")].obj_pav.values"
   ]
  },
  {
   "cell_type": "code",
   "execution_count": null,
   "id": "45b5143f",
   "metadata": {},
   "outputs": [],
   "source": [
    "# 5. Apsimeskime, kad atributas “form_pav” neegzistuoja. Iš likusių laukelių gaukite visas UAB ir MB bendroves. Palyginkite rekonstrukcijos tikslumą su “form_pav” vertėmis - kiek procentų verčių pavyko atkurti skirtingose duomenyse?\n",
    "pl_21['extracted_form_pav'] = pl_21.obj_pav.str.split(\" \\\"\").str.get(0)\n",
    "pl_20['extracted_form_pav'] = pl_20.obj_pav.str.split(\" \\\"\").str.get(0)\n",
    "balance_20['extracted_form_pav'] = balance_20.obj_pav.str.split(\" \\\"\").str.get(0)\n",
    "balance_21['extracted_form_pav'] = pl_21.obj_pav.str.split(\" \\\"\").str.get(0)\n",
    "\n",
    "print(pl_21.extracted_form_pav.value_counts().head(40))\n",
    "\n",
    "new_mapping = {'UAB': 'Uždaroji akcinė bendrovė', 'MB': 'Mažoji bendrija', 'Uždaroji akcinė bendrovė': 'Uždaroji akcinė bendrovė', 'Mažoji bendrija': 'Mažoji bendrija', 'UŽDAROJI AKCINĖ BENDROVĖ':'Uždaroji akcinė bendrovė'}\n",
    "pl_21.extracted_form_pav = pl_21.extracted_form_pav.map(new_mapping)\n",
    "pl_20.extracted_form_pav = pl_20.extracted_form_pav.map(new_mapping)\n",
    "balance_20.extracted_form_pav = balance_20.extracted_form_pav.map(new_mapping)\n",
    "balance_21.extracted_form_pav = balance_21.extracted_form_pav.map(new_mapping)"
   ]
  },
  {
   "cell_type": "code",
   "execution_count": null,
   "id": "21a5b46a",
   "metadata": {},
   "outputs": [],
   "source": [
    "orig_filt = pl_20[pl_20['form_pav'].isin([\"Uždaroji akcinė bendrovė\", \"Mažoji bendrija\"])]['form_pav']\n",
    "extracted_filt = pl_20['extracted_form_pav'].dropna()\n",
    "print(f\"Share: {100*extracted_filt.shape[0]/orig_filt.shape[0]}\")\n",
    "\n",
    "orig_filt = pl_21[pl_21['form_pav'].isin([\"Uždaroji akcinė bendrovė\", \"Mažoji bendrija\"])]['form_pav']\n",
    "extracted_filt = pl_21['extracted_form_pav'].dropna()\n",
    "print(f\"Share: {100*extracted_filt.shape[0]/orig_filt.shape[0]}\")\n",
    "\n",
    "orig_filt = balance_20[balance_20['form_pav'].isin([\"Uždaroji akcinė bendrovė\", \"Mažoji bendrija\"])]['form_pav']\n",
    "extracted_filt = balance_20['extracted_form_pav'].dropna()\n",
    "print(f\"Share: {100*extracted_filt.shape[0]/orig_filt.shape[0]}\")\n",
    "\n",
    "orig_filt = balance_21[balance_21['form_pav'].isin([\"Uždaroji akcinė bendrovė\", \"Mažoji bendrija\"])]['form_pav']\n",
    "extracted_filt = balance_21['extracted_form_pav'].dropna()\n",
    "print(f\"Share: {100*extracted_filt.shape[0]/orig_filt.shape[0]}\")\n"
   ]
  },
  {
   "cell_type": "markdown",
   "id": "49d0eb8e",
   "metadata": {},
   "source": [
    "### 6 \n",
    "Apskaičiuoti vidutinias reikšmes “pelnas_pries_apmokestinima” ir “nuosavas_kapitalas” laukų kiekvienai juridinio asmens formai (Uždaroji akcinė bendrovė, Mažoji bendrija, etc.) už visą laikotarpį (2020 ir 2021 metai kartu). "
   ]
  },
  {
   "cell_type": "code",
   "execution_count": null,
   "id": "da5de3b5",
   "metadata": {},
   "outputs": [],
   "source": [
    "balance_20.form_pav.value_counts(dropna=False)"
   ]
  },
  {
   "cell_type": "code",
   "execution_count": null,
   "id": "af12fa75",
   "metadata": {},
   "outputs": [],
   "source": [
    "# nuosavas_kapitalas\n",
    "nuosavas_kapitalas = balance_20[[\"obj_kodas\", \"nuosavas_kapitalas\"]]"
   ]
  },
  {
   "cell_type": "code",
   "execution_count": null,
   "id": "7220e47b",
   "metadata": {},
   "outputs": [],
   "source": [
    "nuosavas_kapitalas.shape"
   ]
  },
  {
   "cell_type": "code",
   "execution_count": null,
   "id": "649026e6",
   "metadata": {},
   "outputs": [],
   "source": [
    "# form_pav,  pelnas_pries_apmokestinima\n",
    "pelnas_pries_apmokestinima = pl_20[\n",
    "    [\"obj_kodas\", \"form_pav\", \"pelnas_pries_apmokestinima\"]\n",
    "]"
   ]
  },
  {
   "cell_type": "code",
   "execution_count": null,
   "id": "861131f2",
   "metadata": {},
   "outputs": [],
   "source": [
    "pelnas_pries_apmokestinima.shape"
   ]
  },
  {
   "cell_type": "code",
   "execution_count": null,
   "id": "53190da9",
   "metadata": {},
   "outputs": [],
   "source": [
    "balance_20_set = set(balance_20.obj_kodas)\n",
    "pl_20_set = set(pl_20.obj_kodas)\n",
    "\n",
    "len(pl_20_set.difference(balance_20_set)), len(balance_20_set.difference(pl_20_set))"
   ]
  },
  {
   "cell_type": "code",
   "execution_count": null,
   "id": "90c696ac",
   "metadata": {},
   "outputs": [],
   "source": [
    "# we take intersection and ignore companies that do not have profit loss statement.\n",
    "pelnas_pries_apmokestinima.merge(nuosavas_kapitalas, on=\"obj_kodas\", how=\"inner\").shape"
   ]
  },
  {
   "cell_type": "code",
   "execution_count": null,
   "id": "d2e2a11b",
   "metadata": {},
   "outputs": [],
   "source": [
    "# we see there are duplicates !!!!"
   ]
  },
  {
   "cell_type": "code",
   "execution_count": null,
   "id": "9fb1ed8e",
   "metadata": {},
   "outputs": [],
   "source": [
    "balance_20.obj_kodas.value_counts().iloc[:3]"
   ]
  },
  {
   "cell_type": "code",
   "execution_count": null,
   "id": "b30e5c9c",
   "metadata": {},
   "outputs": [],
   "source": [
    "balance_20[balance_20.laikotarpis_nuo == \"2019-01-01\"].obj_kodas.value_counts()"
   ]
  },
  {
   "cell_type": "code",
   "execution_count": null,
   "id": "80dfbe71",
   "metadata": {},
   "outputs": [],
   "source": [
    "# we filter out duplicates(?) by choosing laikotarpis_nuo == \"2019-01-01\". This requires inside knowledge about balance sheets.\n",
    "nuosavas_kapitalas = balance_20[balance_20.laikotarpis_nuo == \"2019-01-01\"][\n",
    "    [\"obj_kodas\", \"nuosavas_kapitalas\"]\n",
    "]"
   ]
  },
  {
   "cell_type": "code",
   "execution_count": null,
   "id": "9ba06b38",
   "metadata": {},
   "outputs": [],
   "source": [
    "pelnas_pries_apmokestinima = pl_20[pl_20.laikotarpis_nuo == \"2019-01-01\"][\n",
    "    [\"obj_kodas\", \"form_pav\", \"pelnas_pries_apmokestinima\"]\n",
    "]"
   ]
  },
  {
   "cell_type": "code",
   "execution_count": null,
   "id": "b3ca9359",
   "metadata": {},
   "outputs": [],
   "source": [
    "pelnas_pries_apmokestinima.obj_kodas.value_counts()  ## no duplicates."
   ]
  },
  {
   "cell_type": "code",
   "execution_count": null,
   "id": "c692dbb5",
   "metadata": {},
   "outputs": [],
   "source": [
    "nuosavas_kapitalas.shape, pelnas_pries_apmokestinima.shape"
   ]
  },
  {
   "cell_type": "code",
   "execution_count": null,
   "id": "39d1c644",
   "metadata": {},
   "outputs": [],
   "source": [
    "# we drop nan and use inner merge\n",
    "merged = nuosavas_kapitalas.merge(\n",
    "    pelnas_pries_apmokestinima, on=\"obj_kodas\", how=\"inner\"\n",
    ")"
   ]
  },
  {
   "cell_type": "code",
   "execution_count": null,
   "id": "5eec3c8f",
   "metadata": {},
   "outputs": [],
   "source": [
    "year_20_result = merged.groupby('form_pav').agg({'obj_kodas':'count', \n",
    "                         'nuosavas_kapitalas':'mean', \n",
    "                         'pelnas_pries_apmokestinima':'mean', }).apply(round).rename(columns=dict(obj_kodas='count'))\n"
   ]
  },
  {
   "cell_type": "code",
   "execution_count": null,
   "id": "f0aa5478",
   "metadata": {},
   "outputs": [],
   "source": [
    "year_20_result"
   ]
  },
  {
   "cell_type": "code",
   "execution_count": null,
   "id": "4f3dbbcd",
   "metadata": {},
   "outputs": [],
   "source": [
    "## year 2021"
   ]
  },
  {
   "cell_type": "code",
   "execution_count": null,
   "id": "a0b7a90a",
   "metadata": {},
   "outputs": [],
   "source": [
    "nuosavas_kapitalas = balance_21[balance_21.laikotarpis_nuo == \"2020-01-01\"][\n",
    "    [\"obj_kodas\", \"nuosavas_kapitalas\"]\n",
    "]\n",
    "pelnas_pries_apmokestinima = pl_21[pl_21.laikotarpis_nuo == \"2020-01-01\"][\n",
    "    [\"obj_kodas\", \"form_pav\", \"pelnas_pries_apmokestinima\"]\n",
    "]\n",
    "## check for duplicates.\n",
    "nuosavas_kapitalas.shape, pelnas_pries_apmokestinima.shape, len(\n",
    "    set(nuosavas_kapitalas.obj_kodas)\n",
    "), len(set(pelnas_pries_apmokestinima.obj_kodas))\n",
    "#  No duplicates!!"
   ]
  },
  {
   "cell_type": "code",
   "execution_count": null,
   "id": "11edbaa3",
   "metadata": {},
   "outputs": [],
   "source": [
    "merged = nuosavas_kapitalas.merge(\n",
    "    pelnas_pries_apmokestinima, on=\"obj_kodas\", how=\"inner\"\n",
    ")\n",
    "year_21_result = merged.groupby('form_pav').agg({'obj_kodas':'count', \n",
    "                         'nuosavas_kapitalas':'mean', \n",
    "                         'pelnas_pries_apmokestinima':'mean', }).apply(round).rename(columns=dict(obj_kodas='count'))\n"
   ]
  },
  {
   "cell_type": "code",
   "execution_count": null,
   "id": "5c4be7f3",
   "metadata": {},
   "outputs": [],
   "source": [
    "year_21_result"
   ]
  },
  {
   "cell_type": "code",
   "execution_count": null,
   "id": "1ba6d64a",
   "metadata": {},
   "outputs": [],
   "source": [
    "merged_result = pd.concat(\n",
    "    {\"2020\": year_20_result, \"2021\": year_21_result}, axis=1\n",
    ").fillna(0)"
   ]
  },
  {
   "cell_type": "code",
   "execution_count": null,
   "id": "879c542a",
   "metadata": {},
   "outputs": [],
   "source": [
    "merged_result"
   ]
  },
  {
   "cell_type": "markdown",
   "id": "b90456ca",
   "metadata": {},
   "source": [
    "# 3\n",
    "Atrinkti UAB ir MB įmones, kurių “nuosavas_kapitalas” buvo didesnis negu nuosavo kapitalo mediana už visą laitotarpį (2020 ir 2021 metai kartu). "
   ]
  },
  {
   "cell_type": "code",
   "execution_count": null,
   "id": "8b4d4e84",
   "metadata": {},
   "outputs": [],
   "source": [
    "uab_condition_21 = balance_21.form_pav == \"Uždaroji akcinė bendrovė\"\n",
    "uab_condition_20 = balance_20.form_pav == \"Uždaroji akcinė bendrovė\"\n",
    "laikotarpis_condition_21 = balance_21.laikotarpis_nuo == \"2020-01-01\"\n",
    "laikotarpis_condition_20 = balance_20.laikotarpis_nuo == \"2019-01-01\"\n",
    "\n",
    "capital_median_21 = balance_21[laikotarpis_condition_21 & uab_condition_21][\n",
    "    [\"obj_kodas\", \"nuosavas_kapitalas\"]\n",
    "].nuosavas_kapitalas.median()\n",
    "\n",
    "capital_median_20 = balance_20[laikotarpis_condition_20 & uab_condition_20][\n",
    "    [\"obj_kodas\", \"nuosavas_kapitalas\"]\n",
    "].nuosavas_kapitalas.median()"
   ]
  },
  {
   "cell_type": "code",
   "execution_count": null,
   "id": "a2016dcc",
   "metadata": {},
   "outputs": [],
   "source": [
    "capital_median_20, capital_median_21"
   ]
  },
  {
   "cell_type": "code",
   "execution_count": null,
   "id": "f1c2a1d2",
   "metadata": {},
   "outputs": [],
   "source": [
    "balance_20[\n",
    "    laikotarpis_condition_20\n",
    "    & uab_condition_20\n",
    "    & (balance_20.nuosavas_kapitalas > capital_median_20)\n",
    "].sort_values(by=\"nuosavas_kapitalas\").tail(5)"
   ]
  },
  {
   "cell_type": "code",
   "execution_count": null,
   "id": "f6417447",
   "metadata": {},
   "outputs": [],
   "source": [
    "balance_21[\n",
    "    laikotarpis_condition_21\n",
    "    & uab_condition_21\n",
    "    & (balance_21.nuosavas_kapitalas > capital_median_21)\n",
    "].sort_values(by=\"nuosavas_kapitalas\").tail(5)"
   ]
  },
  {
   "cell_type": "code",
   "execution_count": null,
   "id": "5adc3084",
   "metadata": {},
   "outputs": [],
   "source": [
    "# Įvertinkite kurios įmonės išsiskiria ypač didele “nuosavas_kapitalas” verte (patenka į 99th percentilę)\n",
    "balance_21.nuosavas_kapitalas.describe(percentiles=[0.25, 0.5, 0.75, 0.99])\n",
    "balance_21[balance_21.nuosavas_kapitalas > 6364687.99][['obj_pav', 'nuosavas_kapitalas']].sort_values(\"nuosavas_kapitalas\", ascending=False)[:10]"
   ]
  },
  {
   "cell_type": "markdown",
   "id": "9857a822",
   "metadata": {},
   "source": [
    "### 8. \n",
    "Įvertinkite kurios įmonės išsiskiria ypač didele “nuosavas_kapitalas” verte (patenka į 99th percentilę). Patikrinkite įmonių patenkančių į TOP-10 vertes rekvizitai.vz.lt svetainėje. Ranka įrašomi duomenys sukuria klaidos galimybę. Ar yra bendrovė, kurios “nuosavas_kapitalas” jums kelia įtarimų?"
   ]
  },
  {
   "cell_type": "code",
   "execution_count": null,
   "id": "c0e5717e",
   "metadata": {},
   "outputs": [],
   "source": [
    "# Įvertinkite kurios įmonės išsiskiria ypač didele “nuosavas_kapitalas” verte (patenka į 99th percentilę)\n",
    "balance_20.nuosavas_kapitalas.describe(percentiles=[0.25, 0.5, 0.75, 0.99])\n",
    "balance_20[balance_20.nuosavas_kapitalas > balance_20.nuosavas_kapitalas.describe(percentiles=[0.25, 0.5, 0.75, 0.99])['99%']][['obj_pav', 'nuosavas_kapitalas']].sort_values(\"nuosavas_kapitalas\", ascending=False)[:10]"
   ]
  },
  {
   "cell_type": "markdown",
   "id": "7c6be627",
   "metadata": {},
   "source": [
    "### 9.\n",
    "Vizualiai atvaizduoti juridinių asmenų formos pasiskirstymą per visą laikotarpį (2020 ir 2021 metais kartu). "
   ]
  },
  {
   "cell_type": "code",
   "execution_count": null,
   "id": "aac6ec33",
   "metadata": {},
   "outputs": [],
   "source": [
    "b20 = (\n",
    "    balance_20.groupby(\"form_pav\", as_index=False)\n",
    "    .form_kodas.count()\n",
    "    .rename(columns={\"form_kodas\": \"2020_count\"})\n",
    ")"
   ]
  },
  {
   "cell_type": "code",
   "execution_count": null,
   "id": "22aa2dd2",
   "metadata": {},
   "outputs": [],
   "source": [
    "b21 = (\n",
    "    balance_21.groupby(\"form_pav\", as_index=False)\n",
    "    .form_kodas.count()\n",
    "    .rename(columns={\"form_kodas\": \"2021_count\"})\n",
    ")"
   ]
  },
  {
   "cell_type": "code",
   "execution_count": null,
   "id": "3c86956f",
   "metadata": {},
   "outputs": [],
   "source": [
    "data = b20.merge(b21, on=\"form_pav\", how=\"outer\").fillna(0)"
   ]
  },
  {
   "cell_type": "code",
   "execution_count": null,
   "id": "44ea0856",
   "metadata": {},
   "outputs": [],
   "source": [
    "data"
   ]
  },
  {
   "cell_type": "code",
   "execution_count": null,
   "id": "39a63ba6",
   "metadata": {},
   "outputs": [],
   "source": [
    "# With matplotlib\n",
    "\n",
    "import matplotlib.pyplot as plt\n",
    "\n",
    "X_axis = np.arange(data.shape[0])\n",
    "  \n",
    "plt.bar(X_axis - 0.2, data['2020_count'], 0.4, label = '2020_count')\n",
    "plt.bar(X_axis + 0.2, data['2021_count'], 0.4, label = '2021_count')\n",
    "\n",
    "plt.grid()\n",
    "plt.yscale('log')\n",
    "plt.xticks(X_axis, data['form_pav'], rotation = 90)\n",
    "plt.ylabel(\"Vienetų skaičius\")\n",
    "plt.title(\"Juridinių asmenų skaičius 2020 ir 2021 metais\")\n",
    "plt.legend()\n",
    "plt.show()"
   ]
  },
  {
   "cell_type": "code",
   "execution_count": null,
   "id": "5810b606",
   "metadata": {},
   "outputs": [],
   "source": [
    "# With pandas\n",
    "data.set_index('form_pav').plot(kind='bar', ylabel='Vienetų skaičius', logy=True, grid=True, xlabel=None, title='Juridinių asmenų skaičius 2020 ir 2021 metais')"
   ]
  },
  {
   "cell_type": "code",
   "execution_count": null,
   "id": "714b86bb",
   "metadata": {},
   "outputs": [],
   "source": [
    "# seaborn\n",
    "import seaborn as sns\n",
    "data_melted =  data.melt(id_vars='form_pav')\n",
    "\n",
    "ax = sns.barplot(data=data_melted, x='form_pav', y='value', hue='variable', orient='v')\n",
    "ax.set_yscale(\"log\")\n",
    "ax.set_ylabel(\"Vienetų skaičius\")\n",
    "ax.set_title(\"Juridinių asmenų skaičius 2020 ir 2021 metais\")\n",
    "plt.grid()\n",
    "plt.xticks(rotation=90)"
   ]
  },
  {
   "cell_type": "code",
   "execution_count": null,
   "id": "c2d9f7ce",
   "metadata": {},
   "outputs": [],
   "source": [
    "b20.merge(b21, on=\"form_pav\", how=\"outer\")"
   ]
  },
  {
   "cell_type": "code",
   "execution_count": null,
   "id": "c1519aa4",
   "metadata": {},
   "outputs": [],
   "source": [
    "import seaborn as sns"
   ]
  },
  {
   "cell_type": "code",
   "execution_count": null,
   "id": "b19b0924",
   "metadata": {},
   "outputs": [],
   "source": [
    "sns.barplot(data=b20, x=\"form_pav\", y=\"2020_count\")"
   ]
  },
  {
   "cell_type": "markdown",
   "id": "d2d737eb",
   "metadata": {},
   "source": [
    "### 10. Kurį mėnesį buvo įregistruota daugiausiai juridinių asmenų 2020 ir 2021 metais?\n"
   ]
  },
  {
   "cell_type": "code",
   "execution_count": null,
   "id": "7505ae12",
   "metadata": {},
   "outputs": [],
   "source": [
    "balance_20['reg_menesis'] = balance_20['reg_date'].str.split('-').str.get(1)\n",
    "balance_21['reg_menesis'] = balance_21['reg_date'].str.split('-').str.get(1)\n",
    "\n",
    "\n",
    "year_2020 = balance_20.groupby(by='reg_menesis').count()['obj_kodas']\n",
    "year_2021 = balance_21.groupby(by='reg_menesis').count()['obj_kodas']"
   ]
  },
  {
   "cell_type": "code",
   "execution_count": null,
   "id": "55735280",
   "metadata": {},
   "outputs": [],
   "source": [
    "pd.concat([year_2020, year_2021], axis=1).plot(kind='bar')"
   ]
  },
  {
   "cell_type": "markdown",
   "id": "022449ca",
   "metadata": {},
   "source": [
    "### 11. Vizualiai atvaizduoti juridinių asmenų statuso pasiskirstymą kiekvienais metais (2020 ir 2021 metais kartu)."
   ]
  },
  {
   "cell_type": "markdown",
   "id": "8cfe60f9",
   "metadata": {},
   "source": [
    "Check exercice 9 with stat_statusas feature."
   ]
  },
  {
   "cell_type": "markdown",
   "id": "dac03378",
   "metadata": {},
   "source": [
    "### 12  Kiekvienai įmonei apskaičiuoti tendenciją. Jei “grynasis_pelnas” + “nuosavas_kapitalas” 2021 metais buvo didesnis už 2020 metais deklaruotą, tai tendencija “teigiama”, jei ne - “neigiama”. Atvaizduoti tendencijos duomenis stulpelinėje diagramoje."
   ]
  },
  {
   "cell_type": "code",
   "execution_count": null,
   "id": "fec39ebe",
   "metadata": {},
   "outputs": [],
   "source": [
    "tend_20 = pl_20[[\"obj_kodas\", \"form_pav\", \"grynasis_pelnas\"]].merge(\n",
    "    balance_20[[\"obj_kodas\", \"nuosavas_kapitalas\"]]\n",
    ")"
   ]
  },
  {
   "cell_type": "code",
   "execution_count": null,
   "id": "d2cdad45",
   "metadata": {},
   "outputs": [],
   "source": [
    "tend_20[\"value_20\"] = tend_20[\"grynasis_pelnas\"] + tend_20[\"nuosavas_kapitalas\"]\n",
    "tend_20 = tend_20[[\"obj_kodas\", \"form_pav\", \"value_20\"]]"
   ]
  },
  {
   "cell_type": "code",
   "execution_count": null,
   "id": "d6d44812",
   "metadata": {},
   "outputs": [],
   "source": [
    "tend_21 = pl_21[[\"obj_kodas\", \"form_pav\", \"grynasis_pelnas\"]].merge(\n",
    "    balance_21[[\"obj_kodas\", \"nuosavas_kapitalas\"]]\n",
    ")\n",
    "tend_21[\"value_21\"] = tend_21[\"grynasis_pelnas\"] + tend_21[\"nuosavas_kapitalas\"]\n",
    "tend_21 = tend_21[[\"obj_kodas\", \"value_21\"]]"
   ]
  },
  {
   "cell_type": "code",
   "execution_count": null,
   "id": "318b92b0",
   "metadata": {},
   "outputs": [],
   "source": [
    "tend = tend_20.merge(tend_21, on=\"obj_kodas\")"
   ]
  },
  {
   "cell_type": "code",
   "execution_count": null,
   "id": "f9b9069e",
   "metadata": {},
   "outputs": [],
   "source": [
    "tend[\"tendencija\"] = \"neigiama\""
   ]
  },
  {
   "cell_type": "code",
   "execution_count": null,
   "id": "812fb2b6",
   "metadata": {},
   "outputs": [],
   "source": [
    "tend.loc[tend.value_21 > tend.value_20, \"tendencija\"] = \"teigiama\""
   ]
  },
  {
   "cell_type": "code",
   "execution_count": null,
   "id": "6ee9672e",
   "metadata": {},
   "outputs": [],
   "source": [
    "tend.tendencija.value_counts()"
   ]
  },
  {
   "cell_type": "markdown",
   "id": "dc9eea80",
   "metadata": {},
   "source": [
    "# 13\n",
    "Surasti UAB ir MB įmones, kurios 2020 vykdė veiklą, o 2021 - bankrutavo. Bankrutavusių įmonių statusai: “Bankrutavęs”, “Bankrutuojantis”, “Išregistruotas”, “Inicijuojamas likvidavimas”, “Likviduojamas”, “Likviduojamas dėl bankroto”. Toliau veiklą vykdanti įmonė pažymėta \"Teisinis stat neįregistruotas\" statusu. Kokia bankrutavusių įmonių “nuosavas_kapitalas”suma 2021 metais? Kokia bankrutavusių įmonių “grynasis_pelnas” suma 2021 metais? Palyginti šias sumas su veikiančių įmonių atitinkamomis sumomis."
   ]
  },
  {
   "cell_type": "code",
   "execution_count": null,
   "id": "a972bb72",
   "metadata": {},
   "outputs": [],
   "source": [
    "# dirbame tik su MB ir UAB\n",
    "## veikianti imone = 'Teisinis stat neįregistruotas'\n",
    "## Bankrutavusi imone = 'Bankrutavęs', 'Bankrutuojantis', 'Išregistruotas', 'Likviduojamas', 'Likviduojamas dėl bankroto', 'Inicijuojamas likvidavimas'"
   ]
  },
  {
   "cell_type": "code",
   "execution_count": null,
   "id": "2432689c",
   "metadata": {},
   "outputs": [],
   "source": [
    "def get_veikianti_bankrutavusi(x):\n",
    "    veikianti = \"Teisinis stat neįregistruotas\"\n",
    "    bankrutavusi = [\n",
    "        \"Bankrutavęs\",\n",
    "        \"Bankrutuojantis\",\n",
    "        \"Išregistruotas\",\n",
    "        \"Likviduojamas\",\n",
    "        \"Likviduojamas dėl bankroto\",\n",
    "        \"Inicijuojamas likvidavimas\",\n",
    "    ]\n",
    "    if x == veikianti:\n",
    "        return \"veikianti\"\n",
    "    elif x in bankrutavusi:\n",
    "        return \"bankrutavusi\"\n",
    "    return np.nan\n",
    "\n",
    "\n",
    "balance_20[\"veikianti_bankrutavusi\"] = balance_20.stat_pav.map(\n",
    "    get_veikianti_bankrutavusi\n",
    ")\n",
    "balance_21[\"veikianti_bankrutavusi\"] = balance_21.stat_pav.map(\n",
    "    get_veikianti_bankrutavusi\n",
    ")"
   ]
  },
  {
   "cell_type": "code",
   "execution_count": null,
   "id": "a99fc6b0",
   "metadata": {},
   "outputs": [],
   "source": [
    "bal_cols = [\"obj_kodas\", \"form_pav\", \"veikianti_bankrutavusi\", \"nuosavas_kapitalas\"]\n",
    "pl_cols = [\"obj_kodas\", \"grynasis_pelnas\"]\n",
    "merge_on = \"obj_kodas\"\n",
    "mb_uab = [\"Mažoji bendrija\", \"Uždaroji akcinė bendrovė\"]\n",
    "uab_mb_codition_20 = balance_20.form_pav.isin(mb_uab)\n",
    "uab_mb_codition_21 = balance_21.form_pav.isin(mb_uab)\n",
    "\n",
    "merged_20 = balance_20[uab_mb_codition_20][bal_cols].merge(pl_20[pl_cols], on=merge_on)\n",
    "merged_21 = balance_21[uab_mb_codition_21][bal_cols].merge(pl_21[pl_cols], on=merge_on)"
   ]
  },
  {
   "cell_type": "code",
   "execution_count": null,
   "id": "ddc10342",
   "metadata": {},
   "outputs": [],
   "source": [
    "merged = merged_20.merge(merged_21, on=merge_on, suffixes=[\"_20\", \"_21\"], how=\"left\")"
   ]
  },
  {
   "cell_type": "code",
   "execution_count": null,
   "id": "3f948684",
   "metadata": {},
   "outputs": [],
   "source": [
    "merged.veikianti_bankrutavusi_20.value_counts(), merged.veikianti_bankrutavusi_21.value_counts(),"
   ]
  },
  {
   "cell_type": "code",
   "execution_count": null,
   "id": "f08e08ce",
   "metadata": {},
   "outputs": [],
   "source": [
    "veikianti_bankrutavusi_codition = merged.apply(\n",
    "    lambda x: (x[\"veikianti_bankrutavusi_20\"] == \"veikianti\")\n",
    "    & (x[\"veikianti_bankrutavusi_21\"] == \"bankrutavusi\"),\n",
    "    axis=1,\n",
    ")"
   ]
  },
  {
   "cell_type": "code",
   "execution_count": null,
   "id": "907b9dc4",
   "metadata": {},
   "outputs": [],
   "source": [
    "merged[\n",
    "    merged.veikianti_bankrutavusi_21 == \"bankrutavusi\"\n",
    "].veikianti_bankrutavusi_20.value_counts()"
   ]
  },
  {
   "cell_type": "code",
   "execution_count": null,
   "id": "091baa23",
   "metadata": {},
   "outputs": [],
   "source": [
    "## Nera bankrutavusiu imoniu?!"
   ]
  },
  {
   "cell_type": "markdown",
   "id": "8813ea48",
   "metadata": {},
   "source": [
    "# 14\n",
    "Sukurti naują stulpelį “turtas”, kuris skaičiuojamas sudedant “trumpalaikis_turtas” ir “ilgalaikis_turtas”."
   ]
  },
  {
   "cell_type": "code",
   "execution_count": null,
   "id": "074e9e24",
   "metadata": {},
   "outputs": [],
   "source": [
    "balance_20[\"turtas\"] = (\n",
    "    balance_20[\"trumpalaikis_turtas\"] + balance_20[\"ilgalaikis_turtas\"]\n",
    ")\n",
    "\n",
    "balance_21[\"turtas\"] = (\n",
    "    balance_21[\"trumpalaikis_turtas\"] + balance_21[\"ilgalaikis_turtas\"]\n",
    ")"
   ]
  },
  {
   "cell_type": "markdown",
   "id": "74df3fb5",
   "metadata": {},
   "source": [
    "Suskirstyti įmones į 5 grupes pagal lauką “turtas”. Palyginti kaip šios grupės keičiasi 2020 ir 2021 metais. Palyginimą atvaizduoti grafiškai."
   ]
  },
  {
   "cell_type": "code",
   "execution_count": null,
   "id": "dcdd5e7f",
   "metadata": {},
   "outputs": [],
   "source": [
    "balance_20.turtas.describe(percentiles=[0.2, 0.4, 0.6, 0.8])"
   ]
  },
  {
   "cell_type": "code",
   "execution_count": null,
   "id": "4c59f5b7",
   "metadata": {},
   "outputs": [],
   "source": [
    "balance_20[\"turtas_category\"] = pd.cut(\n",
    "    balance_20.turtas,\n",
    "    bins=[0, 3000, 20000, 35000, 70000, 3_000_000_000],\n",
    "    labels=[\"iki 3k\", \"3k-20k\", \"20k-35k\", \"35k-70k\", \"70k+\"],\n",
    ")"
   ]
  },
  {
   "cell_type": "code",
   "execution_count": null,
   "id": "9911a88f",
   "metadata": {},
   "outputs": [],
   "source": [
    "balance_21[\"turtas_category\"] = pd.cut(\n",
    "    balance_21.turtas,\n",
    "    bins=[0, 3000, 20000, 35000, 70000, 3_000_000_000],\n",
    "    labels=[\"iki 3k\", \"3k-20k\", \"20k-35k\", \"35k-70k\", \"70k+\"],\n",
    ")"
   ]
  },
  {
   "cell_type": "code",
   "execution_count": null,
   "id": "adb8c8ca",
   "metadata": {},
   "outputs": [],
   "source": [
    "b20 = (\n",
    "    balance_20[[\"obj_kodas\", \"turtas_category\"]]\n",
    "    .copy()\n",
    "    .rename(columns={\"turtas_category\": \"turtas_category_2020\"})\n",
    ")"
   ]
  },
  {
   "cell_type": "code",
   "execution_count": null,
   "id": "aa90bf81",
   "metadata": {},
   "outputs": [],
   "source": [
    "b21 = (\n",
    "    balance_21[[\"obj_kodas\", \"turtas_category\"]]\n",
    "    .copy()\n",
    "    .rename(columns={\"turtas_category\": \"turtas_category_2021\"})\n",
    ")"
   ]
  },
  {
   "cell_type": "code",
   "execution_count": null,
   "id": "f5dcf26f",
   "metadata": {},
   "outputs": [],
   "source": [
    "turtas = b20.merge(b21, on=\"obj_kodas\")\n",
    "turtas.head()"
   ]
  },
  {
   "cell_type": "code",
   "execution_count": null,
   "id": "8ea6a31a",
   "metadata": {},
   "outputs": [],
   "source": [
    "## palyginimas -> count'as \n",
    "## judejimas is vienos kategorijos i kita "
   ]
  },
  {
   "cell_type": "code",
   "execution_count": null,
   "id": "d0d6feb6",
   "metadata": {},
   "outputs": [],
   "source": [
    "s_2021"
   ]
  },
  {
   "cell_type": "code",
   "execution_count": null,
   "id": "88b4730a",
   "metadata": {},
   "outputs": [],
   "source": [
    "pd.concat([s_2020, s_2021],axis=1)"
   ]
  },
  {
   "cell_type": "code",
   "execution_count": null,
   "id": "7eb47964",
   "metadata": {},
   "outputs": [],
   "source": [
    "import seaborn as sns\n",
    "import matplotlib.pyplot as plt\n",
    "\n",
    "def autopct_format(values):\n",
    "        def my_format(pct):\n",
    "            total = sum(values)\n",
    "            val = int(round(pct*total/100.0))\n",
    "            return '{:.1f}%\\n({v:d})'.format(pct, v=val)\n",
    "        return my_format\n",
    "\n",
    "s_2020 = turtas['turtas_category_2020'].value_counts()\n",
    "s_2021= turtas['turtas_category_2021'].value_counts()\n",
    "s = pd.concat([s_2020, s_2021],axis=1)\n",
    "\n",
    "fig, ax = plt.subplots(nrows=1, ncols=2, figsize=(10, 10))\n",
    "\n",
    "ax[0].pie(s['turtas_category_2020'],labels = s.index, autopct=autopct_format(s['turtas_category_2020']))\n",
    "ax[0].set_title(\"2020 metais\")\n",
    "ax[1].pie(s['turtas_category_2021'],labels = s.index, autopct=autopct_format(s['turtas_category_2021']))\n",
    "ax[1].set_title(\"2021 metais\")\n",
    "plt.suptitle(\"Įregistruotų įmonių pasiskirstymas pagal sukauptą turtą\", y=0.80)\n",
    "plt.tight_layout()\n",
    "plt.show()\n",
    "\n"
   ]
  },
  {
   "cell_type": "code",
   "execution_count": null,
   "id": "a75a115c",
   "metadata": {},
   "outputs": [],
   "source": [
    "fig, ax = plt.subplots(nrows=1, ncols=2, figsize=(10, 10))\n",
    "\n",
    "s.plot(ax=ax[0], y='turtas_category_2020', kind='pie',\n",
    "         autopct=autopct_format(s['turtas_category_2020']), startangle=270, title=\"2020 metais\", legend=None)\n",
    "ax[0].axis('off')\n",
    "\n",
    "s.plot(ax=ax[1], y='turtas_category_2020', kind='pie',\n",
    "         autopct=autopct_format(s['turtas_category_2021']), startangle=270, legend=None, title=\"2020 metais\")\n",
    "ax[1].axis('off')\n",
    "\n",
    "plt.suptitle(\"Įregistruotų įmonių pasiskirstymas pagal sukauptą turtą\", y=0.80)\n",
    "plt.tight_layout()\n",
    "plt.show()\n"
   ]
  },
  {
   "cell_type": "markdown",
   "id": "53ab30a6",
   "metadata": {},
   "source": [
    "# 15\n",
    "Surasti top100 pelningiausias įmones pagal “grynasis pelnas” ir top100 įmones kurių “nuosavas kapitalas” didžiausias. Ar yra sutampančių įmonių šiuose sąrašuose? Skaičiuojant topus imti viso laikotarpio įmones."
   ]
  },
  {
   "cell_type": "code",
   "execution_count": null,
   "id": "3ca2e3cb",
   "metadata": {},
   "outputs": [],
   "source": [
    "mb_uab = [\"Mažoji bendrija\", \"Uždaroji akcinė bendrovė\"]\n",
    "uab_mb_codition_20 = balance_20.form_pav.isin(mb_uab)\n",
    "uab_mb_codition_21 = balance_21.form_pav.isin(mb_uab)\n",
    "\n",
    "laikotarpis_condition_20 = balance_20.laikotarpis_nuo == \"2019-01-01\"\n",
    "laikotarpis_condition_21 = balance_21.laikotarpis_nuo == \"2020-01-01\"\n",
    "\n",
    "\n",
    "bal_cols = [\"obj_kodas\", \"obj_pav\", \"form_pav\", \"nuosavas_kapitalas\"]"
   ]
  },
  {
   "cell_type": "code",
   "execution_count": null,
   "id": "080e832b",
   "metadata": {},
   "outputs": [],
   "source": [
    "top_capital_20 = (\n",
    "    balance_20[uab_mb_codition_20 & laikotarpis_condition_20][bal_cols]\n",
    "    .sort_values(\"nuosavas_kapitalas\", ascending=False)\n",
    "    .dropna()\n",
    "    .head(100)\n",
    ")"
   ]
  },
  {
   "cell_type": "code",
   "execution_count": null,
   "id": "6ac7df48",
   "metadata": {},
   "outputs": [],
   "source": [
    "top_capital_21.head()"
   ]
  },
  {
   "cell_type": "code",
   "execution_count": null,
   "id": "cf8ac357",
   "metadata": {},
   "outputs": [],
   "source": [
    "top_capital_21 = (\n",
    "    balance_21[uab_mb_codition_21 & laikotarpis_condition_21][bal_cols]\n",
    "    .sort_values(\"nuosavas_kapitalas\", ascending=False)\n",
    "    .dropna()\n",
    "    .head(100)\n",
    ")"
   ]
  },
  {
   "cell_type": "code",
   "execution_count": null,
   "id": "7f6112bc",
   "metadata": {},
   "outputs": [],
   "source": [
    "mb_uab = [\"Mažoji bendrija\", \"Uždaroji akcinė bendrovė\"]\n",
    "pl_uab_mb_codition_20 = pl_20.form_pav.isin(mb_uab)\n",
    "pl_uab_mb_codition_21 = pl_21.form_pav.isin(mb_uab)\n",
    "\n",
    "pl_laikotarpis_condition_20 = pl_20.laikotarpis_nuo == \"2019-01-01\"\n",
    "pl_laikotarpis_condition_21 = pl_20.laikotarpis_nuo == \"2020-01-01\"\n",
    "\n",
    "\n",
    "pl_cols = [\"obj_kodas\", \"obj_pav\", \"form_pav\", \"grynasis_pelnas\"]"
   ]
  },
  {
   "cell_type": "code",
   "execution_count": null,
   "id": "5b04dc6e",
   "metadata": {},
   "outputs": [],
   "source": [
    "top_profit_20 = (\n",
    "    pl_20[pl_uab_mb_codition_20 & pl_laikotarpis_condition_20][pl_cols]\n",
    "    .sort_values(\"grynasis_pelnas\", ascending=False)\n",
    "    .dropna()\n",
    "    .head(100)\n",
    ")"
   ]
  },
  {
   "cell_type": "code",
   "execution_count": null,
   "id": "35f48781",
   "metadata": {},
   "outputs": [],
   "source": [
    "top_profit_21 = (\n",
    "    pl_21[pl_uab_mb_codition_21 & pl_laikotarpis_condition_21][pl_cols]\n",
    "    .sort_values(\"grynasis_pelnas\", ascending=False)\n",
    "    .dropna()\n",
    "    .head(100)\n",
    ")"
   ]
  },
  {
   "cell_type": "code",
   "execution_count": null,
   "id": "29967de9",
   "metadata": {},
   "outputs": [],
   "source": [
    "top_profit_21"
   ]
  },
  {
   "cell_type": "code",
   "execution_count": null,
   "id": "9086ba3a",
   "metadata": {},
   "outputs": [],
   "source": [
    "best_20 = top_capital_20.merge(top_profit_20, on=\"obj_kodas\")"
   ]
  },
  {
   "cell_type": "code",
   "execution_count": null,
   "id": "f0c54b08",
   "metadata": {},
   "outputs": [],
   "source": [
    "best_21 = top_capital_21.merge(top_profit_21, on=\"obj_kodas\")"
   ]
  },
  {
   "cell_type": "code",
   "execution_count": null,
   "id": "4b77d9b8",
   "metadata": {},
   "outputs": [],
   "source": [
    "best_20"
   ]
  },
  {
   "cell_type": "code",
   "execution_count": null,
   "id": "625b0ba1",
   "metadata": {},
   "outputs": [],
   "source": [
    "len(set(top_profit_20.obj_kodas).intersection(set(top_capital_20.obj_kodas)))"
   ]
  },
  {
   "cell_type": "code",
   "execution_count": null,
   "id": "1e926601",
   "metadata": {},
   "outputs": [],
   "source": [
    "set(top_profit_21.obj_kodas).intersection(set(top_capital_21.obj_kodas))"
   ]
  },
  {
   "cell_type": "markdown",
   "id": "d30f808d",
   "metadata": {},
   "source": [
    "# 16\n",
    "Ar topai iš 9 užduoties skiriasi 2020 ir 2021 metais? Kurios įmonės iškrenta iš topų 2021 metais?"
   ]
  },
  {
   "cell_type": "code",
   "execution_count": null,
   "id": "fbd75263",
   "metadata": {},
   "outputs": [],
   "source": [
    "capital_drop_outs_21 = []\n",
    "for i in top_capital_20.obj_pav:\n",
    "    if i not in top_capital_21.obj_pav:\n",
    "        capital_drop_outs_21.append(i)"
   ]
  },
  {
   "cell_type": "code",
   "execution_count": null,
   "id": "0f622f7e",
   "metadata": {},
   "outputs": [],
   "source": [
    "capital_drop_outs_21"
   ]
  },
  {
   "cell_type": "code",
   "execution_count": null,
   "id": "bcc5247f",
   "metadata": {},
   "outputs": [],
   "source": [
    "profit_drop_outs_21 = []\n",
    "for i in top_profit_20.obj_pav:\n",
    "    if i not in top_profit_21.obj_pav:\n",
    "        profit_drop_outs_21.append(i)"
   ]
  },
  {
   "cell_type": "code",
   "execution_count": null,
   "id": "c63eb914",
   "metadata": {},
   "outputs": [],
   "source": [
    "profit_drop_outs_21"
   ]
  },
  {
   "cell_type": "code",
   "execution_count": null,
   "id": "5a2571b4",
   "metadata": {},
   "outputs": [],
   "source": []
  },
  {
   "cell_type": "code",
   "execution_count": null,
   "id": "9a9ee3a8",
   "metadata": {},
   "outputs": [],
   "source": []
  },
  {
   "cell_type": "code",
   "execution_count": null,
   "id": "cedd55cc",
   "metadata": {},
   "outputs": [],
   "source": []
  }
 ],
 "metadata": {
  "kernelspec": {
   "display_name": "Python 3 (ipykernel)",
   "language": "python",
   "name": "python3"
  },
  "language_info": {
   "codemirror_mode": {
    "name": "ipython",
    "version": 3
   },
   "file_extension": ".py",
   "mimetype": "text/x-python",
   "name": "python",
   "nbconvert_exporter": "python",
   "pygments_lexer": "ipython3",
   "version": "3.9.2"
  },
  "vscode": {
   "interpreter": {
    "hash": "40d3a090f54c6569ab1632332b64b2c03c39dcf918b08424e98f38b5ae0af88f"
   }
  }
 },
 "nbformat": 4,
 "nbformat_minor": 5
}
