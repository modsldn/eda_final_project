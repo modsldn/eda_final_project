{
 "cells": [
  {
   "cell_type": "code",
   "execution_count": 2,
   "id": "387ab72f",
   "metadata": {},
   "outputs": [
    {
     "data": {
      "text/html": [
       "<style>.container { width:90% !important; }</style>"
      ],
      "text/plain": [
       "<IPython.core.display.HTML object>"
      ]
     },
     "metadata": {},
     "output_type": "display_data"
    }
   ],
   "source": [
    "from IPython.display import display, HTML\n",
    "display(HTML(\"<style>.container { width:90% !important; }</style>\"))"
   ]
  },
  {
   "cell_type": "code",
   "execution_count": 3,
   "id": "0419fbda",
   "metadata": {},
   "outputs": [
    {
     "data": {
      "application/javascript": [
       "\n",
       "            setTimeout(function() {\n",
       "                var nbb_cell_id = 3;\n",
       "                var nbb_unformatted_code = \"%load_ext nb_black\";\n",
       "                var nbb_formatted_code = \"%load_ext nb_black\";\n",
       "                var nbb_cells = Jupyter.notebook.get_cells();\n",
       "                for (var i = 0; i < nbb_cells.length; ++i) {\n",
       "                    if (nbb_cells[i].input_prompt_number == nbb_cell_id) {\n",
       "                        if (nbb_cells[i].get_text() == nbb_unformatted_code) {\n",
       "                             nbb_cells[i].set_text(nbb_formatted_code);\n",
       "                        }\n",
       "                        break;\n",
       "                    }\n",
       "                }\n",
       "            }, 500);\n",
       "            "
      ],
      "text/plain": [
       "<IPython.core.display.Javascript object>"
      ]
     },
     "metadata": {},
     "output_type": "display_data"
    }
   ],
   "source": [
    "%load_ext nb_black"
   ]
  },
  {
   "cell_type": "markdown",
   "id": "06aed4d8",
   "metadata": {},
   "source": [
    "# eda_final_project\n",
    "\n",
    "## Duomenys\n",
    "\n",
    "Duomenų šaltinis https://www.registrucentras.lt/p/1094. \n",
    "\n",
    "1. Parsisiųsti 2020 ir 2021 įmonių “Juridinių asmenų pateikti finansinės atskaitomybės dokumentai – balanso ataskaitos” ir “Juridinių asmenų pateikti finansinės atskaitomybės dokumentai – pelno (nuostolių) ataskaitos” duomenis. \n",
    "\n",
    "1. Apskaičiuoti vidutinias reikšmes “pelnas_pries_apmokestinima” ir “nuosavas_kapitalas” laukų kiekvienai juridinio asmens formai (Uždaroji akcinė bendrovė, Mažoji bendrija, etc.) už visą laikotarpį. \n",
    "\n",
    "2. Atrinkti įmones, kurių “nuosavas_kapitalas” buvo didesnis negu nuosavo kapitalo mediana 2020 ir 2021 metais.  \n",
    "\n",
    "3. Atvaizduoti juridinių asmenų formos ir statuso pasiskirstymą kiekvienais metais. \n",
    "\n",
    "4. Kiekvienai įmonei apskaičiuoti tendenciją. Jei “grynasis_pelnas” + “nuosavas_kapitalas” 2021 metais buvo didesnis už 2020 metais deklaruotą, tai tendencija “teigiama”, jei ne - “neigiama”. Atvaizduoti tendencijos duomenis grafiškai. \n",
    "\n",
    "5. Surasti įmones, kurios 2020 vykdė veiklą, o 2021 - bankrutavo. Bankrutavusių įmonių statusai: “Bankrutavęs”, “Bankrutuojantis”, “Išregistruotas”, “Inicijuojamas likvidavimas”, “Likviduojamas”, “Likviduojamas dėl bankroto”. Kokia bankrutavusių įmonių “nuosavas_kapitalas” suma ir “grynasis_pelnas” suma 2021 metais? Palyginti šias sumas su veikiančių įmonių atitinkamomis sumomis. \n",
    "\n",
    "6. Sukurti naują stulpelį “turtas”, kuris skaičiuojamas sudedant “trumpalaikis_turtas” ir “ilgalaikis_turtas”. \n",
    "\n",
    "7. Suskirstyti įmones į 5 grupes pagal lauką “turtas”. Palyginti kaip šios grupės keičiasi 2020 ir 2021 metais. Palyginimą atvaizduoti grafiškai. \n",
    "\n",
    "8. Surasti top100 pelningiausias įmones pagal “grynasis pelnas” ir top100 įmones kurių “nuosavas kapitalas” didžiausias. Ar yra sutampančių įmonių šiuose sąrašuose? Skaičiuojant topus imti viso laikotarpio įmones. \n",
    "\n",
    "9. Ar topai iš 9 užduoties skiriasi 2020 ir 2021 metais? Kurios naujos iškrenta iš topų 2021 metais? "
   ]
  },
  {
   "cell_type": "code",
   "execution_count": 4,
   "id": "15bf739a",
   "metadata": {},
   "outputs": [
    {
     "data": {
      "application/javascript": [
       "\n",
       "            setTimeout(function() {\n",
       "                var nbb_cell_id = 4;\n",
       "                var nbb_unformatted_code = \"import pandas as pd\";\n",
       "                var nbb_formatted_code = \"import pandas as pd\";\n",
       "                var nbb_cells = Jupyter.notebook.get_cells();\n",
       "                for (var i = 0; i < nbb_cells.length; ++i) {\n",
       "                    if (nbb_cells[i].input_prompt_number == nbb_cell_id) {\n",
       "                        if (nbb_cells[i].get_text() == nbb_unformatted_code) {\n",
       "                             nbb_cells[i].set_text(nbb_formatted_code);\n",
       "                        }\n",
       "                        break;\n",
       "                    }\n",
       "                }\n",
       "            }, 500);\n",
       "            "
      ],
      "text/plain": [
       "<IPython.core.display.Javascript object>"
      ]
     },
     "metadata": {},
     "output_type": "display_data"
    }
   ],
   "source": [
    "import pandas as pd"
   ]
  },
  {
   "cell_type": "code",
   "execution_count": 13,
   "id": "1775e9d6",
   "metadata": {},
   "outputs": [
    {
     "data": {
      "application/javascript": [
       "\n",
       "            setTimeout(function() {\n",
       "                var nbb_cell_id = 13;\n",
       "                var nbb_unformatted_code = \"## got an error while downloading online csv data\\n## quick fix \\n## https://stackoverflow.com/questions/50236117/scraping-ssl-certificate-verify-failed-error-for-http-en-wikipedia-org\\n\\nimport ssl\\n\\nssl._create_default_https_context = ssl._create_unverified_context\";\n",
       "                var nbb_formatted_code = \"## got an error while downloading online csv data\\n## quick fix\\n## https://stackoverflow.com/questions/50236117/scraping-ssl-certificate-verify-failed-error-for-http-en-wikipedia-org\\n\\nimport ssl\\n\\nssl._create_default_https_context = ssl._create_unverified_context\";\n",
       "                var nbb_cells = Jupyter.notebook.get_cells();\n",
       "                for (var i = 0; i < nbb_cells.length; ++i) {\n",
       "                    if (nbb_cells[i].input_prompt_number == nbb_cell_id) {\n",
       "                        if (nbb_cells[i].get_text() == nbb_unformatted_code) {\n",
       "                             nbb_cells[i].set_text(nbb_formatted_code);\n",
       "                        }\n",
       "                        break;\n",
       "                    }\n",
       "                }\n",
       "            }, 500);\n",
       "            "
      ],
      "text/plain": [
       "<IPython.core.display.Javascript object>"
      ]
     },
     "metadata": {},
     "output_type": "display_data"
    }
   ],
   "source": [
    "## got an error while downloading online csv data. OSX\n",
    "## quick fix\n",
    "## https://stackoverflow.com/questions/50236117/scraping-ssl-certificate-verify-failed-error-for-http-en-wikipedia-org\n",
    "\n",
    "import ssl\n",
    "\n",
    "ssl._create_default_https_context = ssl._create_unverified_context"
   ]
  },
  {
   "cell_type": "markdown",
   "id": "f3d2506e",
   "metadata": {},
   "source": [
    "# 1 \n",
    "Parsisiųsti 2020 ir 2021 įmonių “Juridinių asmenų pateikti finansinės atskaitomybės dokumentai – balanso ataskaitos” ir “Juridinių asmenų pateikti finansinės atskaitomybės dokumentai – pelno (nuostolių) ataskaitos” duomenis."
   ]
  },
  {
   "cell_type": "code",
   "execution_count": 11,
   "id": "096c5e67",
   "metadata": {},
   "outputs": [
    {
     "data": {
      "application/javascript": [
       "\n",
       "            setTimeout(function() {\n",
       "                var nbb_cell_id = 11;\n",
       "                var nbb_unformatted_code = \"balance_20 = pd.read_csv(\\n    \\\"https://www.registrucentras.lt/aduomenys/?byla=JAR_FA_RODIKLIAI_BLNS_2020.csv\\\"\\n)\\nbalance_21 = pd.read_csv(\\n    \\\"https://www.registrucentras.lt/aduomenys/?byla=JAR_FA_RODIKLIAI_BLNS_2021.csv\\\"\\n)\\npl_20 = pd.read_csv('https://www.registrucentras.lt/aduomenys/?byla=JAR_FA_RODIKLIAI_PLNA_2020.csv')\\npl_21 = pd.read_csv('https://www.registrucentras.lt/aduomenys/?byla=JAR_FA_RODIKLIAI_PLNA_2021.csv')\";\n",
       "                var nbb_formatted_code = \"balance_20 = pd.read_csv(\\n    \\\"https://www.registrucentras.lt/aduomenys/?byla=JAR_FA_RODIKLIAI_BLNS_2020.csv\\\"\\n)\\nbalance_21 = pd.read_csv(\\n    \\\"https://www.registrucentras.lt/aduomenys/?byla=JAR_FA_RODIKLIAI_BLNS_2021.csv\\\"\\n)\\npl_20 = pd.read_csv(\\n    \\\"https://www.registrucentras.lt/aduomenys/?byla=JAR_FA_RODIKLIAI_PLNA_2020.csv\\\"\\n)\\npl_21 = pd.read_csv(\\n    \\\"https://www.registrucentras.lt/aduomenys/?byla=JAR_FA_RODIKLIAI_PLNA_2021.csv\\\"\\n)\";\n",
       "                var nbb_cells = Jupyter.notebook.get_cells();\n",
       "                for (var i = 0; i < nbb_cells.length; ++i) {\n",
       "                    if (nbb_cells[i].input_prompt_number == nbb_cell_id) {\n",
       "                        if (nbb_cells[i].get_text() == nbb_unformatted_code) {\n",
       "                             nbb_cells[i].set_text(nbb_formatted_code);\n",
       "                        }\n",
       "                        break;\n",
       "                    }\n",
       "                }\n",
       "            }, 500);\n",
       "            "
      ],
      "text/plain": [
       "<IPython.core.display.Javascript object>"
      ]
     },
     "metadata": {},
     "output_type": "display_data"
    }
   ],
   "source": [
    "balance_20 = pd.read_csv(\n",
    "    \"https://www.registrucentras.lt/aduomenys/?byla=JAR_FA_RODIKLIAI_BLNS_2020.csv\"\n",
    ")\n",
    "balance_21 = pd.read_csv(\n",
    "    \"https://www.registrucentras.lt/aduomenys/?byla=JAR_FA_RODIKLIAI_BLNS_2021.csv\"\n",
    ")\n",
    "pl_20 = pd.read_csv(\n",
    "    \"https://www.registrucentras.lt/aduomenys/?byla=JAR_FA_RODIKLIAI_PLNA_2020.csv\"\n",
    ")\n",
    "pl_21 = pd.read_csv(\n",
    "    \"https://www.registrucentras.lt/aduomenys/?byla=JAR_FA_RODIKLIAI_PLNA_2021.csv\"\n",
    ")"
   ]
  },
  {
   "cell_type": "code",
   "execution_count": 15,
   "id": "fe4fbcba",
   "metadata": {},
   "outputs": [
    {
     "data": {
      "text/plain": [
       "((106318, 18), (120850, 18), (96616, 17), (110227, 17))"
      ]
     },
     "execution_count": 15,
     "metadata": {},
     "output_type": "execute_result"
    },
    {
     "data": {
      "application/javascript": [
       "\n",
       "            setTimeout(function() {\n",
       "                var nbb_cell_id = 15;\n",
       "                var nbb_unformatted_code = \"balance_20.shape, balance_21.shape, pl_20.shape, pl_21.shape\";\n",
       "                var nbb_formatted_code = \"balance_20.shape, balance_21.shape, pl_20.shape, pl_21.shape\";\n",
       "                var nbb_cells = Jupyter.notebook.get_cells();\n",
       "                for (var i = 0; i < nbb_cells.length; ++i) {\n",
       "                    if (nbb_cells[i].input_prompt_number == nbb_cell_id) {\n",
       "                        if (nbb_cells[i].get_text() == nbb_unformatted_code) {\n",
       "                             nbb_cells[i].set_text(nbb_formatted_code);\n",
       "                        }\n",
       "                        break;\n",
       "                    }\n",
       "                }\n",
       "            }, 500);\n",
       "            "
      ],
      "text/plain": [
       "<IPython.core.display.Javascript object>"
      ]
     },
     "metadata": {},
     "output_type": "display_data"
    }
   ],
   "source": [
    "balance_20.shape, balance_21.shape, pl_20.shape, pl_21.shape"
   ]
  },
  {
   "cell_type": "markdown",
   "id": "bf760992",
   "metadata": {},
   "source": [
    "# 2 \n",
    "Apskaičiuoti vidutinias reikšmes “pelnas_pries_apmokestinima” ir “nuosavas_kapitalas” laukų kiekvienai juridinio asmens formai (Uždaroji akcinė bendrovė, Mažoji bendrija, etc.) už visą laikotarpį."
   ]
  },
  {
   "cell_type": "code",
   "execution_count": 24,
   "id": "a8a50d28",
   "metadata": {},
   "outputs": [
    {
     "data": {
      "text/plain": [
       "Uždaroji akcinė bendrovė                    76370\n",
       "Mažoji bendrija                             13196\n",
       "Asociacija                                   9073\n",
       "Viešoji įstaiga                              5324\n",
       "Individuali įmonė                             677\n",
       "Labdaros ir paramos fondas                    598\n",
       "Žemės ūkio bendrovė                           401\n",
       "Kooperatinė bendrovė                          334\n",
       "Akcinė bendrovė                               245\n",
       "Komanditinė ūkinė bendrija                     39\n",
       "Savivaldybės įmonė                             24\n",
       "Užsienio juridinio asmens filialas             16\n",
       "Valstybės įmonė                                13\n",
       "Tikroji ūkinė bendrija                          4\n",
       "Biudžetinė įstaiga                              2\n",
       "Bendrija                                        1\n",
       "Lietuvos prekyb.,pramon. rūmų asociacija        1\n",
       "Name: form_pav, dtype: int64"
      ]
     },
     "execution_count": 24,
     "metadata": {},
     "output_type": "execute_result"
    },
    {
     "data": {
      "application/javascript": [
       "\n",
       "            setTimeout(function() {\n",
       "                var nbb_cell_id = 24;\n",
       "                var nbb_unformatted_code = \"balance_20.form_pav.value_counts(dropna=False)\";\n",
       "                var nbb_formatted_code = \"balance_20.form_pav.value_counts(dropna=False)\";\n",
       "                var nbb_cells = Jupyter.notebook.get_cells();\n",
       "                for (var i = 0; i < nbb_cells.length; ++i) {\n",
       "                    if (nbb_cells[i].input_prompt_number == nbb_cell_id) {\n",
       "                        if (nbb_cells[i].get_text() == nbb_unformatted_code) {\n",
       "                             nbb_cells[i].set_text(nbb_formatted_code);\n",
       "                        }\n",
       "                        break;\n",
       "                    }\n",
       "                }\n",
       "            }, 500);\n",
       "            "
      ],
      "text/plain": [
       "<IPython.core.display.Javascript object>"
      ]
     },
     "metadata": {},
     "output_type": "display_data"
    }
   ],
   "source": [
    "balance_20.form_pav.value_counts(dropna=False)"
   ]
  },
  {
   "cell_type": "code",
   "execution_count": 26,
   "id": "2d985f81",
   "metadata": {},
   "outputs": [
    {
     "data": {
      "application/javascript": [
       "\n",
       "            setTimeout(function() {\n",
       "                var nbb_cell_id = 26;\n",
       "                var nbb_unformatted_code = \"nuosavas_kapitalas = balance_20[[\\\"obj_kodas\\\", \\\"nuosavas_kapitalas\\\"]]\";\n",
       "                var nbb_formatted_code = \"nuosavas_kapitalas = balance_20[[\\\"obj_kodas\\\", \\\"nuosavas_kapitalas\\\"]]\";\n",
       "                var nbb_cells = Jupyter.notebook.get_cells();\n",
       "                for (var i = 0; i < nbb_cells.length; ++i) {\n",
       "                    if (nbb_cells[i].input_prompt_number == nbb_cell_id) {\n",
       "                        if (nbb_cells[i].get_text() == nbb_unformatted_code) {\n",
       "                             nbb_cells[i].set_text(nbb_formatted_code);\n",
       "                        }\n",
       "                        break;\n",
       "                    }\n",
       "                }\n",
       "            }, 500);\n",
       "            "
      ],
      "text/plain": [
       "<IPython.core.display.Javascript object>"
      ]
     },
     "metadata": {},
     "output_type": "display_data"
    }
   ],
   "source": [
    "# nuosavas_kapitalas\n",
    "nuosavas_kapitalas = balance_20[[\"obj_kodas\", \"nuosavas_kapitalas\"]]"
   ]
  },
  {
   "cell_type": "code",
   "execution_count": 29,
   "id": "64090953",
   "metadata": {},
   "outputs": [
    {
     "data": {
      "text/plain": [
       "(106318, 2)"
      ]
     },
     "execution_count": 29,
     "metadata": {},
     "output_type": "execute_result"
    },
    {
     "data": {
      "application/javascript": [
       "\n",
       "            setTimeout(function() {\n",
       "                var nbb_cell_id = 29;\n",
       "                var nbb_unformatted_code = \"nuosavas_kapitalas.shape\";\n",
       "                var nbb_formatted_code = \"nuosavas_kapitalas.shape\";\n",
       "                var nbb_cells = Jupyter.notebook.get_cells();\n",
       "                for (var i = 0; i < nbb_cells.length; ++i) {\n",
       "                    if (nbb_cells[i].input_prompt_number == nbb_cell_id) {\n",
       "                        if (nbb_cells[i].get_text() == nbb_unformatted_code) {\n",
       "                             nbb_cells[i].set_text(nbb_formatted_code);\n",
       "                        }\n",
       "                        break;\n",
       "                    }\n",
       "                }\n",
       "            }, 500);\n",
       "            "
      ],
      "text/plain": [
       "<IPython.core.display.Javascript object>"
      ]
     },
     "metadata": {},
     "output_type": "display_data"
    }
   ],
   "source": [
    "nuosavas_kapitalas.shape"
   ]
  },
  {
   "cell_type": "code",
   "execution_count": 27,
   "id": "1c1b4db6",
   "metadata": {},
   "outputs": [
    {
     "data": {
      "application/javascript": [
       "\n",
       "            setTimeout(function() {\n",
       "                var nbb_cell_id = 27;\n",
       "                var nbb_unformatted_code = \"# form_pav,  pelnas_pries_apmokestinima\\npelnas_pries_apmokestinima = pl_20[[\\\"obj_kodas\\\", \\\"form_pav\\\", \\\"pelnas_pries_apmokestinima\\\"]]\";\n",
       "                var nbb_formatted_code = \"# form_pav,  pelnas_pries_apmokestinima\\npelnas_pries_apmokestinima = pl_20[\\n    [\\\"obj_kodas\\\", \\\"form_pav\\\", \\\"pelnas_pries_apmokestinima\\\"]\\n]\";\n",
       "                var nbb_cells = Jupyter.notebook.get_cells();\n",
       "                for (var i = 0; i < nbb_cells.length; ++i) {\n",
       "                    if (nbb_cells[i].input_prompt_number == nbb_cell_id) {\n",
       "                        if (nbb_cells[i].get_text() == nbb_unformatted_code) {\n",
       "                             nbb_cells[i].set_text(nbb_formatted_code);\n",
       "                        }\n",
       "                        break;\n",
       "                    }\n",
       "                }\n",
       "            }, 500);\n",
       "            "
      ],
      "text/plain": [
       "<IPython.core.display.Javascript object>"
      ]
     },
     "metadata": {},
     "output_type": "display_data"
    }
   ],
   "source": [
    "# form_pav,  pelnas_pries_apmokestinima\n",
    "pelnas_pries_apmokestinima = pl_20[\n",
    "    [\"obj_kodas\", \"form_pav\", \"pelnas_pries_apmokestinima\"]\n",
    "]"
   ]
  },
  {
   "cell_type": "code",
   "execution_count": 30,
   "id": "15565e42",
   "metadata": {},
   "outputs": [
    {
     "data": {
      "text/plain": [
       "(96616, 3)"
      ]
     },
     "execution_count": 30,
     "metadata": {},
     "output_type": "execute_result"
    },
    {
     "data": {
      "application/javascript": [
       "\n",
       "            setTimeout(function() {\n",
       "                var nbb_cell_id = 30;\n",
       "                var nbb_unformatted_code = \"pelnas_pries_apmokestinima.shape\";\n",
       "                var nbb_formatted_code = \"pelnas_pries_apmokestinima.shape\";\n",
       "                var nbb_cells = Jupyter.notebook.get_cells();\n",
       "                for (var i = 0; i < nbb_cells.length; ++i) {\n",
       "                    if (nbb_cells[i].input_prompt_number == nbb_cell_id) {\n",
       "                        if (nbb_cells[i].get_text() == nbb_unformatted_code) {\n",
       "                             nbb_cells[i].set_text(nbb_formatted_code);\n",
       "                        }\n",
       "                        break;\n",
       "                    }\n",
       "                }\n",
       "            }, 500);\n",
       "            "
      ],
      "text/plain": [
       "<IPython.core.display.Javascript object>"
      ]
     },
     "metadata": {},
     "output_type": "display_data"
    }
   ],
   "source": [
    "pelnas_pries_apmokestinima.shape"
   ]
  },
  {
   "cell_type": "code",
   "execution_count": 35,
   "id": "29ea32f1",
   "metadata": {},
   "outputs": [
    {
     "data": {
      "text/plain": [
       "(0, 8120)"
      ]
     },
     "execution_count": 35,
     "metadata": {},
     "output_type": "execute_result"
    },
    {
     "data": {
      "application/javascript": [
       "\n",
       "            setTimeout(function() {\n",
       "                var nbb_cell_id = 35;\n",
       "                var nbb_unformatted_code = \"balance_20_set = set(balance_20.obj_kodas)\\npl_20_set = set(pl_20.obj_kodas)\\n\\nlen(pl_20_set.difference(balance_20_set)), len(balance_20_set.difference(pl_20_set))\";\n",
       "                var nbb_formatted_code = \"balance_20_set = set(balance_20.obj_kodas)\\npl_20_set = set(pl_20.obj_kodas)\\n\\nlen(pl_20_set.difference(balance_20_set)), len(balance_20_set.difference(pl_20_set))\";\n",
       "                var nbb_cells = Jupyter.notebook.get_cells();\n",
       "                for (var i = 0; i < nbb_cells.length; ++i) {\n",
       "                    if (nbb_cells[i].input_prompt_number == nbb_cell_id) {\n",
       "                        if (nbb_cells[i].get_text() == nbb_unformatted_code) {\n",
       "                             nbb_cells[i].set_text(nbb_formatted_code);\n",
       "                        }\n",
       "                        break;\n",
       "                    }\n",
       "                }\n",
       "            }, 500);\n",
       "            "
      ],
      "text/plain": [
       "<IPython.core.display.Javascript object>"
      ]
     },
     "metadata": {},
     "output_type": "display_data"
    }
   ],
   "source": [
    "balance_20_set = set(balance_20.obj_kodas)\n",
    "pl_20_set = set(pl_20.obj_kodas)\n",
    "\n",
    "len(pl_20_set.difference(balance_20_set)), len(balance_20_set.difference(pl_20_set))"
   ]
  },
  {
   "cell_type": "code",
   "execution_count": 43,
   "id": "1c3ad672",
   "metadata": {},
   "outputs": [
    {
     "data": {
      "text/plain": [
       "(129210, 4)"
      ]
     },
     "execution_count": 43,
     "metadata": {},
     "output_type": "execute_result"
    },
    {
     "data": {
      "application/javascript": [
       "\n",
       "            setTimeout(function() {\n",
       "                var nbb_cell_id = 43;\n",
       "                var nbb_unformatted_code = \"# we take intersection and ignore companies that do not have profit loss statement.\\npelnas_pries_apmokestinima.merge(nuosavas_kapitalas, on=\\\"obj_kodas\\\", how=\\\"inner\\\").shape\";\n",
       "                var nbb_formatted_code = \"# we take intersection and ignore companies that do not have profit loss statement.\\npelnas_pries_apmokestinima.merge(nuosavas_kapitalas, on=\\\"obj_kodas\\\", how=\\\"inner\\\").shape\";\n",
       "                var nbb_cells = Jupyter.notebook.get_cells();\n",
       "                for (var i = 0; i < nbb_cells.length; ++i) {\n",
       "                    if (nbb_cells[i].input_prompt_number == nbb_cell_id) {\n",
       "                        if (nbb_cells[i].get_text() == nbb_unformatted_code) {\n",
       "                             nbb_cells[i].set_text(nbb_formatted_code);\n",
       "                        }\n",
       "                        break;\n",
       "                    }\n",
       "                }\n",
       "            }, 500);\n",
       "            "
      ],
      "text/plain": [
       "<IPython.core.display.Javascript object>"
      ]
     },
     "metadata": {},
     "output_type": "display_data"
    }
   ],
   "source": [
    "# we take intersection and ignore companies that do not have profit loss statement.\n",
    "pelnas_pries_apmokestinima.merge(nuosavas_kapitalas, on=\"obj_kodas\", how=\"inner\").shape"
   ]
  },
  {
   "cell_type": "code",
   "execution_count": 39,
   "id": "c9c1f734",
   "metadata": {},
   "outputs": [
    {
     "data": {
      "text/plain": [
       "(96616, 3)"
      ]
     },
     "execution_count": 39,
     "metadata": {},
     "output_type": "execute_result"
    },
    {
     "data": {
      "application/javascript": [
       "\n",
       "            setTimeout(function() {\n",
       "                var nbb_cell_id = 39;\n",
       "                var nbb_unformatted_code = \"pelnas_pries_apmokestinima.shape\";\n",
       "                var nbb_formatted_code = \"pelnas_pries_apmokestinima.shape\";\n",
       "                var nbb_cells = Jupyter.notebook.get_cells();\n",
       "                for (var i = 0; i < nbb_cells.length; ++i) {\n",
       "                    if (nbb_cells[i].input_prompt_number == nbb_cell_id) {\n",
       "                        if (nbb_cells[i].get_text() == nbb_unformatted_code) {\n",
       "                             nbb_cells[i].set_text(nbb_formatted_code);\n",
       "                        }\n",
       "                        break;\n",
       "                    }\n",
       "                }\n",
       "            }, 500);\n",
       "            "
      ],
      "text/plain": [
       "<IPython.core.display.Javascript object>"
      ]
     },
     "metadata": {},
     "output_type": "display_data"
    }
   ],
   "source": [
    "# we see there are duplicates !!!!"
   ]
  },
  {
   "cell_type": "code",
   "execution_count": 52,
   "id": "29c8ed0a",
   "metadata": {},
   "outputs": [
    {
     "data": {
      "text/plain": [
       "168970870    16\n",
       "145496790    16\n",
       "135994223    15\n",
       "Name: obj_kodas, dtype: int64"
      ]
     },
     "execution_count": 52,
     "metadata": {},
     "output_type": "execute_result"
    },
    {
     "data": {
      "application/javascript": [
       "\n",
       "            setTimeout(function() {\n",
       "                var nbb_cell_id = 52;\n",
       "                var nbb_unformatted_code = \"balance_20.obj_kodas.value_counts().iloc[:3]\";\n",
       "                var nbb_formatted_code = \"balance_20.obj_kodas.value_counts().iloc[:3]\";\n",
       "                var nbb_cells = Jupyter.notebook.get_cells();\n",
       "                for (var i = 0; i < nbb_cells.length; ++i) {\n",
       "                    if (nbb_cells[i].input_prompt_number == nbb_cell_id) {\n",
       "                        if (nbb_cells[i].get_text() == nbb_unformatted_code) {\n",
       "                             nbb_cells[i].set_text(nbb_formatted_code);\n",
       "                        }\n",
       "                        break;\n",
       "                    }\n",
       "                }\n",
       "            }, 500);\n",
       "            "
      ],
      "text/plain": [
       "<IPython.core.display.Javascript object>"
      ]
     },
     "metadata": {},
     "output_type": "display_data"
    }
   ],
   "source": [
    "balance_20.obj_kodas.value_counts().iloc[:3]"
   ]
  },
  {
   "cell_type": "code",
   "execution_count": 70,
   "id": "6cce23a8",
   "metadata": {},
   "outputs": [
    {
     "data": {
      "text/plain": [
       "304127368    1\n",
       "304895492    1\n",
       "302583362    1\n",
       "303445421    1\n",
       "124665536    1\n",
       "            ..\n",
       "177218596    1\n",
       "151484255    1\n",
       "125416121    1\n",
       "302756355    1\n",
       "303778867    1\n",
       "Name: obj_kodas, Length: 86828, dtype: int64"
      ]
     },
     "execution_count": 70,
     "metadata": {},
     "output_type": "execute_result"
    },
    {
     "data": {
      "application/javascript": [
       "\n",
       "            setTimeout(function() {\n",
       "                var nbb_cell_id = 70;\n",
       "                var nbb_unformatted_code = \"balance_20[balance_20.laikotarpis_nuo == \\\"2019-01-01\\\"].obj_kodas.value_counts()\";\n",
       "                var nbb_formatted_code = \"balance_20[balance_20.laikotarpis_nuo == \\\"2019-01-01\\\"].obj_kodas.value_counts()\";\n",
       "                var nbb_cells = Jupyter.notebook.get_cells();\n",
       "                for (var i = 0; i < nbb_cells.length; ++i) {\n",
       "                    if (nbb_cells[i].input_prompt_number == nbb_cell_id) {\n",
       "                        if (nbb_cells[i].get_text() == nbb_unformatted_code) {\n",
       "                             nbb_cells[i].set_text(nbb_formatted_code);\n",
       "                        }\n",
       "                        break;\n",
       "                    }\n",
       "                }\n",
       "            }, 500);\n",
       "            "
      ],
      "text/plain": [
       "<IPython.core.display.Javascript object>"
      ]
     },
     "metadata": {},
     "output_type": "display_data"
    }
   ],
   "source": [
    "balance_20[balance_20.laikotarpis_nuo == \"2019-01-01\"].obj_kodas.value_counts()"
   ]
  },
  {
   "cell_type": "code",
   "execution_count": 77,
   "id": "4c84cc6a",
   "metadata": {},
   "outputs": [
    {
     "data": {
      "application/javascript": [
       "\n",
       "            setTimeout(function() {\n",
       "                var nbb_cell_id = 77;\n",
       "                var nbb_unformatted_code = \"# we filter out duplicates(?) by choosing laikotarpis_nuo == \\\"2019-01-01\\\". This requires inside knowledge about balance sheets.\\nnuosavas_kapitalas = balance_20[balance_20.laikotarpis_nuo == \\\"2019-01-01\\\"][[\\\"obj_kodas\\\", \\\"nuosavas_kapitalas\\\"]]\";\n",
       "                var nbb_formatted_code = \"# we filter out duplicates(?) by choosing laikotarpis_nuo == \\\"2019-01-01\\\". This requires inside knowledge about balance sheets.\\nnuosavas_kapitalas = balance_20[balance_20.laikotarpis_nuo == \\\"2019-01-01\\\"][\\n    [\\\"obj_kodas\\\", \\\"nuosavas_kapitalas\\\"]\\n]\";\n",
       "                var nbb_cells = Jupyter.notebook.get_cells();\n",
       "                for (var i = 0; i < nbb_cells.length; ++i) {\n",
       "                    if (nbb_cells[i].input_prompt_number == nbb_cell_id) {\n",
       "                        if (nbb_cells[i].get_text() == nbb_unformatted_code) {\n",
       "                             nbb_cells[i].set_text(nbb_formatted_code);\n",
       "                        }\n",
       "                        break;\n",
       "                    }\n",
       "                }\n",
       "            }, 500);\n",
       "            "
      ],
      "text/plain": [
       "<IPython.core.display.Javascript object>"
      ]
     },
     "metadata": {},
     "output_type": "display_data"
    }
   ],
   "source": [
    "# we filter out duplicates(?) by choosing laikotarpis_nuo == \"2019-01-01\". This requires inside knowledge about balance sheets.\n",
    "nuosavas_kapitalas = balance_20[balance_20.laikotarpis_nuo == \"2019-01-01\"][\n",
    "    [\"obj_kodas\", \"nuosavas_kapitalas\"]\n",
    "]"
   ]
  },
  {
   "cell_type": "code",
   "execution_count": 79,
   "id": "b216c794",
   "metadata": {},
   "outputs": [
    {
     "data": {
      "application/javascript": [
       "\n",
       "            setTimeout(function() {\n",
       "                var nbb_cell_id = 79;\n",
       "                var nbb_unformatted_code = \"pelnas_pries_apmokestinima = pl_20[pl_20.laikotarpis_nuo == \\\"2019-01-01\\\"][\\n    [\\\"obj_kodas\\\", \\\"form_pav\\\", \\\"pelnas_pries_apmokestinima\\\"]\\n]\";\n",
       "                var nbb_formatted_code = \"pelnas_pries_apmokestinima = pl_20[pl_20.laikotarpis_nuo == \\\"2019-01-01\\\"][\\n    [\\\"obj_kodas\\\", \\\"form_pav\\\", \\\"pelnas_pries_apmokestinima\\\"]\\n]\";\n",
       "                var nbb_cells = Jupyter.notebook.get_cells();\n",
       "                for (var i = 0; i < nbb_cells.length; ++i) {\n",
       "                    if (nbb_cells[i].input_prompt_number == nbb_cell_id) {\n",
       "                        if (nbb_cells[i].get_text() == nbb_unformatted_code) {\n",
       "                             nbb_cells[i].set_text(nbb_formatted_code);\n",
       "                        }\n",
       "                        break;\n",
       "                    }\n",
       "                }\n",
       "            }, 500);\n",
       "            "
      ],
      "text/plain": [
       "<IPython.core.display.Javascript object>"
      ]
     },
     "metadata": {},
     "output_type": "display_data"
    }
   ],
   "source": [
    "pelnas_pries_apmokestinima = pl_20[pl_20.laikotarpis_nuo == \"2019-01-01\"][\n",
    "    [\"obj_kodas\", \"form_pav\", \"pelnas_pries_apmokestinima\"]\n",
    "]"
   ]
  },
  {
   "cell_type": "code",
   "execution_count": 75,
   "id": "8824af90",
   "metadata": {},
   "outputs": [
    {
     "data": {
      "text/plain": [
       "304781777    1\n",
       "111733617    1\n",
       "302794270    1\n",
       "302664106    1\n",
       "300506602    1\n",
       "            ..\n",
       "110461363    1\n",
       "303336094    1\n",
       "304040760    1\n",
       "300572972    1\n",
       "173110025    1\n",
       "Name: obj_kodas, Length: 79433, dtype: int64"
      ]
     },
     "execution_count": 75,
     "metadata": {},
     "output_type": "execute_result"
    },
    {
     "data": {
      "application/javascript": [
       "\n",
       "            setTimeout(function() {\n",
       "                var nbb_cell_id = 75;\n",
       "                var nbb_unformatted_code = \"pelnas_pries_apmokestinima.obj_kodas.value_counts()\";\n",
       "                var nbb_formatted_code = \"pelnas_pries_apmokestinima.obj_kodas.value_counts()\";\n",
       "                var nbb_cells = Jupyter.notebook.get_cells();\n",
       "                for (var i = 0; i < nbb_cells.length; ++i) {\n",
       "                    if (nbb_cells[i].input_prompt_number == nbb_cell_id) {\n",
       "                        if (nbb_cells[i].get_text() == nbb_unformatted_code) {\n",
       "                             nbb_cells[i].set_text(nbb_formatted_code);\n",
       "                        }\n",
       "                        break;\n",
       "                    }\n",
       "                }\n",
       "            }, 500);\n",
       "            "
      ],
      "text/plain": [
       "<IPython.core.display.Javascript object>"
      ]
     },
     "metadata": {},
     "output_type": "display_data"
    }
   ],
   "source": [
    "pelnas_pries_apmokestinima.obj_kodas.value_counts() ## no duplicates. "
   ]
  },
  {
   "cell_type": "code",
   "execution_count": 80,
   "id": "fc354b4d",
   "metadata": {},
   "outputs": [
    {
     "data": {
      "text/plain": [
       "((86828, 2), (79433, 3))"
      ]
     },
     "execution_count": 80,
     "metadata": {},
     "output_type": "execute_result"
    },
    {
     "data": {
      "application/javascript": [
       "\n",
       "            setTimeout(function() {\n",
       "                var nbb_cell_id = 80;\n",
       "                var nbb_unformatted_code = \"nuosavas_kapitalas.shape, pelnas_pries_apmokestinima.shape\";\n",
       "                var nbb_formatted_code = \"nuosavas_kapitalas.shape, pelnas_pries_apmokestinima.shape\";\n",
       "                var nbb_cells = Jupyter.notebook.get_cells();\n",
       "                for (var i = 0; i < nbb_cells.length; ++i) {\n",
       "                    if (nbb_cells[i].input_prompt_number == nbb_cell_id) {\n",
       "                        if (nbb_cells[i].get_text() == nbb_unformatted_code) {\n",
       "                             nbb_cells[i].set_text(nbb_formatted_code);\n",
       "                        }\n",
       "                        break;\n",
       "                    }\n",
       "                }\n",
       "            }, 500);\n",
       "            "
      ],
      "text/plain": [
       "<IPython.core.display.Javascript object>"
      ]
     },
     "metadata": {},
     "output_type": "display_data"
    }
   ],
   "source": [
    "nuosavas_kapitalas.shape, pelnas_pries_apmokestinima.shape"
   ]
  },
  {
   "cell_type": "code",
   "execution_count": 87,
   "id": "95dba819",
   "metadata": {},
   "outputs": [
    {
     "data": {
      "application/javascript": [
       "\n",
       "            setTimeout(function() {\n",
       "                var nbb_cell_id = 87;\n",
       "                var nbb_unformatted_code = \"# we drop nan and use inner merge \\nmerged = nuosavas_kapitalas.merge(\\n    pelnas_pries_apmokestinima, on=\\\"obj_kodas\\\", how=\\\"inner\\\"\\n)\";\n",
       "                var nbb_formatted_code = \"# we drop nan and use inner merge\\nmerged = nuosavas_kapitalas.merge(\\n    pelnas_pries_apmokestinima, on=\\\"obj_kodas\\\", how=\\\"inner\\\"\\n)\";\n",
       "                var nbb_cells = Jupyter.notebook.get_cells();\n",
       "                for (var i = 0; i < nbb_cells.length; ++i) {\n",
       "                    if (nbb_cells[i].input_prompt_number == nbb_cell_id) {\n",
       "                        if (nbb_cells[i].get_text() == nbb_unformatted_code) {\n",
       "                             nbb_cells[i].set_text(nbb_formatted_code);\n",
       "                        }\n",
       "                        break;\n",
       "                    }\n",
       "                }\n",
       "            }, 500);\n",
       "            "
      ],
      "text/plain": [
       "<IPython.core.display.Javascript object>"
      ]
     },
     "metadata": {},
     "output_type": "display_data"
    }
   ],
   "source": [
    "# we drop nan and use inner merge\n",
    "merged = nuosavas_kapitalas.merge(\n",
    "    pelnas_pries_apmokestinima, on=\"obj_kodas\", how=\"inner\"\n",
    ")"
   ]
  },
  {
   "cell_type": "code",
   "execution_count": 103,
   "id": "94b47391",
   "metadata": {},
   "outputs": [
    {
     "data": {
      "application/javascript": [
       "\n",
       "            setTimeout(function() {\n",
       "                var nbb_cell_id = 103;\n",
       "                var nbb_unformatted_code = \"year_20_result = merged.groupby('form_pav').agg({'obj_kodas':'count', \\n                         'nuosavas_kapitalas':'mean', \\n                         'pelnas_pries_apmokestinima':'mean', }).apply(round).rename(columns=dict(obj_kodas='count'))\";\n",
       "                var nbb_formatted_code = \"year_20_result = (\\n    merged.groupby(\\\"form_pav\\\")\\n    .agg(\\n        {\\n            \\\"obj_kodas\\\": \\\"count\\\",\\n            \\\"nuosavas_kapitalas\\\": \\\"mean\\\",\\n            \\\"pelnas_pries_apmokestinima\\\": \\\"mean\\\",\\n        }\\n    )\\n    .apply(round)\\n    .rename(columns=dict(obj_kodas=\\\"count\\\"))\\n)\";\n",
       "                var nbb_cells = Jupyter.notebook.get_cells();\n",
       "                for (var i = 0; i < nbb_cells.length; ++i) {\n",
       "                    if (nbb_cells[i].input_prompt_number == nbb_cell_id) {\n",
       "                        if (nbb_cells[i].get_text() == nbb_unformatted_code) {\n",
       "                             nbb_cells[i].set_text(nbb_formatted_code);\n",
       "                        }\n",
       "                        break;\n",
       "                    }\n",
       "                }\n",
       "            }, 500);\n",
       "            "
      ],
      "text/plain": [
       "<IPython.core.display.Javascript object>"
      ]
     },
     "metadata": {},
     "output_type": "display_data"
    }
   ],
   "source": [
    "year_20_result = merged.groupby('form_pav').agg({'obj_kodas':'count', \n",
    "                         'nuosavas_kapitalas':'mean', \n",
    "                         'pelnas_pries_apmokestinima':'mean', }).apply(round).rename(columns=dict(obj_kodas='count'))\n"
   ]
  },
  {
   "cell_type": "code",
   "execution_count": 104,
   "id": "fd992d9c",
   "metadata": {},
   "outputs": [
    {
     "data": {
      "text/html": [
       "<div>\n",
       "<style scoped>\n",
       "    .dataframe tbody tr th:only-of-type {\n",
       "        vertical-align: middle;\n",
       "    }\n",
       "\n",
       "    .dataframe tbody tr th {\n",
       "        vertical-align: top;\n",
       "    }\n",
       "\n",
       "    .dataframe thead th {\n",
       "        text-align: right;\n",
       "    }\n",
       "</style>\n",
       "<table border=\"1\" class=\"dataframe\">\n",
       "  <thead>\n",
       "    <tr style=\"text-align: right;\">\n",
       "      <th></th>\n",
       "      <th>count</th>\n",
       "      <th>nuosavas_kapitalas</th>\n",
       "      <th>pelnas_pries_apmokestinima</th>\n",
       "    </tr>\n",
       "    <tr>\n",
       "      <th>form_pav</th>\n",
       "      <th></th>\n",
       "      <th></th>\n",
       "      <th></th>\n",
       "    </tr>\n",
       "  </thead>\n",
       "  <tbody>\n",
       "    <tr>\n",
       "      <th>Akcinė bendrovė</th>\n",
       "      <td>234</td>\n",
       "      <td>38071183.0</td>\n",
       "      <td>2949222.0</td>\n",
       "    </tr>\n",
       "    <tr>\n",
       "      <th>Asociacija</th>\n",
       "      <td>1984</td>\n",
       "      <td>15481.0</td>\n",
       "      <td>65.0</td>\n",
       "    </tr>\n",
       "    <tr>\n",
       "      <th>Biudžetinė įstaiga</th>\n",
       "      <td>2</td>\n",
       "      <td>141074.0</td>\n",
       "      <td>16242.0</td>\n",
       "    </tr>\n",
       "    <tr>\n",
       "      <th>Individuali įmonė</th>\n",
       "      <td>562</td>\n",
       "      <td>191930.0</td>\n",
       "      <td>19217.0</td>\n",
       "    </tr>\n",
       "    <tr>\n",
       "      <th>Komanditinė ūkinė bendrija</th>\n",
       "      <td>23</td>\n",
       "      <td>1442068.0</td>\n",
       "      <td>711898.0</td>\n",
       "    </tr>\n",
       "    <tr>\n",
       "      <th>Kooperatinė bendrovė</th>\n",
       "      <td>317</td>\n",
       "      <td>698003.0</td>\n",
       "      <td>36818.0</td>\n",
       "    </tr>\n",
       "    <tr>\n",
       "      <th>Labdaros ir paramos fondas</th>\n",
       "      <td>91</td>\n",
       "      <td>10945.0</td>\n",
       "      <td>141.0</td>\n",
       "    </tr>\n",
       "    <tr>\n",
       "      <th>Lietuvos prekyb.,pramon. rūmų asociacija</th>\n",
       "      <td>1</td>\n",
       "      <td>64491.0</td>\n",
       "      <td>NaN</td>\n",
       "    </tr>\n",
       "    <tr>\n",
       "      <th>Mažoji bendrija</th>\n",
       "      <td>8562</td>\n",
       "      <td>18645.0</td>\n",
       "      <td>7669.0</td>\n",
       "    </tr>\n",
       "    <tr>\n",
       "      <th>Savivaldybės įmonė</th>\n",
       "      <td>18</td>\n",
       "      <td>3891527.0</td>\n",
       "      <td>86824.0</td>\n",
       "    </tr>\n",
       "    <tr>\n",
       "      <th>Tikroji ūkinė bendrija</th>\n",
       "      <td>4</td>\n",
       "      <td>470602.0</td>\n",
       "      <td>-103957.0</td>\n",
       "    </tr>\n",
       "    <tr>\n",
       "      <th>Uždaroji akcinė bendrovė</th>\n",
       "      <td>64401</td>\n",
       "      <td>582191.0</td>\n",
       "      <td>109280.0</td>\n",
       "    </tr>\n",
       "    <tr>\n",
       "      <th>Užsienio juridinio asmens filialas</th>\n",
       "      <td>13</td>\n",
       "      <td>-296372.0</td>\n",
       "      <td>98792.0</td>\n",
       "    </tr>\n",
       "    <tr>\n",
       "      <th>Valstybės įmonė</th>\n",
       "      <td>13</td>\n",
       "      <td>94670868.0</td>\n",
       "      <td>5804726.0</td>\n",
       "    </tr>\n",
       "    <tr>\n",
       "      <th>Viešoji įstaiga</th>\n",
       "      <td>2868</td>\n",
       "      <td>36791.0</td>\n",
       "      <td>9029.0</td>\n",
       "    </tr>\n",
       "    <tr>\n",
       "      <th>Žemės ūkio bendrovė</th>\n",
       "      <td>340</td>\n",
       "      <td>1497443.0</td>\n",
       "      <td>44135.0</td>\n",
       "    </tr>\n",
       "  </tbody>\n",
       "</table>\n",
       "</div>"
      ],
      "text/plain": [
       "                                          count  nuosavas_kapitalas  \\\n",
       "form_pav                                                              \n",
       "Akcinė bendrovė                             234          38071183.0   \n",
       "Asociacija                                 1984             15481.0   \n",
       "Biudžetinė įstaiga                            2            141074.0   \n",
       "Individuali įmonė                           562            191930.0   \n",
       "Komanditinė ūkinė bendrija                   23           1442068.0   \n",
       "Kooperatinė bendrovė                        317            698003.0   \n",
       "Labdaros ir paramos fondas                   91             10945.0   \n",
       "Lietuvos prekyb.,pramon. rūmų asociacija      1             64491.0   \n",
       "Mažoji bendrija                            8562             18645.0   \n",
       "Savivaldybės įmonė                           18           3891527.0   \n",
       "Tikroji ūkinė bendrija                        4            470602.0   \n",
       "Uždaroji akcinė bendrovė                  64401            582191.0   \n",
       "Užsienio juridinio asmens filialas           13           -296372.0   \n",
       "Valstybės įmonė                              13          94670868.0   \n",
       "Viešoji įstaiga                            2868             36791.0   \n",
       "Žemės ūkio bendrovė                         340           1497443.0   \n",
       "\n",
       "                                          pelnas_pries_apmokestinima  \n",
       "form_pav                                                              \n",
       "Akcinė bendrovė                                            2949222.0  \n",
       "Asociacija                                                      65.0  \n",
       "Biudžetinė įstaiga                                           16242.0  \n",
       "Individuali įmonė                                            19217.0  \n",
       "Komanditinė ūkinė bendrija                                  711898.0  \n",
       "Kooperatinė bendrovė                                         36818.0  \n",
       "Labdaros ir paramos fondas                                     141.0  \n",
       "Lietuvos prekyb.,pramon. rūmų asociacija                         NaN  \n",
       "Mažoji bendrija                                               7669.0  \n",
       "Savivaldybės įmonė                                           86824.0  \n",
       "Tikroji ūkinė bendrija                                     -103957.0  \n",
       "Uždaroji akcinė bendrovė                                    109280.0  \n",
       "Užsienio juridinio asmens filialas                           98792.0  \n",
       "Valstybės įmonė                                            5804726.0  \n",
       "Viešoji įstaiga                                               9029.0  \n",
       "Žemės ūkio bendrovė                                          44135.0  "
      ]
     },
     "execution_count": 104,
     "metadata": {},
     "output_type": "execute_result"
    },
    {
     "data": {
      "application/javascript": [
       "\n",
       "            setTimeout(function() {\n",
       "                var nbb_cell_id = 104;\n",
       "                var nbb_unformatted_code = \"year_20_result\";\n",
       "                var nbb_formatted_code = \"year_20_result\";\n",
       "                var nbb_cells = Jupyter.notebook.get_cells();\n",
       "                for (var i = 0; i < nbb_cells.length; ++i) {\n",
       "                    if (nbb_cells[i].input_prompt_number == nbb_cell_id) {\n",
       "                        if (nbb_cells[i].get_text() == nbb_unformatted_code) {\n",
       "                             nbb_cells[i].set_text(nbb_formatted_code);\n",
       "                        }\n",
       "                        break;\n",
       "                    }\n",
       "                }\n",
       "            }, 500);\n",
       "            "
      ],
      "text/plain": [
       "<IPython.core.display.Javascript object>"
      ]
     },
     "metadata": {},
     "output_type": "display_data"
    }
   ],
   "source": [
    "year_20_result"
   ]
  },
  {
   "cell_type": "code",
   "execution_count": 109,
   "id": "6c8764a1",
   "metadata": {},
   "outputs": [
    {
     "data": {
      "application/javascript": [
       "\n",
       "            setTimeout(function() {\n",
       "                var nbb_cell_id = 109;\n",
       "                var nbb_unformatted_code = \"## year 2021 \";\n",
       "                var nbb_formatted_code = \"## year 2021\";\n",
       "                var nbb_cells = Jupyter.notebook.get_cells();\n",
       "                for (var i = 0; i < nbb_cells.length; ++i) {\n",
       "                    if (nbb_cells[i].input_prompt_number == nbb_cell_id) {\n",
       "                        if (nbb_cells[i].get_text() == nbb_unformatted_code) {\n",
       "                             nbb_cells[i].set_text(nbb_formatted_code);\n",
       "                        }\n",
       "                        break;\n",
       "                    }\n",
       "                }\n",
       "            }, 500);\n",
       "            "
      ],
      "text/plain": [
       "<IPython.core.display.Javascript object>"
      ]
     },
     "metadata": {},
     "output_type": "display_data"
    }
   ],
   "source": [
    "## year 2021"
   ]
  },
  {
   "cell_type": "code",
   "execution_count": 110,
   "id": "e39f44f8",
   "metadata": {},
   "outputs": [
    {
     "data": {
      "text/plain": [
       "((9191, 2), (8185, 3), 9191, 8185)"
      ]
     },
     "execution_count": 110,
     "metadata": {},
     "output_type": "execute_result"
    },
    {
     "data": {
      "application/javascript": [
       "\n",
       "            setTimeout(function() {\n",
       "                var nbb_cell_id = 110;\n",
       "                var nbb_unformatted_code = \"nuosavas_kapitalas = balance_21[balance_21.laikotarpis_nuo == \\\"2019-01-01\\\"][\\n    [\\\"obj_kodas\\\", \\\"nuosavas_kapitalas\\\"]\\n]\\npelnas_pries_apmokestinima = pl_21[pl_21.laikotarpis_nuo == \\\"2019-01-01\\\"][\\n    [\\\"obj_kodas\\\", \\\"form_pav\\\", \\\"pelnas_pries_apmokestinima\\\"]\\n]\\n## check for duplicates.\\nnuosavas_kapitalas.shape, pelnas_pries_apmokestinima.shape, len(\\n    set(nuosavas_kapitalas.obj_kodas)\\n), len(set(pelnas_pries_apmokestinima.obj_kodas))\\n#  No duplicates!!\";\n",
       "                var nbb_formatted_code = \"nuosavas_kapitalas = balance_21[balance_21.laikotarpis_nuo == \\\"2019-01-01\\\"][\\n    [\\\"obj_kodas\\\", \\\"nuosavas_kapitalas\\\"]\\n]\\npelnas_pries_apmokestinima = pl_21[pl_21.laikotarpis_nuo == \\\"2019-01-01\\\"][\\n    [\\\"obj_kodas\\\", \\\"form_pav\\\", \\\"pelnas_pries_apmokestinima\\\"]\\n]\\n## check for duplicates.\\nnuosavas_kapitalas.shape, pelnas_pries_apmokestinima.shape, len(\\n    set(nuosavas_kapitalas.obj_kodas)\\n), len(set(pelnas_pries_apmokestinima.obj_kodas))\\n#  No duplicates!!\";\n",
       "                var nbb_cells = Jupyter.notebook.get_cells();\n",
       "                for (var i = 0; i < nbb_cells.length; ++i) {\n",
       "                    if (nbb_cells[i].input_prompt_number == nbb_cell_id) {\n",
       "                        if (nbb_cells[i].get_text() == nbb_unformatted_code) {\n",
       "                             nbb_cells[i].set_text(nbb_formatted_code);\n",
       "                        }\n",
       "                        break;\n",
       "                    }\n",
       "                }\n",
       "            }, 500);\n",
       "            "
      ],
      "text/plain": [
       "<IPython.core.display.Javascript object>"
      ]
     },
     "metadata": {},
     "output_type": "display_data"
    }
   ],
   "source": [
    "nuosavas_kapitalas = balance_21[balance_21.laikotarpis_nuo == \"2019-01-01\"][\n",
    "    [\"obj_kodas\", \"nuosavas_kapitalas\"]\n",
    "]\n",
    "pelnas_pries_apmokestinima = pl_21[pl_21.laikotarpis_nuo == \"2019-01-01\"][\n",
    "    [\"obj_kodas\", \"form_pav\", \"pelnas_pries_apmokestinima\"]\n",
    "]\n",
    "## check for duplicates.\n",
    "nuosavas_kapitalas.shape, pelnas_pries_apmokestinima.shape, len(\n",
    "    set(nuosavas_kapitalas.obj_kodas)\n",
    "), len(set(pelnas_pries_apmokestinima.obj_kodas))\n",
    "#  No duplicates!!"
   ]
  },
  {
   "cell_type": "code",
   "execution_count": 107,
   "id": "c4d237f2",
   "metadata": {},
   "outputs": [
    {
     "data": {
      "application/javascript": [
       "\n",
       "            setTimeout(function() {\n",
       "                var nbb_cell_id = 107;\n",
       "                var nbb_unformatted_code = \"merged = nuosavas_kapitalas.merge(\\n    pelnas_pries_apmokestinima, on=\\\"obj_kodas\\\", how=\\\"inner\\\"\\n)\\nyear_21_result = merged.groupby('form_pav').agg({'obj_kodas':'count', \\n                         'nuosavas_kapitalas':'mean', \\n                         'pelnas_pries_apmokestinima':'mean', }).apply(round).rename(columns=dict(obj_kodas='count'))\";\n",
       "                var nbb_formatted_code = \"merged = nuosavas_kapitalas.merge(\\n    pelnas_pries_apmokestinima, on=\\\"obj_kodas\\\", how=\\\"inner\\\"\\n)\\nyear_21_result = (\\n    merged.groupby(\\\"form_pav\\\")\\n    .agg(\\n        {\\n            \\\"obj_kodas\\\": \\\"count\\\",\\n            \\\"nuosavas_kapitalas\\\": \\\"mean\\\",\\n            \\\"pelnas_pries_apmokestinima\\\": \\\"mean\\\",\\n        }\\n    )\\n    .apply(round)\\n    .rename(columns=dict(obj_kodas=\\\"count\\\"))\\n)\";\n",
       "                var nbb_cells = Jupyter.notebook.get_cells();\n",
       "                for (var i = 0; i < nbb_cells.length; ++i) {\n",
       "                    if (nbb_cells[i].input_prompt_number == nbb_cell_id) {\n",
       "                        if (nbb_cells[i].get_text() == nbb_unformatted_code) {\n",
       "                             nbb_cells[i].set_text(nbb_formatted_code);\n",
       "                        }\n",
       "                        break;\n",
       "                    }\n",
       "                }\n",
       "            }, 500);\n",
       "            "
      ],
      "text/plain": [
       "<IPython.core.display.Javascript object>"
      ]
     },
     "metadata": {},
     "output_type": "display_data"
    }
   ],
   "source": [
    "merged = nuosavas_kapitalas.merge(\n",
    "    pelnas_pries_apmokestinima, on=\"obj_kodas\", how=\"inner\"\n",
    ")\n",
    "year_21_result = merged.groupby('form_pav').agg({'obj_kodas':'count', \n",
    "                         'nuosavas_kapitalas':'mean', \n",
    "                         'pelnas_pries_apmokestinima':'mean', }).apply(round).rename(columns=dict(obj_kodas='count'))\n"
   ]
  },
  {
   "cell_type": "code",
   "execution_count": 108,
   "id": "e2b09c4d",
   "metadata": {},
   "outputs": [
    {
     "data": {
      "text/html": [
       "<div>\n",
       "<style scoped>\n",
       "    .dataframe tbody tr th:only-of-type {\n",
       "        vertical-align: middle;\n",
       "    }\n",
       "\n",
       "    .dataframe tbody tr th {\n",
       "        vertical-align: top;\n",
       "    }\n",
       "\n",
       "    .dataframe thead th {\n",
       "        text-align: right;\n",
       "    }\n",
       "</style>\n",
       "<table border=\"1\" class=\"dataframe\">\n",
       "  <thead>\n",
       "    <tr style=\"text-align: right;\">\n",
       "      <th></th>\n",
       "      <th>count</th>\n",
       "      <th>nuosavas_kapitalas</th>\n",
       "      <th>pelnas_pries_apmokestinima</th>\n",
       "    </tr>\n",
       "    <tr>\n",
       "      <th>form_pav</th>\n",
       "      <th></th>\n",
       "      <th></th>\n",
       "      <th></th>\n",
       "    </tr>\n",
       "  </thead>\n",
       "  <tbody>\n",
       "    <tr>\n",
       "      <th>Akcinė bendrovė</th>\n",
       "      <td>3</td>\n",
       "      <td>2015392.0</td>\n",
       "      <td>187988.0</td>\n",
       "    </tr>\n",
       "    <tr>\n",
       "      <th>Asociacija</th>\n",
       "      <td>240</td>\n",
       "      <td>866620.0</td>\n",
       "      <td>-145.0</td>\n",
       "    </tr>\n",
       "    <tr>\n",
       "      <th>Individuali įmonė</th>\n",
       "      <td>719</td>\n",
       "      <td>60998.0</td>\n",
       "      <td>13395.0</td>\n",
       "    </tr>\n",
       "    <tr>\n",
       "      <th>Komanditinė ūkinė bendrija</th>\n",
       "      <td>7</td>\n",
       "      <td>7443434.0</td>\n",
       "      <td>250916.0</td>\n",
       "    </tr>\n",
       "    <tr>\n",
       "      <th>Kooperatinė bendrovė</th>\n",
       "      <td>18</td>\n",
       "      <td>-136089.0</td>\n",
       "      <td>-64649.0</td>\n",
       "    </tr>\n",
       "    <tr>\n",
       "      <th>Labdaros ir paramos fondas</th>\n",
       "      <td>13</td>\n",
       "      <td>-15291.0</td>\n",
       "      <td>7476.0</td>\n",
       "    </tr>\n",
       "    <tr>\n",
       "      <th>Mažoji bendrija</th>\n",
       "      <td>1224</td>\n",
       "      <td>12777.0</td>\n",
       "      <td>4451.0</td>\n",
       "    </tr>\n",
       "    <tr>\n",
       "      <th>Savivaldybės įmonė</th>\n",
       "      <td>1</td>\n",
       "      <td>2939980.0</td>\n",
       "      <td>-65242.0</td>\n",
       "    </tr>\n",
       "    <tr>\n",
       "      <th>Tikroji ūkinė bendrija</th>\n",
       "      <td>8</td>\n",
       "      <td>307520.0</td>\n",
       "      <td>19271.0</td>\n",
       "    </tr>\n",
       "    <tr>\n",
       "      <th>Uždaroji akcinė bendrovė</th>\n",
       "      <td>5538</td>\n",
       "      <td>120752.0</td>\n",
       "      <td>8844.0</td>\n",
       "    </tr>\n",
       "    <tr>\n",
       "      <th>Užsienio juridinio asmens filialas</th>\n",
       "      <td>2</td>\n",
       "      <td>864.0</td>\n",
       "      <td>-70175.0</td>\n",
       "    </tr>\n",
       "    <tr>\n",
       "      <th>Valstybės įmonė</th>\n",
       "      <td>1</td>\n",
       "      <td>4369323.0</td>\n",
       "      <td>-541482.0</td>\n",
       "    </tr>\n",
       "    <tr>\n",
       "      <th>Viešoji įstaiga</th>\n",
       "      <td>381</td>\n",
       "      <td>23551.0</td>\n",
       "      <td>-4440.0</td>\n",
       "    </tr>\n",
       "    <tr>\n",
       "      <th>Žemės ūkio bendrovė</th>\n",
       "      <td>30</td>\n",
       "      <td>745970.0</td>\n",
       "      <td>47901.0</td>\n",
       "    </tr>\n",
       "  </tbody>\n",
       "</table>\n",
       "</div>"
      ],
      "text/plain": [
       "                                    count  nuosavas_kapitalas  \\\n",
       "form_pav                                                        \n",
       "Akcinė bendrovė                         3           2015392.0   \n",
       "Asociacija                            240            866620.0   \n",
       "Individuali įmonė                     719             60998.0   \n",
       "Komanditinė ūkinė bendrija              7           7443434.0   \n",
       "Kooperatinė bendrovė                   18           -136089.0   \n",
       "Labdaros ir paramos fondas             13            -15291.0   \n",
       "Mažoji bendrija                      1224             12777.0   \n",
       "Savivaldybės įmonė                      1           2939980.0   \n",
       "Tikroji ūkinė bendrija                  8            307520.0   \n",
       "Uždaroji akcinė bendrovė             5538            120752.0   \n",
       "Užsienio juridinio asmens filialas      2               864.0   \n",
       "Valstybės įmonė                         1           4369323.0   \n",
       "Viešoji įstaiga                       381             23551.0   \n",
       "Žemės ūkio bendrovė                    30            745970.0   \n",
       "\n",
       "                                    pelnas_pries_apmokestinima  \n",
       "form_pav                                                        \n",
       "Akcinė bendrovė                                       187988.0  \n",
       "Asociacija                                              -145.0  \n",
       "Individuali įmonė                                      13395.0  \n",
       "Komanditinė ūkinė bendrija                            250916.0  \n",
       "Kooperatinė bendrovė                                  -64649.0  \n",
       "Labdaros ir paramos fondas                              7476.0  \n",
       "Mažoji bendrija                                         4451.0  \n",
       "Savivaldybės įmonė                                    -65242.0  \n",
       "Tikroji ūkinė bendrija                                 19271.0  \n",
       "Uždaroji akcinė bendrovė                                8844.0  \n",
       "Užsienio juridinio asmens filialas                    -70175.0  \n",
       "Valstybės įmonė                                      -541482.0  \n",
       "Viešoji įstaiga                                        -4440.0  \n",
       "Žemės ūkio bendrovė                                    47901.0  "
      ]
     },
     "execution_count": 108,
     "metadata": {},
     "output_type": "execute_result"
    },
    {
     "data": {
      "application/javascript": [
       "\n",
       "            setTimeout(function() {\n",
       "                var nbb_cell_id = 108;\n",
       "                var nbb_unformatted_code = \"year_21_result\";\n",
       "                var nbb_formatted_code = \"year_21_result\";\n",
       "                var nbb_cells = Jupyter.notebook.get_cells();\n",
       "                for (var i = 0; i < nbb_cells.length; ++i) {\n",
       "                    if (nbb_cells[i].input_prompt_number == nbb_cell_id) {\n",
       "                        if (nbb_cells[i].get_text() == nbb_unformatted_code) {\n",
       "                             nbb_cells[i].set_text(nbb_formatted_code);\n",
       "                        }\n",
       "                        break;\n",
       "                    }\n",
       "                }\n",
       "            }, 500);\n",
       "            "
      ],
      "text/plain": [
       "<IPython.core.display.Javascript object>"
      ]
     },
     "metadata": {},
     "output_type": "display_data"
    }
   ],
   "source": [
    "year_21_result"
   ]
  },
  {
   "cell_type": "code",
   "execution_count": null,
   "id": "80bc0cfa",
   "metadata": {},
   "outputs": [],
   "source": [
    "## additional task -> write a function do not repeat the code. "
   ]
  },
  {
   "cell_type": "code",
   "execution_count": null,
   "id": "2e05f37d",
   "metadata": {},
   "outputs": [],
   "source": [
    "## additional tasks\n",
    "# 1. add to a single table that holds hieararchical structure. "
   ]
  },
  {
   "cell_type": "code",
   "execution_count": 118,
   "id": "dc128576",
   "metadata": {},
   "outputs": [
    {
     "data": {
      "application/javascript": [
       "\n",
       "            setTimeout(function() {\n",
       "                var nbb_cell_id = 118;\n",
       "                var nbb_unformatted_code = \"merged_result = pd.concat({\\\"2020\\\": year_20_result, \\\"2021\\\": year_21_result}, axis=1)\";\n",
       "                var nbb_formatted_code = \"merged_result = pd.concat({\\\"2020\\\": year_20_result, \\\"2021\\\": year_21_result}, axis=1)\";\n",
       "                var nbb_cells = Jupyter.notebook.get_cells();\n",
       "                for (var i = 0; i < nbb_cells.length; ++i) {\n",
       "                    if (nbb_cells[i].input_prompt_number == nbb_cell_id) {\n",
       "                        if (nbb_cells[i].get_text() == nbb_unformatted_code) {\n",
       "                             nbb_cells[i].set_text(nbb_formatted_code);\n",
       "                        }\n",
       "                        break;\n",
       "                    }\n",
       "                }\n",
       "            }, 500);\n",
       "            "
      ],
      "text/plain": [
       "<IPython.core.display.Javascript object>"
      ]
     },
     "metadata": {},
     "output_type": "display_data"
    }
   ],
   "source": [
    "merged_result = pd.concat({\"2020\": year_20_result, \"2021\": year_21_result}, axis=1)"
   ]
  },
  {
   "cell_type": "code",
   "execution_count": 123,
   "id": "950a821e",
   "metadata": {},
   "outputs": [
    {
     "data": {
      "text/html": [
       "<div>\n",
       "<style scoped>\n",
       "    .dataframe tbody tr th:only-of-type {\n",
       "        vertical-align: middle;\n",
       "    }\n",
       "\n",
       "    .dataframe tbody tr th {\n",
       "        vertical-align: top;\n",
       "    }\n",
       "\n",
       "    .dataframe thead tr th {\n",
       "        text-align: left;\n",
       "    }\n",
       "\n",
       "    .dataframe thead tr:last-of-type th {\n",
       "        text-align: right;\n",
       "    }\n",
       "</style>\n",
       "<table border=\"1\" class=\"dataframe\">\n",
       "  <thead>\n",
       "    <tr>\n",
       "      <th></th>\n",
       "      <th colspan=\"3\" halign=\"left\">2020</th>\n",
       "      <th colspan=\"3\" halign=\"left\">2021</th>\n",
       "    </tr>\n",
       "    <tr>\n",
       "      <th></th>\n",
       "      <th>count</th>\n",
       "      <th>nuosavas_kapitalas</th>\n",
       "      <th>pelnas_pries_apmokestinima</th>\n",
       "      <th>count</th>\n",
       "      <th>nuosavas_kapitalas</th>\n",
       "      <th>pelnas_pries_apmokestinima</th>\n",
       "    </tr>\n",
       "    <tr>\n",
       "      <th>form_pav</th>\n",
       "      <th></th>\n",
       "      <th></th>\n",
       "      <th></th>\n",
       "      <th></th>\n",
       "      <th></th>\n",
       "      <th></th>\n",
       "    </tr>\n",
       "  </thead>\n",
       "  <tbody>\n",
       "    <tr>\n",
       "      <th>Akcinė bendrovė</th>\n",
       "      <td>234</td>\n",
       "      <td>38071183.0</td>\n",
       "      <td>2949222.0</td>\n",
       "      <td>3.0</td>\n",
       "      <td>2015392.0</td>\n",
       "      <td>187988.0</td>\n",
       "    </tr>\n",
       "    <tr>\n",
       "      <th>Asociacija</th>\n",
       "      <td>1984</td>\n",
       "      <td>15481.0</td>\n",
       "      <td>65.0</td>\n",
       "      <td>240.0</td>\n",
       "      <td>866620.0</td>\n",
       "      <td>-145.0</td>\n",
       "    </tr>\n",
       "    <tr>\n",
       "      <th>Biudžetinė įstaiga</th>\n",
       "      <td>2</td>\n",
       "      <td>141074.0</td>\n",
       "      <td>16242.0</td>\n",
       "      <td>NaN</td>\n",
       "      <td>NaN</td>\n",
       "      <td>NaN</td>\n",
       "    </tr>\n",
       "    <tr>\n",
       "      <th>Individuali įmonė</th>\n",
       "      <td>562</td>\n",
       "      <td>191930.0</td>\n",
       "      <td>19217.0</td>\n",
       "      <td>719.0</td>\n",
       "      <td>60998.0</td>\n",
       "      <td>13395.0</td>\n",
       "    </tr>\n",
       "    <tr>\n",
       "      <th>Komanditinė ūkinė bendrija</th>\n",
       "      <td>23</td>\n",
       "      <td>1442068.0</td>\n",
       "      <td>711898.0</td>\n",
       "      <td>7.0</td>\n",
       "      <td>7443434.0</td>\n",
       "      <td>250916.0</td>\n",
       "    </tr>\n",
       "    <tr>\n",
       "      <th>Kooperatinė bendrovė</th>\n",
       "      <td>317</td>\n",
       "      <td>698003.0</td>\n",
       "      <td>36818.0</td>\n",
       "      <td>18.0</td>\n",
       "      <td>-136089.0</td>\n",
       "      <td>-64649.0</td>\n",
       "    </tr>\n",
       "    <tr>\n",
       "      <th>Labdaros ir paramos fondas</th>\n",
       "      <td>91</td>\n",
       "      <td>10945.0</td>\n",
       "      <td>141.0</td>\n",
       "      <td>13.0</td>\n",
       "      <td>-15291.0</td>\n",
       "      <td>7476.0</td>\n",
       "    </tr>\n",
       "    <tr>\n",
       "      <th>Lietuvos prekyb.,pramon. rūmų asociacija</th>\n",
       "      <td>1</td>\n",
       "      <td>64491.0</td>\n",
       "      <td>NaN</td>\n",
       "      <td>NaN</td>\n",
       "      <td>NaN</td>\n",
       "      <td>NaN</td>\n",
       "    </tr>\n",
       "    <tr>\n",
       "      <th>Mažoji bendrija</th>\n",
       "      <td>8562</td>\n",
       "      <td>18645.0</td>\n",
       "      <td>7669.0</td>\n",
       "      <td>1224.0</td>\n",
       "      <td>12777.0</td>\n",
       "      <td>4451.0</td>\n",
       "    </tr>\n",
       "    <tr>\n",
       "      <th>Savivaldybės įmonė</th>\n",
       "      <td>18</td>\n",
       "      <td>3891527.0</td>\n",
       "      <td>86824.0</td>\n",
       "      <td>1.0</td>\n",
       "      <td>2939980.0</td>\n",
       "      <td>-65242.0</td>\n",
       "    </tr>\n",
       "    <tr>\n",
       "      <th>Tikroji ūkinė bendrija</th>\n",
       "      <td>4</td>\n",
       "      <td>470602.0</td>\n",
       "      <td>-103957.0</td>\n",
       "      <td>8.0</td>\n",
       "      <td>307520.0</td>\n",
       "      <td>19271.0</td>\n",
       "    </tr>\n",
       "    <tr>\n",
       "      <th>Uždaroji akcinė bendrovė</th>\n",
       "      <td>64401</td>\n",
       "      <td>582191.0</td>\n",
       "      <td>109280.0</td>\n",
       "      <td>5538.0</td>\n",
       "      <td>120752.0</td>\n",
       "      <td>8844.0</td>\n",
       "    </tr>\n",
       "    <tr>\n",
       "      <th>Užsienio juridinio asmens filialas</th>\n",
       "      <td>13</td>\n",
       "      <td>-296372.0</td>\n",
       "      <td>98792.0</td>\n",
       "      <td>2.0</td>\n",
       "      <td>864.0</td>\n",
       "      <td>-70175.0</td>\n",
       "    </tr>\n",
       "    <tr>\n",
       "      <th>Valstybės įmonė</th>\n",
       "      <td>13</td>\n",
       "      <td>94670868.0</td>\n",
       "      <td>5804726.0</td>\n",
       "      <td>1.0</td>\n",
       "      <td>4369323.0</td>\n",
       "      <td>-541482.0</td>\n",
       "    </tr>\n",
       "    <tr>\n",
       "      <th>Viešoji įstaiga</th>\n",
       "      <td>2868</td>\n",
       "      <td>36791.0</td>\n",
       "      <td>9029.0</td>\n",
       "      <td>381.0</td>\n",
       "      <td>23551.0</td>\n",
       "      <td>-4440.0</td>\n",
       "    </tr>\n",
       "    <tr>\n",
       "      <th>Žemės ūkio bendrovė</th>\n",
       "      <td>340</td>\n",
       "      <td>1497443.0</td>\n",
       "      <td>44135.0</td>\n",
       "      <td>30.0</td>\n",
       "      <td>745970.0</td>\n",
       "      <td>47901.0</td>\n",
       "    </tr>\n",
       "  </tbody>\n",
       "</table>\n",
       "</div>"
      ],
      "text/plain": [
       "                                           2020                     \\\n",
       "                                          count nuosavas_kapitalas   \n",
       "form_pav                                                             \n",
       "Akcinė bendrovė                             234         38071183.0   \n",
       "Asociacija                                 1984            15481.0   \n",
       "Biudžetinė įstaiga                            2           141074.0   \n",
       "Individuali įmonė                           562           191930.0   \n",
       "Komanditinė ūkinė bendrija                   23          1442068.0   \n",
       "Kooperatinė bendrovė                        317           698003.0   \n",
       "Labdaros ir paramos fondas                   91            10945.0   \n",
       "Lietuvos prekyb.,pramon. rūmų asociacija      1            64491.0   \n",
       "Mažoji bendrija                            8562            18645.0   \n",
       "Savivaldybės įmonė                           18          3891527.0   \n",
       "Tikroji ūkinė bendrija                        4           470602.0   \n",
       "Uždaroji akcinė bendrovė                  64401           582191.0   \n",
       "Užsienio juridinio asmens filialas           13          -296372.0   \n",
       "Valstybės įmonė                              13         94670868.0   \n",
       "Viešoji įstaiga                            2868            36791.0   \n",
       "Žemės ūkio bendrovė                         340          1497443.0   \n",
       "\n",
       "                                                                       2021  \\\n",
       "                                         pelnas_pries_apmokestinima   count   \n",
       "form_pav                                                                      \n",
       "Akcinė bendrovė                                           2949222.0     3.0   \n",
       "Asociacija                                                     65.0   240.0   \n",
       "Biudžetinė įstaiga                                          16242.0     NaN   \n",
       "Individuali įmonė                                           19217.0   719.0   \n",
       "Komanditinė ūkinė bendrija                                 711898.0     7.0   \n",
       "Kooperatinė bendrovė                                        36818.0    18.0   \n",
       "Labdaros ir paramos fondas                                    141.0    13.0   \n",
       "Lietuvos prekyb.,pramon. rūmų asociacija                        NaN     NaN   \n",
       "Mažoji bendrija                                              7669.0  1224.0   \n",
       "Savivaldybės įmonė                                          86824.0     1.0   \n",
       "Tikroji ūkinė bendrija                                    -103957.0     8.0   \n",
       "Uždaroji akcinė bendrovė                                   109280.0  5538.0   \n",
       "Užsienio juridinio asmens filialas                          98792.0     2.0   \n",
       "Valstybės įmonė                                           5804726.0     1.0   \n",
       "Viešoji įstaiga                                              9029.0   381.0   \n",
       "Žemės ūkio bendrovė                                         44135.0    30.0   \n",
       "\n",
       "                                                             \\\n",
       "                                         nuosavas_kapitalas   \n",
       "form_pav                                                      \n",
       "Akcinė bendrovė                                   2015392.0   \n",
       "Asociacija                                         866620.0   \n",
       "Biudžetinė įstaiga                                      NaN   \n",
       "Individuali įmonė                                   60998.0   \n",
       "Komanditinė ūkinė bendrija                        7443434.0   \n",
       "Kooperatinė bendrovė                              -136089.0   \n",
       "Labdaros ir paramos fondas                         -15291.0   \n",
       "Lietuvos prekyb.,pramon. rūmų asociacija                NaN   \n",
       "Mažoji bendrija                                     12777.0   \n",
       "Savivaldybės įmonė                                2939980.0   \n",
       "Tikroji ūkinė bendrija                             307520.0   \n",
       "Uždaroji akcinė bendrovė                           120752.0   \n",
       "Užsienio juridinio asmens filialas                    864.0   \n",
       "Valstybės įmonė                                   4369323.0   \n",
       "Viešoji įstaiga                                     23551.0   \n",
       "Žemės ūkio bendrovė                                745970.0   \n",
       "\n",
       "                                                                     \n",
       "                                         pelnas_pries_apmokestinima  \n",
       "form_pav                                                             \n",
       "Akcinė bendrovė                                            187988.0  \n",
       "Asociacija                                                   -145.0  \n",
       "Biudžetinė įstaiga                                              NaN  \n",
       "Individuali įmonė                                           13395.0  \n",
       "Komanditinė ūkinė bendrija                                 250916.0  \n",
       "Kooperatinė bendrovė                                       -64649.0  \n",
       "Labdaros ir paramos fondas                                   7476.0  \n",
       "Lietuvos prekyb.,pramon. rūmų asociacija                        NaN  \n",
       "Mažoji bendrija                                              4451.0  \n",
       "Savivaldybės įmonė                                         -65242.0  \n",
       "Tikroji ūkinė bendrija                                      19271.0  \n",
       "Uždaroji akcinė bendrovė                                     8844.0  \n",
       "Užsienio juridinio asmens filialas                         -70175.0  \n",
       "Valstybės įmonė                                           -541482.0  \n",
       "Viešoji įstaiga                                             -4440.0  \n",
       "Žemės ūkio bendrovė                                         47901.0  "
      ]
     },
     "execution_count": 123,
     "metadata": {},
     "output_type": "execute_result"
    },
    {
     "data": {
      "application/javascript": [
       "\n",
       "            setTimeout(function() {\n",
       "                var nbb_cell_id = 123;\n",
       "                var nbb_unformatted_code = \"merged_result\";\n",
       "                var nbb_formatted_code = \"merged_result\";\n",
       "                var nbb_cells = Jupyter.notebook.get_cells();\n",
       "                for (var i = 0; i < nbb_cells.length; ++i) {\n",
       "                    if (nbb_cells[i].input_prompt_number == nbb_cell_id) {\n",
       "                        if (nbb_cells[i].get_text() == nbb_unformatted_code) {\n",
       "                             nbb_cells[i].set_text(nbb_formatted_code);\n",
       "                        }\n",
       "                        break;\n",
       "                    }\n",
       "                }\n",
       "            }, 500);\n",
       "            "
      ],
      "text/plain": [
       "<IPython.core.display.Javascript object>"
      ]
     },
     "metadata": {},
     "output_type": "display_data"
    }
   ],
   "source": [
    "merged_result"
   ]
  },
  {
   "cell_type": "markdown",
   "id": "7395e2aa",
   "metadata": {},
   "source": [
    "# 3\n",
    "Atrinkti įmones, kurių “nuosavas_kapitalas” buvo didesnis negu nuosavo kapitalo mediana 2020 ir 2021 metais."
   ]
  },
  {
   "cell_type": "code",
   "execution_count": null,
   "id": "a0d84059",
   "metadata": {},
   "outputs": [],
   "source": []
  }
 ],
 "metadata": {
  "kernelspec": {
   "display_name": "Python 3 (ipykernel)",
   "language": "python",
   "name": "python3"
  },
  "language_info": {
   "codemirror_mode": {
    "name": "ipython",
    "version": 3
   },
   "file_extension": ".py",
   "mimetype": "text/x-python",
   "name": "python",
   "nbconvert_exporter": "python",
   "pygments_lexer": "ipython3",
   "version": "3.9.2"
  }
 },
 "nbformat": 4,
 "nbformat_minor": 5
}
