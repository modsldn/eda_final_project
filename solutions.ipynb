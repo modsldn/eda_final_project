{
 "cells": [
  {
   "cell_type": "code",
   "execution_count": 1,
   "id": "76f8b42b",
   "metadata": {},
   "outputs": [
    {
     "data": {
      "text/html": [
       "<style>.container { width:90% !important; }</style>"
      ],
      "text/plain": [
       "<IPython.core.display.HTML object>"
      ]
     },
     "metadata": {},
     "output_type": "display_data"
    }
   ],
   "source": [
    "from IPython.display import display, HTML\n",
    "display(HTML(\"<style>.container { width:90% !important; }</style>\"))"
   ]
  },
  {
   "cell_type": "code",
   "execution_count": 2,
   "id": "e506b364",
   "metadata": {},
   "outputs": [
    {
     "data": {
      "application/javascript": [
       "\n",
       "            setTimeout(function() {\n",
       "                var nbb_cell_id = 2;\n",
       "                var nbb_unformatted_code = \"%load_ext nb_black\";\n",
       "                var nbb_formatted_code = \"%load_ext nb_black\";\n",
       "                var nbb_cells = Jupyter.notebook.get_cells();\n",
       "                for (var i = 0; i < nbb_cells.length; ++i) {\n",
       "                    if (nbb_cells[i].input_prompt_number == nbb_cell_id) {\n",
       "                        if (nbb_cells[i].get_text() == nbb_unformatted_code) {\n",
       "                             nbb_cells[i].set_text(nbb_formatted_code);\n",
       "                        }\n",
       "                        break;\n",
       "                    }\n",
       "                }\n",
       "            }, 500);\n",
       "            "
      ],
      "text/plain": [
       "<IPython.core.display.Javascript object>"
      ]
     },
     "metadata": {},
     "output_type": "display_data"
    }
   ],
   "source": [
    "%load_ext nb_black"
   ]
  },
  {
   "cell_type": "markdown",
   "id": "f882d813",
   "metadata": {},
   "source": [
    "# eda_final_project\n",
    "\n",
    "## Duomenys\n",
    "\n",
    "Duomenų šaltinis https://www.registrucentras.lt/p/1094. \n",
    "\n",
    "1. Parsisiųsti 2020 ir 2021 įmonių “Juridinių asmenų pateikti finansinės atskaitomybės dokumentai – balanso ataskaitos” ir “Juridinių asmenų pateikti finansinės atskaitomybės dokumentai – pelno (nuostolių) ataskaitos” duomenis. \n",
    "\n",
    "1. Apskaičiuoti vidutinias reikšmes “pelnas_pries_apmokestinima” ir “nuosavas_kapitalas” laukų kiekvienai juridinio asmens formai (Uždaroji akcinė bendrovė, Mažoji bendrija, etc.) už visą laikotarpį. \n",
    "\n",
    "2. Atrinkti įmones, kurių “nuosavas_kapitalas” buvo didesnis negu nuosavo kapitalo mediana 2020 ir 2021 metais.  \n",
    "\n",
    "3. Atvaizduoti juridinių asmenų formos ir statuso pasiskirstymą kiekvienais metais. \n",
    "\n",
    "4. Kiekvienai įmonei apskaičiuoti tendenciją. Jei “grynasis_pelnas” + “nuosavas_kapitalas” 2021 metais buvo didesnis už 2020 metais deklaruotą, tai tendencija “teigiama”, jei ne - “neigiama”. Atvaizduoti tendencijos duomenis grafiškai. \n",
    "\n",
    "5. Surasti įmones, kurios 2020 vykdė veiklą, o 2021 - bankrutavo. Bankrutavusių įmonių statusai: “Bankrutavęs”, “Bankrutuojantis”, “Išregistruotas”, “Inicijuojamas likvidavimas”, “Likviduojamas”, “Likviduojamas dėl bankroto”. Kokia bankrutavusių įmonių “nuosavas_kapitalas” suma ir “grynasis_pelnas” suma 2021 metais? Palyginti šias sumas su veikiančių įmonių atitinkamomis sumomis. \n",
    "\n",
    "6. Sukurti naują stulpelį “turtas”, kuris skaičiuojamas sudedant “trumpalaikis_turtas” ir “ilgalaikis_turtas”. \n",
    "\n",
    "7. Suskirstyti įmones į 5 grupes pagal lauką “turtas”. Palyginti kaip šios grupės keičiasi 2020 ir 2021 metais. Palyginimą atvaizduoti grafiškai. \n",
    "\n",
    "8. Surasti top100 pelningiausias įmones pagal “grynasis pelnas” ir top100 įmones kurių “nuosavas kapitalas” didžiausias. Ar yra sutampančių įmonių šiuose sąrašuose? Skaičiuojant topus imti viso laikotarpio įmones. \n",
    "\n",
    "9. Ar topai iš 9 užduoties skiriasi 2020 ir 2021 metais? Kurios įmonės iškrenta iš topų 2021 metais? "
   ]
  },
  {
   "cell_type": "code",
   "execution_count": 183,
   "id": "faf97a08",
   "metadata": {},
   "outputs": [
    {
     "data": {
      "application/javascript": [
       "\n",
       "            setTimeout(function() {\n",
       "                var nbb_cell_id = 183;\n",
       "                var nbb_unformatted_code = \"import pandas as pd\\nimport numpy as np\";\n",
       "                var nbb_formatted_code = \"import pandas as pd\\nimport numpy as np\";\n",
       "                var nbb_cells = Jupyter.notebook.get_cells();\n",
       "                for (var i = 0; i < nbb_cells.length; ++i) {\n",
       "                    if (nbb_cells[i].input_prompt_number == nbb_cell_id) {\n",
       "                        if (nbb_cells[i].get_text() == nbb_unformatted_code) {\n",
       "                             nbb_cells[i].set_text(nbb_formatted_code);\n",
       "                        }\n",
       "                        break;\n",
       "                    }\n",
       "                }\n",
       "            }, 500);\n",
       "            "
      ],
      "text/plain": [
       "<IPython.core.display.Javascript object>"
      ]
     },
     "metadata": {},
     "output_type": "display_data"
    }
   ],
   "source": [
    "import pandas as pd\n",
    "import numpy as np"
   ]
  },
  {
   "cell_type": "code",
   "execution_count": 42,
   "id": "938c1b25",
   "metadata": {},
   "outputs": [
    {
     "data": {
      "application/javascript": [
       "\n",
       "            setTimeout(function() {\n",
       "                var nbb_cell_id = 42;\n",
       "                var nbb_unformatted_code = \"# https://stackoverflow.com/questions/21137150/format-suppress-scientific-notation-from-pandas-aggregation-results\\npd.set_option(\\\"display.float_format\\\", lambda x: \\\"%.2f\\\" % x)\";\n",
       "                var nbb_formatted_code = \"# https://stackoverflow.com/questions/21137150/format-suppress-scientific-notation-from-pandas-aggregation-results\\npd.set_option(\\\"display.float_format\\\", lambda x: \\\"%.2f\\\" % x)\";\n",
       "                var nbb_cells = Jupyter.notebook.get_cells();\n",
       "                for (var i = 0; i < nbb_cells.length; ++i) {\n",
       "                    if (nbb_cells[i].input_prompt_number == nbb_cell_id) {\n",
       "                        if (nbb_cells[i].get_text() == nbb_unformatted_code) {\n",
       "                             nbb_cells[i].set_text(nbb_formatted_code);\n",
       "                        }\n",
       "                        break;\n",
       "                    }\n",
       "                }\n",
       "            }, 500);\n",
       "            "
      ],
      "text/plain": [
       "<IPython.core.display.Javascript object>"
      ]
     },
     "metadata": {},
     "output_type": "display_data"
    }
   ],
   "source": [
    "# https://stackoverflow.com/questions/21137150/format-suppress-scientific-notation-from-pandas-aggregation-results\n",
    "pd.set_option(\"display.float_format\", lambda x: \"%.2f\" % x)"
   ]
  },
  {
   "cell_type": "code",
   "execution_count": 4,
   "id": "3463d54f",
   "metadata": {},
   "outputs": [
    {
     "data": {
      "application/javascript": [
       "\n",
       "            setTimeout(function() {\n",
       "                var nbb_cell_id = 4;\n",
       "                var nbb_unformatted_code = \"## got an error while downloading online csv data. OSX\\n## quick fix\\n## https://stackoverflow.com/questions/50236117/scraping-ssl-certificate-verify-failed-error-for-http-en-wikipedia-org\\n\\nimport ssl\\n\\nssl._create_default_https_context = ssl._create_unverified_context\";\n",
       "                var nbb_formatted_code = \"## got an error while downloading online csv data. OSX\\n## quick fix\\n## https://stackoverflow.com/questions/50236117/scraping-ssl-certificate-verify-failed-error-for-http-en-wikipedia-org\\n\\nimport ssl\\n\\nssl._create_default_https_context = ssl._create_unverified_context\";\n",
       "                var nbb_cells = Jupyter.notebook.get_cells();\n",
       "                for (var i = 0; i < nbb_cells.length; ++i) {\n",
       "                    if (nbb_cells[i].input_prompt_number == nbb_cell_id) {\n",
       "                        if (nbb_cells[i].get_text() == nbb_unformatted_code) {\n",
       "                             nbb_cells[i].set_text(nbb_formatted_code);\n",
       "                        }\n",
       "                        break;\n",
       "                    }\n",
       "                }\n",
       "            }, 500);\n",
       "            "
      ],
      "text/plain": [
       "<IPython.core.display.Javascript object>"
      ]
     },
     "metadata": {},
     "output_type": "display_data"
    }
   ],
   "source": [
    "## got an error while downloading online csv data. OSX\n",
    "## quick fix\n",
    "## https://stackoverflow.com/questions/50236117/scraping-ssl-certificate-verify-failed-error-for-http-en-wikipedia-org\n",
    "\n",
    "import ssl\n",
    "\n",
    "ssl._create_default_https_context = ssl._create_unverified_context"
   ]
  },
  {
   "cell_type": "markdown",
   "id": "375e9d45",
   "metadata": {},
   "source": [
    "# 1 \n",
    "Parsisiųsti 2020 ir 2021 įmonių “Juridinių asmenų pateikti finansinės atskaitomybės dokumentai – balanso ataskaitos” ir “Juridinių asmenų pateikti finansinės atskaitomybės dokumentai – pelno (nuostolių) ataskaitos” duomenis."
   ]
  },
  {
   "cell_type": "code",
   "execution_count": 5,
   "id": "19b5eb1e",
   "metadata": {},
   "outputs": [
    {
     "data": {
      "application/javascript": [
       "\n",
       "            setTimeout(function() {\n",
       "                var nbb_cell_id = 5;\n",
       "                var nbb_unformatted_code = \"balance_20 = pd.read_csv(\\n    \\\"https://www.registrucentras.lt/aduomenys/?byla=JAR_FA_RODIKLIAI_BLNS_2020.csv\\\"\\n)\\nbalance_21 = pd.read_csv(\\n    \\\"https://www.registrucentras.lt/aduomenys/?byla=JAR_FA_RODIKLIAI_BLNS_2021.csv\\\"\\n)\\npl_20 = pd.read_csv(\\n    \\\"https://www.registrucentras.lt/aduomenys/?byla=JAR_FA_RODIKLIAI_PLNA_2020.csv\\\"\\n)\\npl_21 = pd.read_csv(\\n    \\\"https://www.registrucentras.lt/aduomenys/?byla=JAR_FA_RODIKLIAI_PLNA_2021.csv\\\"\\n)\";\n",
       "                var nbb_formatted_code = \"balance_20 = pd.read_csv(\\n    \\\"https://www.registrucentras.lt/aduomenys/?byla=JAR_FA_RODIKLIAI_BLNS_2020.csv\\\"\\n)\\nbalance_21 = pd.read_csv(\\n    \\\"https://www.registrucentras.lt/aduomenys/?byla=JAR_FA_RODIKLIAI_BLNS_2021.csv\\\"\\n)\\npl_20 = pd.read_csv(\\n    \\\"https://www.registrucentras.lt/aduomenys/?byla=JAR_FA_RODIKLIAI_PLNA_2020.csv\\\"\\n)\\npl_21 = pd.read_csv(\\n    \\\"https://www.registrucentras.lt/aduomenys/?byla=JAR_FA_RODIKLIAI_PLNA_2021.csv\\\"\\n)\";\n",
       "                var nbb_cells = Jupyter.notebook.get_cells();\n",
       "                for (var i = 0; i < nbb_cells.length; ++i) {\n",
       "                    if (nbb_cells[i].input_prompt_number == nbb_cell_id) {\n",
       "                        if (nbb_cells[i].get_text() == nbb_unformatted_code) {\n",
       "                             nbb_cells[i].set_text(nbb_formatted_code);\n",
       "                        }\n",
       "                        break;\n",
       "                    }\n",
       "                }\n",
       "            }, 500);\n",
       "            "
      ],
      "text/plain": [
       "<IPython.core.display.Javascript object>"
      ]
     },
     "metadata": {},
     "output_type": "display_data"
    }
   ],
   "source": [
    "balance_20 = pd.read_csv(\n",
    "    \"https://www.registrucentras.lt/aduomenys/?byla=JAR_FA_RODIKLIAI_BLNS_2020.csv\"\n",
    ")\n",
    "balance_21 = pd.read_csv(\n",
    "    \"https://www.registrucentras.lt/aduomenys/?byla=JAR_FA_RODIKLIAI_BLNS_2021.csv\"\n",
    ")\n",
    "pl_20 = pd.read_csv(\n",
    "    \"https://www.registrucentras.lt/aduomenys/?byla=JAR_FA_RODIKLIAI_PLNA_2020.csv\"\n",
    ")\n",
    "pl_21 = pd.read_csv(\n",
    "    \"https://www.registrucentras.lt/aduomenys/?byla=JAR_FA_RODIKLIAI_PLNA_2021.csv\"\n",
    ")"
   ]
  },
  {
   "cell_type": "code",
   "execution_count": 6,
   "id": "667e9528",
   "metadata": {},
   "outputs": [
    {
     "data": {
      "text/plain": [
       "((106318, 18), (120850, 18), (96616, 17), (110227, 17))"
      ]
     },
     "execution_count": 6,
     "metadata": {},
     "output_type": "execute_result"
    },
    {
     "data": {
      "application/javascript": [
       "\n",
       "            setTimeout(function() {\n",
       "                var nbb_cell_id = 6;\n",
       "                var nbb_unformatted_code = \"balance_20.shape, balance_21.shape, pl_20.shape, pl_21.shape\";\n",
       "                var nbb_formatted_code = \"balance_20.shape, balance_21.shape, pl_20.shape, pl_21.shape\";\n",
       "                var nbb_cells = Jupyter.notebook.get_cells();\n",
       "                for (var i = 0; i < nbb_cells.length; ++i) {\n",
       "                    if (nbb_cells[i].input_prompt_number == nbb_cell_id) {\n",
       "                        if (nbb_cells[i].get_text() == nbb_unformatted_code) {\n",
       "                             nbb_cells[i].set_text(nbb_formatted_code);\n",
       "                        }\n",
       "                        break;\n",
       "                    }\n",
       "                }\n",
       "            }, 500);\n",
       "            "
      ],
      "text/plain": [
       "<IPython.core.display.Javascript object>"
      ]
     },
     "metadata": {},
     "output_type": "display_data"
    }
   ],
   "source": [
    "balance_20.shape, balance_21.shape, pl_20.shape, pl_21.shape"
   ]
  },
  {
   "cell_type": "markdown",
   "id": "3b827cc4",
   "metadata": {},
   "source": [
    "# 2 \n",
    "Apskaičiuoti vidutinias reikšmes “pelnas_pries_apmokestinima” ir “nuosavas_kapitalas” laukų kiekvienai juridinio asmens formai (Uždaroji akcinė bendrovė, Mažoji bendrija, etc.) už visą laikotarpį."
   ]
  },
  {
   "cell_type": "code",
   "execution_count": 7,
   "id": "d851ef0a",
   "metadata": {},
   "outputs": [
    {
     "data": {
      "text/plain": [
       "Uždaroji akcinė bendrovė                    76370\n",
       "Mažoji bendrija                             13196\n",
       "Asociacija                                   9073\n",
       "Viešoji įstaiga                              5324\n",
       "Individuali įmonė                             677\n",
       "Labdaros ir paramos fondas                    598\n",
       "Žemės ūkio bendrovė                           401\n",
       "Kooperatinė bendrovė                          334\n",
       "Akcinė bendrovė                               245\n",
       "Komanditinė ūkinė bendrija                     39\n",
       "Savivaldybės įmonė                             24\n",
       "Užsienio juridinio asmens filialas             16\n",
       "Valstybės įmonė                                13\n",
       "Tikroji ūkinė bendrija                          4\n",
       "Biudžetinė įstaiga                              2\n",
       "Bendrija                                        1\n",
       "Lietuvos prekyb.,pramon. rūmų asociacija        1\n",
       "Name: form_pav, dtype: int64"
      ]
     },
     "execution_count": 7,
     "metadata": {},
     "output_type": "execute_result"
    },
    {
     "data": {
      "application/javascript": [
       "\n",
       "            setTimeout(function() {\n",
       "                var nbb_cell_id = 7;\n",
       "                var nbb_unformatted_code = \"balance_20.form_pav.value_counts(dropna=False)\";\n",
       "                var nbb_formatted_code = \"balance_20.form_pav.value_counts(dropna=False)\";\n",
       "                var nbb_cells = Jupyter.notebook.get_cells();\n",
       "                for (var i = 0; i < nbb_cells.length; ++i) {\n",
       "                    if (nbb_cells[i].input_prompt_number == nbb_cell_id) {\n",
       "                        if (nbb_cells[i].get_text() == nbb_unformatted_code) {\n",
       "                             nbb_cells[i].set_text(nbb_formatted_code);\n",
       "                        }\n",
       "                        break;\n",
       "                    }\n",
       "                }\n",
       "            }, 500);\n",
       "            "
      ],
      "text/plain": [
       "<IPython.core.display.Javascript object>"
      ]
     },
     "metadata": {},
     "output_type": "display_data"
    }
   ],
   "source": [
    "balance_20.form_pav.value_counts(dropna=False)"
   ]
  },
  {
   "cell_type": "code",
   "execution_count": 8,
   "id": "f9a7dee8",
   "metadata": {},
   "outputs": [
    {
     "data": {
      "application/javascript": [
       "\n",
       "            setTimeout(function() {\n",
       "                var nbb_cell_id = 8;\n",
       "                var nbb_unformatted_code = \"# nuosavas_kapitalas\\nnuosavas_kapitalas = balance_20[[\\\"obj_kodas\\\", \\\"nuosavas_kapitalas\\\"]]\";\n",
       "                var nbb_formatted_code = \"# nuosavas_kapitalas\\nnuosavas_kapitalas = balance_20[[\\\"obj_kodas\\\", \\\"nuosavas_kapitalas\\\"]]\";\n",
       "                var nbb_cells = Jupyter.notebook.get_cells();\n",
       "                for (var i = 0; i < nbb_cells.length; ++i) {\n",
       "                    if (nbb_cells[i].input_prompt_number == nbb_cell_id) {\n",
       "                        if (nbb_cells[i].get_text() == nbb_unformatted_code) {\n",
       "                             nbb_cells[i].set_text(nbb_formatted_code);\n",
       "                        }\n",
       "                        break;\n",
       "                    }\n",
       "                }\n",
       "            }, 500);\n",
       "            "
      ],
      "text/plain": [
       "<IPython.core.display.Javascript object>"
      ]
     },
     "metadata": {},
     "output_type": "display_data"
    }
   ],
   "source": [
    "# nuosavas_kapitalas\n",
    "nuosavas_kapitalas = balance_20[[\"obj_kodas\", \"nuosavas_kapitalas\"]]"
   ]
  },
  {
   "cell_type": "code",
   "execution_count": 9,
   "id": "c283350b",
   "metadata": {},
   "outputs": [
    {
     "data": {
      "text/plain": [
       "(106318, 2)"
      ]
     },
     "execution_count": 9,
     "metadata": {},
     "output_type": "execute_result"
    },
    {
     "data": {
      "application/javascript": [
       "\n",
       "            setTimeout(function() {\n",
       "                var nbb_cell_id = 9;\n",
       "                var nbb_unformatted_code = \"nuosavas_kapitalas.shape\";\n",
       "                var nbb_formatted_code = \"nuosavas_kapitalas.shape\";\n",
       "                var nbb_cells = Jupyter.notebook.get_cells();\n",
       "                for (var i = 0; i < nbb_cells.length; ++i) {\n",
       "                    if (nbb_cells[i].input_prompt_number == nbb_cell_id) {\n",
       "                        if (nbb_cells[i].get_text() == nbb_unformatted_code) {\n",
       "                             nbb_cells[i].set_text(nbb_formatted_code);\n",
       "                        }\n",
       "                        break;\n",
       "                    }\n",
       "                }\n",
       "            }, 500);\n",
       "            "
      ],
      "text/plain": [
       "<IPython.core.display.Javascript object>"
      ]
     },
     "metadata": {},
     "output_type": "display_data"
    }
   ],
   "source": [
    "nuosavas_kapitalas.shape"
   ]
  },
  {
   "cell_type": "code",
   "execution_count": 10,
   "id": "090e2fbc",
   "metadata": {},
   "outputs": [
    {
     "data": {
      "application/javascript": [
       "\n",
       "            setTimeout(function() {\n",
       "                var nbb_cell_id = 10;\n",
       "                var nbb_unformatted_code = \"# form_pav,  pelnas_pries_apmokestinima\\npelnas_pries_apmokestinima = pl_20[\\n    [\\\"obj_kodas\\\", \\\"form_pav\\\", \\\"pelnas_pries_apmokestinima\\\"]\\n]\";\n",
       "                var nbb_formatted_code = \"# form_pav,  pelnas_pries_apmokestinima\\npelnas_pries_apmokestinima = pl_20[\\n    [\\\"obj_kodas\\\", \\\"form_pav\\\", \\\"pelnas_pries_apmokestinima\\\"]\\n]\";\n",
       "                var nbb_cells = Jupyter.notebook.get_cells();\n",
       "                for (var i = 0; i < nbb_cells.length; ++i) {\n",
       "                    if (nbb_cells[i].input_prompt_number == nbb_cell_id) {\n",
       "                        if (nbb_cells[i].get_text() == nbb_unformatted_code) {\n",
       "                             nbb_cells[i].set_text(nbb_formatted_code);\n",
       "                        }\n",
       "                        break;\n",
       "                    }\n",
       "                }\n",
       "            }, 500);\n",
       "            "
      ],
      "text/plain": [
       "<IPython.core.display.Javascript object>"
      ]
     },
     "metadata": {},
     "output_type": "display_data"
    }
   ],
   "source": [
    "# form_pav,  pelnas_pries_apmokestinima\n",
    "pelnas_pries_apmokestinima = pl_20[\n",
    "    [\"obj_kodas\", \"form_pav\", \"pelnas_pries_apmokestinima\"]\n",
    "]"
   ]
  },
  {
   "cell_type": "code",
   "execution_count": 11,
   "id": "3a5a8ade",
   "metadata": {},
   "outputs": [
    {
     "data": {
      "text/plain": [
       "(96616, 3)"
      ]
     },
     "execution_count": 11,
     "metadata": {},
     "output_type": "execute_result"
    },
    {
     "data": {
      "application/javascript": [
       "\n",
       "            setTimeout(function() {\n",
       "                var nbb_cell_id = 11;\n",
       "                var nbb_unformatted_code = \"pelnas_pries_apmokestinima.shape\";\n",
       "                var nbb_formatted_code = \"pelnas_pries_apmokestinima.shape\";\n",
       "                var nbb_cells = Jupyter.notebook.get_cells();\n",
       "                for (var i = 0; i < nbb_cells.length; ++i) {\n",
       "                    if (nbb_cells[i].input_prompt_number == nbb_cell_id) {\n",
       "                        if (nbb_cells[i].get_text() == nbb_unformatted_code) {\n",
       "                             nbb_cells[i].set_text(nbb_formatted_code);\n",
       "                        }\n",
       "                        break;\n",
       "                    }\n",
       "                }\n",
       "            }, 500);\n",
       "            "
      ],
      "text/plain": [
       "<IPython.core.display.Javascript object>"
      ]
     },
     "metadata": {},
     "output_type": "display_data"
    }
   ],
   "source": [
    "pelnas_pries_apmokestinima.shape"
   ]
  },
  {
   "cell_type": "code",
   "execution_count": 12,
   "id": "c11c0b26",
   "metadata": {},
   "outputs": [
    {
     "data": {
      "text/plain": [
       "(0, 8120)"
      ]
     },
     "execution_count": 12,
     "metadata": {},
     "output_type": "execute_result"
    },
    {
     "data": {
      "application/javascript": [
       "\n",
       "            setTimeout(function() {\n",
       "                var nbb_cell_id = 12;\n",
       "                var nbb_unformatted_code = \"balance_20_set = set(balance_20.obj_kodas)\\npl_20_set = set(pl_20.obj_kodas)\\n\\nlen(pl_20_set.difference(balance_20_set)), len(balance_20_set.difference(pl_20_set))\";\n",
       "                var nbb_formatted_code = \"balance_20_set = set(balance_20.obj_kodas)\\npl_20_set = set(pl_20.obj_kodas)\\n\\nlen(pl_20_set.difference(balance_20_set)), len(balance_20_set.difference(pl_20_set))\";\n",
       "                var nbb_cells = Jupyter.notebook.get_cells();\n",
       "                for (var i = 0; i < nbb_cells.length; ++i) {\n",
       "                    if (nbb_cells[i].input_prompt_number == nbb_cell_id) {\n",
       "                        if (nbb_cells[i].get_text() == nbb_unformatted_code) {\n",
       "                             nbb_cells[i].set_text(nbb_formatted_code);\n",
       "                        }\n",
       "                        break;\n",
       "                    }\n",
       "                }\n",
       "            }, 500);\n",
       "            "
      ],
      "text/plain": [
       "<IPython.core.display.Javascript object>"
      ]
     },
     "metadata": {},
     "output_type": "display_data"
    }
   ],
   "source": [
    "balance_20_set = set(balance_20.obj_kodas)\n",
    "pl_20_set = set(pl_20.obj_kodas)\n",
    "\n",
    "len(pl_20_set.difference(balance_20_set)), len(balance_20_set.difference(pl_20_set))"
   ]
  },
  {
   "cell_type": "code",
   "execution_count": 13,
   "id": "6090024d",
   "metadata": {},
   "outputs": [
    {
     "data": {
      "text/plain": [
       "(129210, 4)"
      ]
     },
     "execution_count": 13,
     "metadata": {},
     "output_type": "execute_result"
    },
    {
     "data": {
      "application/javascript": [
       "\n",
       "            setTimeout(function() {\n",
       "                var nbb_cell_id = 13;\n",
       "                var nbb_unformatted_code = \"# we take intersection and ignore companies that do not have profit loss statement.\\npelnas_pries_apmokestinima.merge(nuosavas_kapitalas, on=\\\"obj_kodas\\\", how=\\\"inner\\\").shape\";\n",
       "                var nbb_formatted_code = \"# we take intersection and ignore companies that do not have profit loss statement.\\npelnas_pries_apmokestinima.merge(nuosavas_kapitalas, on=\\\"obj_kodas\\\", how=\\\"inner\\\").shape\";\n",
       "                var nbb_cells = Jupyter.notebook.get_cells();\n",
       "                for (var i = 0; i < nbb_cells.length; ++i) {\n",
       "                    if (nbb_cells[i].input_prompt_number == nbb_cell_id) {\n",
       "                        if (nbb_cells[i].get_text() == nbb_unformatted_code) {\n",
       "                             nbb_cells[i].set_text(nbb_formatted_code);\n",
       "                        }\n",
       "                        break;\n",
       "                    }\n",
       "                }\n",
       "            }, 500);\n",
       "            "
      ],
      "text/plain": [
       "<IPython.core.display.Javascript object>"
      ]
     },
     "metadata": {},
     "output_type": "display_data"
    }
   ],
   "source": [
    "# we take intersection and ignore companies that do not have profit loss statement.\n",
    "pelnas_pries_apmokestinima.merge(nuosavas_kapitalas, on=\"obj_kodas\", how=\"inner\").shape"
   ]
  },
  {
   "cell_type": "code",
   "execution_count": 14,
   "id": "3968ae8a",
   "metadata": {},
   "outputs": [
    {
     "data": {
      "application/javascript": [
       "\n",
       "            setTimeout(function() {\n",
       "                var nbb_cell_id = 14;\n",
       "                var nbb_unformatted_code = \"# we see there are duplicates !!!!\";\n",
       "                var nbb_formatted_code = \"# we see there are duplicates !!!!\";\n",
       "                var nbb_cells = Jupyter.notebook.get_cells();\n",
       "                for (var i = 0; i < nbb_cells.length; ++i) {\n",
       "                    if (nbb_cells[i].input_prompt_number == nbb_cell_id) {\n",
       "                        if (nbb_cells[i].get_text() == nbb_unformatted_code) {\n",
       "                             nbb_cells[i].set_text(nbb_formatted_code);\n",
       "                        }\n",
       "                        break;\n",
       "                    }\n",
       "                }\n",
       "            }, 500);\n",
       "            "
      ],
      "text/plain": [
       "<IPython.core.display.Javascript object>"
      ]
     },
     "metadata": {},
     "output_type": "display_data"
    }
   ],
   "source": [
    "# we see there are duplicates !!!!"
   ]
  },
  {
   "cell_type": "code",
   "execution_count": 15,
   "id": "5033d55d",
   "metadata": {},
   "outputs": [
    {
     "data": {
      "text/plain": [
       "168970870    16\n",
       "145496790    16\n",
       "135994223    15\n",
       "Name: obj_kodas, dtype: int64"
      ]
     },
     "execution_count": 15,
     "metadata": {},
     "output_type": "execute_result"
    },
    {
     "data": {
      "application/javascript": [
       "\n",
       "            setTimeout(function() {\n",
       "                var nbb_cell_id = 15;\n",
       "                var nbb_unformatted_code = \"balance_20.obj_kodas.value_counts().iloc[:3]\";\n",
       "                var nbb_formatted_code = \"balance_20.obj_kodas.value_counts().iloc[:3]\";\n",
       "                var nbb_cells = Jupyter.notebook.get_cells();\n",
       "                for (var i = 0; i < nbb_cells.length; ++i) {\n",
       "                    if (nbb_cells[i].input_prompt_number == nbb_cell_id) {\n",
       "                        if (nbb_cells[i].get_text() == nbb_unformatted_code) {\n",
       "                             nbb_cells[i].set_text(nbb_formatted_code);\n",
       "                        }\n",
       "                        break;\n",
       "                    }\n",
       "                }\n",
       "            }, 500);\n",
       "            "
      ],
      "text/plain": [
       "<IPython.core.display.Javascript object>"
      ]
     },
     "metadata": {},
     "output_type": "display_data"
    }
   ],
   "source": [
    "balance_20.obj_kodas.value_counts().iloc[:3]"
   ]
  },
  {
   "cell_type": "code",
   "execution_count": 16,
   "id": "a6e08044",
   "metadata": {},
   "outputs": [
    {
     "data": {
      "text/plain": [
       "304127368    1\n",
       "304895492    1\n",
       "302583362    1\n",
       "303445421    1\n",
       "124665536    1\n",
       "            ..\n",
       "177218596    1\n",
       "151484255    1\n",
       "125416121    1\n",
       "302756355    1\n",
       "303778867    1\n",
       "Name: obj_kodas, Length: 86828, dtype: int64"
      ]
     },
     "execution_count": 16,
     "metadata": {},
     "output_type": "execute_result"
    },
    {
     "data": {
      "application/javascript": [
       "\n",
       "            setTimeout(function() {\n",
       "                var nbb_cell_id = 16;\n",
       "                var nbb_unformatted_code = \"balance_20[balance_20.laikotarpis_nuo == \\\"2019-01-01\\\"].obj_kodas.value_counts()\";\n",
       "                var nbb_formatted_code = \"balance_20[balance_20.laikotarpis_nuo == \\\"2019-01-01\\\"].obj_kodas.value_counts()\";\n",
       "                var nbb_cells = Jupyter.notebook.get_cells();\n",
       "                for (var i = 0; i < nbb_cells.length; ++i) {\n",
       "                    if (nbb_cells[i].input_prompt_number == nbb_cell_id) {\n",
       "                        if (nbb_cells[i].get_text() == nbb_unformatted_code) {\n",
       "                             nbb_cells[i].set_text(nbb_formatted_code);\n",
       "                        }\n",
       "                        break;\n",
       "                    }\n",
       "                }\n",
       "            }, 500);\n",
       "            "
      ],
      "text/plain": [
       "<IPython.core.display.Javascript object>"
      ]
     },
     "metadata": {},
     "output_type": "display_data"
    }
   ],
   "source": [
    "balance_20[balance_20.laikotarpis_nuo == \"2019-01-01\"].obj_kodas.value_counts()"
   ]
  },
  {
   "cell_type": "code",
   "execution_count": 17,
   "id": "485eb706",
   "metadata": {},
   "outputs": [
    {
     "data": {
      "application/javascript": [
       "\n",
       "            setTimeout(function() {\n",
       "                var nbb_cell_id = 17;\n",
       "                var nbb_unformatted_code = \"# we filter out duplicates(?) by choosing laikotarpis_nuo == \\\"2019-01-01\\\". This requires inside knowledge about balance sheets.\\nnuosavas_kapitalas = balance_20[balance_20.laikotarpis_nuo == \\\"2019-01-01\\\"][\\n    [\\\"obj_kodas\\\", \\\"nuosavas_kapitalas\\\"]\\n]\";\n",
       "                var nbb_formatted_code = \"# we filter out duplicates(?) by choosing laikotarpis_nuo == \\\"2019-01-01\\\". This requires inside knowledge about balance sheets.\\nnuosavas_kapitalas = balance_20[balance_20.laikotarpis_nuo == \\\"2019-01-01\\\"][\\n    [\\\"obj_kodas\\\", \\\"nuosavas_kapitalas\\\"]\\n]\";\n",
       "                var nbb_cells = Jupyter.notebook.get_cells();\n",
       "                for (var i = 0; i < nbb_cells.length; ++i) {\n",
       "                    if (nbb_cells[i].input_prompt_number == nbb_cell_id) {\n",
       "                        if (nbb_cells[i].get_text() == nbb_unformatted_code) {\n",
       "                             nbb_cells[i].set_text(nbb_formatted_code);\n",
       "                        }\n",
       "                        break;\n",
       "                    }\n",
       "                }\n",
       "            }, 500);\n",
       "            "
      ],
      "text/plain": [
       "<IPython.core.display.Javascript object>"
      ]
     },
     "metadata": {},
     "output_type": "display_data"
    }
   ],
   "source": [
    "# we filter out duplicates(?) by choosing laikotarpis_nuo == \"2019-01-01\". This requires inside knowledge about balance sheets.\n",
    "nuosavas_kapitalas = balance_20[balance_20.laikotarpis_nuo == \"2019-01-01\"][\n",
    "    [\"obj_kodas\", \"nuosavas_kapitalas\"]\n",
    "]"
   ]
  },
  {
   "cell_type": "code",
   "execution_count": 18,
   "id": "0603baba",
   "metadata": {},
   "outputs": [
    {
     "data": {
      "application/javascript": [
       "\n",
       "            setTimeout(function() {\n",
       "                var nbb_cell_id = 18;\n",
       "                var nbb_unformatted_code = \"pelnas_pries_apmokestinima = pl_20[pl_20.laikotarpis_nuo == \\\"2019-01-01\\\"][\\n    [\\\"obj_kodas\\\", \\\"form_pav\\\", \\\"pelnas_pries_apmokestinima\\\"]\\n]\";\n",
       "                var nbb_formatted_code = \"pelnas_pries_apmokestinima = pl_20[pl_20.laikotarpis_nuo == \\\"2019-01-01\\\"][\\n    [\\\"obj_kodas\\\", \\\"form_pav\\\", \\\"pelnas_pries_apmokestinima\\\"]\\n]\";\n",
       "                var nbb_cells = Jupyter.notebook.get_cells();\n",
       "                for (var i = 0; i < nbb_cells.length; ++i) {\n",
       "                    if (nbb_cells[i].input_prompt_number == nbb_cell_id) {\n",
       "                        if (nbb_cells[i].get_text() == nbb_unformatted_code) {\n",
       "                             nbb_cells[i].set_text(nbb_formatted_code);\n",
       "                        }\n",
       "                        break;\n",
       "                    }\n",
       "                }\n",
       "            }, 500);\n",
       "            "
      ],
      "text/plain": [
       "<IPython.core.display.Javascript object>"
      ]
     },
     "metadata": {},
     "output_type": "display_data"
    }
   ],
   "source": [
    "pelnas_pries_apmokestinima = pl_20[pl_20.laikotarpis_nuo == \"2019-01-01\"][\n",
    "    [\"obj_kodas\", \"form_pav\", \"pelnas_pries_apmokestinima\"]\n",
    "]"
   ]
  },
  {
   "cell_type": "code",
   "execution_count": 19,
   "id": "46769776",
   "metadata": {},
   "outputs": [
    {
     "data": {
      "text/plain": [
       "304781777    1\n",
       "111733617    1\n",
       "302794270    1\n",
       "302664106    1\n",
       "300506602    1\n",
       "            ..\n",
       "110461363    1\n",
       "303336094    1\n",
       "304040760    1\n",
       "300572972    1\n",
       "173110025    1\n",
       "Name: obj_kodas, Length: 79433, dtype: int64"
      ]
     },
     "execution_count": 19,
     "metadata": {},
     "output_type": "execute_result"
    },
    {
     "data": {
      "application/javascript": [
       "\n",
       "            setTimeout(function() {\n",
       "                var nbb_cell_id = 19;\n",
       "                var nbb_unformatted_code = \"pelnas_pries_apmokestinima.obj_kodas.value_counts() ## no duplicates. \";\n",
       "                var nbb_formatted_code = \"pelnas_pries_apmokestinima.obj_kodas.value_counts()  ## no duplicates.\";\n",
       "                var nbb_cells = Jupyter.notebook.get_cells();\n",
       "                for (var i = 0; i < nbb_cells.length; ++i) {\n",
       "                    if (nbb_cells[i].input_prompt_number == nbb_cell_id) {\n",
       "                        if (nbb_cells[i].get_text() == nbb_unformatted_code) {\n",
       "                             nbb_cells[i].set_text(nbb_formatted_code);\n",
       "                        }\n",
       "                        break;\n",
       "                    }\n",
       "                }\n",
       "            }, 500);\n",
       "            "
      ],
      "text/plain": [
       "<IPython.core.display.Javascript object>"
      ]
     },
     "metadata": {},
     "output_type": "display_data"
    }
   ],
   "source": [
    "pelnas_pries_apmokestinima.obj_kodas.value_counts()  ## no duplicates."
   ]
  },
  {
   "cell_type": "code",
   "execution_count": 20,
   "id": "367b25c3",
   "metadata": {},
   "outputs": [
    {
     "data": {
      "text/plain": [
       "((86828, 2), (79433, 3))"
      ]
     },
     "execution_count": 20,
     "metadata": {},
     "output_type": "execute_result"
    },
    {
     "data": {
      "application/javascript": [
       "\n",
       "            setTimeout(function() {\n",
       "                var nbb_cell_id = 20;\n",
       "                var nbb_unformatted_code = \"nuosavas_kapitalas.shape, pelnas_pries_apmokestinima.shape\";\n",
       "                var nbb_formatted_code = \"nuosavas_kapitalas.shape, pelnas_pries_apmokestinima.shape\";\n",
       "                var nbb_cells = Jupyter.notebook.get_cells();\n",
       "                for (var i = 0; i < nbb_cells.length; ++i) {\n",
       "                    if (nbb_cells[i].input_prompt_number == nbb_cell_id) {\n",
       "                        if (nbb_cells[i].get_text() == nbb_unformatted_code) {\n",
       "                             nbb_cells[i].set_text(nbb_formatted_code);\n",
       "                        }\n",
       "                        break;\n",
       "                    }\n",
       "                }\n",
       "            }, 500);\n",
       "            "
      ],
      "text/plain": [
       "<IPython.core.display.Javascript object>"
      ]
     },
     "metadata": {},
     "output_type": "display_data"
    }
   ],
   "source": [
    "nuosavas_kapitalas.shape, pelnas_pries_apmokestinima.shape"
   ]
  },
  {
   "cell_type": "code",
   "execution_count": 21,
   "id": "73f498b2",
   "metadata": {},
   "outputs": [
    {
     "data": {
      "application/javascript": [
       "\n",
       "            setTimeout(function() {\n",
       "                var nbb_cell_id = 21;\n",
       "                var nbb_unformatted_code = \"# we drop nan and use inner merge\\nmerged = nuosavas_kapitalas.merge(\\n    pelnas_pries_apmokestinima, on=\\\"obj_kodas\\\", how=\\\"inner\\\"\\n)\";\n",
       "                var nbb_formatted_code = \"# we drop nan and use inner merge\\nmerged = nuosavas_kapitalas.merge(\\n    pelnas_pries_apmokestinima, on=\\\"obj_kodas\\\", how=\\\"inner\\\"\\n)\";\n",
       "                var nbb_cells = Jupyter.notebook.get_cells();\n",
       "                for (var i = 0; i < nbb_cells.length; ++i) {\n",
       "                    if (nbb_cells[i].input_prompt_number == nbb_cell_id) {\n",
       "                        if (nbb_cells[i].get_text() == nbb_unformatted_code) {\n",
       "                             nbb_cells[i].set_text(nbb_formatted_code);\n",
       "                        }\n",
       "                        break;\n",
       "                    }\n",
       "                }\n",
       "            }, 500);\n",
       "            "
      ],
      "text/plain": [
       "<IPython.core.display.Javascript object>"
      ]
     },
     "metadata": {},
     "output_type": "display_data"
    }
   ],
   "source": [
    "# we drop nan and use inner merge\n",
    "merged = nuosavas_kapitalas.merge(\n",
    "    pelnas_pries_apmokestinima, on=\"obj_kodas\", how=\"inner\"\n",
    ")"
   ]
  },
  {
   "cell_type": "code",
   "execution_count": 22,
   "id": "a3030e81",
   "metadata": {},
   "outputs": [
    {
     "data": {
      "application/javascript": [
       "\n",
       "            setTimeout(function() {\n",
       "                var nbb_cell_id = 22;\n",
       "                var nbb_unformatted_code = \"year_20_result = merged.groupby('form_pav').agg({'obj_kodas':'count', \\n                         'nuosavas_kapitalas':'mean', \\n                         'pelnas_pries_apmokestinima':'mean', }).apply(round).rename(columns=dict(obj_kodas='count'))\";\n",
       "                var nbb_formatted_code = \"year_20_result = (\\n    merged.groupby(\\\"form_pav\\\")\\n    .agg(\\n        {\\n            \\\"obj_kodas\\\": \\\"count\\\",\\n            \\\"nuosavas_kapitalas\\\": \\\"mean\\\",\\n            \\\"pelnas_pries_apmokestinima\\\": \\\"mean\\\",\\n        }\\n    )\\n    .apply(round)\\n    .rename(columns=dict(obj_kodas=\\\"count\\\"))\\n)\";\n",
       "                var nbb_cells = Jupyter.notebook.get_cells();\n",
       "                for (var i = 0; i < nbb_cells.length; ++i) {\n",
       "                    if (nbb_cells[i].input_prompt_number == nbb_cell_id) {\n",
       "                        if (nbb_cells[i].get_text() == nbb_unformatted_code) {\n",
       "                             nbb_cells[i].set_text(nbb_formatted_code);\n",
       "                        }\n",
       "                        break;\n",
       "                    }\n",
       "                }\n",
       "            }, 500);\n",
       "            "
      ],
      "text/plain": [
       "<IPython.core.display.Javascript object>"
      ]
     },
     "metadata": {},
     "output_type": "display_data"
    }
   ],
   "source": [
    "year_20_result = merged.groupby('form_pav').agg({'obj_kodas':'count', \n",
    "                         'nuosavas_kapitalas':'mean', \n",
    "                         'pelnas_pries_apmokestinima':'mean', }).apply(round).rename(columns=dict(obj_kodas='count'))\n"
   ]
  },
  {
   "cell_type": "code",
   "execution_count": 23,
   "id": "63909802",
   "metadata": {},
   "outputs": [
    {
     "data": {
      "text/html": [
       "<div>\n",
       "<style scoped>\n",
       "    .dataframe tbody tr th:only-of-type {\n",
       "        vertical-align: middle;\n",
       "    }\n",
       "\n",
       "    .dataframe tbody tr th {\n",
       "        vertical-align: top;\n",
       "    }\n",
       "\n",
       "    .dataframe thead th {\n",
       "        text-align: right;\n",
       "    }\n",
       "</style>\n",
       "<table border=\"1\" class=\"dataframe\">\n",
       "  <thead>\n",
       "    <tr style=\"text-align: right;\">\n",
       "      <th></th>\n",
       "      <th>count</th>\n",
       "      <th>nuosavas_kapitalas</th>\n",
       "      <th>pelnas_pries_apmokestinima</th>\n",
       "    </tr>\n",
       "    <tr>\n",
       "      <th>form_pav</th>\n",
       "      <th></th>\n",
       "      <th></th>\n",
       "      <th></th>\n",
       "    </tr>\n",
       "  </thead>\n",
       "  <tbody>\n",
       "    <tr>\n",
       "      <th>Akcinė bendrovė</th>\n",
       "      <td>234</td>\n",
       "      <td>38071183.0</td>\n",
       "      <td>2949222.0</td>\n",
       "    </tr>\n",
       "    <tr>\n",
       "      <th>Asociacija</th>\n",
       "      <td>1984</td>\n",
       "      <td>15481.0</td>\n",
       "      <td>65.0</td>\n",
       "    </tr>\n",
       "    <tr>\n",
       "      <th>Biudžetinė įstaiga</th>\n",
       "      <td>2</td>\n",
       "      <td>141074.0</td>\n",
       "      <td>16242.0</td>\n",
       "    </tr>\n",
       "    <tr>\n",
       "      <th>Individuali įmonė</th>\n",
       "      <td>562</td>\n",
       "      <td>191930.0</td>\n",
       "      <td>19217.0</td>\n",
       "    </tr>\n",
       "    <tr>\n",
       "      <th>Komanditinė ūkinė bendrija</th>\n",
       "      <td>23</td>\n",
       "      <td>1442068.0</td>\n",
       "      <td>711898.0</td>\n",
       "    </tr>\n",
       "    <tr>\n",
       "      <th>Kooperatinė bendrovė</th>\n",
       "      <td>317</td>\n",
       "      <td>698003.0</td>\n",
       "      <td>36818.0</td>\n",
       "    </tr>\n",
       "    <tr>\n",
       "      <th>Labdaros ir paramos fondas</th>\n",
       "      <td>91</td>\n",
       "      <td>10945.0</td>\n",
       "      <td>141.0</td>\n",
       "    </tr>\n",
       "    <tr>\n",
       "      <th>Lietuvos prekyb.,pramon. rūmų asociacija</th>\n",
       "      <td>1</td>\n",
       "      <td>64491.0</td>\n",
       "      <td>NaN</td>\n",
       "    </tr>\n",
       "    <tr>\n",
       "      <th>Mažoji bendrija</th>\n",
       "      <td>8562</td>\n",
       "      <td>18645.0</td>\n",
       "      <td>7669.0</td>\n",
       "    </tr>\n",
       "    <tr>\n",
       "      <th>Savivaldybės įmonė</th>\n",
       "      <td>18</td>\n",
       "      <td>3891527.0</td>\n",
       "      <td>86824.0</td>\n",
       "    </tr>\n",
       "    <tr>\n",
       "      <th>Tikroji ūkinė bendrija</th>\n",
       "      <td>4</td>\n",
       "      <td>470602.0</td>\n",
       "      <td>-103957.0</td>\n",
       "    </tr>\n",
       "    <tr>\n",
       "      <th>Uždaroji akcinė bendrovė</th>\n",
       "      <td>64401</td>\n",
       "      <td>582191.0</td>\n",
       "      <td>109280.0</td>\n",
       "    </tr>\n",
       "    <tr>\n",
       "      <th>Užsienio juridinio asmens filialas</th>\n",
       "      <td>13</td>\n",
       "      <td>-296372.0</td>\n",
       "      <td>98792.0</td>\n",
       "    </tr>\n",
       "    <tr>\n",
       "      <th>Valstybės įmonė</th>\n",
       "      <td>13</td>\n",
       "      <td>94670868.0</td>\n",
       "      <td>5804726.0</td>\n",
       "    </tr>\n",
       "    <tr>\n",
       "      <th>Viešoji įstaiga</th>\n",
       "      <td>2868</td>\n",
       "      <td>36791.0</td>\n",
       "      <td>9029.0</td>\n",
       "    </tr>\n",
       "    <tr>\n",
       "      <th>Žemės ūkio bendrovė</th>\n",
       "      <td>340</td>\n",
       "      <td>1497443.0</td>\n",
       "      <td>44135.0</td>\n",
       "    </tr>\n",
       "  </tbody>\n",
       "</table>\n",
       "</div>"
      ],
      "text/plain": [
       "                                          count  nuosavas_kapitalas  \\\n",
       "form_pav                                                              \n",
       "Akcinė bendrovė                             234          38071183.0   \n",
       "Asociacija                                 1984             15481.0   \n",
       "Biudžetinė įstaiga                            2            141074.0   \n",
       "Individuali įmonė                           562            191930.0   \n",
       "Komanditinė ūkinė bendrija                   23           1442068.0   \n",
       "Kooperatinė bendrovė                        317            698003.0   \n",
       "Labdaros ir paramos fondas                   91             10945.0   \n",
       "Lietuvos prekyb.,pramon. rūmų asociacija      1             64491.0   \n",
       "Mažoji bendrija                            8562             18645.0   \n",
       "Savivaldybės įmonė                           18           3891527.0   \n",
       "Tikroji ūkinė bendrija                        4            470602.0   \n",
       "Uždaroji akcinė bendrovė                  64401            582191.0   \n",
       "Užsienio juridinio asmens filialas           13           -296372.0   \n",
       "Valstybės įmonė                              13          94670868.0   \n",
       "Viešoji įstaiga                            2868             36791.0   \n",
       "Žemės ūkio bendrovė                         340           1497443.0   \n",
       "\n",
       "                                          pelnas_pries_apmokestinima  \n",
       "form_pav                                                              \n",
       "Akcinė bendrovė                                            2949222.0  \n",
       "Asociacija                                                      65.0  \n",
       "Biudžetinė įstaiga                                           16242.0  \n",
       "Individuali įmonė                                            19217.0  \n",
       "Komanditinė ūkinė bendrija                                  711898.0  \n",
       "Kooperatinė bendrovė                                         36818.0  \n",
       "Labdaros ir paramos fondas                                     141.0  \n",
       "Lietuvos prekyb.,pramon. rūmų asociacija                         NaN  \n",
       "Mažoji bendrija                                               7669.0  \n",
       "Savivaldybės įmonė                                           86824.0  \n",
       "Tikroji ūkinė bendrija                                     -103957.0  \n",
       "Uždaroji akcinė bendrovė                                    109280.0  \n",
       "Užsienio juridinio asmens filialas                           98792.0  \n",
       "Valstybės įmonė                                            5804726.0  \n",
       "Viešoji įstaiga                                               9029.0  \n",
       "Žemės ūkio bendrovė                                          44135.0  "
      ]
     },
     "execution_count": 23,
     "metadata": {},
     "output_type": "execute_result"
    },
    {
     "data": {
      "application/javascript": [
       "\n",
       "            setTimeout(function() {\n",
       "                var nbb_cell_id = 23;\n",
       "                var nbb_unformatted_code = \"year_20_result\";\n",
       "                var nbb_formatted_code = \"year_20_result\";\n",
       "                var nbb_cells = Jupyter.notebook.get_cells();\n",
       "                for (var i = 0; i < nbb_cells.length; ++i) {\n",
       "                    if (nbb_cells[i].input_prompt_number == nbb_cell_id) {\n",
       "                        if (nbb_cells[i].get_text() == nbb_unformatted_code) {\n",
       "                             nbb_cells[i].set_text(nbb_formatted_code);\n",
       "                        }\n",
       "                        break;\n",
       "                    }\n",
       "                }\n",
       "            }, 500);\n",
       "            "
      ],
      "text/plain": [
       "<IPython.core.display.Javascript object>"
      ]
     },
     "metadata": {},
     "output_type": "display_data"
    }
   ],
   "source": [
    "year_20_result"
   ]
  },
  {
   "cell_type": "code",
   "execution_count": 24,
   "id": "83bdb139",
   "metadata": {},
   "outputs": [
    {
     "data": {
      "application/javascript": [
       "\n",
       "            setTimeout(function() {\n",
       "                var nbb_cell_id = 24;\n",
       "                var nbb_unformatted_code = \"## year 2021\";\n",
       "                var nbb_formatted_code = \"## year 2021\";\n",
       "                var nbb_cells = Jupyter.notebook.get_cells();\n",
       "                for (var i = 0; i < nbb_cells.length; ++i) {\n",
       "                    if (nbb_cells[i].input_prompt_number == nbb_cell_id) {\n",
       "                        if (nbb_cells[i].get_text() == nbb_unformatted_code) {\n",
       "                             nbb_cells[i].set_text(nbb_formatted_code);\n",
       "                        }\n",
       "                        break;\n",
       "                    }\n",
       "                }\n",
       "            }, 500);\n",
       "            "
      ],
      "text/plain": [
       "<IPython.core.display.Javascript object>"
      ]
     },
     "metadata": {},
     "output_type": "display_data"
    }
   ],
   "source": [
    "## year 2021"
   ]
  },
  {
   "cell_type": "code",
   "execution_count": 25,
   "id": "7357598b",
   "metadata": {},
   "outputs": [
    {
     "data": {
      "text/plain": [
       "((94600, 2), (86471, 3), 94600, 86471)"
      ]
     },
     "execution_count": 25,
     "metadata": {},
     "output_type": "execute_result"
    },
    {
     "data": {
      "application/javascript": [
       "\n",
       "            setTimeout(function() {\n",
       "                var nbb_cell_id = 25;\n",
       "                var nbb_unformatted_code = \"nuosavas_kapitalas = balance_21[balance_21.laikotarpis_nuo == \\\"2020-01-01\\\"][\\n    [\\\"obj_kodas\\\", \\\"nuosavas_kapitalas\\\"]\\n]\\npelnas_pries_apmokestinima = pl_21[pl_21.laikotarpis_nuo == \\\"2020-01-01\\\"][\\n    [\\\"obj_kodas\\\", \\\"form_pav\\\", \\\"pelnas_pries_apmokestinima\\\"]\\n]\\n## check for duplicates.\\nnuosavas_kapitalas.shape, pelnas_pries_apmokestinima.shape, len(\\n    set(nuosavas_kapitalas.obj_kodas)\\n), len(set(pelnas_pries_apmokestinima.obj_kodas))\\n#  No duplicates!!\";\n",
       "                var nbb_formatted_code = \"nuosavas_kapitalas = balance_21[balance_21.laikotarpis_nuo == \\\"2020-01-01\\\"][\\n    [\\\"obj_kodas\\\", \\\"nuosavas_kapitalas\\\"]\\n]\\npelnas_pries_apmokestinima = pl_21[pl_21.laikotarpis_nuo == \\\"2020-01-01\\\"][\\n    [\\\"obj_kodas\\\", \\\"form_pav\\\", \\\"pelnas_pries_apmokestinima\\\"]\\n]\\n## check for duplicates.\\nnuosavas_kapitalas.shape, pelnas_pries_apmokestinima.shape, len(\\n    set(nuosavas_kapitalas.obj_kodas)\\n), len(set(pelnas_pries_apmokestinima.obj_kodas))\\n#  No duplicates!!\";\n",
       "                var nbb_cells = Jupyter.notebook.get_cells();\n",
       "                for (var i = 0; i < nbb_cells.length; ++i) {\n",
       "                    if (nbb_cells[i].input_prompt_number == nbb_cell_id) {\n",
       "                        if (nbb_cells[i].get_text() == nbb_unformatted_code) {\n",
       "                             nbb_cells[i].set_text(nbb_formatted_code);\n",
       "                        }\n",
       "                        break;\n",
       "                    }\n",
       "                }\n",
       "            }, 500);\n",
       "            "
      ],
      "text/plain": [
       "<IPython.core.display.Javascript object>"
      ]
     },
     "metadata": {},
     "output_type": "display_data"
    }
   ],
   "source": [
    "nuosavas_kapitalas = balance_21[balance_21.laikotarpis_nuo == \"2020-01-01\"][\n",
    "    [\"obj_kodas\", \"nuosavas_kapitalas\"]\n",
    "]\n",
    "pelnas_pries_apmokestinima = pl_21[pl_21.laikotarpis_nuo == \"2020-01-01\"][\n",
    "    [\"obj_kodas\", \"form_pav\", \"pelnas_pries_apmokestinima\"]\n",
    "]\n",
    "## check for duplicates.\n",
    "nuosavas_kapitalas.shape, pelnas_pries_apmokestinima.shape, len(\n",
    "    set(nuosavas_kapitalas.obj_kodas)\n",
    "), len(set(pelnas_pries_apmokestinima.obj_kodas))\n",
    "#  No duplicates!!"
   ]
  },
  {
   "cell_type": "code",
   "execution_count": 26,
   "id": "1dbfd714",
   "metadata": {},
   "outputs": [
    {
     "data": {
      "application/javascript": [
       "\n",
       "            setTimeout(function() {\n",
       "                var nbb_cell_id = 26;\n",
       "                var nbb_unformatted_code = \"merged = nuosavas_kapitalas.merge(\\n    pelnas_pries_apmokestinima, on=\\\"obj_kodas\\\", how=\\\"inner\\\"\\n)\\nyear_21_result = merged.groupby('form_pav').agg({'obj_kodas':'count', \\n                         'nuosavas_kapitalas':'mean', \\n                         'pelnas_pries_apmokestinima':'mean', }).apply(round).rename(columns=dict(obj_kodas='count'))\";\n",
       "                var nbb_formatted_code = \"merged = nuosavas_kapitalas.merge(\\n    pelnas_pries_apmokestinima, on=\\\"obj_kodas\\\", how=\\\"inner\\\"\\n)\\nyear_21_result = (\\n    merged.groupby(\\\"form_pav\\\")\\n    .agg(\\n        {\\n            \\\"obj_kodas\\\": \\\"count\\\",\\n            \\\"nuosavas_kapitalas\\\": \\\"mean\\\",\\n            \\\"pelnas_pries_apmokestinima\\\": \\\"mean\\\",\\n        }\\n    )\\n    .apply(round)\\n    .rename(columns=dict(obj_kodas=\\\"count\\\"))\\n)\";\n",
       "                var nbb_cells = Jupyter.notebook.get_cells();\n",
       "                for (var i = 0; i < nbb_cells.length; ++i) {\n",
       "                    if (nbb_cells[i].input_prompt_number == nbb_cell_id) {\n",
       "                        if (nbb_cells[i].get_text() == nbb_unformatted_code) {\n",
       "                             nbb_cells[i].set_text(nbb_formatted_code);\n",
       "                        }\n",
       "                        break;\n",
       "                    }\n",
       "                }\n",
       "            }, 500);\n",
       "            "
      ],
      "text/plain": [
       "<IPython.core.display.Javascript object>"
      ]
     },
     "metadata": {},
     "output_type": "display_data"
    }
   ],
   "source": [
    "merged = nuosavas_kapitalas.merge(\n",
    "    pelnas_pries_apmokestinima, on=\"obj_kodas\", how=\"inner\"\n",
    ")\n",
    "year_21_result = merged.groupby('form_pav').agg({'obj_kodas':'count', \n",
    "                         'nuosavas_kapitalas':'mean', \n",
    "                         'pelnas_pries_apmokestinima':'mean', }).apply(round).rename(columns=dict(obj_kodas='count'))\n"
   ]
  },
  {
   "cell_type": "code",
   "execution_count": 27,
   "id": "150a4d3c",
   "metadata": {},
   "outputs": [
    {
     "data": {
      "text/html": [
       "<div>\n",
       "<style scoped>\n",
       "    .dataframe tbody tr th:only-of-type {\n",
       "        vertical-align: middle;\n",
       "    }\n",
       "\n",
       "    .dataframe tbody tr th {\n",
       "        vertical-align: top;\n",
       "    }\n",
       "\n",
       "    .dataframe thead th {\n",
       "        text-align: right;\n",
       "    }\n",
       "</style>\n",
       "<table border=\"1\" class=\"dataframe\">\n",
       "  <thead>\n",
       "    <tr style=\"text-align: right;\">\n",
       "      <th></th>\n",
       "      <th>count</th>\n",
       "      <th>nuosavas_kapitalas</th>\n",
       "      <th>pelnas_pries_apmokestinima</th>\n",
       "    </tr>\n",
       "    <tr>\n",
       "      <th>form_pav</th>\n",
       "      <th></th>\n",
       "      <th></th>\n",
       "      <th></th>\n",
       "    </tr>\n",
       "  </thead>\n",
       "  <tbody>\n",
       "    <tr>\n",
       "      <th>Akcinė bendrovė</th>\n",
       "      <td>227</td>\n",
       "      <td>44076779.0</td>\n",
       "      <td>2957779.0</td>\n",
       "    </tr>\n",
       "    <tr>\n",
       "      <th>Asociacija</th>\n",
       "      <td>2087</td>\n",
       "      <td>134370.0</td>\n",
       "      <td>-735.0</td>\n",
       "    </tr>\n",
       "    <tr>\n",
       "      <th>Individuali įmonė</th>\n",
       "      <td>554</td>\n",
       "      <td>140439.0</td>\n",
       "      <td>15009.0</td>\n",
       "    </tr>\n",
       "    <tr>\n",
       "      <th>Komanditinė ūkinė bendrija</th>\n",
       "      <td>29</td>\n",
       "      <td>3063515.0</td>\n",
       "      <td>365933.0</td>\n",
       "    </tr>\n",
       "    <tr>\n",
       "      <th>Kooperatinė bendrovė</th>\n",
       "      <td>318</td>\n",
       "      <td>771014.0</td>\n",
       "      <td>81070.0</td>\n",
       "    </tr>\n",
       "    <tr>\n",
       "      <th>Labdaros ir paramos fondas</th>\n",
       "      <td>104</td>\n",
       "      <td>17065.0</td>\n",
       "      <td>155.0</td>\n",
       "    </tr>\n",
       "    <tr>\n",
       "      <th>Mažoji bendrija</th>\n",
       "      <td>12335</td>\n",
       "      <td>20725.0</td>\n",
       "      <td>9023.0</td>\n",
       "    </tr>\n",
       "    <tr>\n",
       "      <th>Savivaldybės įmonė</th>\n",
       "      <td>19</td>\n",
       "      <td>3722859.0</td>\n",
       "      <td>20645.0</td>\n",
       "    </tr>\n",
       "    <tr>\n",
       "      <th>Tikroji ūkinė bendrija</th>\n",
       "      <td>6</td>\n",
       "      <td>173723.0</td>\n",
       "      <td>11852.0</td>\n",
       "    </tr>\n",
       "    <tr>\n",
       "      <th>Uždaroji akcinė bendrovė</th>\n",
       "      <td>67280</td>\n",
       "      <td>785954.0</td>\n",
       "      <td>133747.0</td>\n",
       "    </tr>\n",
       "    <tr>\n",
       "      <th>Užsienio juridinio asmens filialas</th>\n",
       "      <td>14</td>\n",
       "      <td>-173293.0</td>\n",
       "      <td>223938.0</td>\n",
       "    </tr>\n",
       "    <tr>\n",
       "      <th>Valstybės įmonė</th>\n",
       "      <td>13</td>\n",
       "      <td>87544165.0</td>\n",
       "      <td>3606674.0</td>\n",
       "    </tr>\n",
       "    <tr>\n",
       "      <th>Viešoji įstaiga</th>\n",
       "      <td>3136</td>\n",
       "      <td>41667.0</td>\n",
       "      <td>9116.0</td>\n",
       "    </tr>\n",
       "    <tr>\n",
       "      <th>Žemės ūkio bendrovė</th>\n",
       "      <td>349</td>\n",
       "      <td>1672066.0</td>\n",
       "      <td>139745.0</td>\n",
       "    </tr>\n",
       "  </tbody>\n",
       "</table>\n",
       "</div>"
      ],
      "text/plain": [
       "                                    count  nuosavas_kapitalas  \\\n",
       "form_pav                                                        \n",
       "Akcinė bendrovė                       227          44076779.0   \n",
       "Asociacija                           2087            134370.0   \n",
       "Individuali įmonė                     554            140439.0   \n",
       "Komanditinė ūkinė bendrija             29           3063515.0   \n",
       "Kooperatinė bendrovė                  318            771014.0   \n",
       "Labdaros ir paramos fondas            104             17065.0   \n",
       "Mažoji bendrija                     12335             20725.0   \n",
       "Savivaldybės įmonė                     19           3722859.0   \n",
       "Tikroji ūkinė bendrija                  6            173723.0   \n",
       "Uždaroji akcinė bendrovė            67280            785954.0   \n",
       "Užsienio juridinio asmens filialas     14           -173293.0   \n",
       "Valstybės įmonė                        13          87544165.0   \n",
       "Viešoji įstaiga                      3136             41667.0   \n",
       "Žemės ūkio bendrovė                   349           1672066.0   \n",
       "\n",
       "                                    pelnas_pries_apmokestinima  \n",
       "form_pav                                                        \n",
       "Akcinė bendrovė                                      2957779.0  \n",
       "Asociacija                                              -735.0  \n",
       "Individuali įmonė                                      15009.0  \n",
       "Komanditinė ūkinė bendrija                            365933.0  \n",
       "Kooperatinė bendrovė                                   81070.0  \n",
       "Labdaros ir paramos fondas                               155.0  \n",
       "Mažoji bendrija                                         9023.0  \n",
       "Savivaldybės įmonė                                     20645.0  \n",
       "Tikroji ūkinė bendrija                                 11852.0  \n",
       "Uždaroji akcinė bendrovė                              133747.0  \n",
       "Užsienio juridinio asmens filialas                    223938.0  \n",
       "Valstybės įmonė                                      3606674.0  \n",
       "Viešoji įstaiga                                         9116.0  \n",
       "Žemės ūkio bendrovė                                   139745.0  "
      ]
     },
     "execution_count": 27,
     "metadata": {},
     "output_type": "execute_result"
    },
    {
     "data": {
      "application/javascript": [
       "\n",
       "            setTimeout(function() {\n",
       "                var nbb_cell_id = 27;\n",
       "                var nbb_unformatted_code = \"year_21_result\";\n",
       "                var nbb_formatted_code = \"year_21_result\";\n",
       "                var nbb_cells = Jupyter.notebook.get_cells();\n",
       "                for (var i = 0; i < nbb_cells.length; ++i) {\n",
       "                    if (nbb_cells[i].input_prompt_number == nbb_cell_id) {\n",
       "                        if (nbb_cells[i].get_text() == nbb_unformatted_code) {\n",
       "                             nbb_cells[i].set_text(nbb_formatted_code);\n",
       "                        }\n",
       "                        break;\n",
       "                    }\n",
       "                }\n",
       "            }, 500);\n",
       "            "
      ],
      "text/plain": [
       "<IPython.core.display.Javascript object>"
      ]
     },
     "metadata": {},
     "output_type": "display_data"
    }
   ],
   "source": [
    "year_21_result"
   ]
  },
  {
   "cell_type": "code",
   "execution_count": 28,
   "id": "0105be84",
   "metadata": {},
   "outputs": [
    {
     "data": {
      "application/javascript": [
       "\n",
       "            setTimeout(function() {\n",
       "                var nbb_cell_id = 28;\n",
       "                var nbb_unformatted_code = \"## additional task -> write a function do not repeat the code.\";\n",
       "                var nbb_formatted_code = \"## additional task -> write a function do not repeat the code.\";\n",
       "                var nbb_cells = Jupyter.notebook.get_cells();\n",
       "                for (var i = 0; i < nbb_cells.length; ++i) {\n",
       "                    if (nbb_cells[i].input_prompt_number == nbb_cell_id) {\n",
       "                        if (nbb_cells[i].get_text() == nbb_unformatted_code) {\n",
       "                             nbb_cells[i].set_text(nbb_formatted_code);\n",
       "                        }\n",
       "                        break;\n",
       "                    }\n",
       "                }\n",
       "            }, 500);\n",
       "            "
      ],
      "text/plain": [
       "<IPython.core.display.Javascript object>"
      ]
     },
     "metadata": {},
     "output_type": "display_data"
    }
   ],
   "source": [
    "## additional task -> write a function do not repeat the code."
   ]
  },
  {
   "cell_type": "code",
   "execution_count": 29,
   "id": "88dcab74",
   "metadata": {},
   "outputs": [
    {
     "data": {
      "application/javascript": [
       "\n",
       "            setTimeout(function() {\n",
       "                var nbb_cell_id = 29;\n",
       "                var nbb_unformatted_code = \"## additional tasks\\n# 1. add to a single table that holds hieararchical structure.\";\n",
       "                var nbb_formatted_code = \"## additional tasks\\n# 1. add to a single table that holds hieararchical structure.\";\n",
       "                var nbb_cells = Jupyter.notebook.get_cells();\n",
       "                for (var i = 0; i < nbb_cells.length; ++i) {\n",
       "                    if (nbb_cells[i].input_prompt_number == nbb_cell_id) {\n",
       "                        if (nbb_cells[i].get_text() == nbb_unformatted_code) {\n",
       "                             nbb_cells[i].set_text(nbb_formatted_code);\n",
       "                        }\n",
       "                        break;\n",
       "                    }\n",
       "                }\n",
       "            }, 500);\n",
       "            "
      ],
      "text/plain": [
       "<IPython.core.display.Javascript object>"
      ]
     },
     "metadata": {},
     "output_type": "display_data"
    }
   ],
   "source": [
    "## additional tasks\n",
    "# 1. add to a single table that holds hieararchical structure."
   ]
  },
  {
   "cell_type": "code",
   "execution_count": 177,
   "id": "36c09dc1",
   "metadata": {},
   "outputs": [
    {
     "data": {
      "application/javascript": [
       "\n",
       "            setTimeout(function() {\n",
       "                var nbb_cell_id = 177;\n",
       "                var nbb_unformatted_code = \"merged_result = pd.concat({\\\"2020\\\": year_20_result, \\\"2021\\\": year_21_result}, axis=1).fillna(0)\";\n",
       "                var nbb_formatted_code = \"merged_result = pd.concat(\\n    {\\\"2020\\\": year_20_result, \\\"2021\\\": year_21_result}, axis=1\\n).fillna(0)\";\n",
       "                var nbb_cells = Jupyter.notebook.get_cells();\n",
       "                for (var i = 0; i < nbb_cells.length; ++i) {\n",
       "                    if (nbb_cells[i].input_prompt_number == nbb_cell_id) {\n",
       "                        if (nbb_cells[i].get_text() == nbb_unformatted_code) {\n",
       "                             nbb_cells[i].set_text(nbb_formatted_code);\n",
       "                        }\n",
       "                        break;\n",
       "                    }\n",
       "                }\n",
       "            }, 500);\n",
       "            "
      ],
      "text/plain": [
       "<IPython.core.display.Javascript object>"
      ]
     },
     "metadata": {},
     "output_type": "display_data"
    }
   ],
   "source": [
    "merged_result = pd.concat(\n",
    "    {\"2020\": year_20_result, \"2021\": year_21_result}, axis=1\n",
    ").fillna(0)"
   ]
  },
  {
   "cell_type": "code",
   "execution_count": 178,
   "id": "7be406f3",
   "metadata": {},
   "outputs": [
    {
     "data": {
      "text/html": [
       "<div>\n",
       "<style scoped>\n",
       "    .dataframe tbody tr th:only-of-type {\n",
       "        vertical-align: middle;\n",
       "    }\n",
       "\n",
       "    .dataframe tbody tr th {\n",
       "        vertical-align: top;\n",
       "    }\n",
       "\n",
       "    .dataframe thead tr th {\n",
       "        text-align: left;\n",
       "    }\n",
       "\n",
       "    .dataframe thead tr:last-of-type th {\n",
       "        text-align: right;\n",
       "    }\n",
       "</style>\n",
       "<table border=\"1\" class=\"dataframe\">\n",
       "  <thead>\n",
       "    <tr>\n",
       "      <th></th>\n",
       "      <th colspan=\"3\" halign=\"left\">2020</th>\n",
       "      <th colspan=\"3\" halign=\"left\">2021</th>\n",
       "    </tr>\n",
       "    <tr>\n",
       "      <th></th>\n",
       "      <th>count</th>\n",
       "      <th>nuosavas_kapitalas</th>\n",
       "      <th>pelnas_pries_apmokestinima</th>\n",
       "      <th>count</th>\n",
       "      <th>nuosavas_kapitalas</th>\n",
       "      <th>pelnas_pries_apmokestinima</th>\n",
       "    </tr>\n",
       "    <tr>\n",
       "      <th>form_pav</th>\n",
       "      <th></th>\n",
       "      <th></th>\n",
       "      <th></th>\n",
       "      <th></th>\n",
       "      <th></th>\n",
       "      <th></th>\n",
       "    </tr>\n",
       "  </thead>\n",
       "  <tbody>\n",
       "    <tr>\n",
       "      <th>Akcinė bendrovė</th>\n",
       "      <td>234</td>\n",
       "      <td>38071183.00</td>\n",
       "      <td>2949222.00</td>\n",
       "      <td>227.00</td>\n",
       "      <td>44076779.00</td>\n",
       "      <td>2957779.00</td>\n",
       "    </tr>\n",
       "    <tr>\n",
       "      <th>Asociacija</th>\n",
       "      <td>1984</td>\n",
       "      <td>15481.00</td>\n",
       "      <td>65.00</td>\n",
       "      <td>2087.00</td>\n",
       "      <td>134370.00</td>\n",
       "      <td>-735.00</td>\n",
       "    </tr>\n",
       "    <tr>\n",
       "      <th>Biudžetinė įstaiga</th>\n",
       "      <td>2</td>\n",
       "      <td>141074.00</td>\n",
       "      <td>16242.00</td>\n",
       "      <td>0.00</td>\n",
       "      <td>0.00</td>\n",
       "      <td>0.00</td>\n",
       "    </tr>\n",
       "    <tr>\n",
       "      <th>Individuali įmonė</th>\n",
       "      <td>562</td>\n",
       "      <td>191930.00</td>\n",
       "      <td>19217.00</td>\n",
       "      <td>554.00</td>\n",
       "      <td>140439.00</td>\n",
       "      <td>15009.00</td>\n",
       "    </tr>\n",
       "    <tr>\n",
       "      <th>Komanditinė ūkinė bendrija</th>\n",
       "      <td>23</td>\n",
       "      <td>1442068.00</td>\n",
       "      <td>711898.00</td>\n",
       "      <td>29.00</td>\n",
       "      <td>3063515.00</td>\n",
       "      <td>365933.00</td>\n",
       "    </tr>\n",
       "    <tr>\n",
       "      <th>Kooperatinė bendrovė</th>\n",
       "      <td>317</td>\n",
       "      <td>698003.00</td>\n",
       "      <td>36818.00</td>\n",
       "      <td>318.00</td>\n",
       "      <td>771014.00</td>\n",
       "      <td>81070.00</td>\n",
       "    </tr>\n",
       "    <tr>\n",
       "      <th>Labdaros ir paramos fondas</th>\n",
       "      <td>91</td>\n",
       "      <td>10945.00</td>\n",
       "      <td>141.00</td>\n",
       "      <td>104.00</td>\n",
       "      <td>17065.00</td>\n",
       "      <td>155.00</td>\n",
       "    </tr>\n",
       "    <tr>\n",
       "      <th>Lietuvos prekyb.,pramon. rūmų asociacija</th>\n",
       "      <td>1</td>\n",
       "      <td>64491.00</td>\n",
       "      <td>0.00</td>\n",
       "      <td>0.00</td>\n",
       "      <td>0.00</td>\n",
       "      <td>0.00</td>\n",
       "    </tr>\n",
       "    <tr>\n",
       "      <th>Mažoji bendrija</th>\n",
       "      <td>8562</td>\n",
       "      <td>18645.00</td>\n",
       "      <td>7669.00</td>\n",
       "      <td>12335.00</td>\n",
       "      <td>20725.00</td>\n",
       "      <td>9023.00</td>\n",
       "    </tr>\n",
       "    <tr>\n",
       "      <th>Savivaldybės įmonė</th>\n",
       "      <td>18</td>\n",
       "      <td>3891527.00</td>\n",
       "      <td>86824.00</td>\n",
       "      <td>19.00</td>\n",
       "      <td>3722859.00</td>\n",
       "      <td>20645.00</td>\n",
       "    </tr>\n",
       "    <tr>\n",
       "      <th>Tikroji ūkinė bendrija</th>\n",
       "      <td>4</td>\n",
       "      <td>470602.00</td>\n",
       "      <td>-103957.00</td>\n",
       "      <td>6.00</td>\n",
       "      <td>173723.00</td>\n",
       "      <td>11852.00</td>\n",
       "    </tr>\n",
       "    <tr>\n",
       "      <th>Uždaroji akcinė bendrovė</th>\n",
       "      <td>64401</td>\n",
       "      <td>582191.00</td>\n",
       "      <td>109280.00</td>\n",
       "      <td>67280.00</td>\n",
       "      <td>785954.00</td>\n",
       "      <td>133747.00</td>\n",
       "    </tr>\n",
       "    <tr>\n",
       "      <th>Užsienio juridinio asmens filialas</th>\n",
       "      <td>13</td>\n",
       "      <td>-296372.00</td>\n",
       "      <td>98792.00</td>\n",
       "      <td>14.00</td>\n",
       "      <td>-173293.00</td>\n",
       "      <td>223938.00</td>\n",
       "    </tr>\n",
       "    <tr>\n",
       "      <th>Valstybės įmonė</th>\n",
       "      <td>13</td>\n",
       "      <td>94670868.00</td>\n",
       "      <td>5804726.00</td>\n",
       "      <td>13.00</td>\n",
       "      <td>87544165.00</td>\n",
       "      <td>3606674.00</td>\n",
       "    </tr>\n",
       "    <tr>\n",
       "      <th>Viešoji įstaiga</th>\n",
       "      <td>2868</td>\n",
       "      <td>36791.00</td>\n",
       "      <td>9029.00</td>\n",
       "      <td>3136.00</td>\n",
       "      <td>41667.00</td>\n",
       "      <td>9116.00</td>\n",
       "    </tr>\n",
       "    <tr>\n",
       "      <th>Žemės ūkio bendrovė</th>\n",
       "      <td>340</td>\n",
       "      <td>1497443.00</td>\n",
       "      <td>44135.00</td>\n",
       "      <td>349.00</td>\n",
       "      <td>1672066.00</td>\n",
       "      <td>139745.00</td>\n",
       "    </tr>\n",
       "  </tbody>\n",
       "</table>\n",
       "</div>"
      ],
      "text/plain": [
       "                                           2020                     \\\n",
       "                                          count nuosavas_kapitalas   \n",
       "form_pav                                                             \n",
       "Akcinė bendrovė                             234        38071183.00   \n",
       "Asociacija                                 1984           15481.00   \n",
       "Biudžetinė įstaiga                            2          141074.00   \n",
       "Individuali įmonė                           562          191930.00   \n",
       "Komanditinė ūkinė bendrija                   23         1442068.00   \n",
       "Kooperatinė bendrovė                        317          698003.00   \n",
       "Labdaros ir paramos fondas                   91           10945.00   \n",
       "Lietuvos prekyb.,pramon. rūmų asociacija      1           64491.00   \n",
       "Mažoji bendrija                            8562           18645.00   \n",
       "Savivaldybės įmonė                           18         3891527.00   \n",
       "Tikroji ūkinė bendrija                        4          470602.00   \n",
       "Uždaroji akcinė bendrovė                  64401          582191.00   \n",
       "Užsienio juridinio asmens filialas           13         -296372.00   \n",
       "Valstybės įmonė                              13        94670868.00   \n",
       "Viešoji įstaiga                            2868           36791.00   \n",
       "Žemės ūkio bendrovė                         340         1497443.00   \n",
       "\n",
       "                                                                        2021  \\\n",
       "                                         pelnas_pries_apmokestinima    count   \n",
       "form_pav                                                                       \n",
       "Akcinė bendrovė                                          2949222.00   227.00   \n",
       "Asociacija                                                    65.00  2087.00   \n",
       "Biudžetinė įstaiga                                         16242.00     0.00   \n",
       "Individuali įmonė                                          19217.00   554.00   \n",
       "Komanditinė ūkinė bendrija                                711898.00    29.00   \n",
       "Kooperatinė bendrovė                                       36818.00   318.00   \n",
       "Labdaros ir paramos fondas                                   141.00   104.00   \n",
       "Lietuvos prekyb.,pramon. rūmų asociacija                       0.00     0.00   \n",
       "Mažoji bendrija                                             7669.00 12335.00   \n",
       "Savivaldybės įmonė                                         86824.00    19.00   \n",
       "Tikroji ūkinė bendrija                                   -103957.00     6.00   \n",
       "Uždaroji akcinė bendrovė                                  109280.00 67280.00   \n",
       "Užsienio juridinio asmens filialas                         98792.00    14.00   \n",
       "Valstybės įmonė                                          5804726.00    13.00   \n",
       "Viešoji įstaiga                                             9029.00  3136.00   \n",
       "Žemės ūkio bendrovė                                        44135.00   349.00   \n",
       "\n",
       "                                                             \\\n",
       "                                         nuosavas_kapitalas   \n",
       "form_pav                                                      \n",
       "Akcinė bendrovė                                 44076779.00   \n",
       "Asociacija                                        134370.00   \n",
       "Biudžetinė įstaiga                                     0.00   \n",
       "Individuali įmonė                                 140439.00   \n",
       "Komanditinė ūkinė bendrija                       3063515.00   \n",
       "Kooperatinė bendrovė                              771014.00   \n",
       "Labdaros ir paramos fondas                         17065.00   \n",
       "Lietuvos prekyb.,pramon. rūmų asociacija               0.00   \n",
       "Mažoji bendrija                                    20725.00   \n",
       "Savivaldybės įmonė                               3722859.00   \n",
       "Tikroji ūkinė bendrija                            173723.00   \n",
       "Uždaroji akcinė bendrovė                          785954.00   \n",
       "Užsienio juridinio asmens filialas               -173293.00   \n",
       "Valstybės įmonė                                 87544165.00   \n",
       "Viešoji įstaiga                                    41667.00   \n",
       "Žemės ūkio bendrovė                              1672066.00   \n",
       "\n",
       "                                                                     \n",
       "                                         pelnas_pries_apmokestinima  \n",
       "form_pav                                                             \n",
       "Akcinė bendrovė                                          2957779.00  \n",
       "Asociacija                                                  -735.00  \n",
       "Biudžetinė įstaiga                                             0.00  \n",
       "Individuali įmonė                                          15009.00  \n",
       "Komanditinė ūkinė bendrija                                365933.00  \n",
       "Kooperatinė bendrovė                                       81070.00  \n",
       "Labdaros ir paramos fondas                                   155.00  \n",
       "Lietuvos prekyb.,pramon. rūmų asociacija                       0.00  \n",
       "Mažoji bendrija                                             9023.00  \n",
       "Savivaldybės įmonė                                         20645.00  \n",
       "Tikroji ūkinė bendrija                                     11852.00  \n",
       "Uždaroji akcinė bendrovė                                  133747.00  \n",
       "Užsienio juridinio asmens filialas                        223938.00  \n",
       "Valstybės įmonė                                          3606674.00  \n",
       "Viešoji įstaiga                                             9116.00  \n",
       "Žemės ūkio bendrovė                                       139745.00  "
      ]
     },
     "execution_count": 178,
     "metadata": {},
     "output_type": "execute_result"
    },
    {
     "data": {
      "application/javascript": [
       "\n",
       "            setTimeout(function() {\n",
       "                var nbb_cell_id = 178;\n",
       "                var nbb_unformatted_code = \"merged_result\";\n",
       "                var nbb_formatted_code = \"merged_result\";\n",
       "                var nbb_cells = Jupyter.notebook.get_cells();\n",
       "                for (var i = 0; i < nbb_cells.length; ++i) {\n",
       "                    if (nbb_cells[i].input_prompt_number == nbb_cell_id) {\n",
       "                        if (nbb_cells[i].get_text() == nbb_unformatted_code) {\n",
       "                             nbb_cells[i].set_text(nbb_formatted_code);\n",
       "                        }\n",
       "                        break;\n",
       "                    }\n",
       "                }\n",
       "            }, 500);\n",
       "            "
      ],
      "text/plain": [
       "<IPython.core.display.Javascript object>"
      ]
     },
     "metadata": {},
     "output_type": "display_data"
    }
   ],
   "source": [
    "merged_result"
   ]
  },
  {
   "cell_type": "markdown",
   "id": "f74cc291",
   "metadata": {},
   "source": [
    "# 3\n",
    "Atrinkti įmones, kurių “nuosavas_kapitalas” buvo didesnis negu nuosavo kapitalo mediana 2020 ir 2021 metais.\n",
    "\n",
    "`pasiulymas mediana UAB ir atrinkti UAB imones.`\n",
    "`analogiskas pratimas MB`"
   ]
  },
  {
   "cell_type": "code",
   "execution_count": 32,
   "id": "70f005f4",
   "metadata": {},
   "outputs": [
    {
     "data": {
      "application/javascript": [
       "\n",
       "            setTimeout(function() {\n",
       "                var nbb_cell_id = 32;\n",
       "                var nbb_unformatted_code = \"uab_condition_21 = balance_21.form_pav == \\\"U\\u017edaroji akcin\\u0117 bendrov\\u0117\\\"\\nuab_condition_20 = balance_20.form_pav == \\\"U\\u017edaroji akcin\\u0117 bendrov\\u0117\\\"\\nlaikotarpis_condition_21 = balance_21.laikotarpis_nuo == \\\"2020-01-01\\\"\\nlaikotarpis_condition_20 = balance_20.laikotarpis_nuo == \\\"2019-01-01\\\"\\n\\ncapital_median_21 = balance_21[\\n    laikotarpis_condition_21 & uab_condition_21\\n][[\\\"obj_kodas\\\", \\\"nuosavas_kapitalas\\\"]].nuosavas_kapitalas.median()\\n\\ncapital_median_20 = balance_20[\\nlaikotarpis_condition_20 & uab_condition_20\\n][[\\\"obj_kodas\\\", \\\"nuosavas_kapitalas\\\"]].nuosavas_kapitalas.median()\";\n",
       "                var nbb_formatted_code = \"uab_condition_21 = balance_21.form_pav == \\\"U\\u017edaroji akcin\\u0117 bendrov\\u0117\\\"\\nuab_condition_20 = balance_20.form_pav == \\\"U\\u017edaroji akcin\\u0117 bendrov\\u0117\\\"\\nlaikotarpis_condition_21 = balance_21.laikotarpis_nuo == \\\"2020-01-01\\\"\\nlaikotarpis_condition_20 = balance_20.laikotarpis_nuo == \\\"2019-01-01\\\"\\n\\ncapital_median_21 = balance_21[laikotarpis_condition_21 & uab_condition_21][\\n    [\\\"obj_kodas\\\", \\\"nuosavas_kapitalas\\\"]\\n].nuosavas_kapitalas.median()\\n\\ncapital_median_20 = balance_20[laikotarpis_condition_20 & uab_condition_20][\\n    [\\\"obj_kodas\\\", \\\"nuosavas_kapitalas\\\"]\\n].nuosavas_kapitalas.median()\";\n",
       "                var nbb_cells = Jupyter.notebook.get_cells();\n",
       "                for (var i = 0; i < nbb_cells.length; ++i) {\n",
       "                    if (nbb_cells[i].input_prompt_number == nbb_cell_id) {\n",
       "                        if (nbb_cells[i].get_text() == nbb_unformatted_code) {\n",
       "                             nbb_cells[i].set_text(nbb_formatted_code);\n",
       "                        }\n",
       "                        break;\n",
       "                    }\n",
       "                }\n",
       "            }, 500);\n",
       "            "
      ],
      "text/plain": [
       "<IPython.core.display.Javascript object>"
      ]
     },
     "metadata": {},
     "output_type": "display_data"
    }
   ],
   "source": [
    "uab_condition_21 = balance_21.form_pav == \"Uždaroji akcinė bendrovė\"\n",
    "uab_condition_20 = balance_20.form_pav == \"Uždaroji akcinė bendrovė\"\n",
    "laikotarpis_condition_21 = balance_21.laikotarpis_nuo == \"2020-01-01\"\n",
    "laikotarpis_condition_20 = balance_20.laikotarpis_nuo == \"2019-01-01\"\n",
    "\n",
    "capital_median_21 = balance_21[laikotarpis_condition_21 & uab_condition_21][\n",
    "    [\"obj_kodas\", \"nuosavas_kapitalas\"]\n",
    "].nuosavas_kapitalas.median()\n",
    "\n",
    "capital_median_20 = balance_20[laikotarpis_condition_20 & uab_condition_20][\n",
    "    [\"obj_kodas\", \"nuosavas_kapitalas\"]\n",
    "].nuosavas_kapitalas.median()"
   ]
  },
  {
   "cell_type": "code",
   "execution_count": 35,
   "id": "43580096",
   "metadata": {},
   "outputs": [
    {
     "data": {
      "text/plain": [
       "(27739.0, 31843.0)"
      ]
     },
     "execution_count": 35,
     "metadata": {},
     "output_type": "execute_result"
    },
    {
     "data": {
      "application/javascript": [
       "\n",
       "            setTimeout(function() {\n",
       "                var nbb_cell_id = 35;\n",
       "                var nbb_unformatted_code = \"capital_median_20, capital_median_21\";\n",
       "                var nbb_formatted_code = \"capital_median_20, capital_median_21\";\n",
       "                var nbb_cells = Jupyter.notebook.get_cells();\n",
       "                for (var i = 0; i < nbb_cells.length; ++i) {\n",
       "                    if (nbb_cells[i].input_prompt_number == nbb_cell_id) {\n",
       "                        if (nbb_cells[i].get_text() == nbb_unformatted_code) {\n",
       "                             nbb_cells[i].set_text(nbb_formatted_code);\n",
       "                        }\n",
       "                        break;\n",
       "                    }\n",
       "                }\n",
       "            }, 500);\n",
       "            "
      ],
      "text/plain": [
       "<IPython.core.display.Javascript object>"
      ]
     },
     "metadata": {},
     "output_type": "display_data"
    }
   ],
   "source": [
    "capital_median_20, capital_median_21"
   ]
  },
  {
   "cell_type": "code",
   "execution_count": 72,
   "id": "5c77acb5",
   "metadata": {},
   "outputs": [
    {
     "data": {
      "text/html": [
       "<div>\n",
       "<style scoped>\n",
       "    .dataframe tbody tr th:only-of-type {\n",
       "        vertical-align: middle;\n",
       "    }\n",
       "\n",
       "    .dataframe tbody tr th {\n",
       "        vertical-align: top;\n",
       "    }\n",
       "\n",
       "    .dataframe thead th {\n",
       "        text-align: right;\n",
       "    }\n",
       "</style>\n",
       "<table border=\"1\" class=\"dataframe\">\n",
       "  <thead>\n",
       "    <tr style=\"text-align: right;\">\n",
       "      <th></th>\n",
       "      <th>obj_kodas</th>\n",
       "      <th>obj_pav</th>\n",
       "      <th>form_kodas</th>\n",
       "      <th>form_pav</th>\n",
       "      <th>stat_statusas</th>\n",
       "      <th>stat_pav</th>\n",
       "      <th>template_id</th>\n",
       "      <th>template_name</th>\n",
       "      <th>standard_id</th>\n",
       "      <th>standard_name</th>\n",
       "      <th>laikotarpis_nuo</th>\n",
       "      <th>laikotarpis_iki</th>\n",
       "      <th>reg_date</th>\n",
       "      <th>nuosavas_kapitalas</th>\n",
       "      <th>mok_sumos_ir_isipareigojimai</th>\n",
       "      <th>ilgalaikis_turtas</th>\n",
       "      <th>trumpalaikis_turtas</th>\n",
       "      <th>formavimo_data</th>\n",
       "    </tr>\n",
       "  </thead>\n",
       "  <tbody>\n",
       "    <tr>\n",
       "      <th>92897</th>\n",
       "      <td>302489393</td>\n",
       "      <td>UAB \"ME investicija\"</td>\n",
       "      <td>310</td>\n",
       "      <td>Uždaroji akcinė bendrovė</td>\n",
       "      <td>0</td>\n",
       "      <td>Teisinis stat neįregistruotas</td>\n",
       "      <td>FS0130</td>\n",
       "      <td>Vidutinių ir didelių įmonių finansinių ataskai...</td>\n",
       "      <td>BST123</td>\n",
       "      <td>BALANSAS</td>\n",
       "      <td>2019-01-01</td>\n",
       "      <td>2019-12-31</td>\n",
       "      <td>2020-06-05</td>\n",
       "      <td>382319766.00</td>\n",
       "      <td>112754219.00</td>\n",
       "      <td>270807863.00</td>\n",
       "      <td>225068719.00</td>\n",
       "      <td>2022-12-01</td>\n",
       "    </tr>\n",
       "    <tr>\n",
       "      <th>90259</th>\n",
       "      <td>126168458</td>\n",
       "      <td>LEKSITA UAB</td>\n",
       "      <td>310</td>\n",
       "      <td>Uždaroji akcinė bendrovė</td>\n",
       "      <td>0</td>\n",
       "      <td>Teisinis stat neįregistruotas</td>\n",
       "      <td>FS0518</td>\n",
       "      <td>Atskirosios finansinės būklės ataskaitos duomenys</td>\n",
       "      <td>BST210</td>\n",
       "      <td>BALANSAS</td>\n",
       "      <td>2019-01-01</td>\n",
       "      <td>2019-12-31</td>\n",
       "      <td>2020-05-21</td>\n",
       "      <td>556159000.00</td>\n",
       "      <td>NaN</td>\n",
       "      <td>325576000.00</td>\n",
       "      <td>230696000.00</td>\n",
       "      <td>2022-12-01</td>\n",
       "    </tr>\n",
       "    <tr>\n",
       "      <th>10090</th>\n",
       "      <td>122351387</td>\n",
       "      <td>UAB \"Thermo Fisher Scientific Baltics\"</td>\n",
       "      <td>310</td>\n",
       "      <td>Uždaroji akcinė bendrovė</td>\n",
       "      <td>0</td>\n",
       "      <td>Teisinis stat neįregistruotas</td>\n",
       "      <td>FS0130</td>\n",
       "      <td>Vidutinių ir didelių įmonių finansinių ataskai...</td>\n",
       "      <td>BST123</td>\n",
       "      <td>BALANSAS</td>\n",
       "      <td>2019-01-01</td>\n",
       "      <td>2019-12-31</td>\n",
       "      <td>2020-05-25</td>\n",
       "      <td>835363488.00</td>\n",
       "      <td>40745829.00</td>\n",
       "      <td>102710566.00</td>\n",
       "      <td>775439119.00</td>\n",
       "      <td>2022-12-01</td>\n",
       "    </tr>\n",
       "    <tr>\n",
       "      <th>6544</th>\n",
       "      <td>301066547</td>\n",
       "      <td>MAXIMA GRUPĖ UAB</td>\n",
       "      <td>310</td>\n",
       "      <td>Uždaroji akcinė bendrovė</td>\n",
       "      <td>0</td>\n",
       "      <td>Teisinis stat neįregistruotas</td>\n",
       "      <td>FS0518</td>\n",
       "      <td>Atskirosios finansinės būklės ataskaitos duomenys</td>\n",
       "      <td>BST210</td>\n",
       "      <td>BALANSAS</td>\n",
       "      <td>2019-01-01</td>\n",
       "      <td>2019-12-31</td>\n",
       "      <td>2020-05-04</td>\n",
       "      <td>1459354000.00</td>\n",
       "      <td>NaN</td>\n",
       "      <td>1803817000.00</td>\n",
       "      <td>10401000.00</td>\n",
       "      <td>2022-12-01</td>\n",
       "    </tr>\n",
       "    <tr>\n",
       "      <th>75917</th>\n",
       "      <td>302608755</td>\n",
       "      <td>Uždaroji akcinė bendrovė \"Vilniaus prekyba\"</td>\n",
       "      <td>310</td>\n",
       "      <td>Uždaroji akcinė bendrovė</td>\n",
       "      <td>0</td>\n",
       "      <td>Teisinis stat neįregistruotas</td>\n",
       "      <td>FS0518</td>\n",
       "      <td>Atskirosios finansinės būklės ataskaitos duomenys</td>\n",
       "      <td>BST210</td>\n",
       "      <td>BALANSAS</td>\n",
       "      <td>2019-01-01</td>\n",
       "      <td>2019-12-31</td>\n",
       "      <td>2020-05-12</td>\n",
       "      <td>1658114000.00</td>\n",
       "      <td>NaN</td>\n",
       "      <td>1777890000.00</td>\n",
       "      <td>96465000.00</td>\n",
       "      <td>2022-12-01</td>\n",
       "    </tr>\n",
       "  </tbody>\n",
       "</table>\n",
       "</div>"
      ],
      "text/plain": [
       "       obj_kodas                                      obj_pav  form_kodas  \\\n",
       "92897  302489393                         UAB \"ME investicija\"         310   \n",
       "90259  126168458                                  LEKSITA UAB         310   \n",
       "10090  122351387       UAB \"Thermo Fisher Scientific Baltics\"         310   \n",
       "6544   301066547                             MAXIMA GRUPĖ UAB         310   \n",
       "75917  302608755  Uždaroji akcinė bendrovė \"Vilniaus prekyba\"         310   \n",
       "\n",
       "                       form_pav  stat_statusas                       stat_pav  \\\n",
       "92897  Uždaroji akcinė bendrovė              0  Teisinis stat neįregistruotas   \n",
       "90259  Uždaroji akcinė bendrovė              0  Teisinis stat neįregistruotas   \n",
       "10090  Uždaroji akcinė bendrovė              0  Teisinis stat neįregistruotas   \n",
       "6544   Uždaroji akcinė bendrovė              0  Teisinis stat neįregistruotas   \n",
       "75917  Uždaroji akcinė bendrovė              0  Teisinis stat neįregistruotas   \n",
       "\n",
       "      template_id                                      template_name  \\\n",
       "92897      FS0130  Vidutinių ir didelių įmonių finansinių ataskai...   \n",
       "90259      FS0518  Atskirosios finansinės būklės ataskaitos duomenys   \n",
       "10090      FS0130  Vidutinių ir didelių įmonių finansinių ataskai...   \n",
       "6544       FS0518  Atskirosios finansinės būklės ataskaitos duomenys   \n",
       "75917      FS0518  Atskirosios finansinės būklės ataskaitos duomenys   \n",
       "\n",
       "      standard_id standard_name laikotarpis_nuo laikotarpis_iki    reg_date  \\\n",
       "92897      BST123      BALANSAS      2019-01-01      2019-12-31  2020-06-05   \n",
       "90259      BST210      BALANSAS      2019-01-01      2019-12-31  2020-05-21   \n",
       "10090      BST123      BALANSAS      2019-01-01      2019-12-31  2020-05-25   \n",
       "6544       BST210      BALANSAS      2019-01-01      2019-12-31  2020-05-04   \n",
       "75917      BST210      BALANSAS      2019-01-01      2019-12-31  2020-05-12   \n",
       "\n",
       "       nuosavas_kapitalas  mok_sumos_ir_isipareigojimai  ilgalaikis_turtas  \\\n",
       "92897        382319766.00                  112754219.00       270807863.00   \n",
       "90259        556159000.00                           NaN       325576000.00   \n",
       "10090        835363488.00                   40745829.00       102710566.00   \n",
       "6544        1459354000.00                           NaN      1803817000.00   \n",
       "75917       1658114000.00                           NaN      1777890000.00   \n",
       "\n",
       "       trumpalaikis_turtas formavimo_data  \n",
       "92897         225068719.00     2022-12-01  \n",
       "90259         230696000.00     2022-12-01  \n",
       "10090         775439119.00     2022-12-01  \n",
       "6544           10401000.00     2022-12-01  \n",
       "75917          96465000.00     2022-12-01  "
      ]
     },
     "execution_count": 72,
     "metadata": {},
     "output_type": "execute_result"
    },
    {
     "data": {
      "application/javascript": [
       "\n",
       "            setTimeout(function() {\n",
       "                var nbb_cell_id = 72;\n",
       "                var nbb_unformatted_code = \"balance_20[laikotarpis_condition_20 & \\n    uab_condition_20 & (balance_20.nuosavas_kapitalas > capital_median_20)\\n].sort_values(by=\\\"nuosavas_kapitalas\\\").tail(5)\";\n",
       "                var nbb_formatted_code = \"balance_20[\\n    laikotarpis_condition_20\\n    & uab_condition_20\\n    & (balance_20.nuosavas_kapitalas > capital_median_20)\\n].sort_values(by=\\\"nuosavas_kapitalas\\\").tail(5)\";\n",
       "                var nbb_cells = Jupyter.notebook.get_cells();\n",
       "                for (var i = 0; i < nbb_cells.length; ++i) {\n",
       "                    if (nbb_cells[i].input_prompt_number == nbb_cell_id) {\n",
       "                        if (nbb_cells[i].get_text() == nbb_unformatted_code) {\n",
       "                             nbb_cells[i].set_text(nbb_formatted_code);\n",
       "                        }\n",
       "                        break;\n",
       "                    }\n",
       "                }\n",
       "            }, 500);\n",
       "            "
      ],
      "text/plain": [
       "<IPython.core.display.Javascript object>"
      ]
     },
     "metadata": {},
     "output_type": "display_data"
    }
   ],
   "source": [
    "balance_20[\n",
    "    laikotarpis_condition_20\n",
    "    & uab_condition_20\n",
    "    & (balance_20.nuosavas_kapitalas > capital_median_20)\n",
    "].sort_values(by=\"nuosavas_kapitalas\").tail(5)"
   ]
  },
  {
   "cell_type": "code",
   "execution_count": 73,
   "id": "ea0058ac",
   "metadata": {},
   "outputs": [
    {
     "data": {
      "text/html": [
       "<div>\n",
       "<style scoped>\n",
       "    .dataframe tbody tr th:only-of-type {\n",
       "        vertical-align: middle;\n",
       "    }\n",
       "\n",
       "    .dataframe tbody tr th {\n",
       "        vertical-align: top;\n",
       "    }\n",
       "\n",
       "    .dataframe thead th {\n",
       "        text-align: right;\n",
       "    }\n",
       "</style>\n",
       "<table border=\"1\" class=\"dataframe\">\n",
       "  <thead>\n",
       "    <tr style=\"text-align: right;\">\n",
       "      <th></th>\n",
       "      <th>obj_kodas</th>\n",
       "      <th>obj_pav</th>\n",
       "      <th>form_kodas</th>\n",
       "      <th>form_pav</th>\n",
       "      <th>stat_statusas</th>\n",
       "      <th>stat_pav</th>\n",
       "      <th>template_id</th>\n",
       "      <th>template_name</th>\n",
       "      <th>standard_id</th>\n",
       "      <th>standard_name</th>\n",
       "      <th>laikotarpis_nuo</th>\n",
       "      <th>laikotarpis_iki</th>\n",
       "      <th>reg_date</th>\n",
       "      <th>nuosavas_kapitalas</th>\n",
       "      <th>mok_sumos_ir_isipareigojimai</th>\n",
       "      <th>ilgalaikis_turtas</th>\n",
       "      <th>trumpalaikis_turtas</th>\n",
       "      <th>formavimo_data</th>\n",
       "    </tr>\n",
       "  </thead>\n",
       "  <tbody>\n",
       "    <tr>\n",
       "      <th>119613</th>\n",
       "      <td>301066547</td>\n",
       "      <td>MAXIMA GRUPĖ UAB</td>\n",
       "      <td>310</td>\n",
       "      <td>Uždaroji akcinė bendrovė</td>\n",
       "      <td>0</td>\n",
       "      <td>Teisinis stat neįregistruotas</td>\n",
       "      <td>FS0518</td>\n",
       "      <td>Atskirosios finansinės būklės ataskaitos duomenys</td>\n",
       "      <td>BST210</td>\n",
       "      <td>BALANSAS</td>\n",
       "      <td>2020-01-01</td>\n",
       "      <td>2020-12-31</td>\n",
       "      <td>2021-04-16</td>\n",
       "      <td>1564631000.00</td>\n",
       "      <td>NaN</td>\n",
       "      <td>1987892000.00</td>\n",
       "      <td>18226000.00</td>\n",
       "      <td>2022-12-01</td>\n",
       "    </tr>\n",
       "    <tr>\n",
       "      <th>39828</th>\n",
       "      <td>302608755</td>\n",
       "      <td>Uždaroji akcinė bendrovė \"Vilniaus prekyba\"</td>\n",
       "      <td>310</td>\n",
       "      <td>Uždaroji akcinė bendrovė</td>\n",
       "      <td>0</td>\n",
       "      <td>Teisinis stat neįregistruotas</td>\n",
       "      <td>FS0518</td>\n",
       "      <td>Atskirosios finansinės būklės ataskaitos duomenys</td>\n",
       "      <td>BST210</td>\n",
       "      <td>BALANSAS</td>\n",
       "      <td>2020-01-01</td>\n",
       "      <td>2020-12-31</td>\n",
       "      <td>2021-05-20</td>\n",
       "      <td>1950511000.00</td>\n",
       "      <td>NaN</td>\n",
       "      <td>1754522000.00</td>\n",
       "      <td>199991000.00</td>\n",
       "      <td>2022-12-01</td>\n",
       "    </tr>\n",
       "    <tr>\n",
       "      <th>16978</th>\n",
       "      <td>305115956</td>\n",
       "      <td>UAB \"Thermo Fisher Scientific Vector Senior Ho...</td>\n",
       "      <td>310</td>\n",
       "      <td>Uždaroji akcinė bendrovė</td>\n",
       "      <td>0</td>\n",
       "      <td>Teisinis stat neįregistruotas</td>\n",
       "      <td>FS0129</td>\n",
       "      <td>Mažų ir labai mažų įmonių, netaikančių išimčių...</td>\n",
       "      <td>BST124</td>\n",
       "      <td>BALANSAS (Sutrumpintas)</td>\n",
       "      <td>2020-01-01</td>\n",
       "      <td>2020-12-31</td>\n",
       "      <td>2021-05-31</td>\n",
       "      <td>2950792636.00</td>\n",
       "      <td>1146557923.00</td>\n",
       "      <td>4097345678.00</td>\n",
       "      <td>4881.00</td>\n",
       "      <td>2022-12-01</td>\n",
       "    </tr>\n",
       "    <tr>\n",
       "      <th>25845</th>\n",
       "      <td>305115970</td>\n",
       "      <td>UAB \"Thermo Fisher Scientific Vector Senior Ho...</td>\n",
       "      <td>310</td>\n",
       "      <td>Uždaroji akcinė bendrovė</td>\n",
       "      <td>0</td>\n",
       "      <td>Teisinis stat neįregistruotas</td>\n",
       "      <td>FS0129</td>\n",
       "      <td>Mažų ir labai mažų įmonių, netaikančių išimčių...</td>\n",
       "      <td>BST124</td>\n",
       "      <td>BALANSAS (Sutrumpintas)</td>\n",
       "      <td>2020-01-01</td>\n",
       "      <td>2020-12-31</td>\n",
       "      <td>2021-05-31</td>\n",
       "      <td>3898038337.00</td>\n",
       "      <td>11480.00</td>\n",
       "      <td>3898047436.00</td>\n",
       "      <td>2381.00</td>\n",
       "      <td>2022-12-01</td>\n",
       "    </tr>\n",
       "    <tr>\n",
       "      <th>54243</th>\n",
       "      <td>305115931</td>\n",
       "      <td>UAB \"Thermo Fisher Scientific Vector Holdings\"</td>\n",
       "      <td>310</td>\n",
       "      <td>Uždaroji akcinė bendrovė</td>\n",
       "      <td>0</td>\n",
       "      <td>Teisinis stat neįregistruotas</td>\n",
       "      <td>FS0129</td>\n",
       "      <td>Mažų ir labai mažų įmonių, netaikančių išimčių...</td>\n",
       "      <td>BST124</td>\n",
       "      <td>BALANSAS (Sutrumpintas)</td>\n",
       "      <td>2020-01-01</td>\n",
       "      <td>2020-12-31</td>\n",
       "      <td>2021-05-31</td>\n",
       "      <td>3898038496.00</td>\n",
       "      <td>9062.00</td>\n",
       "      <td>3898045213.00</td>\n",
       "      <td>2345.00</td>\n",
       "      <td>2022-12-01</td>\n",
       "    </tr>\n",
       "  </tbody>\n",
       "</table>\n",
       "</div>"
      ],
      "text/plain": [
       "        obj_kodas                                            obj_pav  \\\n",
       "119613  301066547                                   MAXIMA GRUPĖ UAB   \n",
       "39828   302608755        Uždaroji akcinė bendrovė \"Vilniaus prekyba\"   \n",
       "16978   305115956  UAB \"Thermo Fisher Scientific Vector Senior Ho...   \n",
       "25845   305115970  UAB \"Thermo Fisher Scientific Vector Senior Ho...   \n",
       "54243   305115931     UAB \"Thermo Fisher Scientific Vector Holdings\"   \n",
       "\n",
       "        form_kodas                  form_pav  stat_statusas  \\\n",
       "119613         310  Uždaroji akcinė bendrovė              0   \n",
       "39828          310  Uždaroji akcinė bendrovė              0   \n",
       "16978          310  Uždaroji akcinė bendrovė              0   \n",
       "25845          310  Uždaroji akcinė bendrovė              0   \n",
       "54243          310  Uždaroji akcinė bendrovė              0   \n",
       "\n",
       "                             stat_pav template_id  \\\n",
       "119613  Teisinis stat neįregistruotas      FS0518   \n",
       "39828   Teisinis stat neįregistruotas      FS0518   \n",
       "16978   Teisinis stat neįregistruotas      FS0129   \n",
       "25845   Teisinis stat neįregistruotas      FS0129   \n",
       "54243   Teisinis stat neįregistruotas      FS0129   \n",
       "\n",
       "                                            template_name standard_id  \\\n",
       "119613  Atskirosios finansinės būklės ataskaitos duomenys      BST210   \n",
       "39828   Atskirosios finansinės būklės ataskaitos duomenys      BST210   \n",
       "16978   Mažų ir labai mažų įmonių, netaikančių išimčių...      BST124   \n",
       "25845   Mažų ir labai mažų įmonių, netaikančių išimčių...      BST124   \n",
       "54243   Mažų ir labai mažų įmonių, netaikančių išimčių...      BST124   \n",
       "\n",
       "                  standard_name laikotarpis_nuo laikotarpis_iki    reg_date  \\\n",
       "119613                 BALANSAS      2020-01-01      2020-12-31  2021-04-16   \n",
       "39828                  BALANSAS      2020-01-01      2020-12-31  2021-05-20   \n",
       "16978   BALANSAS (Sutrumpintas)      2020-01-01      2020-12-31  2021-05-31   \n",
       "25845   BALANSAS (Sutrumpintas)      2020-01-01      2020-12-31  2021-05-31   \n",
       "54243   BALANSAS (Sutrumpintas)      2020-01-01      2020-12-31  2021-05-31   \n",
       "\n",
       "        nuosavas_kapitalas  mok_sumos_ir_isipareigojimai  ilgalaikis_turtas  \\\n",
       "119613       1564631000.00                           NaN      1987892000.00   \n",
       "39828        1950511000.00                           NaN      1754522000.00   \n",
       "16978        2950792636.00                 1146557923.00      4097345678.00   \n",
       "25845        3898038337.00                      11480.00      3898047436.00   \n",
       "54243        3898038496.00                       9062.00      3898045213.00   \n",
       "\n",
       "        trumpalaikis_turtas formavimo_data  \n",
       "119613          18226000.00     2022-12-01  \n",
       "39828          199991000.00     2022-12-01  \n",
       "16978               4881.00     2022-12-01  \n",
       "25845               2381.00     2022-12-01  \n",
       "54243               2345.00     2022-12-01  "
      ]
     },
     "execution_count": 73,
     "metadata": {},
     "output_type": "execute_result"
    },
    {
     "data": {
      "application/javascript": [
       "\n",
       "            setTimeout(function() {\n",
       "                var nbb_cell_id = 73;\n",
       "                var nbb_unformatted_code = \"balance_21[laikotarpis_condition_21 & \\n    uab_condition_21 & (balance_21.nuosavas_kapitalas > capital_median_21)\\n].sort_values(by=\\\"nuosavas_kapitalas\\\").tail(5)\";\n",
       "                var nbb_formatted_code = \"balance_21[\\n    laikotarpis_condition_21\\n    & uab_condition_21\\n    & (balance_21.nuosavas_kapitalas > capital_median_21)\\n].sort_values(by=\\\"nuosavas_kapitalas\\\").tail(5)\";\n",
       "                var nbb_cells = Jupyter.notebook.get_cells();\n",
       "                for (var i = 0; i < nbb_cells.length; ++i) {\n",
       "                    if (nbb_cells[i].input_prompt_number == nbb_cell_id) {\n",
       "                        if (nbb_cells[i].get_text() == nbb_unformatted_code) {\n",
       "                             nbb_cells[i].set_text(nbb_formatted_code);\n",
       "                        }\n",
       "                        break;\n",
       "                    }\n",
       "                }\n",
       "            }, 500);\n",
       "            "
      ],
      "text/plain": [
       "<IPython.core.display.Javascript object>"
      ]
     },
     "metadata": {},
     "output_type": "display_data"
    }
   ],
   "source": [
    "balance_21[\n",
    "    laikotarpis_condition_21\n",
    "    & uab_condition_21\n",
    "    & (balance_21.nuosavas_kapitalas > capital_median_21)\n",
    "].sort_values(by=\"nuosavas_kapitalas\").tail(5)"
   ]
  },
  {
   "cell_type": "markdown",
   "id": "e0da0eee",
   "metadata": {},
   "source": [
    "# 4\n",
    "Atvaizduoti juridinių asmenų formos ir statuso pasiskirstymą kiekvienais metais."
   ]
  },
  {
   "cell_type": "code",
   "execution_count": 83,
   "id": "3fcce81f",
   "metadata": {},
   "outputs": [
    {
     "data": {
      "application/javascript": [
       "\n",
       "            setTimeout(function() {\n",
       "                var nbb_cell_id = 83;\n",
       "                var nbb_unformatted_code = \"b20 = balance_20.groupby(\\\"form_pav\\\", as_index=False).form_kodas.count().rename(\\n    columns={\\\"form_kodas\\\": \\\"2020_count\\\"}\\n)\";\n",
       "                var nbb_formatted_code = \"b20 = (\\n    balance_20.groupby(\\\"form_pav\\\", as_index=False)\\n    .form_kodas.count()\\n    .rename(columns={\\\"form_kodas\\\": \\\"2020_count\\\"})\\n)\";\n",
       "                var nbb_cells = Jupyter.notebook.get_cells();\n",
       "                for (var i = 0; i < nbb_cells.length; ++i) {\n",
       "                    if (nbb_cells[i].input_prompt_number == nbb_cell_id) {\n",
       "                        if (nbb_cells[i].get_text() == nbb_unformatted_code) {\n",
       "                             nbb_cells[i].set_text(nbb_formatted_code);\n",
       "                        }\n",
       "                        break;\n",
       "                    }\n",
       "                }\n",
       "            }, 500);\n",
       "            "
      ],
      "text/plain": [
       "<IPython.core.display.Javascript object>"
      ]
     },
     "metadata": {},
     "output_type": "display_data"
    }
   ],
   "source": [
    "b20 = (\n",
    "    balance_20.groupby(\"form_pav\", as_index=False)\n",
    "    .form_kodas.count()\n",
    "    .rename(columns={\"form_kodas\": \"2020_count\"})\n",
    ")"
   ]
  },
  {
   "cell_type": "code",
   "execution_count": 84,
   "id": "639f6ce7",
   "metadata": {},
   "outputs": [
    {
     "data": {
      "application/javascript": [
       "\n",
       "            setTimeout(function() {\n",
       "                var nbb_cell_id = 84;\n",
       "                var nbb_unformatted_code = \"b21 = balance_21.groupby(\\\"form_pav\\\", as_index=False).form_kodas.count().rename(\\n    columns={\\\"form_kodas\\\": \\\"2021_count\\\"}\\n)\";\n",
       "                var nbb_formatted_code = \"b21 = (\\n    balance_21.groupby(\\\"form_pav\\\", as_index=False)\\n    .form_kodas.count()\\n    .rename(columns={\\\"form_kodas\\\": \\\"2021_count\\\"})\\n)\";\n",
       "                var nbb_cells = Jupyter.notebook.get_cells();\n",
       "                for (var i = 0; i < nbb_cells.length; ++i) {\n",
       "                    if (nbb_cells[i].input_prompt_number == nbb_cell_id) {\n",
       "                        if (nbb_cells[i].get_text() == nbb_unformatted_code) {\n",
       "                             nbb_cells[i].set_text(nbb_formatted_code);\n",
       "                        }\n",
       "                        break;\n",
       "                    }\n",
       "                }\n",
       "            }, 500);\n",
       "            "
      ],
      "text/plain": [
       "<IPython.core.display.Javascript object>"
      ]
     },
     "metadata": {},
     "output_type": "display_data"
    }
   ],
   "source": [
    "b21 = (\n",
    "    balance_21.groupby(\"form_pav\", as_index=False)\n",
    "    .form_kodas.count()\n",
    "    .rename(columns={\"form_kodas\": \"2021_count\"})\n",
    ")"
   ]
  },
  {
   "cell_type": "code",
   "execution_count": 92,
   "id": "03c43f56",
   "metadata": {},
   "outputs": [
    {
     "data": {
      "text/plain": [
       "<AxesSubplot: >"
      ]
     },
     "execution_count": 92,
     "metadata": {},
     "output_type": "execute_result"
    },
    {
     "data": {
      "image/png": "[encoded data removed]",
      "text/plain": [
       "<Figure size 640x480 with 1 Axes>"
      ]
     },
     "metadata": {},
     "output_type": "display_data"
    },
    {
     "data": {
      "application/javascript": [
       "\n",
       "            setTimeout(function() {\n",
       "                var nbb_cell_id = 92;\n",
       "                var nbb_unformatted_code = \"b20.merge(b21, on=\\\"form_pav\\\", how=\\\"outer\\\").fillna(0).plot()\";\n",
       "                var nbb_formatted_code = \"b20.merge(b21, on=\\\"form_pav\\\", how=\\\"outer\\\").fillna(0).plot()\";\n",
       "                var nbb_cells = Jupyter.notebook.get_cells();\n",
       "                for (var i = 0; i < nbb_cells.length; ++i) {\n",
       "                    if (nbb_cells[i].input_prompt_number == nbb_cell_id) {\n",
       "                        if (nbb_cells[i].get_text() == nbb_unformatted_code) {\n",
       "                             nbb_cells[i].set_text(nbb_formatted_code);\n",
       "                        }\n",
       "                        break;\n",
       "                    }\n",
       "                }\n",
       "            }, 500);\n",
       "            "
      ],
      "text/plain": [
       "<IPython.core.display.Javascript object>"
      ]
     },
     "metadata": {},
     "output_type": "display_data"
    }
   ],
   "source": [
    "b20.merge(b21, on=\"form_pav\", how=\"outer\").fillna(0).plot()"
   ]
  },
  {
   "cell_type": "code",
   "execution_count": 93,
   "id": "1d92d197",
   "metadata": {},
   "outputs": [
    {
     "data": {
      "application/javascript": [
       "\n",
       "            setTimeout(function() {\n",
       "                var nbb_cell_id = 93;\n",
       "                var nbb_unformatted_code = \"import seaborn as sns\";\n",
       "                var nbb_formatted_code = \"import seaborn as sns\";\n",
       "                var nbb_cells = Jupyter.notebook.get_cells();\n",
       "                for (var i = 0; i < nbb_cells.length; ++i) {\n",
       "                    if (nbb_cells[i].input_prompt_number == nbb_cell_id) {\n",
       "                        if (nbb_cells[i].get_text() == nbb_unformatted_code) {\n",
       "                             nbb_cells[i].set_text(nbb_formatted_code);\n",
       "                        }\n",
       "                        break;\n",
       "                    }\n",
       "                }\n",
       "            }, 500);\n",
       "            "
      ],
      "text/plain": [
       "<IPython.core.display.Javascript object>"
      ]
     },
     "metadata": {},
     "output_type": "display_data"
    }
   ],
   "source": [
    "import seaborn as sns"
   ]
  },
  {
   "cell_type": "code",
   "execution_count": 95,
   "id": "4c8fa9ea",
   "metadata": {},
   "outputs": [
    {
     "data": {
      "text/plain": [
       "<AxesSubplot: xlabel='form_pav', ylabel='2020_count'>"
      ]
     },
     "execution_count": 95,
     "metadata": {},
     "output_type": "execute_result"
    },
    {
     "data": {
      "image/png": "[encoded data removed]",
      "text/plain": [
       "<Figure size 640x480 with 1 Axes>"
      ]
     },
     "metadata": {},
     "output_type": "display_data"
    },
    {
     "data": {
      "application/javascript": [
       "\n",
       "            setTimeout(function() {\n",
       "                var nbb_cell_id = 95;\n",
       "                var nbb_unformatted_code = \"sns.barplot(data=b20,x='form_pav', y='2020_count')\";\n",
       "                var nbb_formatted_code = \"sns.barplot(data=b20, x=\\\"form_pav\\\", y=\\\"2020_count\\\")\";\n",
       "                var nbb_cells = Jupyter.notebook.get_cells();\n",
       "                for (var i = 0; i < nbb_cells.length; ++i) {\n",
       "                    if (nbb_cells[i].input_prompt_number == nbb_cell_id) {\n",
       "                        if (nbb_cells[i].get_text() == nbb_unformatted_code) {\n",
       "                             nbb_cells[i].set_text(nbb_formatted_code);\n",
       "                        }\n",
       "                        break;\n",
       "                    }\n",
       "                }\n",
       "            }, 500);\n",
       "            "
      ],
      "text/plain": [
       "<IPython.core.display.Javascript object>"
      ]
     },
     "metadata": {},
     "output_type": "display_data"
    }
   ],
   "source": [
    "sns.barplot(data=b20, x=\"form_pav\", y=\"2020_count\")"
   ]
  },
  {
   "cell_type": "code",
   "execution_count": 94,
   "id": "adde4f9f",
   "metadata": {},
   "outputs": [
    {
     "data": {
      "text/html": [
       "<div>\n",
       "<style scoped>\n",
       "    .dataframe tbody tr th:only-of-type {\n",
       "        vertical-align: middle;\n",
       "    }\n",
       "\n",
       "    .dataframe tbody tr th {\n",
       "        vertical-align: top;\n",
       "    }\n",
       "\n",
       "    .dataframe thead th {\n",
       "        text-align: right;\n",
       "    }\n",
       "</style>\n",
       "<table border=\"1\" class=\"dataframe\">\n",
       "  <thead>\n",
       "    <tr style=\"text-align: right;\">\n",
       "      <th></th>\n",
       "      <th>form_pav</th>\n",
       "      <th>2020_count</th>\n",
       "    </tr>\n",
       "  </thead>\n",
       "  <tbody>\n",
       "    <tr>\n",
       "      <th>0</th>\n",
       "      <td>Akcinė bendrovė</td>\n",
       "      <td>245</td>\n",
       "    </tr>\n",
       "    <tr>\n",
       "      <th>1</th>\n",
       "      <td>Asociacija</td>\n",
       "      <td>9073</td>\n",
       "    </tr>\n",
       "    <tr>\n",
       "      <th>2</th>\n",
       "      <td>Bendrija</td>\n",
       "      <td>1</td>\n",
       "    </tr>\n",
       "    <tr>\n",
       "      <th>3</th>\n",
       "      <td>Biudžetinė įstaiga</td>\n",
       "      <td>2</td>\n",
       "    </tr>\n",
       "    <tr>\n",
       "      <th>4</th>\n",
       "      <td>Individuali įmonė</td>\n",
       "      <td>677</td>\n",
       "    </tr>\n",
       "    <tr>\n",
       "      <th>5</th>\n",
       "      <td>Komanditinė ūkinė bendrija</td>\n",
       "      <td>39</td>\n",
       "    </tr>\n",
       "    <tr>\n",
       "      <th>6</th>\n",
       "      <td>Kooperatinė bendrovė</td>\n",
       "      <td>334</td>\n",
       "    </tr>\n",
       "    <tr>\n",
       "      <th>7</th>\n",
       "      <td>Labdaros ir paramos fondas</td>\n",
       "      <td>598</td>\n",
       "    </tr>\n",
       "    <tr>\n",
       "      <th>8</th>\n",
       "      <td>Lietuvos prekyb.,pramon. rūmų asociacija</td>\n",
       "      <td>1</td>\n",
       "    </tr>\n",
       "    <tr>\n",
       "      <th>9</th>\n",
       "      <td>Mažoji bendrija</td>\n",
       "      <td>13196</td>\n",
       "    </tr>\n",
       "    <tr>\n",
       "      <th>10</th>\n",
       "      <td>Savivaldybės įmonė</td>\n",
       "      <td>24</td>\n",
       "    </tr>\n",
       "    <tr>\n",
       "      <th>11</th>\n",
       "      <td>Tikroji ūkinė bendrija</td>\n",
       "      <td>4</td>\n",
       "    </tr>\n",
       "    <tr>\n",
       "      <th>12</th>\n",
       "      <td>Uždaroji akcinė bendrovė</td>\n",
       "      <td>76370</td>\n",
       "    </tr>\n",
       "    <tr>\n",
       "      <th>13</th>\n",
       "      <td>Užsienio juridinio asmens filialas</td>\n",
       "      <td>16</td>\n",
       "    </tr>\n",
       "    <tr>\n",
       "      <th>14</th>\n",
       "      <td>Valstybės įmonė</td>\n",
       "      <td>13</td>\n",
       "    </tr>\n",
       "    <tr>\n",
       "      <th>15</th>\n",
       "      <td>Viešoji įstaiga</td>\n",
       "      <td>5324</td>\n",
       "    </tr>\n",
       "    <tr>\n",
       "      <th>16</th>\n",
       "      <td>Žemės ūkio bendrovė</td>\n",
       "      <td>401</td>\n",
       "    </tr>\n",
       "  </tbody>\n",
       "</table>\n",
       "</div>"
      ],
      "text/plain": [
       "                                    form_pav  2020_count\n",
       "0                            Akcinė bendrovė         245\n",
       "1                                 Asociacija        9073\n",
       "2                                   Bendrija           1\n",
       "3                         Biudžetinė įstaiga           2\n",
       "4                          Individuali įmonė         677\n",
       "5                 Komanditinė ūkinė bendrija          39\n",
       "6                       Kooperatinė bendrovė         334\n",
       "7                 Labdaros ir paramos fondas         598\n",
       "8   Lietuvos prekyb.,pramon. rūmų asociacija           1\n",
       "9                            Mažoji bendrija       13196\n",
       "10                        Savivaldybės įmonė          24\n",
       "11                    Tikroji ūkinė bendrija           4\n",
       "12                  Uždaroji akcinė bendrovė       76370\n",
       "13        Užsienio juridinio asmens filialas          16\n",
       "14                           Valstybės įmonė          13\n",
       "15                           Viešoji įstaiga        5324\n",
       "16                       Žemės ūkio bendrovė         401"
      ]
     },
     "execution_count": 94,
     "metadata": {},
     "output_type": "execute_result"
    },
    {
     "data": {
      "application/javascript": [
       "\n",
       "            setTimeout(function() {\n",
       "                var nbb_cell_id = 94;\n",
       "                var nbb_unformatted_code = \"b20\";\n",
       "                var nbb_formatted_code = \"b20\";\n",
       "                var nbb_cells = Jupyter.notebook.get_cells();\n",
       "                for (var i = 0; i < nbb_cells.length; ++i) {\n",
       "                    if (nbb_cells[i].input_prompt_number == nbb_cell_id) {\n",
       "                        if (nbb_cells[i].get_text() == nbb_unformatted_code) {\n",
       "                             nbb_cells[i].set_text(nbb_formatted_code);\n",
       "                        }\n",
       "                        break;\n",
       "                    }\n",
       "                }\n",
       "            }, 500);\n",
       "            "
      ],
      "text/plain": [
       "<IPython.core.display.Javascript object>"
      ]
     },
     "metadata": {},
     "output_type": "display_data"
    }
   ],
   "source": [
    "b20"
   ]
  },
  {
   "cell_type": "markdown",
   "id": "baea4ac3",
   "metadata": {},
   "source": [
    "# 5 \n",
    "Kiekvienai įmonei apskaičiuoti tendenciją. Jei “grynasis_pelnas” + “nuosavas_kapitalas” 2021 metais buvo didesnis už 2020 metais deklaruotą, tai tendencija “teigiama”, jei ne - “neigiama”. Atvaizduoti tendencijos duomenis grafiškai."
   ]
  },
  {
   "cell_type": "code",
   "execution_count": 106,
   "id": "deceb7fa",
   "metadata": {},
   "outputs": [
    {
     "data": {
      "application/javascript": [
       "\n",
       "            setTimeout(function() {\n",
       "                var nbb_cell_id = 106;\n",
       "                var nbb_unformatted_code = \"tend_20 = pl_20[[\\\"obj_kodas\\\", \\\"form_pav\\\", \\\"grynasis_pelnas\\\"]].merge(\\n    balance_20[[\\\"obj_kodas\\\", \\\"nuosavas_kapitalas\\\"]]\\n)\";\n",
       "                var nbb_formatted_code = \"tend_20 = pl_20[[\\\"obj_kodas\\\", \\\"form_pav\\\", \\\"grynasis_pelnas\\\"]].merge(\\n    balance_20[[\\\"obj_kodas\\\", \\\"nuosavas_kapitalas\\\"]]\\n)\";\n",
       "                var nbb_cells = Jupyter.notebook.get_cells();\n",
       "                for (var i = 0; i < nbb_cells.length; ++i) {\n",
       "                    if (nbb_cells[i].input_prompt_number == nbb_cell_id) {\n",
       "                        if (nbb_cells[i].get_text() == nbb_unformatted_code) {\n",
       "                             nbb_cells[i].set_text(nbb_formatted_code);\n",
       "                        }\n",
       "                        break;\n",
       "                    }\n",
       "                }\n",
       "            }, 500);\n",
       "            "
      ],
      "text/plain": [
       "<IPython.core.display.Javascript object>"
      ]
     },
     "metadata": {},
     "output_type": "display_data"
    }
   ],
   "source": [
    "tend_20 = pl_20[[\"obj_kodas\", \"form_pav\", \"grynasis_pelnas\"]].merge(\n",
    "    balance_20[[\"obj_kodas\", \"nuosavas_kapitalas\"]]\n",
    ")"
   ]
  },
  {
   "cell_type": "code",
   "execution_count": 107,
   "id": "39fef274",
   "metadata": {},
   "outputs": [
    {
     "data": {
      "application/javascript": [
       "\n",
       "            setTimeout(function() {\n",
       "                var nbb_cell_id = 107;\n",
       "                var nbb_unformatted_code = \"tend_20[\\\"value_20\\\"] = tend_20[\\\"grynasis_pelnas\\\"] + tend_20[\\\"nuosavas_kapitalas\\\"]\\ntend_20 = tend_20[[\\\"obj_kodas\\\", \\\"form_pav\\\", \\\"value_20\\\"]]\";\n",
       "                var nbb_formatted_code = \"tend_20[\\\"value_20\\\"] = tend_20[\\\"grynasis_pelnas\\\"] + tend_20[\\\"nuosavas_kapitalas\\\"]\\ntend_20 = tend_20[[\\\"obj_kodas\\\", \\\"form_pav\\\", \\\"value_20\\\"]]\";\n",
       "                var nbb_cells = Jupyter.notebook.get_cells();\n",
       "                for (var i = 0; i < nbb_cells.length; ++i) {\n",
       "                    if (nbb_cells[i].input_prompt_number == nbb_cell_id) {\n",
       "                        if (nbb_cells[i].get_text() == nbb_unformatted_code) {\n",
       "                             nbb_cells[i].set_text(nbb_formatted_code);\n",
       "                        }\n",
       "                        break;\n",
       "                    }\n",
       "                }\n",
       "            }, 500);\n",
       "            "
      ],
      "text/plain": [
       "<IPython.core.display.Javascript object>"
      ]
     },
     "metadata": {},
     "output_type": "display_data"
    }
   ],
   "source": [
    "tend_20[\"value_20\"] = tend_20[\"grynasis_pelnas\"] + tend_20[\"nuosavas_kapitalas\"]\n",
    "tend_20 = tend_20[[\"obj_kodas\", \"form_pav\", \"value_20\"]]"
   ]
  },
  {
   "cell_type": "code",
   "execution_count": 111,
   "id": "8761d448",
   "metadata": {},
   "outputs": [
    {
     "data": {
      "application/javascript": [
       "\n",
       "            setTimeout(function() {\n",
       "                var nbb_cell_id = 111;\n",
       "                var nbb_unformatted_code = \"tend_21 = pl_21[[\\\"obj_kodas\\\", \\\"form_pav\\\", \\\"grynasis_pelnas\\\"]].merge(\\n    balance_21[[\\\"obj_kodas\\\", \\\"nuosavas_kapitalas\\\"]]\\n)\\ntend_21[\\\"value_21\\\"] = tend_21[\\\"grynasis_pelnas\\\"] + tend_21[\\\"nuosavas_kapitalas\\\"]\\ntend_21 = tend_21[[\\\"obj_kodas\\\", \\\"value_21\\\"]]\";\n",
       "                var nbb_formatted_code = \"tend_21 = pl_21[[\\\"obj_kodas\\\", \\\"form_pav\\\", \\\"grynasis_pelnas\\\"]].merge(\\n    balance_21[[\\\"obj_kodas\\\", \\\"nuosavas_kapitalas\\\"]]\\n)\\ntend_21[\\\"value_21\\\"] = tend_21[\\\"grynasis_pelnas\\\"] + tend_21[\\\"nuosavas_kapitalas\\\"]\\ntend_21 = tend_21[[\\\"obj_kodas\\\", \\\"value_21\\\"]]\";\n",
       "                var nbb_cells = Jupyter.notebook.get_cells();\n",
       "                for (var i = 0; i < nbb_cells.length; ++i) {\n",
       "                    if (nbb_cells[i].input_prompt_number == nbb_cell_id) {\n",
       "                        if (nbb_cells[i].get_text() == nbb_unformatted_code) {\n",
       "                             nbb_cells[i].set_text(nbb_formatted_code);\n",
       "                        }\n",
       "                        break;\n",
       "                    }\n",
       "                }\n",
       "            }, 500);\n",
       "            "
      ],
      "text/plain": [
       "<IPython.core.display.Javascript object>"
      ]
     },
     "metadata": {},
     "output_type": "display_data"
    }
   ],
   "source": [
    "tend_21 = pl_21[[\"obj_kodas\", \"form_pav\", \"grynasis_pelnas\"]].merge(\n",
    "    balance_21[[\"obj_kodas\", \"nuosavas_kapitalas\"]]\n",
    ")\n",
    "tend_21[\"value_21\"] = tend_21[\"grynasis_pelnas\"] + tend_21[\"nuosavas_kapitalas\"]\n",
    "tend_21 = tend_21[[\"obj_kodas\", \"value_21\"]]"
   ]
  },
  {
   "cell_type": "code",
   "execution_count": 113,
   "id": "4a6f1694",
   "metadata": {},
   "outputs": [
    {
     "data": {
      "application/javascript": [
       "\n",
       "            setTimeout(function() {\n",
       "                var nbb_cell_id = 113;\n",
       "                var nbb_unformatted_code = \"tend = tend_20.merge(tend_21, on=\\\"obj_kodas\\\")\";\n",
       "                var nbb_formatted_code = \"tend = tend_20.merge(tend_21, on=\\\"obj_kodas\\\")\";\n",
       "                var nbb_cells = Jupyter.notebook.get_cells();\n",
       "                for (var i = 0; i < nbb_cells.length; ++i) {\n",
       "                    if (nbb_cells[i].input_prompt_number == nbb_cell_id) {\n",
       "                        if (nbb_cells[i].get_text() == nbb_unformatted_code) {\n",
       "                             nbb_cells[i].set_text(nbb_formatted_code);\n",
       "                        }\n",
       "                        break;\n",
       "                    }\n",
       "                }\n",
       "            }, 500);\n",
       "            "
      ],
      "text/plain": [
       "<IPython.core.display.Javascript object>"
      ]
     },
     "metadata": {},
     "output_type": "display_data"
    }
   ],
   "source": [
    "tend = tend_20.merge(tend_21, on=\"obj_kodas\")"
   ]
  },
  {
   "cell_type": "code",
   "execution_count": 115,
   "id": "b4c49fc2",
   "metadata": {},
   "outputs": [
    {
     "data": {
      "application/javascript": [
       "\n",
       "            setTimeout(function() {\n",
       "                var nbb_cell_id = 115;\n",
       "                var nbb_unformatted_code = \"tend['tendencija'] = 'neigiama'\";\n",
       "                var nbb_formatted_code = \"tend[\\\"tendencija\\\"] = \\\"neigiama\\\"\";\n",
       "                var nbb_cells = Jupyter.notebook.get_cells();\n",
       "                for (var i = 0; i < nbb_cells.length; ++i) {\n",
       "                    if (nbb_cells[i].input_prompt_number == nbb_cell_id) {\n",
       "                        if (nbb_cells[i].get_text() == nbb_unformatted_code) {\n",
       "                             nbb_cells[i].set_text(nbb_formatted_code);\n",
       "                        }\n",
       "                        break;\n",
       "                    }\n",
       "                }\n",
       "            }, 500);\n",
       "            "
      ],
      "text/plain": [
       "<IPython.core.display.Javascript object>"
      ]
     },
     "metadata": {},
     "output_type": "display_data"
    }
   ],
   "source": [
    "tend[\"tendencija\"] = \"neigiama\""
   ]
  },
  {
   "cell_type": "code",
   "execution_count": 117,
   "id": "98b094e6",
   "metadata": {},
   "outputs": [
    {
     "data": {
      "application/javascript": [
       "\n",
       "            setTimeout(function() {\n",
       "                var nbb_cell_id = 117;\n",
       "                var nbb_unformatted_code = \"tend.loc[tend.value_21 > tend.value_20, \\\"tendencija\\\"] = \\\"teigiama\\\"\";\n",
       "                var nbb_formatted_code = \"tend.loc[tend.value_21 > tend.value_20, \\\"tendencija\\\"] = \\\"teigiama\\\"\";\n",
       "                var nbb_cells = Jupyter.notebook.get_cells();\n",
       "                for (var i = 0; i < nbb_cells.length; ++i) {\n",
       "                    if (nbb_cells[i].input_prompt_number == nbb_cell_id) {\n",
       "                        if (nbb_cells[i].get_text() == nbb_unformatted_code) {\n",
       "                             nbb_cells[i].set_text(nbb_formatted_code);\n",
       "                        }\n",
       "                        break;\n",
       "                    }\n",
       "                }\n",
       "            }, 500);\n",
       "            "
      ],
      "text/plain": [
       "<IPython.core.display.Javascript object>"
      ]
     },
     "metadata": {},
     "output_type": "display_data"
    }
   ],
   "source": [
    "tend.loc[tend.value_21 > tend.value_20, \"tendencija\"] = \"teigiama\""
   ]
  },
  {
   "cell_type": "code",
   "execution_count": 120,
   "id": "81755a02",
   "metadata": {},
   "outputs": [
    {
     "data": {
      "text/plain": [
       "teigiama    59334\n",
       "neigiama    56351\n",
       "Name: tendencija, dtype: int64"
      ]
     },
     "execution_count": 120,
     "metadata": {},
     "output_type": "execute_result"
    },
    {
     "data": {
      "application/javascript": [
       "\n",
       "            setTimeout(function() {\n",
       "                var nbb_cell_id = 120;\n",
       "                var nbb_unformatted_code = \"tend.tendencija.value_counts()\";\n",
       "                var nbb_formatted_code = \"tend.tendencija.value_counts()\";\n",
       "                var nbb_cells = Jupyter.notebook.get_cells();\n",
       "                for (var i = 0; i < nbb_cells.length; ++i) {\n",
       "                    if (nbb_cells[i].input_prompt_number == nbb_cell_id) {\n",
       "                        if (nbb_cells[i].get_text() == nbb_unformatted_code) {\n",
       "                             nbb_cells[i].set_text(nbb_formatted_code);\n",
       "                        }\n",
       "                        break;\n",
       "                    }\n",
       "                }\n",
       "            }, 500);\n",
       "            "
      ],
      "text/plain": [
       "<IPython.core.display.Javascript object>"
      ]
     },
     "metadata": {},
     "output_type": "display_data"
    }
   ],
   "source": [
    "tend.tendencija.value_counts()"
   ]
  },
  {
   "cell_type": "markdown",
   "id": "354d404b",
   "metadata": {},
   "source": [
    "# 6\n",
    "Surasti įmones, kurios 2020 vykdė veiklą, o 2021 - bankrutavo. Bankrutavusių įmonių statusai: “Bankrutavęs”, “Bankrutuojantis”, “Išregistruotas”, “Inicijuojamas likvidavimas”, “Likviduojamas”, “Likviduojamas dėl bankroto”. Kokia bankrutavusių įmonių “nuosavas_kapitalas” suma ir “grynasis_pelnas” suma 2021 metais? Palyginti šias sumas su veikiančių įmonių atitinkamomis sumomis."
   ]
  },
  {
   "cell_type": "code",
   "execution_count": null,
   "id": "b22168c0",
   "metadata": {},
   "outputs": [],
   "source": [
    "# dirbame tik su MB ir UAB\n",
    "## veikianti imone = 'Teisinis stat neįregistruotas'\n",
    "## Bankrutavusi imone = 'Bankrutavęs', 'Bankrutuojantis', 'Išregistruotas', 'Likviduojamas', 'Likviduojamas dėl bankroto', 'Inicijuojamas likvidavimas'"
   ]
  },
  {
   "cell_type": "code",
   "execution_count": 186,
   "id": "ca19425c",
   "metadata": {},
   "outputs": [
    {
     "data": {
      "application/javascript": [
       "\n",
       "            setTimeout(function() {\n",
       "                var nbb_cell_id = 186;\n",
       "                var nbb_unformatted_code = \"def get_veikianti_bankrutavusi(x):\\n    veikianti = \\\"Teisinis stat ne\\u012fregistruotas\\\"\\n    bankrutavusi = [\\n        \\\"Bankrutav\\u0119s\\\",\\n        \\\"Bankrutuojantis\\\",\\n        \\\"I\\u0161registruotas\\\",\\n        \\\"Likviduojamas\\\",\\n        \\\"Likviduojamas d\\u0117l bankroto\\\",\\n        \\\"Inicijuojamas likvidavimas\\\",\\n    ]\\n    if x == veikianti:\\n        return \\\"veikianti\\\"\\n    elif x in bankrutavusi:\\n        return \\\"bankrutavusi\\\"\\n    return np.nan\\n\\n\\nbalance_20[\\\"veikianti_bankrutavusi\\\"] = balance_20.stat_pav.map(\\n    get_veikianti_bankrutavusi\\n)\\nbalance_21[\\\"veikianti_bankrutavusi\\\"] = balance_21.stat_pav.map(\\n    get_veikianti_bankrutavusi\\n)\";\n",
       "                var nbb_formatted_code = \"def get_veikianti_bankrutavusi(x):\\n    veikianti = \\\"Teisinis stat ne\\u012fregistruotas\\\"\\n    bankrutavusi = [\\n        \\\"Bankrutav\\u0119s\\\",\\n        \\\"Bankrutuojantis\\\",\\n        \\\"I\\u0161registruotas\\\",\\n        \\\"Likviduojamas\\\",\\n        \\\"Likviduojamas d\\u0117l bankroto\\\",\\n        \\\"Inicijuojamas likvidavimas\\\",\\n    ]\\n    if x == veikianti:\\n        return \\\"veikianti\\\"\\n    elif x in bankrutavusi:\\n        return \\\"bankrutavusi\\\"\\n    return np.nan\\n\\n\\nbalance_20[\\\"veikianti_bankrutavusi\\\"] = balance_20.stat_pav.map(\\n    get_veikianti_bankrutavusi\\n)\\nbalance_21[\\\"veikianti_bankrutavusi\\\"] = balance_21.stat_pav.map(\\n    get_veikianti_bankrutavusi\\n)\";\n",
       "                var nbb_cells = Jupyter.notebook.get_cells();\n",
       "                for (var i = 0; i < nbb_cells.length; ++i) {\n",
       "                    if (nbb_cells[i].input_prompt_number == nbb_cell_id) {\n",
       "                        if (nbb_cells[i].get_text() == nbb_unformatted_code) {\n",
       "                             nbb_cells[i].set_text(nbb_formatted_code);\n",
       "                        }\n",
       "                        break;\n",
       "                    }\n",
       "                }\n",
       "            }, 500);\n",
       "            "
      ],
      "text/plain": [
       "<IPython.core.display.Javascript object>"
      ]
     },
     "metadata": {},
     "output_type": "display_data"
    }
   ],
   "source": [
    "def get_veikianti_bankrutavusi(x):\n",
    "    veikianti = \"Teisinis stat neįregistruotas\"\n",
    "    bankrutavusi = [\n",
    "        \"Bankrutavęs\",\n",
    "        \"Bankrutuojantis\",\n",
    "        \"Išregistruotas\",\n",
    "        \"Likviduojamas\",\n",
    "        \"Likviduojamas dėl bankroto\",\n",
    "        \"Inicijuojamas likvidavimas\",\n",
    "    ]\n",
    "    if x == veikianti:\n",
    "        return \"veikianti\"\n",
    "    elif x in bankrutavusi:\n",
    "        return \"bankrutavusi\"\n",
    "    return np.nan\n",
    "\n",
    "\n",
    "balance_20[\"veikianti_bankrutavusi\"] = balance_20.stat_pav.map(\n",
    "    get_veikianti_bankrutavusi\n",
    ")\n",
    "balance_21[\"veikianti_bankrutavusi\"] = balance_21.stat_pav.map(\n",
    "    get_veikianti_bankrutavusi\n",
    ")"
   ]
  },
  {
   "cell_type": "code",
   "execution_count": 213,
   "id": "3db4db53",
   "metadata": {},
   "outputs": [
    {
     "data": {
      "application/javascript": [
       "\n",
       "            setTimeout(function() {\n",
       "                var nbb_cell_id = 213;\n",
       "                var nbb_unformatted_code = \"bal_cols = [\\\"obj_kodas\\\", \\\"form_pav\\\", \\\"veikianti_bankrutavusi\\\", \\\"nuosavas_kapitalas\\\"]\\npl_cols = [\\\"obj_kodas\\\", \\\"grynasis_pelnas\\\"]\\nmerge_on = \\\"obj_kodas\\\"\\nmb_uab = [\\\"Ma\\u017eoji bendrija\\\", \\\"U\\u017edaroji akcin\\u0117 bendrov\\u0117\\\"]\\nuab_mb_codition_20 = balance_20.form_pav.isin(mb_uab)\\nuab_mb_codition_21 = balance_21.form_pav.isin(mb_uab)\\n\\nmerged_20 = balance_20[uab_mb_codition_20][bal_cols].merge(pl_20[pl_cols], on=merge_on)\\nmerged_21 = balance_21[uab_mb_codition_21][bal_cols].merge(pl_21[pl_cols], on=merge_on)\";\n",
       "                var nbb_formatted_code = \"bal_cols = [\\\"obj_kodas\\\", \\\"form_pav\\\", \\\"veikianti_bankrutavusi\\\", \\\"nuosavas_kapitalas\\\"]\\npl_cols = [\\\"obj_kodas\\\", \\\"grynasis_pelnas\\\"]\\nmerge_on = \\\"obj_kodas\\\"\\nmb_uab = [\\\"Ma\\u017eoji bendrija\\\", \\\"U\\u017edaroji akcin\\u0117 bendrov\\u0117\\\"]\\nuab_mb_codition_20 = balance_20.form_pav.isin(mb_uab)\\nuab_mb_codition_21 = balance_21.form_pav.isin(mb_uab)\\n\\nmerged_20 = balance_20[uab_mb_codition_20][bal_cols].merge(pl_20[pl_cols], on=merge_on)\\nmerged_21 = balance_21[uab_mb_codition_21][bal_cols].merge(pl_21[pl_cols], on=merge_on)\";\n",
       "                var nbb_cells = Jupyter.notebook.get_cells();\n",
       "                for (var i = 0; i < nbb_cells.length; ++i) {\n",
       "                    if (nbb_cells[i].input_prompt_number == nbb_cell_id) {\n",
       "                        if (nbb_cells[i].get_text() == nbb_unformatted_code) {\n",
       "                             nbb_cells[i].set_text(nbb_formatted_code);\n",
       "                        }\n",
       "                        break;\n",
       "                    }\n",
       "                }\n",
       "            }, 500);\n",
       "            "
      ],
      "text/plain": [
       "<IPython.core.display.Javascript object>"
      ]
     },
     "metadata": {},
     "output_type": "display_data"
    }
   ],
   "source": [
    "bal_cols = [\"obj_kodas\", \"form_pav\", \"veikianti_bankrutavusi\", \"nuosavas_kapitalas\"]\n",
    "pl_cols = [\"obj_kodas\", \"grynasis_pelnas\"]\n",
    "merge_on = \"obj_kodas\"\n",
    "mb_uab = [\"Mažoji bendrija\", \"Uždaroji akcinė bendrovė\"]\n",
    "uab_mb_codition_20 = balance_20.form_pav.isin(mb_uab)\n",
    "uab_mb_codition_21 = balance_21.form_pav.isin(mb_uab)\n",
    "\n",
    "merged_20 = balance_20[uab_mb_codition_20][bal_cols].merge(pl_20[pl_cols], on=merge_on)\n",
    "merged_21 = balance_21[uab_mb_codition_21][bal_cols].merge(pl_21[pl_cols], on=merge_on)"
   ]
  },
  {
   "cell_type": "code",
   "execution_count": 221,
   "id": "1b70012d",
   "metadata": {},
   "outputs": [
    {
     "data": {
      "application/javascript": [
       "\n",
       "            setTimeout(function() {\n",
       "                var nbb_cell_id = 221;\n",
       "                var nbb_unformatted_code = \"merged = merged_20.merge(merged_21, on=merge_on, suffixes=[\\\"_20\\\", \\\"_21\\\"], how='left')\";\n",
       "                var nbb_formatted_code = \"merged = merged_20.merge(merged_21, on=merge_on, suffixes=[\\\"_20\\\", \\\"_21\\\"], how=\\\"left\\\")\";\n",
       "                var nbb_cells = Jupyter.notebook.get_cells();\n",
       "                for (var i = 0; i < nbb_cells.length; ++i) {\n",
       "                    if (nbb_cells[i].input_prompt_number == nbb_cell_id) {\n",
       "                        if (nbb_cells[i].get_text() == nbb_unformatted_code) {\n",
       "                             nbb_cells[i].set_text(nbb_formatted_code);\n",
       "                        }\n",
       "                        break;\n",
       "                    }\n",
       "                }\n",
       "            }, 500);\n",
       "            "
      ],
      "text/plain": [
       "<IPython.core.display.Javascript object>"
      ]
     },
     "metadata": {},
     "output_type": "display_data"
    }
   ],
   "source": [
    "merged = merged_20.merge(merged_21, on=merge_on, suffixes=[\"_20\", \"_21\"], how=\"left\")"
   ]
  },
  {
   "cell_type": "code",
   "execution_count": 223,
   "id": "c20d8b07",
   "metadata": {},
   "outputs": [
    {
     "data": {
      "text/plain": [
       "(veikianti       125594\n",
       " bankrutavusi      8501\n",
       " Name: veikianti_bankrutavusi_20, dtype: int64,\n",
       " veikianti       105849\n",
       " bankrutavusi      3906\n",
       " Name: veikianti_bankrutavusi_21, dtype: int64)"
      ]
     },
     "execution_count": 223,
     "metadata": {},
     "output_type": "execute_result"
    },
    {
     "data": {
      "application/javascript": [
       "\n",
       "            setTimeout(function() {\n",
       "                var nbb_cell_id = 223;\n",
       "                var nbb_unformatted_code = \"merged.veikianti_bankrutavusi_20.value_counts(), merged.veikianti_bankrutavusi_21.value_counts(), \";\n",
       "                var nbb_formatted_code = \"merged.veikianti_bankrutavusi_20.value_counts(), merged.veikianti_bankrutavusi_21.value_counts(),\";\n",
       "                var nbb_cells = Jupyter.notebook.get_cells();\n",
       "                for (var i = 0; i < nbb_cells.length; ++i) {\n",
       "                    if (nbb_cells[i].input_prompt_number == nbb_cell_id) {\n",
       "                        if (nbb_cells[i].get_text() == nbb_unformatted_code) {\n",
       "                             nbb_cells[i].set_text(nbb_formatted_code);\n",
       "                        }\n",
       "                        break;\n",
       "                    }\n",
       "                }\n",
       "            }, 500);\n",
       "            "
      ],
      "text/plain": [
       "<IPython.core.display.Javascript object>"
      ]
     },
     "metadata": {},
     "output_type": "display_data"
    }
   ],
   "source": [
    "merged.veikianti_bankrutavusi_20.value_counts(), merged.veikianti_bankrutavusi_21.value_counts(),"
   ]
  },
  {
   "cell_type": "code",
   "execution_count": 224,
   "id": "cf34eee0",
   "metadata": {},
   "outputs": [
    {
     "data": {
      "application/javascript": [
       "\n",
       "            setTimeout(function() {\n",
       "                var nbb_cell_id = 224;\n",
       "                var nbb_unformatted_code = \"veikianti_bankrutavusi_codition = merged.apply(\\n    lambda x: (x[\\\"veikianti_bankrutavusi_20\\\"] == \\\"veikianti\\\")\\n    & (x[\\\"veikianti_bankrutavusi_21\\\"] == \\\"bankrutavusi\\\"),\\n    axis=1,\\n)\";\n",
       "                var nbb_formatted_code = \"veikianti_bankrutavusi_codition = merged.apply(\\n    lambda x: (x[\\\"veikianti_bankrutavusi_20\\\"] == \\\"veikianti\\\")\\n    & (x[\\\"veikianti_bankrutavusi_21\\\"] == \\\"bankrutavusi\\\"),\\n    axis=1,\\n)\";\n",
       "                var nbb_cells = Jupyter.notebook.get_cells();\n",
       "                for (var i = 0; i < nbb_cells.length; ++i) {\n",
       "                    if (nbb_cells[i].input_prompt_number == nbb_cell_id) {\n",
       "                        if (nbb_cells[i].get_text() == nbb_unformatted_code) {\n",
       "                             nbb_cells[i].set_text(nbb_formatted_code);\n",
       "                        }\n",
       "                        break;\n",
       "                    }\n",
       "                }\n",
       "            }, 500);\n",
       "            "
      ],
      "text/plain": [
       "<IPython.core.display.Javascript object>"
      ]
     },
     "metadata": {},
     "output_type": "display_data"
    }
   ],
   "source": [
    "veikianti_bankrutavusi_codition = merged.apply(\n",
    "    lambda x: (x[\"veikianti_bankrutavusi_20\"] == \"veikianti\")\n",
    "    & (x[\"veikianti_bankrutavusi_21\"] == \"bankrutavusi\"),\n",
    "    axis=1,\n",
    ")"
   ]
  },
  {
   "cell_type": "code",
   "execution_count": 227,
   "id": "eff39ac5",
   "metadata": {},
   "outputs": [
    {
     "data": {
      "text/plain": [
       "bankrutavusi    3906\n",
       "Name: veikianti_bankrutavusi_20, dtype: int64"
      ]
     },
     "execution_count": 227,
     "metadata": {},
     "output_type": "execute_result"
    },
    {
     "data": {
      "application/javascript": [
       "\n",
       "            setTimeout(function() {\n",
       "                var nbb_cell_id = 227;\n",
       "                var nbb_unformatted_code = \"merged[merged.veikianti_bankrutavusi_21 == \\\"bankrutavusi\\\"].veikianti_bankrutavusi_20.value_counts()\";\n",
       "                var nbb_formatted_code = \"merged[\\n    merged.veikianti_bankrutavusi_21 == \\\"bankrutavusi\\\"\\n].veikianti_bankrutavusi_20.value_counts()\";\n",
       "                var nbb_cells = Jupyter.notebook.get_cells();\n",
       "                for (var i = 0; i < nbb_cells.length; ++i) {\n",
       "                    if (nbb_cells[i].input_prompt_number == nbb_cell_id) {\n",
       "                        if (nbb_cells[i].get_text() == nbb_unformatted_code) {\n",
       "                             nbb_cells[i].set_text(nbb_formatted_code);\n",
       "                        }\n",
       "                        break;\n",
       "                    }\n",
       "                }\n",
       "            }, 500);\n",
       "            "
      ],
      "text/plain": [
       "<IPython.core.display.Javascript object>"
      ]
     },
     "metadata": {},
     "output_type": "display_data"
    }
   ],
   "source": [
    "merged[\n",
    "    merged.veikianti_bankrutavusi_21 == \"bankrutavusi\"\n",
    "].veikianti_bankrutavusi_20.value_counts()"
   ]
  },
  {
   "cell_type": "code",
   "execution_count": null,
   "id": "064f581d",
   "metadata": {},
   "outputs": [],
   "source": [
    "## Nera bankrutavusiu imoniu?!"
   ]
  },
  {
   "cell_type": "code",
   "execution_count": null,
   "id": "dec4b0c4",
   "metadata": {},
   "outputs": [],
   "source": []
  },
  {
   "cell_type": "markdown",
   "id": "9f93cc0b",
   "metadata": {},
   "source": [
    "# 7 \n",
    "Sukurti naują stulpelį “turtas”, kuris skaičiuojamas sudedant “trumpalaikis_turtas” ir “ilgalaikis_turtas”."
   ]
  },
  {
   "cell_type": "code",
   "execution_count": 127,
   "id": "15080c46",
   "metadata": {},
   "outputs": [
    {
     "data": {
      "application/javascript": [
       "\n",
       "            setTimeout(function() {\n",
       "                var nbb_cell_id = 127;\n",
       "                var nbb_unformatted_code = \"balance_20[\\\"turtas\\\"] = (\\n    balance_20[\\\"trumpalaikis_turtas\\\"] + balance_20[\\\"ilgalaikis_turtas\\\"]\\n)\\n\\nbalance_21[\\\"turtas\\\"] = (\\n    balance_21[\\\"trumpalaikis_turtas\\\"] + balance_21[\\\"ilgalaikis_turtas\\\"]\\n)\";\n",
       "                var nbb_formatted_code = \"balance_20[\\\"turtas\\\"] = (\\n    balance_20[\\\"trumpalaikis_turtas\\\"] + balance_20[\\\"ilgalaikis_turtas\\\"]\\n)\\n\\nbalance_21[\\\"turtas\\\"] = (\\n    balance_21[\\\"trumpalaikis_turtas\\\"] + balance_21[\\\"ilgalaikis_turtas\\\"]\\n)\";\n",
       "                var nbb_cells = Jupyter.notebook.get_cells();\n",
       "                for (var i = 0; i < nbb_cells.length; ++i) {\n",
       "                    if (nbb_cells[i].input_prompt_number == nbb_cell_id) {\n",
       "                        if (nbb_cells[i].get_text() == nbb_unformatted_code) {\n",
       "                             nbb_cells[i].set_text(nbb_formatted_code);\n",
       "                        }\n",
       "                        break;\n",
       "                    }\n",
       "                }\n",
       "            }, 500);\n",
       "            "
      ],
      "text/plain": [
       "<IPython.core.display.Javascript object>"
      ]
     },
     "metadata": {},
     "output_type": "display_data"
    }
   ],
   "source": [
    "balance_20[\"turtas\"] = (\n",
    "    balance_20[\"trumpalaikis_turtas\"] + balance_20[\"ilgalaikis_turtas\"]\n",
    ")\n",
    "\n",
    "balance_21[\"turtas\"] = (\n",
    "    balance_21[\"trumpalaikis_turtas\"] + balance_21[\"ilgalaikis_turtas\"]\n",
    ")"
   ]
  },
  {
   "cell_type": "markdown",
   "id": "eb3a2a25",
   "metadata": {},
   "source": [
    "# 8\n",
    "Suskirstyti įmones į 5 grupes pagal lauką “turtas”. Palyginti kaip šios grupės keičiasi 2020 ir 2021 metais. Palyginimą atvaizduoti grafiškai."
   ]
  },
  {
   "cell_type": "code",
   "execution_count": 132,
   "id": "7efc3018",
   "metadata": {},
   "outputs": [
    {
     "data": {
      "text/plain": [
       "count       104879.00\n",
       "mean       1082727.26\n",
       "std       20989512.86\n",
       "min        -132771.00\n",
       "20%           2965.00\n",
       "40%          18960.20\n",
       "50%          36421.00\n",
       "60%          68112.20\n",
       "80%         278432.60\n",
       "max     3088980000.00\n",
       "Name: turtas, dtype: float64"
      ]
     },
     "execution_count": 132,
     "metadata": {},
     "output_type": "execute_result"
    },
    {
     "data": {
      "application/javascript": [
       "\n",
       "            setTimeout(function() {\n",
       "                var nbb_cell_id = 132;\n",
       "                var nbb_unformatted_code = \"balance_20.turtas.describe(percentiles = [0.2, 0.4, 0.6, 0.8 ])\";\n",
       "                var nbb_formatted_code = \"balance_20.turtas.describe(percentiles=[0.2, 0.4, 0.6, 0.8])\";\n",
       "                var nbb_cells = Jupyter.notebook.get_cells();\n",
       "                for (var i = 0; i < nbb_cells.length; ++i) {\n",
       "                    if (nbb_cells[i].input_prompt_number == nbb_cell_id) {\n",
       "                        if (nbb_cells[i].get_text() == nbb_unformatted_code) {\n",
       "                             nbb_cells[i].set_text(nbb_formatted_code);\n",
       "                        }\n",
       "                        break;\n",
       "                    }\n",
       "                }\n",
       "            }, 500);\n",
       "            "
      ],
      "text/plain": [
       "<IPython.core.display.Javascript object>"
      ]
     },
     "metadata": {},
     "output_type": "display_data"
    }
   ],
   "source": [
    "balance_20.turtas.describe(percentiles=[0.2, 0.4, 0.6, 0.8])"
   ]
  },
  {
   "cell_type": "code",
   "execution_count": 162,
   "id": "7a27c33c",
   "metadata": {},
   "outputs": [
    {
     "data": {
      "application/javascript": [
       "\n",
       "            setTimeout(function() {\n",
       "                var nbb_cell_id = 162;\n",
       "                var nbb_unformatted_code = \"balance_20[\\\"turtas_category\\\"] = pd.cut(\\n    balance_20.turtas,\\n    bins=[0, 3000, 20000, 35000, 70000, 3_000_000_000],\\n    labels=[\\\"iki 3k\\\", \\\"3k-20k\\\", \\\"20k-35k\\\", \\\"35k-70k\\\", \\\"70k+\\\"],\\n)\";\n",
       "                var nbb_formatted_code = \"balance_20[\\\"turtas_category\\\"] = pd.cut(\\n    balance_20.turtas,\\n    bins=[0, 3000, 20000, 35000, 70000, 3_000_000_000],\\n    labels=[\\\"iki 3k\\\", \\\"3k-20k\\\", \\\"20k-35k\\\", \\\"35k-70k\\\", \\\"70k+\\\"],\\n)\";\n",
       "                var nbb_cells = Jupyter.notebook.get_cells();\n",
       "                for (var i = 0; i < nbb_cells.length; ++i) {\n",
       "                    if (nbb_cells[i].input_prompt_number == nbb_cell_id) {\n",
       "                        if (nbb_cells[i].get_text() == nbb_unformatted_code) {\n",
       "                             nbb_cells[i].set_text(nbb_formatted_code);\n",
       "                        }\n",
       "                        break;\n",
       "                    }\n",
       "                }\n",
       "            }, 500);\n",
       "            "
      ],
      "text/plain": [
       "<IPython.core.display.Javascript object>"
      ]
     },
     "metadata": {},
     "output_type": "display_data"
    }
   ],
   "source": [
    "balance_20[\"turtas_category\"] = pd.cut(\n",
    "    balance_20.turtas,\n",
    "    bins=[0, 3000, 20000, 35000, 70000, 3_000_000_000],\n",
    "    labels=[\"iki 3k\", \"3k-20k\", \"20k-35k\", \"35k-70k\", \"70k+\"],\n",
    ")"
   ]
  },
  {
   "cell_type": "code",
   "execution_count": 163,
   "id": "20bd39fb",
   "metadata": {},
   "outputs": [
    {
     "data": {
      "application/javascript": [
       "\n",
       "            setTimeout(function() {\n",
       "                var nbb_cell_id = 163;\n",
       "                var nbb_unformatted_code = \"balance_21[\\\"turtas_category\\\"] = pd.cut(\\n    balance_21.turtas,\\n    bins=[0, 3000, 20000, 35000, 70000, 3_000_000_000],\\n    labels=[\\\"iki 3k\\\", \\\"3k-20k\\\", \\\"20k-35k\\\", \\\"35k-70k\\\", \\\"70k+\\\"],\\n)\";\n",
       "                var nbb_formatted_code = \"balance_21[\\\"turtas_category\\\"] = pd.cut(\\n    balance_21.turtas,\\n    bins=[0, 3000, 20000, 35000, 70000, 3_000_000_000],\\n    labels=[\\\"iki 3k\\\", \\\"3k-20k\\\", \\\"20k-35k\\\", \\\"35k-70k\\\", \\\"70k+\\\"],\\n)\";\n",
       "                var nbb_cells = Jupyter.notebook.get_cells();\n",
       "                for (var i = 0; i < nbb_cells.length; ++i) {\n",
       "                    if (nbb_cells[i].input_prompt_number == nbb_cell_id) {\n",
       "                        if (nbb_cells[i].get_text() == nbb_unformatted_code) {\n",
       "                             nbb_cells[i].set_text(nbb_formatted_code);\n",
       "                        }\n",
       "                        break;\n",
       "                    }\n",
       "                }\n",
       "            }, 500);\n",
       "            "
      ],
      "text/plain": [
       "<IPython.core.display.Javascript object>"
      ]
     },
     "metadata": {},
     "output_type": "display_data"
    }
   ],
   "source": [
    "balance_21[\"turtas_category\"] = pd.cut(\n",
    "    balance_21.turtas,\n",
    "    bins=[0, 3000, 20000, 35000, 70000, 3_000_000_000],\n",
    "    labels=[\"iki 3k\", \"3k-20k\", \"20k-35k\", \"35k-70k\", \"70k+\"],\n",
    ")"
   ]
  },
  {
   "cell_type": "code",
   "execution_count": 164,
   "id": "ecb50476",
   "metadata": {},
   "outputs": [
    {
     "data": {
      "application/javascript": [
       "\n",
       "            setTimeout(function() {\n",
       "                var nbb_cell_id = 164;\n",
       "                var nbb_unformatted_code = \"b20 = (\\n    balance_20[[\\\"obj_kodas\\\", \\\"turtas_category\\\"]]\\n    .copy()\\n    .rename(columns={\\\"turtas_category\\\": \\\"turtas_category_2020\\\"})\\n)\";\n",
       "                var nbb_formatted_code = \"b20 = (\\n    balance_20[[\\\"obj_kodas\\\", \\\"turtas_category\\\"]]\\n    .copy()\\n    .rename(columns={\\\"turtas_category\\\": \\\"turtas_category_2020\\\"})\\n)\";\n",
       "                var nbb_cells = Jupyter.notebook.get_cells();\n",
       "                for (var i = 0; i < nbb_cells.length; ++i) {\n",
       "                    if (nbb_cells[i].input_prompt_number == nbb_cell_id) {\n",
       "                        if (nbb_cells[i].get_text() == nbb_unformatted_code) {\n",
       "                             nbb_cells[i].set_text(nbb_formatted_code);\n",
       "                        }\n",
       "                        break;\n",
       "                    }\n",
       "                }\n",
       "            }, 500);\n",
       "            "
      ],
      "text/plain": [
       "<IPython.core.display.Javascript object>"
      ]
     },
     "metadata": {},
     "output_type": "display_data"
    }
   ],
   "source": [
    "b20 = (\n",
    "    balance_20[[\"obj_kodas\", \"turtas_category\"]]\n",
    "    .copy()\n",
    "    .rename(columns={\"turtas_category\": \"turtas_category_2020\"})\n",
    ")"
   ]
  },
  {
   "cell_type": "code",
   "execution_count": 165,
   "id": "b6576f87",
   "metadata": {},
   "outputs": [
    {
     "data": {
      "application/javascript": [
       "\n",
       "            setTimeout(function() {\n",
       "                var nbb_cell_id = 165;\n",
       "                var nbb_unformatted_code = \"b21 = (\\n    balance_21[[\\\"obj_kodas\\\", \\\"turtas_category\\\"]]\\n    .copy()\\n    .rename(columns={\\\"turtas_category\\\": \\\"turtas_category_2021\\\"})\\n)\";\n",
       "                var nbb_formatted_code = \"b21 = (\\n    balance_21[[\\\"obj_kodas\\\", \\\"turtas_category\\\"]]\\n    .copy()\\n    .rename(columns={\\\"turtas_category\\\": \\\"turtas_category_2021\\\"})\\n)\";\n",
       "                var nbb_cells = Jupyter.notebook.get_cells();\n",
       "                for (var i = 0; i < nbb_cells.length; ++i) {\n",
       "                    if (nbb_cells[i].input_prompt_number == nbb_cell_id) {\n",
       "                        if (nbb_cells[i].get_text() == nbb_unformatted_code) {\n",
       "                             nbb_cells[i].set_text(nbb_formatted_code);\n",
       "                        }\n",
       "                        break;\n",
       "                    }\n",
       "                }\n",
       "            }, 500);\n",
       "            "
      ],
      "text/plain": [
       "<IPython.core.display.Javascript object>"
      ]
     },
     "metadata": {},
     "output_type": "display_data"
    }
   ],
   "source": [
    "b21 = (\n",
    "    balance_21[[\"obj_kodas\", \"turtas_category\"]]\n",
    "    .copy()\n",
    "    .rename(columns={\"turtas_category\": \"turtas_category_2021\"})\n",
    ")"
   ]
  },
  {
   "cell_type": "code",
   "execution_count": 167,
   "id": "04802280",
   "metadata": {},
   "outputs": [
    {
     "data": {
      "text/html": [
       "<div>\n",
       "<style scoped>\n",
       "    .dataframe tbody tr th:only-of-type {\n",
       "        vertical-align: middle;\n",
       "    }\n",
       "\n",
       "    .dataframe tbody tr th {\n",
       "        vertical-align: top;\n",
       "    }\n",
       "\n",
       "    .dataframe thead th {\n",
       "        text-align: right;\n",
       "    }\n",
       "</style>\n",
       "<table border=\"1\" class=\"dataframe\">\n",
       "  <thead>\n",
       "    <tr style=\"text-align: right;\">\n",
       "      <th></th>\n",
       "      <th>obj_kodas</th>\n",
       "      <th>turtas_category_2020</th>\n",
       "      <th>turtas_category_2021</th>\n",
       "    </tr>\n",
       "  </thead>\n",
       "  <tbody>\n",
       "    <tr>\n",
       "      <th>0</th>\n",
       "      <td>305217929</td>\n",
       "      <td>iki 3k</td>\n",
       "      <td>iki 3k</td>\n",
       "    </tr>\n",
       "    <tr>\n",
       "      <th>1</th>\n",
       "      <td>304127368</td>\n",
       "      <td>iki 3k</td>\n",
       "      <td>iki 3k</td>\n",
       "    </tr>\n",
       "    <tr>\n",
       "      <th>2</th>\n",
       "      <td>304759186</td>\n",
       "      <td>70k+</td>\n",
       "      <td>35k-70k</td>\n",
       "    </tr>\n",
       "    <tr>\n",
       "      <th>3</th>\n",
       "      <td>191160250</td>\n",
       "      <td>iki 3k</td>\n",
       "      <td>iki 3k</td>\n",
       "    </tr>\n",
       "    <tr>\n",
       "      <th>4</th>\n",
       "      <td>304512862</td>\n",
       "      <td>70k+</td>\n",
       "      <td>70k+</td>\n",
       "    </tr>\n",
       "    <tr>\n",
       "      <th>...</th>\n",
       "      <td>...</td>\n",
       "      <td>...</td>\n",
       "      <td>...</td>\n",
       "    </tr>\n",
       "    <tr>\n",
       "      <th>92673</th>\n",
       "      <td>302564216</td>\n",
       "      <td>70k+</td>\n",
       "      <td>70k+</td>\n",
       "    </tr>\n",
       "    <tr>\n",
       "      <th>92674</th>\n",
       "      <td>300613091</td>\n",
       "      <td>70k+</td>\n",
       "      <td>70k+</td>\n",
       "    </tr>\n",
       "    <tr>\n",
       "      <th>92675</th>\n",
       "      <td>304213995</td>\n",
       "      <td>35k-70k</td>\n",
       "      <td>35k-70k</td>\n",
       "    </tr>\n",
       "    <tr>\n",
       "      <th>92676</th>\n",
       "      <td>302640169</td>\n",
       "      <td>70k+</td>\n",
       "      <td>70k+</td>\n",
       "    </tr>\n",
       "    <tr>\n",
       "      <th>92677</th>\n",
       "      <td>303778867</td>\n",
       "      <td>3k-20k</td>\n",
       "      <td>3k-20k</td>\n",
       "    </tr>\n",
       "  </tbody>\n",
       "</table>\n",
       "<p>92678 rows × 3 columns</p>\n",
       "</div>"
      ],
      "text/plain": [
       "       obj_kodas turtas_category_2020 turtas_category_2021\n",
       "0      305217929               iki 3k               iki 3k\n",
       "1      304127368               iki 3k               iki 3k\n",
       "2      304759186                 70k+              35k-70k\n",
       "3      191160250               iki 3k               iki 3k\n",
       "4      304512862                 70k+                 70k+\n",
       "...          ...                  ...                  ...\n",
       "92673  302564216                 70k+                 70k+\n",
       "92674  300613091                 70k+                 70k+\n",
       "92675  304213995              35k-70k              35k-70k\n",
       "92676  302640169                 70k+                 70k+\n",
       "92677  303778867               3k-20k               3k-20k\n",
       "\n",
       "[92678 rows x 3 columns]"
      ]
     },
     "execution_count": 167,
     "metadata": {},
     "output_type": "execute_result"
    },
    {
     "data": {
      "application/javascript": [
       "\n",
       "            setTimeout(function() {\n",
       "                var nbb_cell_id = 167;\n",
       "                var nbb_unformatted_code = \"b20.merge(b21, on='obj_kodas')\";\n",
       "                var nbb_formatted_code = \"b20.merge(b21, on=\\\"obj_kodas\\\")\";\n",
       "                var nbb_cells = Jupyter.notebook.get_cells();\n",
       "                for (var i = 0; i < nbb_cells.length; ++i) {\n",
       "                    if (nbb_cells[i].input_prompt_number == nbb_cell_id) {\n",
       "                        if (nbb_cells[i].get_text() == nbb_unformatted_code) {\n",
       "                             nbb_cells[i].set_text(nbb_formatted_code);\n",
       "                        }\n",
       "                        break;\n",
       "                    }\n",
       "                }\n",
       "            }, 500);\n",
       "            "
      ],
      "text/plain": [
       "<IPython.core.display.Javascript object>"
      ]
     },
     "metadata": {},
     "output_type": "display_data"
    }
   ],
   "source": [
    "b20.merge(b21, on=\"obj_kodas\")"
   ]
  },
  {
   "cell_type": "code",
   "execution_count": null,
   "id": "f79a8340",
   "metadata": {},
   "outputs": [],
   "source": [
    "## palyginimas -> count'as \n",
    "## judejimas is vienos kategorijos i kita "
   ]
  },
  {
   "cell_type": "markdown",
   "id": "63558aad",
   "metadata": {},
   "source": [
    "# 9\n",
    "Surasti top100 pelningiausias įmones pagal “grynasis pelnas” ir top100 įmones kurių “nuosavas kapitalas” didžiausias. Ar yra sutampančių įmonių šiuose sąrašuose? Skaičiuojant topus imti viso laikotarpio įmones."
   ]
  },
  {
   "cell_type": "code",
   "execution_count": 246,
   "id": "4bdd54f4",
   "metadata": {},
   "outputs": [
    {
     "data": {
      "application/javascript": [
       "\n",
       "            setTimeout(function() {\n",
       "                var nbb_cell_id = 246;\n",
       "                var nbb_unformatted_code = \"mb_uab = [\\\"Ma\\u017eoji bendrija\\\", \\\"U\\u017edaroji akcin\\u0117 bendrov\\u0117\\\"]\\nuab_mb_codition_20 = balance_20.form_pav.isin(mb_uab)\\nuab_mb_codition_21 = balance_21.form_pav.isin(mb_uab)\\n\\nlaikotarpis_condition_20 = balance_20.laikotarpis_nuo == \\\"2019-01-01\\\"\\nlaikotarpis_condition_21 = balance_21.laikotarpis_nuo == \\\"2020-01-01\\\"\\n\\n\\nbal_cols = [\\\"obj_kodas\\\", \\\"obj_pav\\\", \\\"form_pav\\\", \\\"nuosavas_kapitalas\\\"]\";\n",
       "                var nbb_formatted_code = \"mb_uab = [\\\"Ma\\u017eoji bendrija\\\", \\\"U\\u017edaroji akcin\\u0117 bendrov\\u0117\\\"]\\nuab_mb_codition_20 = balance_20.form_pav.isin(mb_uab)\\nuab_mb_codition_21 = balance_21.form_pav.isin(mb_uab)\\n\\nlaikotarpis_condition_20 = balance_20.laikotarpis_nuo == \\\"2019-01-01\\\"\\nlaikotarpis_condition_21 = balance_21.laikotarpis_nuo == \\\"2020-01-01\\\"\\n\\n\\nbal_cols = [\\\"obj_kodas\\\", \\\"obj_pav\\\", \\\"form_pav\\\", \\\"nuosavas_kapitalas\\\"]\";\n",
       "                var nbb_cells = Jupyter.notebook.get_cells();\n",
       "                for (var i = 0; i < nbb_cells.length; ++i) {\n",
       "                    if (nbb_cells[i].input_prompt_number == nbb_cell_id) {\n",
       "                        if (nbb_cells[i].get_text() == nbb_unformatted_code) {\n",
       "                             nbb_cells[i].set_text(nbb_formatted_code);\n",
       "                        }\n",
       "                        break;\n",
       "                    }\n",
       "                }\n",
       "            }, 500);\n",
       "            "
      ],
      "text/plain": [
       "<IPython.core.display.Javascript object>"
      ]
     },
     "metadata": {},
     "output_type": "display_data"
    }
   ],
   "source": [
    "mb_uab = [\"Mažoji bendrija\", \"Uždaroji akcinė bendrovė\"]\n",
    "uab_mb_codition_20 = balance_20.form_pav.isin(mb_uab)\n",
    "uab_mb_codition_21 = balance_21.form_pav.isin(mb_uab)\n",
    "\n",
    "laikotarpis_condition_20 = balance_20.laikotarpis_nuo == \"2019-01-01\"\n",
    "laikotarpis_condition_21 = balance_21.laikotarpis_nuo == \"2020-01-01\"\n",
    "\n",
    "\n",
    "bal_cols = [\"obj_kodas\", \"obj_pav\", \"form_pav\", \"nuosavas_kapitalas\"]"
   ]
  },
  {
   "cell_type": "code",
   "execution_count": 250,
   "id": "80b1e065",
   "metadata": {},
   "outputs": [
    {
     "data": {
      "application/javascript": [
       "\n",
       "            setTimeout(function() {\n",
       "                var nbb_cell_id = 250;\n",
       "                var nbb_unformatted_code = \"top_capital_20 = balance_20[uab_mb_codition_20 & laikotarpis_condition_20][bal_cols].sort_values(\\n    \\\"nuosavas_kapitalas\\\", ascending=False\\n).dropna().head(100)\";\n",
       "                var nbb_formatted_code = \"top_capital_20 = (\\n    balance_20[uab_mb_codition_20 & laikotarpis_condition_20][bal_cols]\\n    .sort_values(\\\"nuosavas_kapitalas\\\", ascending=False)\\n    .dropna()\\n    .head(100)\\n)\";\n",
       "                var nbb_cells = Jupyter.notebook.get_cells();\n",
       "                for (var i = 0; i < nbb_cells.length; ++i) {\n",
       "                    if (nbb_cells[i].input_prompt_number == nbb_cell_id) {\n",
       "                        if (nbb_cells[i].get_text() == nbb_unformatted_code) {\n",
       "                             nbb_cells[i].set_text(nbb_formatted_code);\n",
       "                        }\n",
       "                        break;\n",
       "                    }\n",
       "                }\n",
       "            }, 500);\n",
       "            "
      ],
      "text/plain": [
       "<IPython.core.display.Javascript object>"
      ]
     },
     "metadata": {},
     "output_type": "display_data"
    }
   ],
   "source": [
    "top_capital_20 = (\n",
    "    balance_20[uab_mb_codition_20 & laikotarpis_condition_20][bal_cols]\n",
    "    .sort_values(\"nuosavas_kapitalas\", ascending=False)\n",
    "    .dropna()\n",
    "    .head(100)\n",
    ")"
   ]
  },
  {
   "cell_type": "code",
   "execution_count": 255,
   "id": "40302ac8",
   "metadata": {},
   "outputs": [
    {
     "data": {
      "application/javascript": [
       "\n",
       "            setTimeout(function() {\n",
       "                var nbb_cell_id = 255;\n",
       "                var nbb_unformatted_code = \"top_capital_21 = (\\n    balance_21[uab_mb_codition_21 & laikotarpis_condition_21][bal_cols]\\n    .sort_values(\\\"nuosavas_kapitalas\\\", ascending=False)\\n    .dropna()\\n    .head(100)\\n)\";\n",
       "                var nbb_formatted_code = \"top_capital_21 = (\\n    balance_21[uab_mb_codition_21 & laikotarpis_condition_21][bal_cols]\\n    .sort_values(\\\"nuosavas_kapitalas\\\", ascending=False)\\n    .dropna()\\n    .head(100)\\n)\";\n",
       "                var nbb_cells = Jupyter.notebook.get_cells();\n",
       "                for (var i = 0; i < nbb_cells.length; ++i) {\n",
       "                    if (nbb_cells[i].input_prompt_number == nbb_cell_id) {\n",
       "                        if (nbb_cells[i].get_text() == nbb_unformatted_code) {\n",
       "                             nbb_cells[i].set_text(nbb_formatted_code);\n",
       "                        }\n",
       "                        break;\n",
       "                    }\n",
       "                }\n",
       "            }, 500);\n",
       "            "
      ],
      "text/plain": [
       "<IPython.core.display.Javascript object>"
      ]
     },
     "metadata": {},
     "output_type": "display_data"
    }
   ],
   "source": [
    "top_capital_21 = (\n",
    "    balance_21[uab_mb_codition_21 & laikotarpis_condition_21][bal_cols]\n",
    "    .sort_values(\"nuosavas_kapitalas\", ascending=False)\n",
    "    .dropna()\n",
    "    .head(100)\n",
    ")"
   ]
  },
  {
   "cell_type": "code",
   "execution_count": 251,
   "id": "a9878561",
   "metadata": {},
   "outputs": [
    {
     "data": {
      "application/javascript": [
       "\n",
       "            setTimeout(function() {\n",
       "                var nbb_cell_id = 251;\n",
       "                var nbb_unformatted_code = \"mb_uab = [\\\"Ma\\u017eoji bendrija\\\", \\\"U\\u017edaroji akcin\\u0117 bendrov\\u0117\\\"]\\npl_uab_mb_codition_20 = pl_20.form_pav.isin(mb_uab)\\npl_uab_mb_codition_21 = pl_21.form_pav.isin(mb_uab)\\n\\npl_laikotarpis_condition_20 = pl_20.laikotarpis_nuo == \\\"2019-01-01\\\"\\npl_laikotarpis_condition_21 = pl_20.laikotarpis_nuo == \\\"2020-01-01\\\"\\n\\n\\npl_cols = [\\\"obj_kodas\\\", \\\"obj_pav\\\", \\\"form_pav\\\", \\\"grynasis_pelnas\\\"]\";\n",
       "                var nbb_formatted_code = \"mb_uab = [\\\"Ma\\u017eoji bendrija\\\", \\\"U\\u017edaroji akcin\\u0117 bendrov\\u0117\\\"]\\npl_uab_mb_codition_20 = pl_20.form_pav.isin(mb_uab)\\npl_uab_mb_codition_21 = pl_21.form_pav.isin(mb_uab)\\n\\npl_laikotarpis_condition_20 = pl_20.laikotarpis_nuo == \\\"2019-01-01\\\"\\npl_laikotarpis_condition_21 = pl_20.laikotarpis_nuo == \\\"2020-01-01\\\"\\n\\n\\npl_cols = [\\\"obj_kodas\\\", \\\"obj_pav\\\", \\\"form_pav\\\", \\\"grynasis_pelnas\\\"]\";\n",
       "                var nbb_cells = Jupyter.notebook.get_cells();\n",
       "                for (var i = 0; i < nbb_cells.length; ++i) {\n",
       "                    if (nbb_cells[i].input_prompt_number == nbb_cell_id) {\n",
       "                        if (nbb_cells[i].get_text() == nbb_unformatted_code) {\n",
       "                             nbb_cells[i].set_text(nbb_formatted_code);\n",
       "                        }\n",
       "                        break;\n",
       "                    }\n",
       "                }\n",
       "            }, 500);\n",
       "            "
      ],
      "text/plain": [
       "<IPython.core.display.Javascript object>"
      ]
     },
     "metadata": {},
     "output_type": "display_data"
    }
   ],
   "source": [
    "mb_uab = [\"Mažoji bendrija\", \"Uždaroji akcinė bendrovė\"]\n",
    "pl_uab_mb_codition_20 = pl_20.form_pav.isin(mb_uab)\n",
    "pl_uab_mb_codition_21 = pl_21.form_pav.isin(mb_uab)\n",
    "\n",
    "pl_laikotarpis_condition_20 = pl_20.laikotarpis_nuo == \"2019-01-01\"\n",
    "pl_laikotarpis_condition_21 = pl_20.laikotarpis_nuo == \"2020-01-01\"\n",
    "\n",
    "\n",
    "pl_cols = [\"obj_kodas\", \"obj_pav\", \"form_pav\", \"grynasis_pelnas\"]"
   ]
  },
  {
   "cell_type": "code",
   "execution_count": 252,
   "id": "8d997d2e",
   "metadata": {},
   "outputs": [
    {
     "data": {
      "application/javascript": [
       "\n",
       "            setTimeout(function() {\n",
       "                var nbb_cell_id = 252;\n",
       "                var nbb_unformatted_code = \"top_profit_20 = pl_20[pl_uab_mb_codition_20 & pl_laikotarpis_condition_20][pl_cols].sort_values(\\n    \\\"grynasis_pelnas\\\", ascending=False\\n).dropna().head(100)\";\n",
       "                var nbb_formatted_code = \"top_profit_20 = (\\n    pl_20[pl_uab_mb_codition_20 & pl_laikotarpis_condition_20][pl_cols]\\n    .sort_values(\\\"grynasis_pelnas\\\", ascending=False)\\n    .dropna()\\n    .head(100)\\n)\";\n",
       "                var nbb_cells = Jupyter.notebook.get_cells();\n",
       "                for (var i = 0; i < nbb_cells.length; ++i) {\n",
       "                    if (nbb_cells[i].input_prompt_number == nbb_cell_id) {\n",
       "                        if (nbb_cells[i].get_text() == nbb_unformatted_code) {\n",
       "                             nbb_cells[i].set_text(nbb_formatted_code);\n",
       "                        }\n",
       "                        break;\n",
       "                    }\n",
       "                }\n",
       "            }, 500);\n",
       "            "
      ],
      "text/plain": [
       "<IPython.core.display.Javascript object>"
      ]
     },
     "metadata": {},
     "output_type": "display_data"
    }
   ],
   "source": [
    "top_profit_20 = (\n",
    "    pl_20[pl_uab_mb_codition_20 & pl_laikotarpis_condition_20][pl_cols]\n",
    "    .sort_values(\"grynasis_pelnas\", ascending=False)\n",
    "    .dropna()\n",
    "    .head(100)\n",
    ")"
   ]
  },
  {
   "cell_type": "code",
   "execution_count": 256,
   "id": "29d36925",
   "metadata": {},
   "outputs": [
    {
     "data": {
      "application/javascript": [
       "\n",
       "            setTimeout(function() {\n",
       "                var nbb_cell_id = 256;\n",
       "                var nbb_unformatted_code = \"top_profit_21 = (\\n    pl_21[pl_uab_mb_codition_21 & pl_laikotarpis_condition_21][pl_cols]\\n    .sort_values(\\\"grynasis_pelnas\\\", ascending=False)\\n    .dropna()\\n    .head(100)\\n)\";\n",
       "                var nbb_formatted_code = \"top_profit_21 = (\\n    pl_21[pl_uab_mb_codition_21 & pl_laikotarpis_condition_21][pl_cols]\\n    .sort_values(\\\"grynasis_pelnas\\\", ascending=False)\\n    .dropna()\\n    .head(100)\\n)\";\n",
       "                var nbb_cells = Jupyter.notebook.get_cells();\n",
       "                for (var i = 0; i < nbb_cells.length; ++i) {\n",
       "                    if (nbb_cells[i].input_prompt_number == nbb_cell_id) {\n",
       "                        if (nbb_cells[i].get_text() == nbb_unformatted_code) {\n",
       "                             nbb_cells[i].set_text(nbb_formatted_code);\n",
       "                        }\n",
       "                        break;\n",
       "                    }\n",
       "                }\n",
       "            }, 500);\n",
       "            "
      ],
      "text/plain": [
       "<IPython.core.display.Javascript object>"
      ]
     },
     "metadata": {},
     "output_type": "display_data"
    }
   ],
   "source": [
    "top_profit_21 = (\n",
    "    pl_21[pl_uab_mb_codition_21 & pl_laikotarpis_condition_21][pl_cols]\n",
    "    .sort_values(\"grynasis_pelnas\", ascending=False)\n",
    "    .dropna()\n",
    "    .head(100)\n",
    ")"
   ]
  },
  {
   "cell_type": "code",
   "execution_count": 262,
   "id": "1bb137c1",
   "metadata": {},
   "outputs": [
    {
     "data": {
      "text/html": [
       "<div>\n",
       "<style scoped>\n",
       "    .dataframe tbody tr th:only-of-type {\n",
       "        vertical-align: middle;\n",
       "    }\n",
       "\n",
       "    .dataframe tbody tr th {\n",
       "        vertical-align: top;\n",
       "    }\n",
       "\n",
       "    .dataframe thead th {\n",
       "        text-align: right;\n",
       "    }\n",
       "</style>\n",
       "<table border=\"1\" class=\"dataframe\">\n",
       "  <thead>\n",
       "    <tr style=\"text-align: right;\">\n",
       "      <th></th>\n",
       "      <th>obj_kodas</th>\n",
       "      <th>obj_pav</th>\n",
       "      <th>form_pav</th>\n",
       "      <th>grynasis_pelnas</th>\n",
       "    </tr>\n",
       "  </thead>\n",
       "  <tbody>\n",
       "    <tr>\n",
       "      <th>56566</th>\n",
       "      <td>121411842</td>\n",
       "      <td>Uždaroji akcinė bendrovė \"RIVILĖ\"</td>\n",
       "      <td>Uždaroji akcinė bendrovė</td>\n",
       "      <td>1029987.00</td>\n",
       "    </tr>\n",
       "    <tr>\n",
       "      <th>27806</th>\n",
       "      <td>304437648</td>\n",
       "      <td>UAB GTV Investments</td>\n",
       "      <td>Uždaroji akcinė bendrovė</td>\n",
       "      <td>986852.00</td>\n",
       "    </tr>\n",
       "    <tr>\n",
       "      <th>71582</th>\n",
       "      <td>110199943</td>\n",
       "      <td>UAB \"ALSO Lietuva\"</td>\n",
       "      <td>Uždaroji akcinė bendrovė</td>\n",
       "      <td>973000.00</td>\n",
       "    </tr>\n",
       "    <tr>\n",
       "      <th>8679</th>\n",
       "      <td>303832418</td>\n",
       "      <td>UAB \"Limoja\"</td>\n",
       "      <td>Uždaroji akcinė bendrovė</td>\n",
       "      <td>278149.00</td>\n",
       "    </tr>\n",
       "    <tr>\n",
       "      <th>28800</th>\n",
       "      <td>301879586</td>\n",
       "      <td>UAB \"Baltesa\"</td>\n",
       "      <td>Uždaroji akcinė bendrovė</td>\n",
       "      <td>220807.00</td>\n",
       "    </tr>\n",
       "    <tr>\n",
       "      <th>...</th>\n",
       "      <td>...</td>\n",
       "      <td>...</td>\n",
       "      <td>...</td>\n",
       "      <td>...</td>\n",
       "    </tr>\n",
       "    <tr>\n",
       "      <th>61174</th>\n",
       "      <td>303543552</td>\n",
       "      <td>UAB \"Consultada\"</td>\n",
       "      <td>Uždaroji akcinė bendrovė</td>\n",
       "      <td>-261.00</td>\n",
       "    </tr>\n",
       "    <tr>\n",
       "      <th>79486</th>\n",
       "      <td>300670758</td>\n",
       "      <td>UAB \"Vinorda\"</td>\n",
       "      <td>Uždaroji akcinė bendrovė</td>\n",
       "      <td>-341.00</td>\n",
       "    </tr>\n",
       "    <tr>\n",
       "      <th>15721</th>\n",
       "      <td>304474479</td>\n",
       "      <td>UAB \"Statinių statybos valdymas\"</td>\n",
       "      <td>Uždaroji akcinė bendrovė</td>\n",
       "      <td>-466.00</td>\n",
       "    </tr>\n",
       "    <tr>\n",
       "      <th>70573</th>\n",
       "      <td>305638725</td>\n",
       "      <td>MB \"Grilinta\"</td>\n",
       "      <td>Mažoji bendrija</td>\n",
       "      <td>-613.00</td>\n",
       "    </tr>\n",
       "    <tr>\n",
       "      <th>65284</th>\n",
       "      <td>305641582</td>\n",
       "      <td>MB April notes</td>\n",
       "      <td>Mažoji bendrija</td>\n",
       "      <td>-674.00</td>\n",
       "    </tr>\n",
       "  </tbody>\n",
       "</table>\n",
       "<p>100 rows × 4 columns</p>\n",
       "</div>"
      ],
      "text/plain": [
       "       obj_kodas                            obj_pav                  form_pav  \\\n",
       "56566  121411842  Uždaroji akcinė bendrovė \"RIVILĖ\"  Uždaroji akcinė bendrovė   \n",
       "27806  304437648                UAB GTV Investments  Uždaroji akcinė bendrovė   \n",
       "71582  110199943                 UAB \"ALSO Lietuva\"  Uždaroji akcinė bendrovė   \n",
       "8679   303832418                       UAB \"Limoja\"  Uždaroji akcinė bendrovė   \n",
       "28800  301879586                      UAB \"Baltesa\"  Uždaroji akcinė bendrovė   \n",
       "...          ...                                ...                       ...   \n",
       "61174  303543552                   UAB \"Consultada\"  Uždaroji akcinė bendrovė   \n",
       "79486  300670758                      UAB \"Vinorda\"  Uždaroji akcinė bendrovė   \n",
       "15721  304474479   UAB \"Statinių statybos valdymas\"  Uždaroji akcinė bendrovė   \n",
       "70573  305638725                      MB \"Grilinta\"           Mažoji bendrija   \n",
       "65284  305641582                     MB April notes           Mažoji bendrija   \n",
       "\n",
       "       grynasis_pelnas  \n",
       "56566       1029987.00  \n",
       "27806        986852.00  \n",
       "71582        973000.00  \n",
       "8679         278149.00  \n",
       "28800        220807.00  \n",
       "...                ...  \n",
       "61174          -261.00  \n",
       "79486          -341.00  \n",
       "15721          -466.00  \n",
       "70573          -613.00  \n",
       "65284          -674.00  \n",
       "\n",
       "[100 rows x 4 columns]"
      ]
     },
     "execution_count": 262,
     "metadata": {},
     "output_type": "execute_result"
    },
    {
     "data": {
      "application/javascript": [
       "\n",
       "            setTimeout(function() {\n",
       "                var nbb_cell_id = 262;\n",
       "                var nbb_unformatted_code = \"top_profit_21\";\n",
       "                var nbb_formatted_code = \"top_profit_21\";\n",
       "                var nbb_cells = Jupyter.notebook.get_cells();\n",
       "                for (var i = 0; i < nbb_cells.length; ++i) {\n",
       "                    if (nbb_cells[i].input_prompt_number == nbb_cell_id) {\n",
       "                        if (nbb_cells[i].get_text() == nbb_unformatted_code) {\n",
       "                             nbb_cells[i].set_text(nbb_formatted_code);\n",
       "                        }\n",
       "                        break;\n",
       "                    }\n",
       "                }\n",
       "            }, 500);\n",
       "            "
      ],
      "text/plain": [
       "<IPython.core.display.Javascript object>"
      ]
     },
     "metadata": {},
     "output_type": "display_data"
    }
   ],
   "source": [
    "top_profit_21"
   ]
  },
  {
   "cell_type": "code",
   "execution_count": 257,
   "id": "262b1060",
   "metadata": {},
   "outputs": [
    {
     "data": {
      "application/javascript": [
       "\n",
       "            setTimeout(function() {\n",
       "                var nbb_cell_id = 257;\n",
       "                var nbb_unformatted_code = \"best_20 = top_capital_20.merge(top_profit_20, on=\\\"obj_kodas\\\")\";\n",
       "                var nbb_formatted_code = \"best_20 = top_capital_20.merge(top_profit_20, on=\\\"obj_kodas\\\")\";\n",
       "                var nbb_cells = Jupyter.notebook.get_cells();\n",
       "                for (var i = 0; i < nbb_cells.length; ++i) {\n",
       "                    if (nbb_cells[i].input_prompt_number == nbb_cell_id) {\n",
       "                        if (nbb_cells[i].get_text() == nbb_unformatted_code) {\n",
       "                             nbb_cells[i].set_text(nbb_formatted_code);\n",
       "                        }\n",
       "                        break;\n",
       "                    }\n",
       "                }\n",
       "            }, 500);\n",
       "            "
      ],
      "text/plain": [
       "<IPython.core.display.Javascript object>"
      ]
     },
     "metadata": {},
     "output_type": "display_data"
    }
   ],
   "source": [
    "best_20 = top_capital_20.merge(top_profit_20, on=\"obj_kodas\")"
   ]
  },
  {
   "cell_type": "code",
   "execution_count": 258,
   "id": "67fb5edb",
   "metadata": {},
   "outputs": [
    {
     "data": {
      "application/javascript": [
       "\n",
       "            setTimeout(function() {\n",
       "                var nbb_cell_id = 258;\n",
       "                var nbb_unformatted_code = \"best_21 = top_capital_21.merge(top_profit_21, on=\\\"obj_kodas\\\")\";\n",
       "                var nbb_formatted_code = \"best_21 = top_capital_21.merge(top_profit_21, on=\\\"obj_kodas\\\")\";\n",
       "                var nbb_cells = Jupyter.notebook.get_cells();\n",
       "                for (var i = 0; i < nbb_cells.length; ++i) {\n",
       "                    if (nbb_cells[i].input_prompt_number == nbb_cell_id) {\n",
       "                        if (nbb_cells[i].get_text() == nbb_unformatted_code) {\n",
       "                             nbb_cells[i].set_text(nbb_formatted_code);\n",
       "                        }\n",
       "                        break;\n",
       "                    }\n",
       "                }\n",
       "            }, 500);\n",
       "            "
      ],
      "text/plain": [
       "<IPython.core.display.Javascript object>"
      ]
     },
     "metadata": {},
     "output_type": "display_data"
    }
   ],
   "source": [
    "best_21 = top_capital_21.merge(top_profit_21, on=\"obj_kodas\")"
   ]
  },
  {
   "cell_type": "code",
   "execution_count": 259,
   "id": "926426cf",
   "metadata": {},
   "outputs": [
    {
     "data": {
      "text/html": [
       "<div>\n",
       "<style scoped>\n",
       "    .dataframe tbody tr th:only-of-type {\n",
       "        vertical-align: middle;\n",
       "    }\n",
       "\n",
       "    .dataframe tbody tr th {\n",
       "        vertical-align: top;\n",
       "    }\n",
       "\n",
       "    .dataframe thead th {\n",
       "        text-align: right;\n",
       "    }\n",
       "</style>\n",
       "<table border=\"1\" class=\"dataframe\">\n",
       "  <thead>\n",
       "    <tr style=\"text-align: right;\">\n",
       "      <th></th>\n",
       "      <th>obj_kodas</th>\n",
       "      <th>obj_pav_x</th>\n",
       "      <th>form_pav_x</th>\n",
       "      <th>nuosavas_kapitalas</th>\n",
       "      <th>obj_pav_y</th>\n",
       "      <th>form_pav_y</th>\n",
       "      <th>grynasis_pelnas</th>\n",
       "    </tr>\n",
       "  </thead>\n",
       "  <tbody>\n",
       "    <tr>\n",
       "      <th>0</th>\n",
       "      <td>122351387</td>\n",
       "      <td>UAB \"Thermo Fisher Scientific Baltics\"</td>\n",
       "      <td>Uždaroji akcinė bendrovė</td>\n",
       "      <td>835363488.00</td>\n",
       "      <td>UAB \"Thermo Fisher Scientific Baltics\"</td>\n",
       "      <td>Uždaroji akcinė bendrovė</td>\n",
       "      <td>246597137.00</td>\n",
       "    </tr>\n",
       "    <tr>\n",
       "      <th>1</th>\n",
       "      <td>302489393</td>\n",
       "      <td>UAB \"ME investicija\"</td>\n",
       "      <td>Uždaroji akcinė bendrovė</td>\n",
       "      <td>382319766.00</td>\n",
       "      <td>UAB \"ME investicija\"</td>\n",
       "      <td>Uždaroji akcinė bendrovė</td>\n",
       "      <td>65718272.00</td>\n",
       "    </tr>\n",
       "    <tr>\n",
       "      <th>2</th>\n",
       "      <td>111660489</td>\n",
       "      <td>UAB Teva Baltics</td>\n",
       "      <td>Uždaroji akcinė bendrovė</td>\n",
       "      <td>360041379.00</td>\n",
       "      <td>UAB Teva Baltics</td>\n",
       "      <td>Uždaroji akcinė bendrovė</td>\n",
       "      <td>40401074.00</td>\n",
       "    </tr>\n",
       "    <tr>\n",
       "      <th>3</th>\n",
       "      <td>123033512</td>\n",
       "      <td>MAXIMA LT UAB</td>\n",
       "      <td>Uždaroji akcinė bendrovė</td>\n",
       "      <td>264546000.00</td>\n",
       "      <td>MAXIMA LT UAB</td>\n",
       "      <td>Uždaroji akcinė bendrovė</td>\n",
       "      <td>83641000.00</td>\n",
       "    </tr>\n",
       "    <tr>\n",
       "      <th>4</th>\n",
       "      <td>110688998</td>\n",
       "      <td>UAB \"Bitė Lietuva\"</td>\n",
       "      <td>Uždaroji akcinė bendrovė</td>\n",
       "      <td>252973000.00</td>\n",
       "      <td>UAB \"Bitė Lietuva\"</td>\n",
       "      <td>Uždaroji akcinė bendrovė</td>\n",
       "      <td>33429000.00</td>\n",
       "    </tr>\n",
       "    <tr>\n",
       "      <th>5</th>\n",
       "      <td>126142011</td>\n",
       "      <td>Uždaroji akcinė bendrovė \"NEO GROUP\"</td>\n",
       "      <td>Uždaroji akcinė bendrovė</td>\n",
       "      <td>225969009.00</td>\n",
       "      <td>Uždaroji akcinė bendrovė \"NEO GROUP\"</td>\n",
       "      <td>Uždaroji akcinė bendrovė</td>\n",
       "      <td>24270205.00</td>\n",
       "    </tr>\n",
       "    <tr>\n",
       "      <th>6</th>\n",
       "      <td>111471645</td>\n",
       "      <td>UAB \"TELE2\"</td>\n",
       "      <td>Uždaroji akcinė bendrovė</td>\n",
       "      <td>181159000.00</td>\n",
       "      <td>UAB \"TELE2\"</td>\n",
       "      <td>Uždaroji akcinė bendrovė</td>\n",
       "      <td>56625000.00</td>\n",
       "    </tr>\n",
       "    <tr>\n",
       "      <th>7</th>\n",
       "      <td>156673480</td>\n",
       "      <td>UAB koncernas \"ACHEMOS GRUPĖ\"</td>\n",
       "      <td>Uždaroji akcinė bendrovė</td>\n",
       "      <td>180519000.00</td>\n",
       "      <td>UAB koncernas \"ACHEMOS GRUPĖ\"</td>\n",
       "      <td>Uždaroji akcinė bendrovė</td>\n",
       "      <td>20122000.00</td>\n",
       "    </tr>\n",
       "    <tr>\n",
       "      <th>8</th>\n",
       "      <td>234376520</td>\n",
       "      <td>Uždaroji akcinė bendrovė \"Kesko Senukai Lithua...</td>\n",
       "      <td>Uždaroji akcinė bendrovė</td>\n",
       "      <td>153243537.00</td>\n",
       "      <td>Uždaroji akcinė bendrovė \"Kesko Senukai Lithua...</td>\n",
       "      <td>Uždaroji akcinė bendrovė</td>\n",
       "      <td>18683361.00</td>\n",
       "    </tr>\n",
       "    <tr>\n",
       "      <th>9</th>\n",
       "      <td>111543781</td>\n",
       "      <td>Uždaroji akcinė bendrovė \"BALTISCHES HAUS\"</td>\n",
       "      <td>Uždaroji akcinė bendrovė</td>\n",
       "      <td>147498367.00</td>\n",
       "      <td>Uždaroji akcinė bendrovė \"BALTISCHES HAUS\"</td>\n",
       "      <td>Uždaroji akcinė bendrovė</td>\n",
       "      <td>11654436.00</td>\n",
       "    </tr>\n",
       "    <tr>\n",
       "      <th>10</th>\n",
       "      <td>110443493</td>\n",
       "      <td>UAB \"SANITEX\"</td>\n",
       "      <td>Uždaroji akcinė bendrovė</td>\n",
       "      <td>139975116.00</td>\n",
       "      <td>UAB \"SANITEX\"</td>\n",
       "      <td>Uždaroji akcinė bendrovė</td>\n",
       "      <td>21534508.00</td>\n",
       "    </tr>\n",
       "    <tr>\n",
       "      <th>11</th>\n",
       "      <td>304737930</td>\n",
       "      <td>UAB \"VG HOLDING\"</td>\n",
       "      <td>Uždaroji akcinė bendrovė</td>\n",
       "      <td>130311767.00</td>\n",
       "      <td>UAB \"VG HOLDING\"</td>\n",
       "      <td>Uždaroji akcinė bendrovė</td>\n",
       "      <td>12225682.00</td>\n",
       "    </tr>\n",
       "    <tr>\n",
       "      <th>12</th>\n",
       "      <td>125765062</td>\n",
       "      <td>UAB \"Panorama LT\"</td>\n",
       "      <td>Uždaroji akcinė bendrovė</td>\n",
       "      <td>114518788.00</td>\n",
       "      <td>UAB \"Panorama LT\"</td>\n",
       "      <td>Uždaroji akcinė bendrovė</td>\n",
       "      <td>24236299.00</td>\n",
       "    </tr>\n",
       "    <tr>\n",
       "      <th>13</th>\n",
       "      <td>126211233</td>\n",
       "      <td>NDX Group UAB</td>\n",
       "      <td>Uždaroji akcinė bendrovė</td>\n",
       "      <td>103924000.00</td>\n",
       "      <td>NDX Group UAB</td>\n",
       "      <td>Uždaroji akcinė bendrovė</td>\n",
       "      <td>9576000.00</td>\n",
       "    </tr>\n",
       "    <tr>\n",
       "      <th>14</th>\n",
       "      <td>125261991</td>\n",
       "      <td>UŽDAROJI AKCINĖ BENDROVĖ \"LIETPAK\"</td>\n",
       "      <td>Uždaroji akcinė bendrovė</td>\n",
       "      <td>93158734.00</td>\n",
       "      <td>UŽDAROJI AKCINĖ BENDROVĖ \"LIETPAK\"</td>\n",
       "      <td>Uždaroji akcinė bendrovė</td>\n",
       "      <td>19233701.00</td>\n",
       "    </tr>\n",
       "    <tr>\n",
       "      <th>15</th>\n",
       "      <td>302766513</td>\n",
       "      <td>UAB \"IN Group\"</td>\n",
       "      <td>Uždaroji akcinė bendrovė</td>\n",
       "      <td>91905837.00</td>\n",
       "      <td>UAB \"IN Group\"</td>\n",
       "      <td>Uždaroji akcinė bendrovė</td>\n",
       "      <td>13047031.00</td>\n",
       "    </tr>\n",
       "    <tr>\n",
       "      <th>16</th>\n",
       "      <td>134393593</td>\n",
       "      <td>UAB \"ERA Family\"</td>\n",
       "      <td>Uždaroji akcinė bendrovė</td>\n",
       "      <td>86015466.00</td>\n",
       "      <td>UAB \"ERA Family\"</td>\n",
       "      <td>Uždaroji akcinė bendrovė</td>\n",
       "      <td>46917751.00</td>\n",
       "    </tr>\n",
       "    <tr>\n",
       "      <th>17</th>\n",
       "      <td>110512039</td>\n",
       "      <td>Uždaroji akcinė bendrovė \"RIVONA\"</td>\n",
       "      <td>Uždaroji akcinė bendrovė</td>\n",
       "      <td>84725001.00</td>\n",
       "      <td>Uždaroji akcinė bendrovė \"RIVONA\"</td>\n",
       "      <td>Uždaroji akcinė bendrovė</td>\n",
       "      <td>10736026.00</td>\n",
       "    </tr>\n",
       "    <tr>\n",
       "      <th>18</th>\n",
       "      <td>123249022</td>\n",
       "      <td>MG investment UAB</td>\n",
       "      <td>Uždaroji akcinė bendrovė</td>\n",
       "      <td>78497437.00</td>\n",
       "      <td>MG investment UAB</td>\n",
       "      <td>Uždaroji akcinė bendrovė</td>\n",
       "      <td>7639771.00</td>\n",
       "    </tr>\n",
       "    <tr>\n",
       "      <th>19</th>\n",
       "      <td>181688331</td>\n",
       "      <td>Uždaroji akcinė bendrovė \"Nemuno banga\"</td>\n",
       "      <td>Uždaroji akcinė bendrovė</td>\n",
       "      <td>72742902.00</td>\n",
       "      <td>Uždaroji akcinė bendrovė \"Nemuno banga\"</td>\n",
       "      <td>Uždaroji akcinė bendrovė</td>\n",
       "      <td>17581076.00</td>\n",
       "    </tr>\n",
       "    <tr>\n",
       "      <th>20</th>\n",
       "      <td>222598890</td>\n",
       "      <td>Light Conversion UAB</td>\n",
       "      <td>Uždaroji akcinė bendrovė</td>\n",
       "      <td>72521661.00</td>\n",
       "      <td>Light Conversion UAB</td>\n",
       "      <td>Uždaroji akcinė bendrovė</td>\n",
       "      <td>20973995.00</td>\n",
       "    </tr>\n",
       "    <tr>\n",
       "      <th>21</th>\n",
       "      <td>300149641</td>\n",
       "      <td>UAB \"Yukon Advanced Optics Worldwide\"</td>\n",
       "      <td>Uždaroji akcinė bendrovė</td>\n",
       "      <td>70410317.00</td>\n",
       "      <td>UAB \"Yukon Advanced Optics Worldwide\"</td>\n",
       "      <td>Uždaroji akcinė bendrovė</td>\n",
       "      <td>24165283.00</td>\n",
       "    </tr>\n",
       "    <tr>\n",
       "      <th>22</th>\n",
       "      <td>302636473</td>\n",
       "      <td>UAB \"ME HOLDING NT\"</td>\n",
       "      <td>Uždaroji akcinė bendrovė</td>\n",
       "      <td>69387237.00</td>\n",
       "      <td>UAB \"ME HOLDING NT\"</td>\n",
       "      <td>Uždaroji akcinė bendrovė</td>\n",
       "      <td>14574404.00</td>\n",
       "    </tr>\n",
       "    <tr>\n",
       "      <th>23</th>\n",
       "      <td>300049032</td>\n",
       "      <td>UAB \"V. Paulius &amp; associates real estate\"</td>\n",
       "      <td>Uždaroji akcinė bendrovė</td>\n",
       "      <td>66870162.00</td>\n",
       "      <td>UAB \"V. Paulius &amp; associates real estate\"</td>\n",
       "      <td>Uždaroji akcinė bendrovė</td>\n",
       "      <td>6919479.00</td>\n",
       "    </tr>\n",
       "    <tr>\n",
       "      <th>24</th>\n",
       "      <td>302502008</td>\n",
       "      <td>UAB \"ME Trailers\"</td>\n",
       "      <td>Uždaroji akcinė bendrovė</td>\n",
       "      <td>66691866.00</td>\n",
       "      <td>UAB \"ME Trailers\"</td>\n",
       "      <td>Uždaroji akcinė bendrovė</td>\n",
       "      <td>13088623.00</td>\n",
       "    </tr>\n",
       "    <tr>\n",
       "      <th>25</th>\n",
       "      <td>123010339</td>\n",
       "      <td>UAB \"DARNU GROUP\"</td>\n",
       "      <td>Uždaroji akcinė bendrovė</td>\n",
       "      <td>66083754.00</td>\n",
       "      <td>UAB \"DARNU GROUP\"</td>\n",
       "      <td>Uždaroji akcinė bendrovė</td>\n",
       "      <td>6414409.00</td>\n",
       "    </tr>\n",
       "    <tr>\n",
       "      <th>26</th>\n",
       "      <td>301819621</td>\n",
       "      <td>Enefit Wind UAB</td>\n",
       "      <td>Uždaroji akcinė bendrovė</td>\n",
       "      <td>65810122.00</td>\n",
       "      <td>Enefit Wind UAB</td>\n",
       "      <td>Uždaroji akcinė bendrovė</td>\n",
       "      <td>7064933.00</td>\n",
       "    </tr>\n",
       "    <tr>\n",
       "      <th>27</th>\n",
       "      <td>300575363</td>\n",
       "      <td>UAB \"Trust Capital\"</td>\n",
       "      <td>Uždaroji akcinė bendrovė</td>\n",
       "      <td>61683706.00</td>\n",
       "      <td>UAB \"Trust Capital\"</td>\n",
       "      <td>Uždaroji akcinė bendrovė</td>\n",
       "      <td>9252348.00</td>\n",
       "    </tr>\n",
       "    <tr>\n",
       "      <th>28</th>\n",
       "      <td>302756782</td>\n",
       "      <td>Technopolis Lietuva UAB</td>\n",
       "      <td>Uždaroji akcinė bendrovė</td>\n",
       "      <td>59332768.00</td>\n",
       "      <td>Technopolis Lietuva UAB</td>\n",
       "      <td>Uždaroji akcinė bendrovė</td>\n",
       "      <td>43509024.00</td>\n",
       "    </tr>\n",
       "    <tr>\n",
       "      <th>29</th>\n",
       "      <td>111461341</td>\n",
       "      <td>UAB \"Schage Real Estate\"</td>\n",
       "      <td>Uždaroji akcinė bendrovė</td>\n",
       "      <td>54194532.00</td>\n",
       "      <td>UAB \"Schage Real Estate\"</td>\n",
       "      <td>Uždaroji akcinė bendrovė</td>\n",
       "      <td>28195080.00</td>\n",
       "    </tr>\n",
       "    <tr>\n",
       "      <th>30</th>\n",
       "      <td>304029536</td>\n",
       "      <td>UAB \"Promola\"</td>\n",
       "      <td>Uždaroji akcinė bendrovė</td>\n",
       "      <td>53877637.00</td>\n",
       "      <td>UAB \"Promola\"</td>\n",
       "      <td>Uždaroji akcinė bendrovė</td>\n",
       "      <td>6174745.00</td>\n",
       "    </tr>\n",
       "    <tr>\n",
       "      <th>31</th>\n",
       "      <td>161188589</td>\n",
       "      <td>UAB \"EDVERVITA\"</td>\n",
       "      <td>Uždaroji akcinė bendrovė</td>\n",
       "      <td>53376086.00</td>\n",
       "      <td>UAB \"EDVERVITA\"</td>\n",
       "      <td>Uždaroji akcinė bendrovė</td>\n",
       "      <td>9485593.00</td>\n",
       "    </tr>\n",
       "    <tr>\n",
       "      <th>32</th>\n",
       "      <td>110778328</td>\n",
       "      <td>Uždaroji akcinė bendrovė \"NORFOS MAŽMENA\"</td>\n",
       "      <td>Uždaroji akcinė bendrovė</td>\n",
       "      <td>50238387.00</td>\n",
       "      <td>Uždaroji akcinė bendrovė \"NORFOS MAŽMENA\"</td>\n",
       "      <td>Uždaroji akcinė bendrovė</td>\n",
       "      <td>10164017.00</td>\n",
       "    </tr>\n",
       "    <tr>\n",
       "      <th>33</th>\n",
       "      <td>110506132</td>\n",
       "      <td>UAB \"PHILIP MORRIS LIETUVA\"</td>\n",
       "      <td>Uždaroji akcinė bendrovė</td>\n",
       "      <td>49628258.00</td>\n",
       "      <td>UAB \"PHILIP MORRIS LIETUVA\"</td>\n",
       "      <td>Uždaroji akcinė bendrovė</td>\n",
       "      <td>11027797.00</td>\n",
       "    </tr>\n",
       "    <tr>\n",
       "      <th>34</th>\n",
       "      <td>301276531</td>\n",
       "      <td>UAB Gren Klaipėda</td>\n",
       "      <td>Uždaroji akcinė bendrovė</td>\n",
       "      <td>49428881.00</td>\n",
       "      <td>UAB Gren Klaipėda</td>\n",
       "      <td>Uždaroji akcinė bendrovė</td>\n",
       "      <td>10018085.00</td>\n",
       "    </tr>\n",
       "    <tr>\n",
       "      <th>35</th>\n",
       "      <td>300569015</td>\n",
       "      <td>UAB \"Girteka logistics\"</td>\n",
       "      <td>Uždaroji akcinė bendrovė</td>\n",
       "      <td>48022832.00</td>\n",
       "      <td>UAB \"Girteka logistics\"</td>\n",
       "      <td>Uždaroji akcinė bendrovė</td>\n",
       "      <td>9169331.00</td>\n",
       "    </tr>\n",
       "    <tr>\n",
       "      <th>36</th>\n",
       "      <td>211472890</td>\n",
       "      <td>Uždaroji akcinė bendrovė \"NESTE LIETUVA\"</td>\n",
       "      <td>Uždaroji akcinė bendrovė</td>\n",
       "      <td>47407927.00</td>\n",
       "      <td>Uždaroji akcinė bendrovė \"NESTE LIETUVA\"</td>\n",
       "      <td>Uždaroji akcinė bendrovė</td>\n",
       "      <td>7444190.00</td>\n",
       "    </tr>\n",
       "    <tr>\n",
       "      <th>37</th>\n",
       "      <td>300822575</td>\n",
       "      <td>UAB \"LJB investments\"</td>\n",
       "      <td>Uždaroji akcinė bendrovė</td>\n",
       "      <td>46731686.00</td>\n",
       "      <td>UAB \"LJB investments\"</td>\n",
       "      <td>Uždaroji akcinė bendrovė</td>\n",
       "      <td>8780793.00</td>\n",
       "    </tr>\n",
       "    <tr>\n",
       "      <th>38</th>\n",
       "      <td>142044723</td>\n",
       "      <td>Uždaroji akcinė bendrovė \"VAKARŲ MEDIENOS GRUPĖ\"</td>\n",
       "      <td>Uždaroji akcinė bendrovė</td>\n",
       "      <td>44749000.00</td>\n",
       "      <td>Uždaroji akcinė bendrovė \"VAKARŲ MEDIENOS GRUPĖ\"</td>\n",
       "      <td>Uždaroji akcinė bendrovė</td>\n",
       "      <td>24261000.00</td>\n",
       "    </tr>\n",
       "  </tbody>\n",
       "</table>\n",
       "</div>"
      ],
      "text/plain": [
       "    obj_kodas                                          obj_pav_x  \\\n",
       "0   122351387             UAB \"Thermo Fisher Scientific Baltics\"   \n",
       "1   302489393                               UAB \"ME investicija\"   \n",
       "2   111660489                                   UAB Teva Baltics   \n",
       "3   123033512                                      MAXIMA LT UAB   \n",
       "4   110688998                                 UAB \"Bitė Lietuva\"   \n",
       "5   126142011               Uždaroji akcinė bendrovė \"NEO GROUP\"   \n",
       "6   111471645                                        UAB \"TELE2\"   \n",
       "7   156673480                      UAB koncernas \"ACHEMOS GRUPĖ\"   \n",
       "8   234376520  Uždaroji akcinė bendrovė \"Kesko Senukai Lithua...   \n",
       "9   111543781         Uždaroji akcinė bendrovė \"BALTISCHES HAUS\"   \n",
       "10  110443493                                      UAB \"SANITEX\"   \n",
       "11  304737930                                   UAB \"VG HOLDING\"   \n",
       "12  125765062                                  UAB \"Panorama LT\"   \n",
       "13  126211233                                      NDX Group UAB   \n",
       "14  125261991                 UŽDAROJI AKCINĖ BENDROVĖ \"LIETPAK\"   \n",
       "15  302766513                                     UAB \"IN Group\"   \n",
       "16  134393593                                   UAB \"ERA Family\"   \n",
       "17  110512039                  Uždaroji akcinė bendrovė \"RIVONA\"   \n",
       "18  123249022                                  MG investment UAB   \n",
       "19  181688331            Uždaroji akcinė bendrovė \"Nemuno banga\"   \n",
       "20  222598890                               Light Conversion UAB   \n",
       "21  300149641              UAB \"Yukon Advanced Optics Worldwide\"   \n",
       "22  302636473                                UAB \"ME HOLDING NT\"   \n",
       "23  300049032          UAB \"V. Paulius & associates real estate\"   \n",
       "24  302502008                                  UAB \"ME Trailers\"   \n",
       "25  123010339                                  UAB \"DARNU GROUP\"   \n",
       "26  301819621                                    Enefit Wind UAB   \n",
       "27  300575363                                UAB \"Trust Capital\"   \n",
       "28  302756782                            Technopolis Lietuva UAB   \n",
       "29  111461341                           UAB \"Schage Real Estate\"   \n",
       "30  304029536                                      UAB \"Promola\"   \n",
       "31  161188589                                    UAB \"EDVERVITA\"   \n",
       "32  110778328          Uždaroji akcinė bendrovė \"NORFOS MAŽMENA\"   \n",
       "33  110506132                        UAB \"PHILIP MORRIS LIETUVA\"   \n",
       "34  301276531                                  UAB Gren Klaipėda   \n",
       "35  300569015                            UAB \"Girteka logistics\"   \n",
       "36  211472890           Uždaroji akcinė bendrovė \"NESTE LIETUVA\"   \n",
       "37  300822575                              UAB \"LJB investments\"   \n",
       "38  142044723   Uždaroji akcinė bendrovė \"VAKARŲ MEDIENOS GRUPĖ\"   \n",
       "\n",
       "                  form_pav_x  nuosavas_kapitalas  \\\n",
       "0   Uždaroji akcinė bendrovė        835363488.00   \n",
       "1   Uždaroji akcinė bendrovė        382319766.00   \n",
       "2   Uždaroji akcinė bendrovė        360041379.00   \n",
       "3   Uždaroji akcinė bendrovė        264546000.00   \n",
       "4   Uždaroji akcinė bendrovė        252973000.00   \n",
       "5   Uždaroji akcinė bendrovė        225969009.00   \n",
       "6   Uždaroji akcinė bendrovė        181159000.00   \n",
       "7   Uždaroji akcinė bendrovė        180519000.00   \n",
       "8   Uždaroji akcinė bendrovė        153243537.00   \n",
       "9   Uždaroji akcinė bendrovė        147498367.00   \n",
       "10  Uždaroji akcinė bendrovė        139975116.00   \n",
       "11  Uždaroji akcinė bendrovė        130311767.00   \n",
       "12  Uždaroji akcinė bendrovė        114518788.00   \n",
       "13  Uždaroji akcinė bendrovė        103924000.00   \n",
       "14  Uždaroji akcinė bendrovė         93158734.00   \n",
       "15  Uždaroji akcinė bendrovė         91905837.00   \n",
       "16  Uždaroji akcinė bendrovė         86015466.00   \n",
       "17  Uždaroji akcinė bendrovė         84725001.00   \n",
       "18  Uždaroji akcinė bendrovė         78497437.00   \n",
       "19  Uždaroji akcinė bendrovė         72742902.00   \n",
       "20  Uždaroji akcinė bendrovė         72521661.00   \n",
       "21  Uždaroji akcinė bendrovė         70410317.00   \n",
       "22  Uždaroji akcinė bendrovė         69387237.00   \n",
       "23  Uždaroji akcinė bendrovė         66870162.00   \n",
       "24  Uždaroji akcinė bendrovė         66691866.00   \n",
       "25  Uždaroji akcinė bendrovė         66083754.00   \n",
       "26  Uždaroji akcinė bendrovė         65810122.00   \n",
       "27  Uždaroji akcinė bendrovė         61683706.00   \n",
       "28  Uždaroji akcinė bendrovė         59332768.00   \n",
       "29  Uždaroji akcinė bendrovė         54194532.00   \n",
       "30  Uždaroji akcinė bendrovė         53877637.00   \n",
       "31  Uždaroji akcinė bendrovė         53376086.00   \n",
       "32  Uždaroji akcinė bendrovė         50238387.00   \n",
       "33  Uždaroji akcinė bendrovė         49628258.00   \n",
       "34  Uždaroji akcinė bendrovė         49428881.00   \n",
       "35  Uždaroji akcinė bendrovė         48022832.00   \n",
       "36  Uždaroji akcinė bendrovė         47407927.00   \n",
       "37  Uždaroji akcinė bendrovė         46731686.00   \n",
       "38  Uždaroji akcinė bendrovė         44749000.00   \n",
       "\n",
       "                                            obj_pav_y  \\\n",
       "0              UAB \"Thermo Fisher Scientific Baltics\"   \n",
       "1                                UAB \"ME investicija\"   \n",
       "2                                    UAB Teva Baltics   \n",
       "3                                       MAXIMA LT UAB   \n",
       "4                                  UAB \"Bitė Lietuva\"   \n",
       "5                Uždaroji akcinė bendrovė \"NEO GROUP\"   \n",
       "6                                         UAB \"TELE2\"   \n",
       "7                       UAB koncernas \"ACHEMOS GRUPĖ\"   \n",
       "8   Uždaroji akcinė bendrovė \"Kesko Senukai Lithua...   \n",
       "9          Uždaroji akcinė bendrovė \"BALTISCHES HAUS\"   \n",
       "10                                      UAB \"SANITEX\"   \n",
       "11                                   UAB \"VG HOLDING\"   \n",
       "12                                  UAB \"Panorama LT\"   \n",
       "13                                      NDX Group UAB   \n",
       "14                 UŽDAROJI AKCINĖ BENDROVĖ \"LIETPAK\"   \n",
       "15                                     UAB \"IN Group\"   \n",
       "16                                   UAB \"ERA Family\"   \n",
       "17                  Uždaroji akcinė bendrovė \"RIVONA\"   \n",
       "18                                  MG investment UAB   \n",
       "19            Uždaroji akcinė bendrovė \"Nemuno banga\"   \n",
       "20                               Light Conversion UAB   \n",
       "21              UAB \"Yukon Advanced Optics Worldwide\"   \n",
       "22                                UAB \"ME HOLDING NT\"   \n",
       "23          UAB \"V. Paulius & associates real estate\"   \n",
       "24                                  UAB \"ME Trailers\"   \n",
       "25                                  UAB \"DARNU GROUP\"   \n",
       "26                                    Enefit Wind UAB   \n",
       "27                                UAB \"Trust Capital\"   \n",
       "28                            Technopolis Lietuva UAB   \n",
       "29                           UAB \"Schage Real Estate\"   \n",
       "30                                      UAB \"Promola\"   \n",
       "31                                    UAB \"EDVERVITA\"   \n",
       "32          Uždaroji akcinė bendrovė \"NORFOS MAŽMENA\"   \n",
       "33                        UAB \"PHILIP MORRIS LIETUVA\"   \n",
       "34                                  UAB Gren Klaipėda   \n",
       "35                            UAB \"Girteka logistics\"   \n",
       "36           Uždaroji akcinė bendrovė \"NESTE LIETUVA\"   \n",
       "37                              UAB \"LJB investments\"   \n",
       "38   Uždaroji akcinė bendrovė \"VAKARŲ MEDIENOS GRUPĖ\"   \n",
       "\n",
       "                  form_pav_y  grynasis_pelnas  \n",
       "0   Uždaroji akcinė bendrovė     246597137.00  \n",
       "1   Uždaroji akcinė bendrovė      65718272.00  \n",
       "2   Uždaroji akcinė bendrovė      40401074.00  \n",
       "3   Uždaroji akcinė bendrovė      83641000.00  \n",
       "4   Uždaroji akcinė bendrovė      33429000.00  \n",
       "5   Uždaroji akcinė bendrovė      24270205.00  \n",
       "6   Uždaroji akcinė bendrovė      56625000.00  \n",
       "7   Uždaroji akcinė bendrovė      20122000.00  \n",
       "8   Uždaroji akcinė bendrovė      18683361.00  \n",
       "9   Uždaroji akcinė bendrovė      11654436.00  \n",
       "10  Uždaroji akcinė bendrovė      21534508.00  \n",
       "11  Uždaroji akcinė bendrovė      12225682.00  \n",
       "12  Uždaroji akcinė bendrovė      24236299.00  \n",
       "13  Uždaroji akcinė bendrovė       9576000.00  \n",
       "14  Uždaroji akcinė bendrovė      19233701.00  \n",
       "15  Uždaroji akcinė bendrovė      13047031.00  \n",
       "16  Uždaroji akcinė bendrovė      46917751.00  \n",
       "17  Uždaroji akcinė bendrovė      10736026.00  \n",
       "18  Uždaroji akcinė bendrovė       7639771.00  \n",
       "19  Uždaroji akcinė bendrovė      17581076.00  \n",
       "20  Uždaroji akcinė bendrovė      20973995.00  \n",
       "21  Uždaroji akcinė bendrovė      24165283.00  \n",
       "22  Uždaroji akcinė bendrovė      14574404.00  \n",
       "23  Uždaroji akcinė bendrovė       6919479.00  \n",
       "24  Uždaroji akcinė bendrovė      13088623.00  \n",
       "25  Uždaroji akcinė bendrovė       6414409.00  \n",
       "26  Uždaroji akcinė bendrovė       7064933.00  \n",
       "27  Uždaroji akcinė bendrovė       9252348.00  \n",
       "28  Uždaroji akcinė bendrovė      43509024.00  \n",
       "29  Uždaroji akcinė bendrovė      28195080.00  \n",
       "30  Uždaroji akcinė bendrovė       6174745.00  \n",
       "31  Uždaroji akcinė bendrovė       9485593.00  \n",
       "32  Uždaroji akcinė bendrovė      10164017.00  \n",
       "33  Uždaroji akcinė bendrovė      11027797.00  \n",
       "34  Uždaroji akcinė bendrovė      10018085.00  \n",
       "35  Uždaroji akcinė bendrovė       9169331.00  \n",
       "36  Uždaroji akcinė bendrovė       7444190.00  \n",
       "37  Uždaroji akcinė bendrovė       8780793.00  \n",
       "38  Uždaroji akcinė bendrovė      24261000.00  "
      ]
     },
     "execution_count": 259,
     "metadata": {},
     "output_type": "execute_result"
    },
    {
     "data": {
      "application/javascript": [
       "\n",
       "            setTimeout(function() {\n",
       "                var nbb_cell_id = 259;\n",
       "                var nbb_unformatted_code = \"best_20\";\n",
       "                var nbb_formatted_code = \"best_20\";\n",
       "                var nbb_cells = Jupyter.notebook.get_cells();\n",
       "                for (var i = 0; i < nbb_cells.length; ++i) {\n",
       "                    if (nbb_cells[i].input_prompt_number == nbb_cell_id) {\n",
       "                        if (nbb_cells[i].get_text() == nbb_unformatted_code) {\n",
       "                             nbb_cells[i].set_text(nbb_formatted_code);\n",
       "                        }\n",
       "                        break;\n",
       "                    }\n",
       "                }\n",
       "            }, 500);\n",
       "            "
      ],
      "text/plain": [
       "<IPython.core.display.Javascript object>"
      ]
     },
     "metadata": {},
     "output_type": "display_data"
    }
   ],
   "source": [
    "best_20"
   ]
  },
  {
   "cell_type": "code",
   "execution_count": 266,
   "id": "2319102e",
   "metadata": {},
   "outputs": [
    {
     "data": {
      "text/plain": [
       "set()"
      ]
     },
     "execution_count": 266,
     "metadata": {},
     "output_type": "execute_result"
    },
    {
     "data": {
      "application/javascript": [
       "\n",
       "            setTimeout(function() {\n",
       "                var nbb_cell_id = 266;\n",
       "                var nbb_unformatted_code = \"set(top_profit_21.obj_kodas).intersection(set(top_capital_21.obj_kodas))\";\n",
       "                var nbb_formatted_code = \"set(top_profit_21.obj_kodas).intersection(set(top_capital_21.obj_kodas))\";\n",
       "                var nbb_cells = Jupyter.notebook.get_cells();\n",
       "                for (var i = 0; i < nbb_cells.length; ++i) {\n",
       "                    if (nbb_cells[i].input_prompt_number == nbb_cell_id) {\n",
       "                        if (nbb_cells[i].get_text() == nbb_unformatted_code) {\n",
       "                             nbb_cells[i].set_text(nbb_formatted_code);\n",
       "                        }\n",
       "                        break;\n",
       "                    }\n",
       "                }\n",
       "            }, 500);\n",
       "            "
      ],
      "text/plain": [
       "<IPython.core.display.Javascript object>"
      ]
     },
     "metadata": {},
     "output_type": "display_data"
    }
   ],
   "source": [
    "set(top_profit_21.obj_kodas).intersection(set(top_capital_21.obj_kodas))"
   ]
  },
  {
   "cell_type": "markdown",
   "id": "09daab66",
   "metadata": {},
   "source": [
    "# 10\n",
    "Ar topai iš 9 užduoties skiriasi 2020 ir 2021 metais? Kurios įmonės iškrenta iš topų 2021 metais?"
   ]
  },
  {
   "cell_type": "code",
   "execution_count": 277,
   "id": "802f0029",
   "metadata": {},
   "outputs": [
    {
     "data": {
      "application/javascript": [
       "\n",
       "            setTimeout(function() {\n",
       "                var nbb_cell_id = 277;\n",
       "                var nbb_unformatted_code = \"capital_drop_outs_21 = []\\nfor i in top_capital_20.obj_pav:\\n    if i not in top_capital_21.obj_pav:\\n        capital_drop_outs_21.append(i)\";\n",
       "                var nbb_formatted_code = \"capital_drop_outs_21 = []\\nfor i in top_capital_20.obj_pav:\\n    if i not in top_capital_21.obj_pav:\\n        capital_drop_outs_21.append(i)\";\n",
       "                var nbb_cells = Jupyter.notebook.get_cells();\n",
       "                for (var i = 0; i < nbb_cells.length; ++i) {\n",
       "                    if (nbb_cells[i].input_prompt_number == nbb_cell_id) {\n",
       "                        if (nbb_cells[i].get_text() == nbb_unformatted_code) {\n",
       "                             nbb_cells[i].set_text(nbb_formatted_code);\n",
       "                        }\n",
       "                        break;\n",
       "                    }\n",
       "                }\n",
       "            }, 500);\n",
       "            "
      ],
      "text/plain": [
       "<IPython.core.display.Javascript object>"
      ]
     },
     "metadata": {},
     "output_type": "display_data"
    }
   ],
   "source": [
    "capital_drop_outs_21 = []\n",
    "for i in top_capital_20.obj_pav:\n",
    "    if i not in top_capital_21.obj_pav:\n",
    "        capital_drop_outs_21.append(i)"
   ]
  },
  {
   "cell_type": "code",
   "execution_count": 278,
   "id": "40afb7e2",
   "metadata": {},
   "outputs": [
    {
     "data": {
      "text/plain": [
       "['Uždaroji akcinė bendrovė \"Vilniaus prekyba\"',\n",
       " 'MAXIMA GRUPĖ UAB',\n",
       " 'UAB \"Thermo Fisher Scientific Baltics\"',\n",
       " 'LEKSITA UAB',\n",
       " 'UAB \"ME investicija\"',\n",
       " 'EUROAPOTHECA UAB',\n",
       " 'NVP PROJEKTAI UAB',\n",
       " 'PATRIA HOLDINGS UAB',\n",
       " 'ENTARAS UAB',\n",
       " 'UAB Teva Baltics',\n",
       " 'MAXIMA LT UAB',\n",
       " 'UAB \"Bitė Lietuva\"',\n",
       " 'OZO TURTAS UAB',\n",
       " 'Uždaroji akcinė bendrovė \"NEO GROUP\"',\n",
       " 'VISAS UAB',\n",
       " 'UAB \"TELE2\"',\n",
       " 'GALIO GROUP UAB',\n",
       " 'UAB koncernas \"ACHEMOS GRUPĖ\"',\n",
       " 'UAB \"EPSO-G\"',\n",
       " '\"Swedbank lizingas\" UAB',\n",
       " 'UAB \"Lag&d\"',\n",
       " 'TAIKOS TURTAS UAB',\n",
       " 'UAB \"ICOR\"',\n",
       " 'Uždaroji akcinė bendrovė \"Kesko Senukai Lithuania\"',\n",
       " 'Uždaroji akcinė bendrovė \"BALTISCHES HAUS\"',\n",
       " 'UAB \"SANITEX\"',\n",
       " 'UAB \"ŠVYTURYS-UTENOS ALUS\"',\n",
       " 'UAB \"Consul Trade House\"',\n",
       " 'UAB \"VG HOLDING\"',\n",
       " 'Uždaroji akcinė bendrovė \"VILNIAUS VANDENYS\"',\n",
       " 'GALIO ASSET MANAGEMENT UAB',\n",
       " 'Uždaroji akcinė bendrovė \"Kauno vandenys\"',\n",
       " 'UAB \"Panorama LT\"',\n",
       " 'UAB \"Hanner\"',\n",
       " 'UAB \"MV GROUP Asset Management\"',\n",
       " 'UAB \"Consul Development\"',\n",
       " 'NDX Group UAB',\n",
       " 'UAB \"Consul Properties\"',\n",
       " 'IKI Lietuva UAB',\n",
       " 'UAB \"Litvalda\"',\n",
       " 'Narbutas Marketing UAB',\n",
       " 'UŽDAROJI AKCINĖ BENDROVĖ \"LIETPAK\"',\n",
       " 'UAB \"IN Group\"',\n",
       " 'FRANMAX UAB',\n",
       " 'UAB \"Vičiūnų grupė\"',\n",
       " 'TEMA HOLDINGS UAB',\n",
       " 'UAB \"ERA Family\"',\n",
       " 'Uždaroji akcinė bendrovė \"RIVONA\"',\n",
       " 'UAB \"TABA Holding\"',\n",
       " 'UAB \"Motus Novus\"',\n",
       " 'MG investment UAB',\n",
       " 'UAB SBA Grupė',\n",
       " 'Uždaroji akcinė bendrovė \"Nemuno banga\"',\n",
       " 'Light Conversion UAB',\n",
       " 'KAUNO AUDINIŲ PROJEKTAS UAB',\n",
       " 'Uždaroji akcinė bendrovė \"VERTMA\"',\n",
       " 'UAB \"Yukon Advanced Optics Worldwide\"',\n",
       " 'UAB \"ME HOLDING NT\"',\n",
       " 'UAB \"KS Investicija\"',\n",
       " 'UAB \"STONUS Group\"',\n",
       " 'UAB Mano Būsto priežiūra',\n",
       " 'UAB \"V. Paulius & associates real estate\"',\n",
       " 'UAB \"ME Trailers\"',\n",
       " 'UAB \"DARNU GROUP\"',\n",
       " 'Enefit Wind UAB',\n",
       " 'AIDO TURTAS UAB',\n",
       " 'UAB \"Trust Capital\"',\n",
       " 'Uždaroji akcinė bendrovė \"Vlantana\"',\n",
       " 'Technopolis Lietuva UAB',\n",
       " 'Luminor Lizingas UAB',\n",
       " 'UAB \"YIT Lietuva\"',\n",
       " 'Uždaroji akcinė bendrovė \"INTERSURGICAL\"',\n",
       " 'UAB \"BT INVEST\"',\n",
       " 'Uždaroji akcinė bendrovė \"Orion Global pet\"',\n",
       " 'Uždaroji akcinė bendrovė \"Šiaulių vandenys\"',\n",
       " 'Uždaroji akcinė bendrovė \"Vaizga\"',\n",
       " 'UAB \"Schage Real Estate\"',\n",
       " 'UAB \"Promola\"',\n",
       " 'UAB \"EDVERVITA\"',\n",
       " 'Uždaroji akcinė bendrovė \"AGROCHEMA\"',\n",
       " 'Uždaroji akcinė bendrovė \"NORFOS MAŽMENA\"',\n",
       " 'UAB \"CGP Management\"',\n",
       " 'UAB \"Nekilnojamojo turto valdymas\"',\n",
       " 'UAB \"PHILIP MORRIS LIETUVA\"',\n",
       " 'UAB Gren Klaipėda',\n",
       " 'UAB \"NT Plėtros fondas\"',\n",
       " 'UAB \"Girteka logistics\"',\n",
       " 'Uždaroji akcinė bendrovė \"SKUBA\"',\n",
       " 'Uždaroji akcinė bendrovė \"NESTE LIETUVA\"',\n",
       " 'UAB \"LJB investments\"',\n",
       " 'UAB \"Eternit Baltic\"',\n",
       " 'Uždaroji akcinė bendrovė \"VAKARŲ MEDIENOS GRUPĖ\"',\n",
       " 'Technopolis Ozas UAB',\n",
       " 'UAB Sevenways Group',\n",
       " 'Vikonda grupė UAB',\n",
       " 'UAB \"Lietpak investicija\"',\n",
       " 'UAB \"Delta Investment\"',\n",
       " 'UAB \"Investicijų pasaulis\"',\n",
       " 'Uždaroji akcinė bendrovė \"FORUMAS\"',\n",
       " 'AKSO UAB']"
      ]
     },
     "execution_count": 278,
     "metadata": {},
     "output_type": "execute_result"
    },
    {
     "data": {
      "application/javascript": [
       "\n",
       "            setTimeout(function() {\n",
       "                var nbb_cell_id = 278;\n",
       "                var nbb_unformatted_code = \"capital_drop_outs_21\";\n",
       "                var nbb_formatted_code = \"capital_drop_outs_21\";\n",
       "                var nbb_cells = Jupyter.notebook.get_cells();\n",
       "                for (var i = 0; i < nbb_cells.length; ++i) {\n",
       "                    if (nbb_cells[i].input_prompt_number == nbb_cell_id) {\n",
       "                        if (nbb_cells[i].get_text() == nbb_unformatted_code) {\n",
       "                             nbb_cells[i].set_text(nbb_formatted_code);\n",
       "                        }\n",
       "                        break;\n",
       "                    }\n",
       "                }\n",
       "            }, 500);\n",
       "            "
      ],
      "text/plain": [
       "<IPython.core.display.Javascript object>"
      ]
     },
     "metadata": {},
     "output_type": "display_data"
    }
   ],
   "source": [
    "capital_drop_outs_21"
   ]
  },
  {
   "cell_type": "code",
   "execution_count": 275,
   "id": "0c082adb",
   "metadata": {},
   "outputs": [
    {
     "data": {
      "application/javascript": [
       "\n",
       "            setTimeout(function() {\n",
       "                var nbb_cell_id = 275;\n",
       "                var nbb_unformatted_code = \"profit_drop_outs_21 = []\\nfor i in top_profit_20.obj_pav:\\n    if i not in top_profit_21.obj_pav:\\n        profit_drop_outs_21.append(i)\";\n",
       "                var nbb_formatted_code = \"profit_drop_outs_21 = []\\nfor i in top_profit_20.obj_pav:\\n    if i not in top_profit_21.obj_pav:\\n        profit_drop_outs_21.append(i)\";\n",
       "                var nbb_cells = Jupyter.notebook.get_cells();\n",
       "                for (var i = 0; i < nbb_cells.length; ++i) {\n",
       "                    if (nbb_cells[i].input_prompt_number == nbb_cell_id) {\n",
       "                        if (nbb_cells[i].get_text() == nbb_unformatted_code) {\n",
       "                             nbb_cells[i].set_text(nbb_formatted_code);\n",
       "                        }\n",
       "                        break;\n",
       "                    }\n",
       "                }\n",
       "            }, 500);\n",
       "            "
      ],
      "text/plain": [
       "<IPython.core.display.Javascript object>"
      ]
     },
     "metadata": {},
     "output_type": "display_data"
    }
   ],
   "source": [
    "profit_drop_outs_21 = []\n",
    "for i in top_profit_20.obj_pav:\n",
    "    if i not in top_profit_21.obj_pav:\n",
    "        profit_drop_outs_21.append(i)"
   ]
  },
  {
   "cell_type": "code",
   "execution_count": 276,
   "id": "3efde603",
   "metadata": {},
   "outputs": [
    {
     "data": {
      "text/plain": [
       "['UAB \"Thermo Fisher Scientific Baltics\"',\n",
       " 'MAXIMA LT UAB',\n",
       " 'UAB \"ME investicija\"',\n",
       " 'UAB \"TELE2\"',\n",
       " 'UAB \"ERA Family\"',\n",
       " 'Technopolis Lietuva UAB',\n",
       " 'UAB Teva Baltics',\n",
       " 'UAB \"Bitė Lietuva\"',\n",
       " 'UAB \"SCT Lubricants\"',\n",
       " 'UAB \"Schage Real Estate\"',\n",
       " 'Uždaroji akcinė bendrovė \"NEO GROUP\"',\n",
       " 'Uždaroji akcinė bendrovė \"VAKARŲ MEDIENOS GRUPĖ\"',\n",
       " 'UAB \"Panorama LT\"',\n",
       " 'UAB \"Yukon Advanced Optics Worldwide\"',\n",
       " 'UAB \"SANITEX\"',\n",
       " 'Light Conversion UAB',\n",
       " 'UAB koncernas \"ACHEMOS GRUPĖ\"',\n",
       " 'UŽDAROJI AKCINĖ BENDROVĖ \"LIETPAK\"',\n",
       " 'Uždaroji akcinė bendrovė BIRIŲ KROVINIŲ TERMINALAS',\n",
       " 'Uždaroji akcinė bendrovė \"Kesko Senukai Lithuania\"',\n",
       " 'Uždaroji akcinė bendrovė \"Nemuno banga\"',\n",
       " 'UAB \"Avion Express\"',\n",
       " 'UAB Biotechnologinės farmacijos centras \"Biotechpharma\"',\n",
       " 'UAB \"GetJet Airlines\"',\n",
       " 'UAB \"Klaipėdos terminalo grupė\"',\n",
       " 'UAB \"ME HOLDING NT\"',\n",
       " 'Uždaroji akcinė bendrovė \"LITESKO\"',\n",
       " 'UAB \"Narbutas International\"',\n",
       " 'UAB \"Green Genius\"',\n",
       " 'UAB \"TOP SPORT\"',\n",
       " 'UAB \"Sorensen Invest\"',\n",
       " 'UAB \"ME Trailers\"',\n",
       " 'UAB \"IN Group\"',\n",
       " 'Lietuvos ir Norvegijos uždaroji akcinė bendrovė \"NORVELITA\"',\n",
       " 'UAB \"VG HOLDING\"',\n",
       " 'Uždarojo tipo informuotiesiems investuotojams skirta investicinė bendrovė UAB \"Verslo trikampis\"',\n",
       " 'UAB LIVE SQUARE LT',\n",
       " 'UAB \"Daltonas\"',\n",
       " 'Uždaroji akcinė bendrovė \"BALTISCHES HAUS\"',\n",
       " 'Uždarojo tipo informuotiesiems investuotojams skirta investicinė bendrovė UAB \"LIM Verslo Trikampio NT Fondas\"',\n",
       " 'UAB \"Inter Krasta\"',\n",
       " 'UAB \"TELTONIKA IoT GROUP\"',\n",
       " 'UAB \"PHILIP MORRIS LIETUVA\"',\n",
       " 'Uždaroji akcinė bendrovė \"RIVONA\"',\n",
       " 'UAB \"PHILIP MORRIS BALTIC\"',\n",
       " 'UAB \"Klaško\"',\n",
       " 'Uždaroji akcinė bendrovė \"NORFOS MAŽMENA\"',\n",
       " 'UAB Gren Klaipėda',\n",
       " 'UAB \"HEKON\"',\n",
       " 'Silver Screen Holdings UAB',\n",
       " '4Wind UAB',\n",
       " 'UAB \"Vilniaus aidai\"',\n",
       " 'NDX Group UAB',\n",
       " 'Klaipėdos konteinerių terminalas UAB',\n",
       " 'UAB \"EDVERVITA\"',\n",
       " 'Uždaroji akcinė bendrovė \"Nemuno vaistinė\"',\n",
       " 'UAB \"Trust Capital\"',\n",
       " 'UAB \"Girteka logistics\"',\n",
       " 'UAB \"SPECTATOR\"',\n",
       " 'Eastnine 3Bures-1-2 UAB',\n",
       " 'UAB \"LJB investments\"',\n",
       " 'UAB \"Freda\"',\n",
       " 'Uždaroji akcinė bendrovė \"VITA BALTIC INTERNATIONAL\"',\n",
       " 'MD PARTNERS UAB',\n",
       " 'UAB \"Nacionalinė farmacijos grupė\"',\n",
       " 'UAB \"Mars Lietuva\"',\n",
       " 'UAB \"EBV Finance\"',\n",
       " 'MG investment UAB',\n",
       " 'Uždaroji akcinė bendrovė \"VIČIŪNAI IR PARTNERIAI\"',\n",
       " 'UAB \"K29\"',\n",
       " 'UAB \"KOMFOVENT\"',\n",
       " 'Uždaroji akcinė bendrovė \"NESTE LIETUVA\"',\n",
       " 'UAB \"Biosantara\"',\n",
       " 'Enefit Wind UAB',\n",
       " 'UAB \"V. Paulius & associates real estate\"',\n",
       " 'UAB \"CIE LT FORGE\"',\n",
       " 'UAB \"OLIFĖJA\"',\n",
       " 'UAB \"RAY Investments\"',\n",
       " 'UAB \"Hegelmann transporte\"',\n",
       " 'UAB \"FL Technics\"',\n",
       " 'UAB \"ERA CAPITAL\"',\n",
       " 'UAB \"SPECTATOR NT\"',\n",
       " 'UAB \"DARNU GROUP\"',\n",
       " 'UAB \"KITRON\"',\n",
       " 'UAB \"AMIC Lietuva\"',\n",
       " 'UAB \"Areus\"',\n",
       " 'UAB \"SteelTrade\"',\n",
       " 'UAB \"Promola\"',\n",
       " 'Estoty Vilnius UAB',\n",
       " 'UAB \"ME transportas\"',\n",
       " 'UAB \"Aventinas\"',\n",
       " 'UAB Gren Lietuva',\n",
       " 'Uždaroji akcinė bendrovė \"TRASIS\"',\n",
       " 'UAB \"RETAL Lithuania\"',\n",
       " 'UAB Verslo centras Dvyniai',\n",
       " 'Uždaroji akcinė bendrovė \"Sostena auto\"',\n",
       " 'UAB Bauwerk Group Lietuva',\n",
       " 'UAB \"Viada LT\"',\n",
       " 'Uždaroji akcinė bendrovė \"Ryterna\"',\n",
       " 'UAB \"Proteinas LT\"']"
      ]
     },
     "execution_count": 276,
     "metadata": {},
     "output_type": "execute_result"
    },
    {
     "data": {
      "application/javascript": [
       "\n",
       "            setTimeout(function() {\n",
       "                var nbb_cell_id = 276;\n",
       "                var nbb_unformatted_code = \"profit_drop_outs_21\";\n",
       "                var nbb_formatted_code = \"profit_drop_outs_21\";\n",
       "                var nbb_cells = Jupyter.notebook.get_cells();\n",
       "                for (var i = 0; i < nbb_cells.length; ++i) {\n",
       "                    if (nbb_cells[i].input_prompt_number == nbb_cell_id) {\n",
       "                        if (nbb_cells[i].get_text() == nbb_unformatted_code) {\n",
       "                             nbb_cells[i].set_text(nbb_formatted_code);\n",
       "                        }\n",
       "                        break;\n",
       "                    }\n",
       "                }\n",
       "            }, 500);\n",
       "            "
      ],
      "text/plain": [
       "<IPython.core.display.Javascript object>"
      ]
     },
     "metadata": {},
     "output_type": "display_data"
    }
   ],
   "source": [
    "profit_drop_outs_21"
   ]
  },
  {
   "cell_type": "code",
   "execution_count": null,
   "id": "a2c44fdf",
   "metadata": {},
   "outputs": [],
   "source": []
  }
 ],
 "metadata": {
  "kernelspec": {
   "display_name": "Python 3 (ipykernel)",
   "language": "python",
   "name": "python3"
  },
  "language_info": {
   "codemirror_mode": {
    "name": "ipython",
    "version": 3
   },
   "file_extension": ".py",
   "mimetype": "text/x-python",
   "name": "python",
   "nbconvert_exporter": "python",
   "pygments_lexer": "ipython3",
   "version": "3.9.2"
  }
 },
 "nbformat": 4,
 "nbformat_minor": 5
}
