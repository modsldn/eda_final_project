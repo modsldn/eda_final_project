{
 "cells": [
  {
   "cell_type": "code",
   "execution_count": 5,
   "id": "fde1d322-aa9a-4460-b525-603fab161a70",
   "metadata": {},
   "outputs": [],
   "source": [
    "import pandas as pd\n",
    "import seaborn as sns\n",
    "from string import punctuation"
   ]
  },
  {
   "cell_type": "code",
   "execution_count": 6,
   "id": "0c27ca99-df7a-4032-bd1d-4b7c9a88cd2d",
   "metadata": {},
   "outputs": [
    {
     "data": {
      "text/html": [
       "<div>\n",
       "<style scoped>\n",
       "    .dataframe tbody tr th:only-of-type {\n",
       "        vertical-align: middle;\n",
       "    }\n",
       "\n",
       "    .dataframe tbody tr th {\n",
       "        vertical-align: top;\n",
       "    }\n",
       "\n",
       "    .dataframe thead th {\n",
       "        text-align: right;\n",
       "    }\n",
       "</style>\n",
       "<table border=\"1\" class=\"dataframe\">\n",
       "  <thead>\n",
       "    <tr style=\"text-align: right;\">\n",
       "      <th></th>\n",
       "      <th>JA_kodas</th>\n",
       "      <th>JA_pavadinimas</th>\n",
       "      <th>adresas</th>\n",
       "      <th>reg_data</th>\n",
       "      <th>form_kodas</th>\n",
       "      <th>form_pavadinimas</th>\n",
       "      <th>status_kodas</th>\n",
       "      <th>stat_pavadinimas</th>\n",
       "      <th>stat_data_nuo</th>\n",
       "      <th>formavimo_data</th>\n",
       "    </tr>\n",
       "  </thead>\n",
       "  <tbody>\n",
       "    <tr>\n",
       "      <th>0</th>\n",
       "      <td>305235418</td>\n",
       "      <td>\"10 liepų\" UAB</td>\n",
       "      <td>Klaipėdos m. sav. Klaipėdos m. Liepų g. 4</td>\n",
       "      <td>2019-08-22</td>\n",
       "      <td>310</td>\n",
       "      <td>Uždaroji akcinė bendrovė</td>\n",
       "      <td>0</td>\n",
       "      <td>Teisinis stat neįregistruotas</td>\n",
       "      <td>2019-08-22</td>\n",
       "      <td>2022-12-01</td>\n",
       "    </tr>\n",
       "    <tr>\n",
       "      <th>1</th>\n",
       "      <td>304682359</td>\n",
       "      <td>\"1024 MB\" MB</td>\n",
       "      <td>Vilniaus m. sav. Vilniaus m. I. Simonaitytės g...</td>\n",
       "      <td>2017-10-03</td>\n",
       "      <td>960</td>\n",
       "      <td>Mažoji bendrija</td>\n",
       "      <td>0</td>\n",
       "      <td>Teisinis stat neįregistruotas</td>\n",
       "      <td>2017-10-03</td>\n",
       "      <td>2022-12-01</td>\n",
       "    </tr>\n",
       "    <tr>\n",
       "      <th>2</th>\n",
       "      <td>304934714</td>\n",
       "      <td>\"115 idėjų\" MB</td>\n",
       "      <td>Kauno m. sav. Kauno m. Kalniečių g. 196-24</td>\n",
       "      <td>2018-10-17</td>\n",
       "      <td>960</td>\n",
       "      <td>Mažoji bendrija</td>\n",
       "      <td>0</td>\n",
       "      <td>Teisinis stat neįregistruotas</td>\n",
       "      <td>2018-10-17</td>\n",
       "      <td>2022-12-01</td>\n",
       "    </tr>\n",
       "    <tr>\n",
       "      <th>3</th>\n",
       "      <td>305863120</td>\n",
       "      <td>\"14 Trimitų\" UAB</td>\n",
       "      <td>Kaunas Kukučių g. 39</td>\n",
       "      <td>2021-08-11</td>\n",
       "      <td>310</td>\n",
       "      <td>Uždaroji akcinė bendrovė</td>\n",
       "      <td>0</td>\n",
       "      <td>Teisinis stat neįregistruotas</td>\n",
       "      <td>2021-08-11</td>\n",
       "      <td>2022-12-01</td>\n",
       "    </tr>\n",
       "    <tr>\n",
       "      <th>4</th>\n",
       "      <td>305802345</td>\n",
       "      <td>\"2 dimensijos\" MB</td>\n",
       "      <td>Vilnius V. Nagevičiaus g. 3</td>\n",
       "      <td>2021-06-18</td>\n",
       "      <td>960</td>\n",
       "      <td>Mažoji bendrija</td>\n",
       "      <td>0</td>\n",
       "      <td>Teisinis stat neįregistruotas</td>\n",
       "      <td>2021-06-18</td>\n",
       "      <td>2022-12-01</td>\n",
       "    </tr>\n",
       "    <tr>\n",
       "      <th>...</th>\n",
       "      <td>...</td>\n",
       "      <td>...</td>\n",
       "      <td>...</td>\n",
       "      <td>...</td>\n",
       "      <td>...</td>\n",
       "      <td>...</td>\n",
       "      <td>...</td>\n",
       "      <td>...</td>\n",
       "      <td>...</td>\n",
       "      <td>...</td>\n",
       "    </tr>\n",
       "    <tr>\n",
       "      <th>251659</th>\n",
       "      <td>300561075</td>\n",
       "      <td>Žygeivių klubas \"ŽK Ąžuolas\"</td>\n",
       "      <td>Kauno m. sav. Kauno m. Smalininkų g. 7-4</td>\n",
       "      <td>2006-04-19</td>\n",
       "      <td>630</td>\n",
       "      <td>Asociacija</td>\n",
       "      <td>0</td>\n",
       "      <td>Teisinis stat neįregistruotas</td>\n",
       "      <td>2006-04-19</td>\n",
       "      <td>2022-12-01</td>\n",
       "    </tr>\n",
       "    <tr>\n",
       "      <th>251660</th>\n",
       "      <td>302651144</td>\n",
       "      <td>ŽYGIMANTO GATVĖS GYVENAMŲJŲ NAMŲ SAVININKŲ BEN...</td>\n",
       "      <td>Šiaulių r. sav. Dainų k. Žalioji g. 3</td>\n",
       "      <td>2011-07-28</td>\n",
       "      <td>270</td>\n",
       "      <td>Bendrija</td>\n",
       "      <td>0</td>\n",
       "      <td>Teisinis stat neįregistruotas</td>\n",
       "      <td>2011-07-28</td>\n",
       "      <td>2022-12-01</td>\n",
       "    </tr>\n",
       "    <tr>\n",
       "      <th>251661</th>\n",
       "      <td>304368892</td>\n",
       "      <td>Žygimantų 12 UAB</td>\n",
       "      <td>Vilnius Konstitucijos pr. 21B</td>\n",
       "      <td>2016-08-25</td>\n",
       "      <td>310</td>\n",
       "      <td>Uždaroji akcinė bendrovė</td>\n",
       "      <td>0</td>\n",
       "      <td>Teisinis stat neįregistruotas</td>\n",
       "      <td>2016-08-25</td>\n",
       "      <td>2022-12-01</td>\n",
       "    </tr>\n",
       "    <tr>\n",
       "      <th>251662</th>\n",
       "      <td>302328408</td>\n",
       "      <td>Žygio g. 14A daugiabučio namo savininkų bendrija</td>\n",
       "      <td>Vilniaus m. sav. Vilniaus m. Žygio g. 14A-5</td>\n",
       "      <td>2009-04-09</td>\n",
       "      <td>270</td>\n",
       "      <td>Bendrija</td>\n",
       "      <td>0</td>\n",
       "      <td>Teisinis stat neįregistruotas</td>\n",
       "      <td>2009-04-09</td>\n",
       "      <td>2022-12-01</td>\n",
       "    </tr>\n",
       "    <tr>\n",
       "      <th>251663</th>\n",
       "      <td>305222050</td>\n",
       "      <td>Zyro Inc UAB</td>\n",
       "      <td>Kauno m. sav. Kauno m. Jonavos g. 60C</td>\n",
       "      <td>2019-08-05</td>\n",
       "      <td>310</td>\n",
       "      <td>Uždaroji akcinė bendrovė</td>\n",
       "      <td>0</td>\n",
       "      <td>Teisinis stat neįregistruotas</td>\n",
       "      <td>2019-08-05</td>\n",
       "      <td>2022-12-01</td>\n",
       "    </tr>\n",
       "  </tbody>\n",
       "</table>\n",
       "<p>251664 rows × 10 columns</p>\n",
       "</div>"
      ],
      "text/plain": [
       "         JA_kodas                                     JA_pavadinimas  \\\n",
       "0       305235418                                     \"10 liepų\" UAB   \n",
       "1       304682359                                       \"1024 MB\" MB   \n",
       "2       304934714                                     \"115 idėjų\" MB   \n",
       "3       305863120                                   \"14 Trimitų\" UAB   \n",
       "4       305802345                                  \"2 dimensijos\" MB   \n",
       "...           ...                                                ...   \n",
       "251659  300561075                       Žygeivių klubas \"ŽK Ąžuolas\"   \n",
       "251660  302651144  ŽYGIMANTO GATVĖS GYVENAMŲJŲ NAMŲ SAVININKŲ BEN...   \n",
       "251661  304368892                                   Žygimantų 12 UAB   \n",
       "251662  302328408   Žygio g. 14A daugiabučio namo savininkų bendrija   \n",
       "251663  305222050                                       Zyro Inc UAB   \n",
       "\n",
       "                                                  adresas    reg_data  \\\n",
       "0               Klaipėdos m. sav. Klaipėdos m. Liepų g. 4  2019-08-22   \n",
       "1       Vilniaus m. sav. Vilniaus m. I. Simonaitytės g...  2017-10-03   \n",
       "2              Kauno m. sav. Kauno m. Kalniečių g. 196-24  2018-10-17   \n",
       "3                                    Kaunas Kukučių g. 39  2021-08-11   \n",
       "4                             Vilnius V. Nagevičiaus g. 3  2021-06-18   \n",
       "...                                                   ...         ...   \n",
       "251659           Kauno m. sav. Kauno m. Smalininkų g. 7-4  2006-04-19   \n",
       "251660              Šiaulių r. sav. Dainų k. Žalioji g. 3  2011-07-28   \n",
       "251661                      Vilnius Konstitucijos pr. 21B  2016-08-25   \n",
       "251662        Vilniaus m. sav. Vilniaus m. Žygio g. 14A-5  2009-04-09   \n",
       "251663              Kauno m. sav. Kauno m. Jonavos g. 60C  2019-08-05   \n",
       "\n",
       "        form_kodas          form_pavadinimas  status_kodas  \\\n",
       "0              310  Uždaroji akcinė bendrovė             0   \n",
       "1              960           Mažoji bendrija             0   \n",
       "2              960           Mažoji bendrija             0   \n",
       "3              310  Uždaroji akcinė bendrovė             0   \n",
       "4              960           Mažoji bendrija             0   \n",
       "...            ...                       ...           ...   \n",
       "251659         630                Asociacija             0   \n",
       "251660         270                  Bendrija             0   \n",
       "251661         310  Uždaroji akcinė bendrovė             0   \n",
       "251662         270                  Bendrija             0   \n",
       "251663         310  Uždaroji akcinė bendrovė             0   \n",
       "\n",
       "                     stat_pavadinimas stat_data_nuo formavimo_data  \n",
       "0       Teisinis stat neįregistruotas    2019-08-22     2022-12-01  \n",
       "1       Teisinis stat neįregistruotas    2017-10-03     2022-12-01  \n",
       "2       Teisinis stat neįregistruotas    2018-10-17     2022-12-01  \n",
       "3       Teisinis stat neįregistruotas    2021-08-11     2022-12-01  \n",
       "4       Teisinis stat neįregistruotas    2021-06-18     2022-12-01  \n",
       "...                               ...           ...            ...  \n",
       "251659  Teisinis stat neįregistruotas    2006-04-19     2022-12-01  \n",
       "251660  Teisinis stat neįregistruotas    2011-07-28     2022-12-01  \n",
       "251661  Teisinis stat neįregistruotas    2016-08-25     2022-12-01  \n",
       "251662  Teisinis stat neįregistruotas    2009-04-09     2022-12-01  \n",
       "251663  Teisinis stat neįregistruotas    2019-08-05     2022-12-01  \n",
       "\n",
       "[251664 rows x 10 columns]"
      ]
     },
     "execution_count": 6,
     "metadata": {},
     "output_type": "execute_result"
    }
   ],
   "source": [
    "# 1. Parisiusti juridiniu asmenu registre iregistruotus asmenis https://www.registrucentras.lt/aduomenys/?byla=JAR_IREGISTRUOTI.csv\n",
    "\n",
    "df = pd.read_csv('https://www.registrucentras.lt/aduomenys/?byla=JAR_IREGISTRUOTI.csv')\n",
    "df"
   ]
  },
  {
   "cell_type": "code",
   "execution_count": 7,
   "id": "fa9efe57-cf97-480b-bb72-6cba5f34460f",
   "metadata": {},
   "outputs": [
    {
     "data": {
      "text/plain": [
       "<AxesSubplot:xlabel='reg_data'>"
      ]
     },
     "execution_count": 7,
     "metadata": {},
     "output_type": "execute_result"
    },
    {
     "data": {
      "image/png": "[encoded data removed]",
      "text/plain": [
       "<Figure size 640x480 with 1 Axes>"
      ]
     },
     "metadata": {},
     "output_type": "display_data"
    }
   ],
   "source": [
    "# 2. Kiek imoniu buvo iregistruota kiekvienais metais? Pavaizduoti grafiskai.\n",
    "\n",
    "df['reg_data'] = pd.to_datetime(df['reg_data'])\n",
    "df_grouped = df['JA_kodas'].groupby(df['reg_data'].dt.year).count()\n",
    "df_grouped.plot(xticks=df_grouped.index, rot=90)"
   ]
  },
  {
   "cell_type": "code",
   "execution_count": 15,
   "id": "b152c977-962c-4c31-98d0-9d22c4e08893",
   "metadata": {},
   "outputs": [
    {
     "data": {
      "text/plain": [
       "<AxesSubplot:xlabel='season', ylabel='JA_kodas'>"
      ]
     },
     "execution_count": 15,
     "metadata": {},
     "output_type": "execute_result"
    },
    {
     "data": {
      "image/png": "[encoded data removed]",
      "text/plain": [
       "<Figure size 640x480 with 1 Axes>"
      ]
     },
     "metadata": {},
     "output_type": "display_data"
    }
   ],
   "source": [
    "# 3. Kuri metu laikotarpi (pavasaris, vasara, ruduo, ziema) registruojama daugiausiai imoniu? Atvaizduoti grafiskai. Svarbu atvaizduojant islaikyti X asies pavadinimu eiliskuma, kuris turi buti toks: pavasaris, vasara, ruduo ziema.\n",
    "\n",
    "df['season'] = df['reg_data'].apply(lambda x: 'ziema' if x.month in (12, 1, 2) else 'pavasaris' if x.month in (3, 4, 5) else 'vasara' if x.month in (6, 7, 8) else 'ruduo')\n",
    "df_season_grouped = df['JA_kodas'].groupby(df['season']).count()\n",
    "sns.barplot(x='season', y='JA_kodas', data=df_season_grouped.reset_index(), order=['pavasaris', 'vasara', 'ruduo', 'ziema'])"
   ]
  },
  {
   "cell_type": "code",
   "execution_count": 9,
   "id": "d9a5d38b-98ff-4cf9-b833-e17c5fe10787",
   "metadata": {},
   "outputs": [
    {
     "data": {
      "text/plain": [
       "25             A autodalys UAB\n",
       "33           ABC autodalys UAB\n",
       "1408             Interautos MB\n",
       "1455               Janauto UAB\n",
       "1880         Masauto nuoma UAB\n",
       "                  ...         \n",
       "247554         VšĮ VDautosport\n",
       "248021      VšĮ Atostogautojas\n",
       "248682    VšĮ Kauno autoklubas\n",
       "249354             VšĮ Ranauto\n",
       "249797           VšĮ Tautos TV\n",
       "Name: JA_pavadinimas, Length: 424, dtype: object"
      ]
     },
     "execution_count": 9,
     "metadata": {},
     "output_type": "execute_result"
    }
   ],
   "source": [
    "# 4. Suraskite imones kuriu pavadinime yra minimas zodis \"auto\" ir kuriu pavadinimas yra trumpesnis negu 20 simboliu. Atvaizduokite imoniu pavadinimus. Atvaizduojamuose pavadinimuose neturetu butu specialiu simboliu kaip ,.;!, etc. ir skaiciu.  \n",
    "\n",
    "auto_mask = df['JA_pavadinimas'].str.contains('auto')\n",
    "length_mask = df['JA_pavadinimas'].str.len() <= 20\n",
    "df[auto_mask & length_mask]['JA_pavadinimas'].apply(lambda x: ''.join([i for i in x if not i.isdigit() and i not in list(punctuation)]))"
   ]
  }
 ],
 "metadata": {
  "kernelspec": {
   "display_name": "Python 3 (ipykernel)",
   "language": "python",
   "name": "python3"
  },
  "language_info": {
   "codemirror_mode": {
    "name": "ipython",
    "version": 3
   },
   "file_extension": ".py",
   "mimetype": "text/x-python",
   "name": "python",
   "nbconvert_exporter": "python",
   "pygments_lexer": "ipython3",
   "version": "3.10.6"
  }
 },
 "nbformat": 4,
 "nbformat_minor": 5
}
