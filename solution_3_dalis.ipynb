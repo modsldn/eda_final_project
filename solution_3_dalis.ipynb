{
 "cells": [
  {
   "cell_type": "code",
   "execution_count": 5,
   "id": "50821034",
   "metadata": {},
   "outputs": [
    {
     "name": "stdout",
     "output_type": "stream",
     "text": [
      "The nb_black extension is already loaded. To reload it, use:\n",
      "  %reload_ext nb_black\n"
     ]
    },
    {
     "data": {
      "application/javascript": [
       "\n",
       "            setTimeout(function() {\n",
       "                var nbb_cell_id = 5;\n",
       "                var nbb_unformatted_code = \"%load_ext nb_black\";\n",
       "                var nbb_formatted_code = \"%load_ext nb_black\";\n",
       "                var nbb_cells = Jupyter.notebook.get_cells();\n",
       "                for (var i = 0; i < nbb_cells.length; ++i) {\n",
       "                    if (nbb_cells[i].input_prompt_number == nbb_cell_id) {\n",
       "                        if (nbb_cells[i].get_text() == nbb_unformatted_code) {\n",
       "                             nbb_cells[i].set_text(nbb_formatted_code);\n",
       "                        }\n",
       "                        break;\n",
       "                    }\n",
       "                }\n",
       "            }, 500);\n",
       "            "
      ],
      "text/plain": [
       "<IPython.core.display.Javascript object>"
      ]
     },
     "metadata": {},
     "output_type": "display_data"
    }
   ],
   "source": [
    "%load_ext nb_black"
   ]
  },
  {
   "cell_type": "code",
   "execution_count": 6,
   "id": "34073304",
   "metadata": {},
   "outputs": [
    {
     "data": {
      "text/html": [
       "<style>.container { width:90% !important; }</style>"
      ],
      "text/plain": [
       "<IPython.core.display.HTML object>"
      ]
     },
     "metadata": {},
     "output_type": "display_data"
    },
    {
     "data": {
      "application/javascript": [
       "\n",
       "            setTimeout(function() {\n",
       "                var nbb_cell_id = 6;\n",
       "                var nbb_unformatted_code = \"from IPython.display import display, HTML\\n\\ndisplay(HTML(\\\"<style>.container { width:90% !important; }</style>\\\"))\";\n",
       "                var nbb_formatted_code = \"from IPython.display import display, HTML\\n\\ndisplay(HTML(\\\"<style>.container { width:90% !important; }</style>\\\"))\";\n",
       "                var nbb_cells = Jupyter.notebook.get_cells();\n",
       "                for (var i = 0; i < nbb_cells.length; ++i) {\n",
       "                    if (nbb_cells[i].input_prompt_number == nbb_cell_id) {\n",
       "                        if (nbb_cells[i].get_text() == nbb_unformatted_code) {\n",
       "                             nbb_cells[i].set_text(nbb_formatted_code);\n",
       "                        }\n",
       "                        break;\n",
       "                    }\n",
       "                }\n",
       "            }, 500);\n",
       "            "
      ],
      "text/plain": [
       "<IPython.core.display.Javascript object>"
      ]
     },
     "metadata": {},
     "output_type": "display_data"
    }
   ],
   "source": [
    "from IPython.display import display, HTML\n",
    "\n",
    "display(HTML(\"<style>.container { width:90% !important; }</style>\"))"
   ]
  },
  {
   "cell_type": "code",
   "execution_count": 7,
   "id": "29c1641e",
   "metadata": {},
   "outputs": [
    {
     "data": {
      "application/javascript": [
       "\n",
       "            setTimeout(function() {\n",
       "                var nbb_cell_id = 7;\n",
       "                var nbb_unformatted_code = \"## got an error while downloading online csv data. OSX\\n## quick fix\\n## https://stackoverflow.com/questions/50236117/scraping-ssl-certificate-verify-failed-error-for-http-en-wikipedia-org\\n\\nimport ssl\\n\\nssl._create_default_https_context = ssl._create_unverified_context\";\n",
       "                var nbb_formatted_code = \"## got an error while downloading online csv data. OSX\\n## quick fix\\n## https://stackoverflow.com/questions/50236117/scraping-ssl-certificate-verify-failed-error-for-http-en-wikipedia-org\\n\\nimport ssl\\n\\nssl._create_default_https_context = ssl._create_unverified_context\";\n",
       "                var nbb_cells = Jupyter.notebook.get_cells();\n",
       "                for (var i = 0; i < nbb_cells.length; ++i) {\n",
       "                    if (nbb_cells[i].input_prompt_number == nbb_cell_id) {\n",
       "                        if (nbb_cells[i].get_text() == nbb_unformatted_code) {\n",
       "                             nbb_cells[i].set_text(nbb_formatted_code);\n",
       "                        }\n",
       "                        break;\n",
       "                    }\n",
       "                }\n",
       "            }, 500);\n",
       "            "
      ],
      "text/plain": [
       "<IPython.core.display.Javascript object>"
      ]
     },
     "metadata": {},
     "output_type": "display_data"
    }
   ],
   "source": [
    "## got an error while downloading online csv data. OSX\n",
    "## quick fix\n",
    "## https://stackoverflow.com/questions/50236117/scraping-ssl-certificate-verify-failed-error-for-http-en-wikipedia-org\n",
    "\n",
    "import ssl\n",
    "\n",
    "ssl._create_default_https_context = ssl._create_unverified_context"
   ]
  },
  {
   "cell_type": "code",
   "execution_count": 8,
   "id": "e7d5e9bc",
   "metadata": {},
   "outputs": [
    {
     "data": {
      "application/javascript": [
       "\n",
       "            setTimeout(function() {\n",
       "                var nbb_cell_id = 8;\n",
       "                var nbb_unformatted_code = \"import pandas as pd\\nimport numpy as np\\n\\n# https://stackoverflow.com/questions/21137150/format-suppress-scientific-notation-from-pandas-aggregation-results\\npd.set_option(\\\"display.float_format\\\", lambda x: \\\"%.2f\\\" % x)\";\n",
       "                var nbb_formatted_code = \"import pandas as pd\\nimport numpy as np\\n\\n# https://stackoverflow.com/questions/21137150/format-suppress-scientific-notation-from-pandas-aggregation-results\\npd.set_option(\\\"display.float_format\\\", lambda x: \\\"%.2f\\\" % x)\";\n",
       "                var nbb_cells = Jupyter.notebook.get_cells();\n",
       "                for (var i = 0; i < nbb_cells.length; ++i) {\n",
       "                    if (nbb_cells[i].input_prompt_number == nbb_cell_id) {\n",
       "                        if (nbb_cells[i].get_text() == nbb_unformatted_code) {\n",
       "                             nbb_cells[i].set_text(nbb_formatted_code);\n",
       "                        }\n",
       "                        break;\n",
       "                    }\n",
       "                }\n",
       "            }, 500);\n",
       "            "
      ],
      "text/plain": [
       "<IPython.core.display.Javascript object>"
      ]
     },
     "metadata": {},
     "output_type": "display_data"
    }
   ],
   "source": [
    "import pandas as pd\n",
    "import numpy as np\n",
    "\n",
    "# https://stackoverflow.com/questions/21137150/format-suppress-scientific-notation-from-pandas-aggregation-results\n",
    "pd.set_option(\"display.float_format\", lambda x: \"%.2f\" % x)"
   ]
  },
  {
   "cell_type": "code",
   "execution_count": 9,
   "id": "72353769",
   "metadata": {},
   "outputs": [
    {
     "data": {
      "application/javascript": [
       "\n",
       "            setTimeout(function() {\n",
       "                var nbb_cell_id = 9;\n",
       "                var nbb_unformatted_code = \"balance_20 = pd.read_csv(\\n    \\\"https://www.registrucentras.lt/aduomenys/?byla=JAR_FA_RODIKLIAI_BLNS_2020.csv\\\"\\n)\\nbalance_21 = pd.read_csv(\\n    \\\"https://www.registrucentras.lt/aduomenys/?byla=JAR_FA_RODIKLIAI_BLNS_2021.csv\\\"\\n)\\npl_20 = pd.read_csv(\\n    \\\"https://www.registrucentras.lt/aduomenys/?byla=JAR_FA_RODIKLIAI_PLNA_2020.csv\\\"\\n)\\npl_21 = pd.read_csv(\\n    \\\"https://www.registrucentras.lt/aduomenys/?byla=JAR_FA_RODIKLIAI_PLNA_2021.csv\\\"\\n)\";\n",
       "                var nbb_formatted_code = \"balance_20 = pd.read_csv(\\n    \\\"https://www.registrucentras.lt/aduomenys/?byla=JAR_FA_RODIKLIAI_BLNS_2020.csv\\\"\\n)\\nbalance_21 = pd.read_csv(\\n    \\\"https://www.registrucentras.lt/aduomenys/?byla=JAR_FA_RODIKLIAI_BLNS_2021.csv\\\"\\n)\\npl_20 = pd.read_csv(\\n    \\\"https://www.registrucentras.lt/aduomenys/?byla=JAR_FA_RODIKLIAI_PLNA_2020.csv\\\"\\n)\\npl_21 = pd.read_csv(\\n    \\\"https://www.registrucentras.lt/aduomenys/?byla=JAR_FA_RODIKLIAI_PLNA_2021.csv\\\"\\n)\";\n",
       "                var nbb_cells = Jupyter.notebook.get_cells();\n",
       "                for (var i = 0; i < nbb_cells.length; ++i) {\n",
       "                    if (nbb_cells[i].input_prompt_number == nbb_cell_id) {\n",
       "                        if (nbb_cells[i].get_text() == nbb_unformatted_code) {\n",
       "                             nbb_cells[i].set_text(nbb_formatted_code);\n",
       "                        }\n",
       "                        break;\n",
       "                    }\n",
       "                }\n",
       "            }, 500);\n",
       "            "
      ],
      "text/plain": [
       "<IPython.core.display.Javascript object>"
      ]
     },
     "metadata": {},
     "output_type": "display_data"
    }
   ],
   "source": [
    "balance_20 = pd.read_csv(\n",
    "    \"https://www.registrucentras.lt/aduomenys/?byla=JAR_FA_RODIKLIAI_BLNS_2020.csv\"\n",
    ")\n",
    "balance_21 = pd.read_csv(\n",
    "    \"https://www.registrucentras.lt/aduomenys/?byla=JAR_FA_RODIKLIAI_BLNS_2021.csv\"\n",
    ")\n",
    "pl_20 = pd.read_csv(\n",
    "    \"https://www.registrucentras.lt/aduomenys/?byla=JAR_FA_RODIKLIAI_PLNA_2020.csv\"\n",
    ")\n",
    "pl_21 = pd.read_csv(\n",
    "    \"https://www.registrucentras.lt/aduomenys/?byla=JAR_FA_RODIKLIAI_PLNA_2021.csv\"\n",
    ")"
   ]
  },
  {
   "cell_type": "code",
   "execution_count": 133,
   "id": "e8d2cc59",
   "metadata": {},
   "outputs": [
    {
     "data": {
      "application/javascript": [
       "\n",
       "            setTimeout(function() {\n",
       "                var nbb_cell_id = 133;\n",
       "                var nbb_unformatted_code = \"sodra_20 = pd.read_csv(\\\"data/monthly-2020.csv\\\", sep=\\\";\\\")\\nsodra_19 = pd.read_csv(\\\"data/monthly-2019.csv\\\", sep=\\\";\\\")\";\n",
       "                var nbb_formatted_code = \"sodra_20 = pd.read_csv(\\\"data/monthly-2020.csv\\\", sep=\\\";\\\")\\nsodra_19 = pd.read_csv(\\\"data/monthly-2019.csv\\\", sep=\\\";\\\")\";\n",
       "                var nbb_cells = Jupyter.notebook.get_cells();\n",
       "                for (var i = 0; i < nbb_cells.length; ++i) {\n",
       "                    if (nbb_cells[i].input_prompt_number == nbb_cell_id) {\n",
       "                        if (nbb_cells[i].get_text() == nbb_unformatted_code) {\n",
       "                             nbb_cells[i].set_text(nbb_formatted_code);\n",
       "                        }\n",
       "                        break;\n",
       "                    }\n",
       "                }\n",
       "            }, 500);\n",
       "            "
      ],
      "text/plain": [
       "<IPython.core.display.Javascript object>"
      ]
     },
     "metadata": {},
     "output_type": "display_data"
    }
   ],
   "source": [
    "sodra_20 = pd.read_csv(\"data/monthly-2020.csv\", sep=\";\")\n",
    "sodra_19 = pd.read_csv(\"data/monthly-2019.csv\", sep=\";\")"
   ]
  },
  {
   "cell_type": "markdown",
   "id": "4b62d97b",
   "metadata": {},
   "source": [
    "# 1\n",
    "Issifiltruojama UAB ir MB, laikotarpis nuo metu sausio 1 dienos. Imone veikia 20 ir 21 metais, sujungiame finansinius\n",
    "duomenis i viena masyva."
   ]
  },
  {
   "cell_type": "code",
   "execution_count": 32,
   "id": "76936435",
   "metadata": {},
   "outputs": [
    {
     "data": {
      "application/javascript": [
       "\n",
       "            setTimeout(function() {\n",
       "                var nbb_cell_id = 32;\n",
       "                var nbb_unformatted_code = \"uab_mb_name_list = [\\\"U\\u017edaroji akcin\\u0117 bendrov\\u0117\\\", \\\"Ma\\u017eoji bendrija\\\"]\\nactive_company = \\\"Teisinis stat ne\\u012fregistruotas\\\"\\nlaikotarpis_nuo_metu_pradzios_20 = \\\"2019-01-01\\\"\\nlaikotarpis_nuo_metu_pradzios_21 = \\\"2020-01-01\\\"\\nbalance_cols = [\\n    \\\"obj_kodas\\\",\\n    \\\"obj_pav\\\",\\n    \\\"form_pav\\\",\\n    \\\"reg_date\\\",\\n    \\\"nuosavas_kapitalas\\\",\\n    \\\"mok_sumos_ir_isipareigojimai\\\",\\n    \\\"ilgalaikis_turtas\\\",\\n    \\\"trumpalaikis_turtas\\\",\\n]\\n\\npl_cols = [\\\"obj_kodas\\\", \\\"pardavimo_pajamos\\\", \\\"grynasis_pelnas\\\"]\";\n",
       "                var nbb_formatted_code = \"uab_mb_name_list = [\\\"U\\u017edaroji akcin\\u0117 bendrov\\u0117\\\", \\\"Ma\\u017eoji bendrija\\\"]\\nactive_company = \\\"Teisinis stat ne\\u012fregistruotas\\\"\\nlaikotarpis_nuo_metu_pradzios_20 = \\\"2019-01-01\\\"\\nlaikotarpis_nuo_metu_pradzios_21 = \\\"2020-01-01\\\"\\nbalance_cols = [\\n    \\\"obj_kodas\\\",\\n    \\\"obj_pav\\\",\\n    \\\"form_pav\\\",\\n    \\\"reg_date\\\",\\n    \\\"nuosavas_kapitalas\\\",\\n    \\\"mok_sumos_ir_isipareigojimai\\\",\\n    \\\"ilgalaikis_turtas\\\",\\n    \\\"trumpalaikis_turtas\\\",\\n]\\n\\npl_cols = [\\\"obj_kodas\\\", \\\"pardavimo_pajamos\\\", \\\"grynasis_pelnas\\\"]\";\n",
       "                var nbb_cells = Jupyter.notebook.get_cells();\n",
       "                for (var i = 0; i < nbb_cells.length; ++i) {\n",
       "                    if (nbb_cells[i].input_prompt_number == nbb_cell_id) {\n",
       "                        if (nbb_cells[i].get_text() == nbb_unformatted_code) {\n",
       "                             nbb_cells[i].set_text(nbb_formatted_code);\n",
       "                        }\n",
       "                        break;\n",
       "                    }\n",
       "                }\n",
       "            }, 500);\n",
       "            "
      ],
      "text/plain": [
       "<IPython.core.display.Javascript object>"
      ]
     },
     "metadata": {},
     "output_type": "display_data"
    }
   ],
   "source": [
    "uab_mb_name_list = [\"Uždaroji akcinė bendrovė\", \"Mažoji bendrija\"]\n",
    "active_company = \"Teisinis stat neįregistruotas\"\n",
    "laikotarpis_nuo_metu_pradzios_20 = \"2019-01-01\"\n",
    "laikotarpis_nuo_metu_pradzios_21 = \"2020-01-01\"\n",
    "balance_cols = [\n",
    "    \"obj_kodas\",\n",
    "    \"obj_pav\",\n",
    "    \"form_pav\",\n",
    "    \"reg_date\",\n",
    "    \"nuosavas_kapitalas\",\n",
    "    \"mok_sumos_ir_isipareigojimai\",\n",
    "    \"ilgalaikis_turtas\",\n",
    "    \"trumpalaikis_turtas\",\n",
    "]\n",
    "\n",
    "pl_cols = [\"obj_kodas\", \"pardavimo_pajamos\", \"grynasis_pelnas\"]"
   ]
  },
  {
   "cell_type": "code",
   "execution_count": 61,
   "id": "b4da0a9e",
   "metadata": {},
   "outputs": [
    {
     "data": {
      "text/html": [
       "<div>\n",
       "<style scoped>\n",
       "    .dataframe tbody tr th:only-of-type {\n",
       "        vertical-align: middle;\n",
       "    }\n",
       "\n",
       "    .dataframe tbody tr th {\n",
       "        vertical-align: top;\n",
       "    }\n",
       "\n",
       "    .dataframe thead th {\n",
       "        text-align: right;\n",
       "    }\n",
       "</style>\n",
       "<table border=\"1\" class=\"dataframe\">\n",
       "  <thead>\n",
       "    <tr style=\"text-align: right;\">\n",
       "      <th></th>\n",
       "      <th>obj_kodas</th>\n",
       "      <th>obj_pav</th>\n",
       "      <th>form_pav</th>\n",
       "      <th>reg_date</th>\n",
       "      <th>nuosavas_kapitalas</th>\n",
       "      <th>mok_sumos_ir_isipareigojimai</th>\n",
       "      <th>ilgalaikis_turtas</th>\n",
       "      <th>trumpalaikis_turtas</th>\n",
       "      <th>pardavimo_pajamos</th>\n",
       "      <th>grynasis_pelnas</th>\n",
       "    </tr>\n",
       "  </thead>\n",
       "  <tbody>\n",
       "    <tr>\n",
       "      <th>54040</th>\n",
       "      <td>303073693</td>\n",
       "      <td>UAB \"Kosmita\"</td>\n",
       "      <td>Uždaroji akcinė bendrovė</td>\n",
       "      <td>2020-04-28</td>\n",
       "      <td>15634.00</td>\n",
       "      <td>4898.00</td>\n",
       "      <td>759.00</td>\n",
       "      <td>19773.00</td>\n",
       "      <td>92541.00</td>\n",
       "      <td>2819.00</td>\n",
       "    </tr>\n",
       "    <tr>\n",
       "      <th>716</th>\n",
       "      <td>302551400</td>\n",
       "      <td>UAB \"Visp\"</td>\n",
       "      <td>Uždaroji akcinė bendrovė</td>\n",
       "      <td>2020-05-26</td>\n",
       "      <td>30955.00</td>\n",
       "      <td>5154.00</td>\n",
       "      <td>6155.00</td>\n",
       "      <td>28945.00</td>\n",
       "      <td>27916.00</td>\n",
       "      <td>-147.00</td>\n",
       "    </tr>\n",
       "    <tr>\n",
       "      <th>50853</th>\n",
       "      <td>124633684</td>\n",
       "      <td>Uždaroji akcinė bendrovė \"DIONITA\"</td>\n",
       "      <td>Uždaroji akcinė bendrovė</td>\n",
       "      <td>2020-07-24</td>\n",
       "      <td>102508.00</td>\n",
       "      <td>12786.00</td>\n",
       "      <td>7322.00</td>\n",
       "      <td>107754.00</td>\n",
       "      <td>255701.00</td>\n",
       "      <td>1046.00</td>\n",
       "    </tr>\n",
       "  </tbody>\n",
       "</table>\n",
       "</div>"
      ],
      "text/plain": [
       "       obj_kodas                             obj_pav  \\\n",
       "54040  303073693                       UAB \"Kosmita\"   \n",
       "716    302551400                          UAB \"Visp\"   \n",
       "50853  124633684  Uždaroji akcinė bendrovė \"DIONITA\"   \n",
       "\n",
       "                       form_pav    reg_date  nuosavas_kapitalas  \\\n",
       "54040  Uždaroji akcinė bendrovė  2020-04-28            15634.00   \n",
       "716    Uždaroji akcinė bendrovė  2020-05-26            30955.00   \n",
       "50853  Uždaroji akcinė bendrovė  2020-07-24           102508.00   \n",
       "\n",
       "       mok_sumos_ir_isipareigojimai  ilgalaikis_turtas  trumpalaikis_turtas  \\\n",
       "54040                       4898.00             759.00             19773.00   \n",
       "716                         5154.00            6155.00             28945.00   \n",
       "50853                      12786.00            7322.00            107754.00   \n",
       "\n",
       "       pardavimo_pajamos  grynasis_pelnas  \n",
       "54040           92541.00          2819.00  \n",
       "716             27916.00          -147.00  \n",
       "50853          255701.00          1046.00  "
      ]
     },
     "execution_count": 61,
     "metadata": {},
     "output_type": "execute_result"
    },
    {
     "data": {
      "application/javascript": [
       "\n",
       "            setTimeout(function() {\n",
       "                var nbb_cell_id = 61;\n",
       "                var nbb_unformatted_code = \"b20 = balance_20[\\n    (balance_20.stat_pav.map(lambda x: x == active_company))\\n    & balance_20.form_pav.isin(uab_mb_name_list)\\n    & balance_20.laikotarpis_nuo.map(lambda x: x == laikotarpis_nuo_metu_pradzios_20)\\n][balance_cols].dropna()\\n\\n\\npl20 = pl_20[\\n    pl_20.laikotarpis_nuo.map(lambda x: x == laikotarpis_nuo_metu_pradzios_20)\\n][pl_cols].dropna()\\nfinansai20 = b20.merge(pl20, on=\\\"obj_kodas\\\")\\nfinansai20.sample(3)\";\n",
       "                var nbb_formatted_code = \"b20 = balance_20[\\n    (balance_20.stat_pav.map(lambda x: x == active_company))\\n    & balance_20.form_pav.isin(uab_mb_name_list)\\n    & balance_20.laikotarpis_nuo.map(lambda x: x == laikotarpis_nuo_metu_pradzios_20)\\n][balance_cols].dropna()\\n\\n\\npl20 = pl_20[\\n    pl_20.laikotarpis_nuo.map(lambda x: x == laikotarpis_nuo_metu_pradzios_20)\\n][pl_cols].dropna()\\nfinansai20 = b20.merge(pl20, on=\\\"obj_kodas\\\")\\nfinansai20.sample(3)\";\n",
       "                var nbb_cells = Jupyter.notebook.get_cells();\n",
       "                for (var i = 0; i < nbb_cells.length; ++i) {\n",
       "                    if (nbb_cells[i].input_prompt_number == nbb_cell_id) {\n",
       "                        if (nbb_cells[i].get_text() == nbb_unformatted_code) {\n",
       "                             nbb_cells[i].set_text(nbb_formatted_code);\n",
       "                        }\n",
       "                        break;\n",
       "                    }\n",
       "                }\n",
       "            }, 500);\n",
       "            "
      ],
      "text/plain": [
       "<IPython.core.display.Javascript object>"
      ]
     },
     "metadata": {},
     "output_type": "display_data"
    }
   ],
   "source": [
    "b20 = balance_20[\n",
    "    (balance_20.stat_pav.map(lambda x: x == active_company))\n",
    "    & balance_20.form_pav.isin(uab_mb_name_list)\n",
    "    & balance_20.laikotarpis_nuo.map(lambda x: x == laikotarpis_nuo_metu_pradzios_20)\n",
    "][balance_cols].dropna()\n",
    "\n",
    "\n",
    "pl20 = pl_20[\n",
    "    pl_20.laikotarpis_nuo.map(lambda x: x == laikotarpis_nuo_metu_pradzios_20)\n",
    "][pl_cols].dropna()\n",
    "finansai20 = b20.merge(pl20, on=\"obj_kodas\")\n",
    "finansai20.sample(3)"
   ]
  },
  {
   "cell_type": "code",
   "execution_count": 60,
   "id": "cd14e81e",
   "metadata": {},
   "outputs": [
    {
     "data": {
      "text/html": [
       "<div>\n",
       "<style scoped>\n",
       "    .dataframe tbody tr th:only-of-type {\n",
       "        vertical-align: middle;\n",
       "    }\n",
       "\n",
       "    .dataframe tbody tr th {\n",
       "        vertical-align: top;\n",
       "    }\n",
       "\n",
       "    .dataframe thead th {\n",
       "        text-align: right;\n",
       "    }\n",
       "</style>\n",
       "<table border=\"1\" class=\"dataframe\">\n",
       "  <thead>\n",
       "    <tr style=\"text-align: right;\">\n",
       "      <th></th>\n",
       "      <th>obj_kodas</th>\n",
       "      <th>obj_pav</th>\n",
       "      <th>form_pav</th>\n",
       "      <th>reg_date</th>\n",
       "      <th>nuosavas_kapitalas</th>\n",
       "      <th>mok_sumos_ir_isipareigojimai</th>\n",
       "      <th>ilgalaikis_turtas</th>\n",
       "      <th>trumpalaikis_turtas</th>\n",
       "      <th>pardavimo_pajamos</th>\n",
       "      <th>grynasis_pelnas</th>\n",
       "    </tr>\n",
       "  </thead>\n",
       "  <tbody>\n",
       "    <tr>\n",
       "      <th>2356</th>\n",
       "      <td>303268017</td>\n",
       "      <td>UAB \"Ukra\"</td>\n",
       "      <td>Uždaroji akcinė bendrovė</td>\n",
       "      <td>2021-06-01</td>\n",
       "      <td>-5844.00</td>\n",
       "      <td>1490924.00</td>\n",
       "      <td>1233641.00</td>\n",
       "      <td>251439.00</td>\n",
       "      <td>595.00</td>\n",
       "      <td>-3061.00</td>\n",
       "    </tr>\n",
       "    <tr>\n",
       "      <th>31002</th>\n",
       "      <td>120994413</td>\n",
       "      <td>Uždaroji akcinė bendrovė \"DEVORA\"</td>\n",
       "      <td>Uždaroji akcinė bendrovė</td>\n",
       "      <td>2021-05-29</td>\n",
       "      <td>-4784.00</td>\n",
       "      <td>5540.00</td>\n",
       "      <td>187.00</td>\n",
       "      <td>569.00</td>\n",
       "      <td>452.00</td>\n",
       "      <td>-454.00</td>\n",
       "    </tr>\n",
       "    <tr>\n",
       "      <th>19302</th>\n",
       "      <td>300599581</td>\n",
       "      <td>UAB \"KMK plius\"</td>\n",
       "      <td>Uždaroji akcinė bendrovė</td>\n",
       "      <td>2021-04-15</td>\n",
       "      <td>62085.00</td>\n",
       "      <td>5236.00</td>\n",
       "      <td>14481.00</td>\n",
       "      <td>52840.00</td>\n",
       "      <td>151670.00</td>\n",
       "      <td>11974.00</td>\n",
       "    </tr>\n",
       "  </tbody>\n",
       "</table>\n",
       "</div>"
      ],
      "text/plain": [
       "       obj_kodas                            obj_pav                  form_pav  \\\n",
       "2356   303268017                         UAB \"Ukra\"  Uždaroji akcinė bendrovė   \n",
       "31002  120994413  Uždaroji akcinė bendrovė \"DEVORA\"  Uždaroji akcinė bendrovė   \n",
       "19302  300599581                    UAB \"KMK plius\"  Uždaroji akcinė bendrovė   \n",
       "\n",
       "         reg_date  nuosavas_kapitalas  mok_sumos_ir_isipareigojimai  \\\n",
       "2356   2021-06-01            -5844.00                    1490924.00   \n",
       "31002  2021-05-29            -4784.00                       5540.00   \n",
       "19302  2021-04-15            62085.00                       5236.00   \n",
       "\n",
       "       ilgalaikis_turtas  trumpalaikis_turtas  pardavimo_pajamos  \\\n",
       "2356          1233641.00            251439.00             595.00   \n",
       "31002             187.00               569.00             452.00   \n",
       "19302           14481.00             52840.00          151670.00   \n",
       "\n",
       "       grynasis_pelnas  \n",
       "2356          -3061.00  \n",
       "31002          -454.00  \n",
       "19302         11974.00  "
      ]
     },
     "execution_count": 60,
     "metadata": {},
     "output_type": "execute_result"
    },
    {
     "data": {
      "application/javascript": [
       "\n",
       "            setTimeout(function() {\n",
       "                var nbb_cell_id = 60;\n",
       "                var nbb_unformatted_code = \"b21 = balance_21[\\n    (balance_21.stat_pav.map(lambda x: x == active_company))\\n    & balance_21.form_pav.isin(uab_mb_name_list)\\n    & balance_21.laikotarpis_nuo.map(lambda x: x == laikotarpis_nuo_metu_pradzios_21)\\n][balance_cols].dropna()\\n\\n\\npl21 = pl_21[pl_21.laikotarpis_nuo.map(lambda x: x == laikotarpis_nuo_metu_pradzios_21)][\\n    pl_cols\\n].dropna()\\nfinansai21 = b21.merge(pl21, on=\\\"obj_kodas\\\")\\nfinansai21.sample(3)\";\n",
       "                var nbb_formatted_code = \"b21 = balance_21[\\n    (balance_21.stat_pav.map(lambda x: x == active_company))\\n    & balance_21.form_pav.isin(uab_mb_name_list)\\n    & balance_21.laikotarpis_nuo.map(lambda x: x == laikotarpis_nuo_metu_pradzios_21)\\n][balance_cols].dropna()\\n\\n\\npl21 = pl_21[\\n    pl_21.laikotarpis_nuo.map(lambda x: x == laikotarpis_nuo_metu_pradzios_21)\\n][pl_cols].dropna()\\nfinansai21 = b21.merge(pl21, on=\\\"obj_kodas\\\")\\nfinansai21.sample(3)\";\n",
       "                var nbb_cells = Jupyter.notebook.get_cells();\n",
       "                for (var i = 0; i < nbb_cells.length; ++i) {\n",
       "                    if (nbb_cells[i].input_prompt_number == nbb_cell_id) {\n",
       "                        if (nbb_cells[i].get_text() == nbb_unformatted_code) {\n",
       "                             nbb_cells[i].set_text(nbb_formatted_code);\n",
       "                        }\n",
       "                        break;\n",
       "                    }\n",
       "                }\n",
       "            }, 500);\n",
       "            "
      ],
      "text/plain": [
       "<IPython.core.display.Javascript object>"
      ]
     },
     "metadata": {},
     "output_type": "display_data"
    }
   ],
   "source": [
    "b21 = balance_21[\n",
    "    (balance_21.stat_pav.map(lambda x: x == active_company))\n",
    "    & balance_21.form_pav.isin(uab_mb_name_list)\n",
    "    & balance_21.laikotarpis_nuo.map(lambda x: x == laikotarpis_nuo_metu_pradzios_21)\n",
    "][balance_cols].dropna()\n",
    "\n",
    "\n",
    "pl21 = pl_21[\n",
    "    pl_21.laikotarpis_nuo.map(lambda x: x == laikotarpis_nuo_metu_pradzios_21)\n",
    "][pl_cols].dropna()\n",
    "finansai21 = b21.merge(pl21, on=\"obj_kodas\")\n",
    "finansai21.sample(3)"
   ]
  },
  {
   "cell_type": "code",
   "execution_count": 62,
   "id": "1c8ca230",
   "metadata": {},
   "outputs": [
    {
     "data": {
      "text/plain": [
       "(numpy.int64, numpy.int64)"
      ]
     },
     "execution_count": 62,
     "metadata": {},
     "output_type": "execute_result"
    },
    {
     "data": {
      "application/javascript": [
       "\n",
       "            setTimeout(function() {\n",
       "                var nbb_cell_id = 62;\n",
       "                var nbb_unformatted_code = \"type(finansai20.obj_kodas[0]), type(finansai21.obj_kodas[0])\";\n",
       "                var nbb_formatted_code = \"type(finansai20.obj_kodas[0]), type(finansai21.obj_kodas[0])\";\n",
       "                var nbb_cells = Jupyter.notebook.get_cells();\n",
       "                for (var i = 0; i < nbb_cells.length; ++i) {\n",
       "                    if (nbb_cells[i].input_prompt_number == nbb_cell_id) {\n",
       "                        if (nbb_cells[i].get_text() == nbb_unformatted_code) {\n",
       "                             nbb_cells[i].set_text(nbb_formatted_code);\n",
       "                        }\n",
       "                        break;\n",
       "                    }\n",
       "                }\n",
       "            }, 500);\n",
       "            "
      ],
      "text/plain": [
       "<IPython.core.display.Javascript object>"
      ]
     },
     "metadata": {},
     "output_type": "display_data"
    }
   ],
   "source": [
    "type(finansai20.obj_kodas[0]), type(finansai21.obj_kodas[0])"
   ]
  },
  {
   "cell_type": "code",
   "execution_count": 65,
   "id": "cb91c2e1",
   "metadata": {},
   "outputs": [
    {
     "data": {
      "application/javascript": [
       "\n",
       "            setTimeout(function() {\n",
       "                var nbb_cell_id = 65;\n",
       "                var nbb_unformatted_code = \"finansai_merged = finansai20.merge(\\n    finansai21[\\n        [\\n            \\\"obj_kodas\\\",\\n            \\\"nuosavas_kapitalas\\\",\\n            \\\"mok_sumos_ir_isipareigojimai\\\",\\n            \\\"ilgalaikis_turtas\\\",\\n            \\\"trumpalaikis_turtas\\\",\\n            \\\"pardavimo_pajamos\\\",\\n            \\\"grynasis_pelnas\\\",\\n        ]\\n    ],\\n    on=\\\"obj_kodas\\\",\\n    suffixes=[\\\"_20\\\", \\\"_21\\\"],\\n)\";\n",
       "                var nbb_formatted_code = \"finansai_merged = finansai20.merge(\\n    finansai21[\\n        [\\n            \\\"obj_kodas\\\",\\n            \\\"nuosavas_kapitalas\\\",\\n            \\\"mok_sumos_ir_isipareigojimai\\\",\\n            \\\"ilgalaikis_turtas\\\",\\n            \\\"trumpalaikis_turtas\\\",\\n            \\\"pardavimo_pajamos\\\",\\n            \\\"grynasis_pelnas\\\",\\n        ]\\n    ],\\n    on=\\\"obj_kodas\\\",\\n    suffixes=[\\\"_20\\\", \\\"_21\\\"],\\n)\";\n",
       "                var nbb_cells = Jupyter.notebook.get_cells();\n",
       "                for (var i = 0; i < nbb_cells.length; ++i) {\n",
       "                    if (nbb_cells[i].input_prompt_number == nbb_cell_id) {\n",
       "                        if (nbb_cells[i].get_text() == nbb_unformatted_code) {\n",
       "                             nbb_cells[i].set_text(nbb_formatted_code);\n",
       "                        }\n",
       "                        break;\n",
       "                    }\n",
       "                }\n",
       "            }, 500);\n",
       "            "
      ],
      "text/plain": [
       "<IPython.core.display.Javascript object>"
      ]
     },
     "metadata": {},
     "output_type": "display_data"
    }
   ],
   "source": [
    "finansai_merged = finansai20.merge(\n",
    "    finansai21[\n",
    "        [\n",
    "            \"obj_kodas\",\n",
    "            \"nuosavas_kapitalas\",\n",
    "            \"mok_sumos_ir_isipareigojimai\",\n",
    "            \"ilgalaikis_turtas\",\n",
    "            \"trumpalaikis_turtas\",\n",
    "            \"pardavimo_pajamos\",\n",
    "            \"grynasis_pelnas\",\n",
    "        ]\n",
    "    ],\n",
    "    on=\"obj_kodas\",\n",
    "    suffixes=[\"_20\", \"_21\"],\n",
    ")"
   ]
  },
  {
   "cell_type": "code",
   "execution_count": 134,
   "id": "1125bc58",
   "metadata": {},
   "outputs": [
    {
     "data": {
      "application/javascript": [
       "\n",
       "            setTimeout(function() {\n",
       "                var nbb_cell_id = 134;\n",
       "                var nbb_unformatted_code = \"sodra_20.columns = sodra_19.columns = [\\n    \\\"sodra_kodas\\\",\\n    \\\"obj_kodas\\\",\\n    \\\"obj_pav\\\",\\n    \\\"savivaldybe\\\",\\n    \\\"veiklos_kodas\\\",\\n    \\\"veiklos_aprasymas\\\",\\n    \\\"menuo\\\",\\n    \\\"vid_atlyginimas\\\",\\n    \\\"darbuotoju_skaicius\\\",\\n    \\\"autoriniai_atlyginimai\\\",\\n    \\\"autoriniai_darbuotojai\\\",\\n    \\\"sodros_imoka\\\",\\n]\\nsodra_columns = [\\n    \\\"obj_kodas\\\",\\n    \\\"savivaldybe\\\",\\n    \\\"veiklos_kodas\\\",\\n    \\\"veiklos_aprasymas\\\",\\n    \\\"menuo\\\",\\n    \\\"vid_atlyginimas\\\",\\n    \\\"darbuotoju_skaicius\\\",\\n]\\nsodra_meta_columns = [\\n    \\\"obj_kodas\\\",\\n    \\\"savivaldybe\\\",\\n    \\\"veiklos_kodas\\\",\\n    \\\"veiklos_aprasymas\\\",\\n]\";\n",
       "                var nbb_formatted_code = \"sodra_20.columns = sodra_19.columns = [\\n    \\\"sodra_kodas\\\",\\n    \\\"obj_kodas\\\",\\n    \\\"obj_pav\\\",\\n    \\\"savivaldybe\\\",\\n    \\\"veiklos_kodas\\\",\\n    \\\"veiklos_aprasymas\\\",\\n    \\\"menuo\\\",\\n    \\\"vid_atlyginimas\\\",\\n    \\\"darbuotoju_skaicius\\\",\\n    \\\"autoriniai_atlyginimai\\\",\\n    \\\"autoriniai_darbuotojai\\\",\\n    \\\"sodros_imoka\\\",\\n]\\nsodra_columns = [\\n    \\\"obj_kodas\\\",\\n    \\\"savivaldybe\\\",\\n    \\\"veiklos_kodas\\\",\\n    \\\"veiklos_aprasymas\\\",\\n    \\\"menuo\\\",\\n    \\\"vid_atlyginimas\\\",\\n    \\\"darbuotoju_skaicius\\\",\\n]\\nsodra_meta_columns = [\\n    \\\"obj_kodas\\\",\\n    \\\"savivaldybe\\\",\\n    \\\"veiklos_kodas\\\",\\n    \\\"veiklos_aprasymas\\\",\\n]\";\n",
       "                var nbb_cells = Jupyter.notebook.get_cells();\n",
       "                for (var i = 0; i < nbb_cells.length; ++i) {\n",
       "                    if (nbb_cells[i].input_prompt_number == nbb_cell_id) {\n",
       "                        if (nbb_cells[i].get_text() == nbb_unformatted_code) {\n",
       "                             nbb_cells[i].set_text(nbb_formatted_code);\n",
       "                        }\n",
       "                        break;\n",
       "                    }\n",
       "                }\n",
       "            }, 500);\n",
       "            "
      ],
      "text/plain": [
       "<IPython.core.display.Javascript object>"
      ]
     },
     "metadata": {},
     "output_type": "display_data"
    }
   ],
   "source": [
    "sodra_20.columns = sodra_19.columns = [\n",
    "    \"sodra_kodas\",\n",
    "    \"obj_kodas\",\n",
    "    \"obj_pav\",\n",
    "    \"savivaldybe\",\n",
    "    \"veiklos_kodas\",\n",
    "    \"veiklos_aprasymas\",\n",
    "    \"menuo\",\n",
    "    \"vid_atlyginimas\",\n",
    "    \"darbuotoju_skaicius\",\n",
    "    \"autoriniai_atlyginimai\",\n",
    "    \"autoriniai_darbuotojai\",\n",
    "    \"sodros_imoka\",\n",
    "]\n",
    "sodra_columns = [\n",
    "    \"obj_kodas\",\n",
    "    \"savivaldybe\",\n",
    "    \"veiklos_kodas\",\n",
    "    \"veiklos_aprasymas\",\n",
    "    \"menuo\",\n",
    "    \"vid_atlyginimas\",\n",
    "    \"darbuotoju_skaicius\",\n",
    "]\n",
    "sodra_meta_columns = [\n",
    "    \"obj_kodas\",\n",
    "    \"savivaldybe\",\n",
    "    \"veiklos_kodas\",\n",
    "    \"veiklos_aprasymas\",\n",
    "]"
   ]
  },
  {
   "cell_type": "code",
   "execution_count": 139,
   "id": "48bd50c5",
   "metadata": {},
   "outputs": [
    {
     "data": {
      "application/javascript": [
       "\n",
       "            setTimeout(function() {\n",
       "                var nbb_cell_id = 139;\n",
       "                var nbb_unformatted_code = \"sdr20 = sodra_20[\\n    sodra_20.obj_kodas.isin(finansai_merged.obj_kodas.tolist())\\n    & (sodra_20.menuo == 202012)\\n][sodra_columns].dropna()\\n\\nsdr20.rename(\\n    columns={\\n        \\\"vid_atlyginimas\\\": \\\"vid_atlyginimas_21\\\",\\n        \\\"darbuotoju_skaicius\\\": \\\"darbuotoju_skaicius_21\\\",\\n    }, inplace=True\\n)\";\n",
       "                var nbb_formatted_code = \"sdr20 = sodra_20[\\n    sodra_20.obj_kodas.isin(finansai_merged.obj_kodas.tolist())\\n    & (sodra_20.menuo == 202012)\\n][sodra_columns].dropna()\\n\\nsdr20.rename(\\n    columns={\\n        \\\"vid_atlyginimas\\\": \\\"vid_atlyginimas_21\\\",\\n        \\\"darbuotoju_skaicius\\\": \\\"darbuotoju_skaicius_21\\\",\\n    },\\n    inplace=True,\\n)\";\n",
       "                var nbb_cells = Jupyter.notebook.get_cells();\n",
       "                for (var i = 0; i < nbb_cells.length; ++i) {\n",
       "                    if (nbb_cells[i].input_prompt_number == nbb_cell_id) {\n",
       "                        if (nbb_cells[i].get_text() == nbb_unformatted_code) {\n",
       "                             nbb_cells[i].set_text(nbb_formatted_code);\n",
       "                        }\n",
       "                        break;\n",
       "                    }\n",
       "                }\n",
       "            }, 500);\n",
       "            "
      ],
      "text/plain": [
       "<IPython.core.display.Javascript object>"
      ]
     },
     "metadata": {},
     "output_type": "display_data"
    }
   ],
   "source": [
    "sdr20 = sodra_20[\n",
    "    sodra_20.obj_kodas.isin(finansai_merged.obj_kodas.tolist())\n",
    "    & (sodra_20.menuo == 202012)\n",
    "][sodra_columns].dropna()\n",
    "\n",
    "sdr20.rename(\n",
    "    columns={\n",
    "        \"vid_atlyginimas\": \"vid_atlyginimas_21\",\n",
    "        \"darbuotoju_skaicius\": \"darbuotoju_skaicius_21\",\n",
    "    },\n",
    "    inplace=True,\n",
    ")"
   ]
  },
  {
   "cell_type": "code",
   "execution_count": 140,
   "id": "cea8dd5c",
   "metadata": {},
   "outputs": [
    {
     "data": {
      "application/javascript": [
       "\n",
       "            setTimeout(function() {\n",
       "                var nbb_cell_id = 140;\n",
       "                var nbb_unformatted_code = \"sdr19 = sodra_19[\\n    sodra_19.obj_kodas.isin(finansai_merged.obj_kodas.tolist())\\n    & (sodra_19.menuo == 201912)\\n][sodra_columns].dropna()\\n\\nsdr19.rename(\\n    columns={\\n        \\\"vid_atlyginimas\\\": \\\"vid_atlyginimas_20\\\",\\n        \\\"darbuotoju_skaicius\\\": \\\"darbuotoju_skaicius_20\\\",\\n    }, inplace=True\\n)\";\n",
       "                var nbb_formatted_code = \"sdr19 = sodra_19[\\n    sodra_19.obj_kodas.isin(finansai_merged.obj_kodas.tolist())\\n    & (sodra_19.menuo == 201912)\\n][sodra_columns].dropna()\\n\\nsdr19.rename(\\n    columns={\\n        \\\"vid_atlyginimas\\\": \\\"vid_atlyginimas_20\\\",\\n        \\\"darbuotoju_skaicius\\\": \\\"darbuotoju_skaicius_20\\\",\\n    },\\n    inplace=True,\\n)\";\n",
       "                var nbb_cells = Jupyter.notebook.get_cells();\n",
       "                for (var i = 0; i < nbb_cells.length; ++i) {\n",
       "                    if (nbb_cells[i].input_prompt_number == nbb_cell_id) {\n",
       "                        if (nbb_cells[i].get_text() == nbb_unformatted_code) {\n",
       "                             nbb_cells[i].set_text(nbb_formatted_code);\n",
       "                        }\n",
       "                        break;\n",
       "                    }\n",
       "                }\n",
       "            }, 500);\n",
       "            "
      ],
      "text/plain": [
       "<IPython.core.display.Javascript object>"
      ]
     },
     "metadata": {},
     "output_type": "display_data"
    }
   ],
   "source": [
    "sdr19 = sodra_19[\n",
    "    sodra_19.obj_kodas.isin(finansai_merged.obj_kodas.tolist())\n",
    "    & (sodra_19.menuo == 201912)\n",
    "][sodra_columns].dropna()\n",
    "\n",
    "sdr19.rename(\n",
    "    columns={\n",
    "        \"vid_atlyginimas\": \"vid_atlyginimas_20\",\n",
    "        \"darbuotoju_skaicius\": \"darbuotoju_skaicius_20\",\n",
    "    },\n",
    "    inplace=True,\n",
    ")"
   ]
  },
  {
   "cell_type": "code",
   "execution_count": 146,
   "id": "d5dcd878",
   "metadata": {},
   "outputs": [
    {
     "data": {
      "application/javascript": [
       "\n",
       "            setTimeout(function() {\n",
       "                var nbb_cell_id = 146;\n",
       "                var nbb_unformatted_code = \"sdr_df = sdr19.merge(\\n    sdr20[[\\\"obj_kodas\\\", \\\"vid_atlyginimas_21\\\", \\\"darbuotoju_skaicius_21\\\"]], on=\\\"obj_kodas\\\"\\n)\";\n",
       "                var nbb_formatted_code = \"sdr_df = sdr19.merge(\\n    sdr20[[\\\"obj_kodas\\\", \\\"vid_atlyginimas_21\\\", \\\"darbuotoju_skaicius_21\\\"]], on=\\\"obj_kodas\\\"\\n)\";\n",
       "                var nbb_cells = Jupyter.notebook.get_cells();\n",
       "                for (var i = 0; i < nbb_cells.length; ++i) {\n",
       "                    if (nbb_cells[i].input_prompt_number == nbb_cell_id) {\n",
       "                        if (nbb_cells[i].get_text() == nbb_unformatted_code) {\n",
       "                             nbb_cells[i].set_text(nbb_formatted_code);\n",
       "                        }\n",
       "                        break;\n",
       "                    }\n",
       "                }\n",
       "            }, 500);\n",
       "            "
      ],
      "text/plain": [
       "<IPython.core.display.Javascript object>"
      ]
     },
     "metadata": {},
     "output_type": "display_data"
    }
   ],
   "source": [
    "sdr_df = sdr19.merge(\n",
    "    sdr20[[\"obj_kodas\", \"vid_atlyginimas_21\", \"darbuotoju_skaicius_21\"]], on=\"obj_kodas\"\n",
    ")"
   ]
  },
  {
   "cell_type": "code",
   "execution_count": 147,
   "id": "0cabfcec",
   "metadata": {},
   "outputs": [
    {
     "data": {
      "application/javascript": [
       "\n",
       "            setTimeout(function() {\n",
       "                var nbb_cell_id = 147;\n",
       "                var nbb_unformatted_code = \"final = finansai_merged.merge(sdr_df, on='obj_kodas')\";\n",
       "                var nbb_formatted_code = \"final = finansai_merged.merge(sdr_df, on=\\\"obj_kodas\\\")\";\n",
       "                var nbb_cells = Jupyter.notebook.get_cells();\n",
       "                for (var i = 0; i < nbb_cells.length; ++i) {\n",
       "                    if (nbb_cells[i].input_prompt_number == nbb_cell_id) {\n",
       "                        if (nbb_cells[i].get_text() == nbb_unformatted_code) {\n",
       "                             nbb_cells[i].set_text(nbb_formatted_code);\n",
       "                        }\n",
       "                        break;\n",
       "                    }\n",
       "                }\n",
       "            }, 500);\n",
       "            "
      ],
      "text/plain": [
       "<IPython.core.display.Javascript object>"
      ]
     },
     "metadata": {},
     "output_type": "display_data"
    }
   ],
   "source": [
    "final = finansai_merged.merge(sdr_df, on=\"obj_kodas\")"
   ]
  },
  {
   "cell_type": "code",
   "execution_count": 152,
   "id": "f6adfc38",
   "metadata": {},
   "outputs": [
    {
     "data": {
      "text/plain": [
       "['obj_kodas',\n",
       " 'obj_pav',\n",
       " 'form_pav',\n",
       " 'reg_date',\n",
       " 'nuosavas_kapitalas_20',\n",
       " 'mok_sumos_ir_isipareigojimai_20',\n",
       " 'ilgalaikis_turtas_20',\n",
       " 'trumpalaikis_turtas_20',\n",
       " 'pardavimo_pajamos_20',\n",
       " 'grynasis_pelnas_20',\n",
       " 'nuosavas_kapitalas_21',\n",
       " 'mok_sumos_ir_isipareigojimai_21',\n",
       " 'ilgalaikis_turtas_21',\n",
       " 'trumpalaikis_turtas_21',\n",
       " 'pardavimo_pajamos_21',\n",
       " 'grynasis_pelnas_21',\n",
       " 'savivaldybe',\n",
       " 'veiklos_kodas',\n",
       " 'veiklos_aprasymas',\n",
       " 'menuo',\n",
       " 'vid_atlyginimas_20',\n",
       " 'darbuotoju_skaicius_20',\n",
       " 'vid_atlyginimas_21',\n",
       " 'darbuotoju_skaicius_21']"
      ]
     },
     "execution_count": 152,
     "metadata": {},
     "output_type": "execute_result"
    },
    {
     "data": {
      "application/javascript": [
       "\n",
       "            setTimeout(function() {\n",
       "                var nbb_cell_id = 152;\n",
       "                var nbb_unformatted_code = \"final.columns.tolist()\";\n",
       "                var nbb_formatted_code = \"final.columns.tolist()\";\n",
       "                var nbb_cells = Jupyter.notebook.get_cells();\n",
       "                for (var i = 0; i < nbb_cells.length; ++i) {\n",
       "                    if (nbb_cells[i].input_prompt_number == nbb_cell_id) {\n",
       "                        if (nbb_cells[i].get_text() == nbb_unformatted_code) {\n",
       "                             nbb_cells[i].set_text(nbb_formatted_code);\n",
       "                        }\n",
       "                        break;\n",
       "                    }\n",
       "                }\n",
       "            }, 500);\n",
       "            "
      ],
      "text/plain": [
       "<IPython.core.display.Javascript object>"
      ]
     },
     "metadata": {},
     "output_type": "display_data"
    }
   ],
   "source": [
    "final.columns.tolist()"
   ]
  },
  {
   "cell_type": "code",
   "execution_count": 154,
   "id": "139e8d28",
   "metadata": {},
   "outputs": [
    {
     "data": {
      "application/javascript": [
       "\n",
       "            setTimeout(function() {\n",
       "                var nbb_cell_id = 154;\n",
       "                var nbb_unformatted_code = \"final.sample(10).to_csv('data/3_uzduotis_data_sample.csv')\";\n",
       "                var nbb_formatted_code = \"final.sample(10).to_csv(\\\"data/3_uzduotis_data_sample.csv\\\")\";\n",
       "                var nbb_cells = Jupyter.notebook.get_cells();\n",
       "                for (var i = 0; i < nbb_cells.length; ++i) {\n",
       "                    if (nbb_cells[i].input_prompt_number == nbb_cell_id) {\n",
       "                        if (nbb_cells[i].get_text() == nbb_unformatted_code) {\n",
       "                             nbb_cells[i].set_text(nbb_formatted_code);\n",
       "                        }\n",
       "                        break;\n",
       "                    }\n",
       "                }\n",
       "            }, 500);\n",
       "            "
      ],
      "text/plain": [
       "<IPython.core.display.Javascript object>"
      ]
     },
     "metadata": {},
     "output_type": "display_data"
    }
   ],
   "source": [
    "final.sample(10).to_csv(\"data/3_uzduotis_data_sample.csv\")"
   ]
  },
  {
   "cell_type": "code",
   "execution_count": null,
   "id": "39129c50",
   "metadata": {},
   "outputs": [],
   "source": []
  }
 ],
 "metadata": {
  "kernelspec": {
   "display_name": "Python 3 (ipykernel)",
   "language": "python",
   "name": "python3"
  },
  "language_info": {
   "codemirror_mode": {
    "name": "ipython",
    "version": 3
   },
   "file_extension": ".py",
   "mimetype": "text/x-python",
   "name": "python",
   "nbconvert_exporter": "python",
   "pygments_lexer": "ipython3",
   "version": "3.9.2"
  }
 },
 "nbformat": 4,
 "nbformat_minor": 5
}
